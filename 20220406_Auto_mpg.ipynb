{
  "nbformat": 4,
  "nbformat_minor": 0,
  "metadata": {
    "colab": {
      "name": "20220406_Auto_mpg.ipynb",
      "provenance": [],
      "collapsed_sections": [],
      "mount_file_id": "1KSF2mIZjmTV3pL8sHL2FE2WQ8SROGwMF",
      "authorship_tag": "ABX9TyP74aPne/Dwnoo3ZhSHc8Qd",
      "include_colab_link": true
    },
    "kernelspec": {
      "name": "python3",
      "display_name": "Python 3"
    },
    "language_info": {
      "name": "python"
    }
  },
  "cells": [
    {
      "cell_type": "markdown",
      "metadata": {
        "id": "view-in-github",
        "colab_type": "text"
      },
      "source": [
        "<a href=\"https://colab.research.google.com/github/Jinwooseol/Numpy-and-Pandas/blob/main/20220406_Auto_mpg.ipynb\" target=\"_parent\"><img src=\"https://colab.research.google.com/assets/colab-badge.svg\" alt=\"Open In Colab\"/></a>"
      ]
    },
    {
      "cell_type": "code",
      "execution_count": null,
      "metadata": {
        "colab": {
          "base_uri": "https://localhost:8080/"
        },
        "id": "2n-wJ8-g2hf-",
        "outputId": "b847fcc9-0934-4887-99dd-99e5d682b7a8"
      },
      "outputs": [
        {
          "output_type": "stream",
          "name": "stdout",
          "text": [
            "True\n",
            "mpg             float64\n",
            "cylinders         int64\n",
            "displacement    float64\n",
            "horsepower      float64\n",
            "weight          float64\n",
            "acceleration    float64\n",
            "model year        int64\n",
            "origin            int64\n",
            "car name         object\n",
            "dtype: object\n",
            "    mpg  cylinders  displacement  horsepower  weight  acceleration  \\\n",
            "0  18.0          8         307.0       130.0  3504.0          12.0   \n",
            "1  15.0          8         350.0       165.0  3693.0          11.5   \n",
            "2  18.0          8         318.0       150.0  3436.0          11.0   \n",
            "3  16.0          8         304.0       150.0  3433.0          12.0   \n",
            "4  17.0          8         302.0       140.0  3449.0          10.5   \n",
            "5  15.0          8         429.0       198.0  4341.0          10.0   \n",
            "6  14.0          8         454.0       220.0  4354.0           9.0   \n",
            "7  14.0          8         440.0       215.0  4312.0           8.5   \n",
            "8  14.0          8         455.0       225.0  4425.0          10.0   \n",
            "9  15.0          8         390.0       190.0  3850.0           8.5   \n",
            "\n",
            "   model year  origin                   car name  \n",
            "0          70       1  chevrolet chevelle malibu  \n",
            "1          70       1          buick skylark 320  \n",
            "2          70       1         plymouth satellite  \n",
            "3          70       1              amc rebel sst  \n",
            "4          70       1                ford torino  \n",
            "5          70       1           ford galaxie 500  \n",
            "6          70       1           chevrolet impala  \n",
            "7          70       1          plymouth fury iii  \n",
            "8          70       1           pontiac catalina  \n",
            "9          70       1         amc ambassador dpl  \n"
          ]
        }
      ],
      "source": [
        "import pandas as pd\n",
        "import numpy as np\n",
        "import matplotlib.pyplot as plt\n",
        "\n",
        " # Not csv file\n",
        "pd_data = pd.read_csv('/content/drive/MyDrive/인공지능 학습/Data/auto-mpg.data', header = None, sep='\\s+')\n",
        "pd_data.columns = ['mpg', 'cylinders', 'displacement', 'horsepower', 'weight', 'acceleration', 'model year', 'origin', 'car name']\n",
        "pd_data.loc[:, 'horsepower'] = pd.to_numeric(pd_data.loc[:, 'horsepower'], errors='coerce') # object to float64 (errors='coerce': 변환이 불가할 경우 NaN으로 강제 변경)\n",
        "print(pd_data.loc[:,'horsepower'].hasnans)\n",
        "print(pd_data.dtypes)\n",
        "print(pd_data.head(10))"
      ]
    },
    {
      "cell_type": "code",
      "source": [
        "# pd_data1 = pd.read_csv('/content/drive/MyDrive/인공지능 학습/Data/auto-mpg.data', header = None, sep='\\t')\n",
        "# x = pd_data1[0].apply(lambda x: pd.Series(x.split()))\n",
        "# print(x)\n",
        "# print(x.dtypes)"
      ],
      "metadata": {
        "id": "C81rdDd45-uG"
      },
      "execution_count": null,
      "outputs": []
    },
    {
      "cell_type": "markdown",
      "source": [
        "# Weight / horsepower과 Acceleration의 상관관계 "
      ],
      "metadata": {
        "id": "bdtsHc_F3rjE"
      }
    },
    {
      "cell_type": "code",
      "source": [
        "pd_data['ratio'] = pd_data.loc[:, 'weight'] / pd_data.loc[:, 'horsepower']*100\n",
        "print(pd_data)\n",
        "print(pd_data.corr())"
      ],
      "metadata": {
        "id": "U-ov1Fq-22zH",
        "colab": {
          "base_uri": "https://localhost:8080/"
        },
        "outputId": "4907c2e0-e0aa-44ca-fc2c-31736f8c4845"
      },
      "execution_count": null,
      "outputs": [
        {
          "output_type": "stream",
          "name": "stdout",
          "text": [
            "      mpg  cylinders  displacement  horsepower  weight  acceleration  \\\n",
            "0    18.0          8         307.0       130.0  3504.0          12.0   \n",
            "1    15.0          8         350.0       165.0  3693.0          11.5   \n",
            "2    18.0          8         318.0       150.0  3436.0          11.0   \n",
            "3    16.0          8         304.0       150.0  3433.0          12.0   \n",
            "4    17.0          8         302.0       140.0  3449.0          10.5   \n",
            "..    ...        ...           ...         ...     ...           ...   \n",
            "393  27.0          4         140.0        86.0  2790.0          15.6   \n",
            "394  44.0          4          97.0        52.0  2130.0          24.6   \n",
            "395  32.0          4         135.0        84.0  2295.0          11.6   \n",
            "396  28.0          4         120.0        79.0  2625.0          18.6   \n",
            "397  31.0          4         119.0        82.0  2720.0          19.4   \n",
            "\n",
            "     model year  origin                   car name        ratio  \n",
            "0            70       1  chevrolet chevelle malibu  2695.384615  \n",
            "1            70       1          buick skylark 320  2238.181818  \n",
            "2            70       1         plymouth satellite  2290.666667  \n",
            "3            70       1              amc rebel sst  2288.666667  \n",
            "4            70       1                ford torino  2463.571429  \n",
            "..          ...     ...                        ...          ...  \n",
            "393          82       1            ford mustang gl  3244.186047  \n",
            "394          82       2                  vw pickup  4096.153846  \n",
            "395          82       1              dodge rampage  2732.142857  \n",
            "396          82       1                ford ranger  3322.784810  \n",
            "397          82       1                 chevy s-10  3317.073171  \n",
            "\n",
            "[398 rows x 10 columns]\n",
            "                   mpg  cylinders  displacement  horsepower    weight  \\\n",
            "mpg           1.000000  -0.775396     -0.804203   -0.778427 -0.831741   \n",
            "cylinders    -0.775396   1.000000      0.950721    0.842983  0.896017   \n",
            "displacement -0.804203   0.950721      1.000000    0.897257  0.932824   \n",
            "horsepower   -0.778427   0.842983      0.897257    1.000000  0.864538   \n",
            "weight       -0.831741   0.896017      0.932824    0.864538  1.000000   \n",
            "acceleration  0.420289  -0.505419     -0.543684   -0.689196 -0.417457   \n",
            "model year    0.579267  -0.348746     -0.370164   -0.416361 -0.306564   \n",
            "origin        0.563450  -0.562543     -0.609409   -0.455171 -0.581024   \n",
            "ratio         0.241495  -0.221539     -0.242275   -0.552814 -0.111594   \n",
            "\n",
            "              acceleration  model year    origin     ratio  \n",
            "mpg               0.420289    0.579267  0.563450  0.241495  \n",
            "cylinders        -0.505419   -0.348746 -0.562543 -0.221539  \n",
            "displacement     -0.543684   -0.370164 -0.609409 -0.242275  \n",
            "horsepower       -0.689196   -0.416361 -0.455171 -0.552814  \n",
            "weight           -0.417457   -0.306564 -0.581024 -0.111594  \n",
            "acceleration      1.000000    0.288137  0.205873  0.757298  \n",
            "model year        0.288137    1.000000  0.180662  0.307826  \n",
            "origin            0.205873    0.180662  1.000000 -0.039636  \n",
            "ratio             0.757298    0.307826 -0.039636  1.000000  \n"
          ]
        }
      ]
    },
    {
      "cell_type": "markdown",
      "source": [
        "# Plotting"
      ],
      "metadata": {
        "id": "9jy0EvrxTfeG"
      }
    },
    {
      "cell_type": "code",
      "source": [
        "x = pd_data.loc[:,'acceleration']\n",
        "y = pd_data.loc[:,'horsepower']\n",
        "plt.scatter(x, y)\n",
        "plt.xlabel('Acceleration')\n",
        "plt.ylabel('Horsepower')\n",
        "\n",
        "plt.show()"
      ],
      "metadata": {
        "colab": {
          "base_uri": "https://localhost:8080/",
          "height": 279
        },
        "id": "0qfm0ARJUWNQ",
        "outputId": "989c2597-7b0f-420d-d6bf-c149799523dc"
      },
      "execution_count": null,
      "outputs": [
        {
          "output_type": "display_data",
          "data": {
            "text/plain": [
              "<Figure size 432x288 with 1 Axes>"
            ],
            "image/png": "[encoded data removed]"
          },
          "metadata": {
            "needs_background": "light"
          }
        }
      ]
    },
    {
      "cell_type": "code",
      "source": [
        "x = pd_data.loc[:,'weight']\n",
        "y = pd_data.loc[:,'horsepower']\n",
        "plt.scatter(x, y)\n",
        "plt.xlabel('Weight')\n",
        "plt.ylabel('Horsepower')\n",
        "\n",
        "plt.show()"
      ],
      "metadata": {
        "colab": {
          "base_uri": "https://localhost:8080/",
          "height": 279
        },
        "id": "KozhmJWHU90S",
        "outputId": "80addf40-1847-420b-a6e2-3cd6d78793db"
      },
      "execution_count": null,
      "outputs": [
        {
          "output_type": "display_data",
          "data": {
            "text/plain": [
              "<Figure size 432x288 with 1 Axes>"
            ],
            "image/png": "[encoded data removed]"
          },
          "metadata": {
            "needs_background": "light"
          }
        }
      ]
    },
    {
      "cell_type": "code",
      "source": [
        "x = pd_data.loc[:,'ratio']\n",
        "y = pd_data.loc[:,'acceleration']\n",
        "plt.scatter(x, y)\n",
        "plt.xlabel('Horsepower / Weight (%)')\n",
        "plt.ylabel('Acceleration')\n",
        "plt.show()"
      ],
      "metadata": {
        "id": "-hbm-gm06jMb",
        "colab": {
          "base_uri": "https://localhost:8080/",
          "height": 279
        },
        "outputId": "f63627bf-2804-4f40-b665-efd380a7d040"
      },
      "execution_count": null,
      "outputs": [
        {
          "output_type": "display_data",
          "data": {
            "text/plain": [
              "<Figure size 432x288 with 1 Axes>"
            ],
            "image/png": "[encoded data removed]"
          },
          "metadata": {
            "needs_background": "light"
          }
        }
      ]
    },
    {
      "cell_type": "code",
      "source": [
        "print(pd_data.columns)\n",
        "d1 = pd_data.loc[:,['horsepower', 'model year']]\n",
        "#d1 = d1.set_index('model year')\n",
        "print(d1)\n",
        "\n",
        "# x = .loc[:,'model year']\n",
        "# y = pd_data.loc[:,'horsepower']\n",
        "\n",
        "# plt.scatter(x, y)\n",
        "# plt.xlabel('Model year')\n",
        "# plt.ylabel('Horsepower')\n",
        "# plt.show()"
      ],
      "metadata": {
        "colab": {
          "base_uri": "https://localhost:8080/"
        },
        "id": "iOTyLJ33Fkvy",
        "outputId": "6b035003-2605-4248-87d6-9a08e3b3ad56"
      },
      "execution_count": null,
      "outputs": [
        {
          "output_type": "stream",
          "name": "stdout",
          "text": [
            "Index(['mpg', 'cylinders', 'displacement', 'horsepower', 'weight',\n",
            "       'acceleration', 'model year', 'origin', 'car name'],\n",
            "      dtype='object')\n",
            "            horsepower\n",
            "model year            \n",
            "70               130.0\n",
            "70               165.0\n",
            "70               150.0\n",
            "70               150.0\n",
            "70               140.0\n",
            "...                ...\n",
            "82                86.0\n",
            "82                52.0\n",
            "82                84.0\n",
            "82                79.0\n",
            "82                82.0\n",
            "\n",
            "[398 rows x 1 columns]\n"
          ]
        }
      ]
    },
    {
      "cell_type": "markdown",
      "source": [
        "# Histogram"
      ],
      "metadata": {
        "id": "Aj1KTf_mdqsi"
      }
    },
    {
      "cell_type": "code",
      "source": [
        ""
      ],
      "metadata": {
        "id": "Mnw297HwFos8"
      },
      "execution_count": null,
      "outputs": []
    }
  ]
}