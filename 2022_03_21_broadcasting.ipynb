{
  "nbformat": 4,
  "nbformat_minor": 0,
  "metadata": {
    "colab": {
      "name": "2022.03.21_broadcasting.ipynb",
      "provenance": [],
      "collapsed_sections": [],
      "authorship_tag": "ABX9TyPtmdH5gNgxN0dppqkr3iDk",
      "include_colab_link": true
    },
    "kernelspec": {
      "name": "python3",
      "display_name": "Python 3"
    },
    "language_info": {
      "name": "python"
    }
  },
  "cells": [
    {
      "cell_type": "markdown",
      "metadata": {
        "id": "view-in-github",
        "colab_type": "text"
      },
      "source": [
        "<a href=\"https://colab.research.google.com/github/Jinwooseol/Numpy-and-Pandas/blob/main/2022_03_21_broadcasting.ipynb\" target=\"_parent\"><img src=\"https://colab.research.google.com/assets/colab-badge.svg\" alt=\"Open In Colab\"/></a>"
      ]
    },
    {
      "cell_type": "markdown",
      "source": [
        "#Broadcasting with Numpy\n",
        "- Good for **time complexity** and **space complexity**\n",
        "- Optimize time complexity (**Best fit**)"
      ],
      "metadata": {
        "id": "saIfF-Gz8FIw"
      }
    },
    {
      "cell_type": "code",
      "execution_count": null,
      "metadata": {
        "id": "XrlMpwUi7-Dl"
      },
      "outputs": [],
      "source": [
        "import numpy as np"
      ]
    },
    {
      "cell_type": "code",
      "source": [
        "def print_info(obj):\n",
        "  print('type: ', type(obj))\n",
        "  print('print: ')\n",
        "  print(obj)\n",
        "\n",
        "  print('ndim: ', obj.ndim)\n",
        "  print('shape: ', obj.shape)\n",
        "  print('size: ', obj.size)\n",
        "  print('dtype: ', obj.dtype) # dtype: Data type\n",
        "  print('itemsize: ', obj.itemsize) # itemsize: Number of bytes that one of element occupied\n",
        "  print('data: {}'.format(obj.data))  # data: Address of array\n",
        "  print('-'*20)\n"
      ],
      "metadata": {
        "id": "C13VK3NI8P4f"
      },
      "execution_count": null,
      "outputs": []
    },
    {
      "cell_type": "markdown",
      "source": [
        "# Basic Operations"
      ],
      "metadata": {
        "id": "2iao9__MAWWF"
      }
    },
    {
      "cell_type": "code",
      "source": [
        "a1 = np.arange(10)\n",
        "print(a1)\n",
        "\n",
        "# a2 = np.array([3] * 10)\n",
        "a2 = np.full((10,), 3)    # Memory waste\n",
        "print(a2)\n",
        "print(a1 + a2)\n",
        "\n",
        "# Broadcasting\n",
        "print(a1 + 3)\n",
        "\n",
        "a2 = np.array([3])\n",
        "print(a1 + a2)\n",
        "\n",
        "print('-'*20)\n",
        "print(a1)\n",
        "print(a2)\n",
        "print(a1 + a2)\n",
        "print(a1 - a2)\n",
        "print(a1 * a2)\n",
        "print(a1 / a2)\n",
        "print(a1 // a2)\n",
        "print(a1 % a2)\n"
      ],
      "metadata": {
        "colab": {
          "base_uri": "https://localhost:8080/"
        },
        "id": "s3Ck5BfA8aGx",
        "outputId": "ce8bc948-6e5c-4dc1-e034-19e7b7e0824c"
      },
      "execution_count": null,
      "outputs": [
        {
          "output_type": "stream",
          "name": "stdout",
          "text": [
            "[0 1 2 3 4 5 6 7 8 9]\n",
            "[3 3 3 3 3 3 3 3 3 3]\n",
            "[ 3  4  5  6  7  8  9 10 11 12]\n",
            "[ 3  4  5  6  7  8  9 10 11 12]\n",
            "[ 3  4  5  6  7  8  9 10 11 12]\n",
            "--------------------\n",
            "[0 1 2 3 4 5 6 7 8 9]\n",
            "[3]\n",
            "[ 3  4  5  6  7  8  9 10 11 12]\n",
            "[-3 -2 -1  0  1  2  3  4  5  6]\n",
            "[ 0  3  6  9 12 15 18 21 24 27]\n",
            "[0.         0.33333333 0.66666667 1.         1.33333333 1.66666667\n",
            " 2.         2.33333333 2.66666667 3.        ]\n",
            "[0 0 0 1 1 1 2 2 2 3]\n",
            "[0 1 2 0 1 2 0 1 2 0]\n"
          ]
        }
      ]
    },
    {
      "cell_type": "markdown",
      "source": [
        "# Rules of Broadcasting\n",
        "- If shape can't apply in **vertical** or **horizontal way**  \n",
        "  $→$ It can't be broadcasting"
      ],
      "metadata": {
        "id": "qYzozQC4ATgK"
      }
    },
    {
      "cell_type": "code",
      "source": [
        "a1 = np.arange(20).reshape(4,5)\n",
        "a2 = np.full((4,5), 3)\n",
        "a3 = np.full((5,), 3)   # Broadcasting Positive\n",
        "a3 = np.full((4,1), 3)  # Broadcasting Positive\n",
        "a3 = np.full((1,5), 3)  # Broadcasting Positive\n",
        "\n",
        "a3 = np.full((4,), 3)   # Broadcasting Negative\n",
        "\n",
        "print(a1)\n",
        "print(a2)\n",
        "print(a3)\n",
        "print(a1 + a2)\n",
        "print(a1 + a3)\n",
        "print(a1 + 3)           # Broadcasting Positive"
      ],
      "metadata": {
        "colab": {
          "base_uri": "https://localhost:8080/"
        },
        "id": "yDEqupc__EFT",
        "outputId": "be20917a-fd2b-49af-bb40-d82580c9eed4"
      },
      "execution_count": null,
      "outputs": [
        {
          "output_type": "stream",
          "name": "stdout",
          "text": [
            "[[ 0  1  2  3  4]\n",
            " [ 5  6  7  8  9]\n",
            " [10 11 12 13 14]\n",
            " [15 16 17 18 19]]\n",
            "[[3 3 3 3 3]\n",
            " [3 3 3 3 3]\n",
            " [3 3 3 3 3]\n",
            " [3 3 3 3 3]]\n",
            "[3 3 3 3 3]\n",
            "[[ 3  4  5  6  7]\n",
            " [ 8  9 10 11 12]\n",
            " [13 14 15 16 17]\n",
            " [18 19 20 21 22]]\n",
            "[[ 3  4  5  6  7]\n",
            " [ 8  9 10 11 12]\n",
            " [13 14 15 16 17]\n",
            " [18 19 20 21 22]]\n",
            "[[ 3  4  5  6  7]\n",
            " [ 8  9 10 11 12]\n",
            " [13 14 15 16 17]\n",
            " [18 19 20 21 22]]\n"
          ]
        }
      ]
    },
    {
      "cell_type": "code",
      "source": [
        "a1 = np.arange(10, 34).reshape(2,3,4)\n",
        "print(a1.shape)\n",
        "print('-'*20)\n",
        "\n",
        "print('axis 0: \\n', a1.sum(axis=0))\n",
        "print('-'*20)\n",
        "print('axis 1: \\n', a1.sum(axis=1))\n",
        "print('-'*20)\n",
        "print('axis 2: \\n', a1.sum(axis=2))\n",
        "print('-'*20)\n",
        "print('axis 0.shape: ',a1.sum(axis=0).shape)\n",
        "print('axis 1.shape: ',a1.sum(axis=1).shape)\n",
        "print('axis 2.shape: ',a1.sum(axis=2).shape)"
      ],
      "metadata": {
        "colab": {
          "base_uri": "https://localhost:8080/"
        },
        "id": "PqfunlN6C79u",
        "outputId": "8f443b71-6cbc-4c66-89df-293dd04bbe67"
      },
      "execution_count": null,
      "outputs": [
        {
          "output_type": "stream",
          "name": "stdout",
          "text": [
            "(2, 3, 4)\n",
            "--------------------\n",
            "axis 0: \n",
            " [[32 34 36 38]\n",
            " [40 42 44 46]\n",
            " [48 50 52 54]]\n",
            "--------------------\n",
            "axis 1: \n",
            " [[42 45 48 51]\n",
            " [78 81 84 87]]\n",
            "--------------------\n",
            "axis 2: \n",
            " [[ 46  62  78]\n",
            " [ 94 110 126]]\n",
            "--------------------\n",
            "axis 0.shape:  (3, 4)\n",
            "axis 1.shape:  (2, 4)\n",
            "axis 2.shape:  (2, 3)\n"
          ]
        }
      ]
    },
    {
      "cell_type": "code",
      "source": [
        "a1 = np.arange(10, 34).reshape(2,3,4)\n",
        "a2 = np.arange(100, 340, 10).reshape(2,3,4)\n",
        "\n",
        "\n",
        "print(a1)\n",
        "print('-'*20)\n",
        "print(a2)\n",
        "print(a1 + a2)"
      ],
      "metadata": {
        "colab": {
          "base_uri": "https://localhost:8080/"
        },
        "id": "amS2uA4qEl1x",
        "outputId": "8a5b1370-19a1-491c-9feb-8f1a820de3b0"
      },
      "execution_count": null,
      "outputs": [
        {
          "output_type": "stream",
          "name": "stdout",
          "text": [
            "[[[10 11 12 13]\n",
            "  [14 15 16 17]\n",
            "  [18 19 20 21]]\n",
            "\n",
            " [[22 23 24 25]\n",
            "  [26 27 28 29]\n",
            "  [30 31 32 33]]]\n",
            "--------------------\n",
            "[[[100 110 120 130]\n",
            "  [140 150 160 170]\n",
            "  [180 190 200 210]]\n",
            "\n",
            " [[220 230 240 250]\n",
            "  [260 270 280 290]\n",
            "  [300 310 320 330]]]\n",
            "[[[110 121 132 143]\n",
            "  [154 165 176 187]\n",
            "  [198 209 220 231]]\n",
            "\n",
            " [[242 253 264 275]\n",
            "  [286 297 308 319]\n",
            "  [330 341 352 363]]]\n"
          ]
        }
      ]
    },
    {
      "cell_type": "code",
      "source": [
        "a1 = np.arange(10, 34).reshape(2,3,4)\n",
        "a2 = np.full((4,), 3)\n",
        "a3 = np.full((3,4), 3)\n",
        "a4 = np.full((1,4), 3)\n",
        "a5 = np.arange(4)\n",
        "\n",
        "print(a1 + a2)\n",
        "print('-'*20)\n",
        "print(a1 + a3)\n",
        "print('-'*20)\n",
        "print(a1 + a4)\n",
        "print('-'*20)\n",
        "print(a1 + a5)\n",
        "print('-'*20)\n",
        "print((a1 + a2) == (a1 + a3))"
      ],
      "metadata": {
        "colab": {
          "base_uri": "https://localhost:8080/"
        },
        "id": "cqD7upQKFEBg",
        "outputId": "24ac07a1-ec22-4cd8-f97f-d65c38e755ad"
      },
      "execution_count": null,
      "outputs": [
        {
          "output_type": "stream",
          "name": "stdout",
          "text": [
            "[[[13 14 15 16]\n",
            "  [17 18 19 20]\n",
            "  [21 22 23 24]]\n",
            "\n",
            " [[25 26 27 28]\n",
            "  [29 30 31 32]\n",
            "  [33 34 35 36]]]\n",
            "--------------------\n",
            "[[[13 14 15 16]\n",
            "  [17 18 19 20]\n",
            "  [21 22 23 24]]\n",
            "\n",
            " [[25 26 27 28]\n",
            "  [29 30 31 32]\n",
            "  [33 34 35 36]]]\n",
            "--------------------\n",
            "[[[13 14 15 16]\n",
            "  [17 18 19 20]\n",
            "  [21 22 23 24]]\n",
            "\n",
            " [[25 26 27 28]\n",
            "  [29 30 31 32]\n",
            "  [33 34 35 36]]]\n",
            "--------------------\n",
            "[[[10 12 14 16]\n",
            "  [14 16 18 20]\n",
            "  [18 20 22 24]]\n",
            "\n",
            " [[22 24 26 28]\n",
            "  [26 28 30 32]\n",
            "  [30 32 34 36]]]\n",
            "--------------------\n",
            "[[[ True  True  True  True]\n",
            "  [ True  True  True  True]\n",
            "  [ True  True  True  True]]\n",
            "\n",
            " [[ True  True  True  True]\n",
            "  [ True  True  True  True]\n",
            "  [ True  True  True  True]]]\n"
          ]
        }
      ]
    },
    {
      "cell_type": "code",
      "source": [
        "a1 = np.arange(1,9).reshape(2,-1)\n",
        "print(a1)\n",
        "a1[0] += 3  # Selective broadcasting\n",
        "print(a1)"
      ],
      "metadata": {
        "colab": {
          "base_uri": "https://localhost:8080/"
        },
        "id": "SF6BiouNFOG6",
        "outputId": "9ad2f29a-0d27-4968-c541-d2fe68994e00"
      },
      "execution_count": null,
      "outputs": [
        {
          "output_type": "stream",
          "name": "stdout",
          "text": [
            "[[1 2 3 4]\n",
            " [5 6 7 8]]\n",
            "[[4 5 6 7]\n",
            " [5 6 7 8]]\n"
          ]
        }
      ]
    },
    {
      "cell_type": "markdown",
      "source": [
        "#ndarray.all():\n",
        "- **If all element are True**, then return true, else return false  \n",
        "\n",
        "#ndarray.any():\n",
        "- **If there exist True more than one**, then return true, else return false"
      ],
      "metadata": {
        "id": "g7iAXSUWKfKO"
      }
    },
    {
      "cell_type": "code",
      "source": [
        "a1 = np.arange(10)\n",
        "a2 = np.arange(0,10,2)\n",
        "print(a1)\n",
        "print(a2)\n",
        "\n",
        "x1 = a1 % 2 == 0\n",
        "x2 = a2 % 2 == 0\n",
        "print(x1)\n",
        "print(x2)\n",
        "\n",
        "print(x1.all())\n",
        "print(x2.all())\n",
        "\n",
        "x3 = a2 % 2 == 1\n",
        "\n",
        "print(x1.any())\n",
        "print(x3.any())"
      ],
      "metadata": {
        "colab": {
          "base_uri": "https://localhost:8080/"
        },
        "id": "Jax5rpALJRgF",
        "outputId": "625e43c4-94fa-4af3-eced-97c53ae94ee0"
      },
      "execution_count": null,
      "outputs": [
        {
          "output_type": "stream",
          "name": "stdout",
          "text": [
            "[0 1 2 3 4 5 6 7 8 9]\n",
            "[0 2 4 6 8]\n",
            "[ True False  True False  True False  True False  True False]\n",
            "[ True  True  True  True  True]\n",
            "False\n",
            "True\n",
            "True\n",
            "False\n"
          ]
        }
      ]
    },
    {
      "cell_type": "markdown",
      "source": [
        "#np.flatten()\n",
        "- Reshape to 1D array\n",
        "- Copy and Paste\n",
        "\n",
        "#np.ravel()\n",
        "- Reshape to 1D array\n",
        "- View"
      ],
      "metadata": {
        "id": "yP3BDxvbMT9-"
      }
    },
    {
      "cell_type": "code",
      "source": [
        "a1 = np.arange(10).reshape(2,-1)\n",
        "\n",
        "print(a1)\n",
        "\n",
        "x1 = a1.flatten()\n",
        "x1[0] = 10\n",
        "x2 = a1.ravel()\n",
        "x2[1] = 11\n",
        "\n",
        "print(x1)   # create new ndarray\n",
        "print(x2)   # create view (referencing)\n",
        "\n",
        "print(a1)"
      ],
      "metadata": {
        "colab": {
          "base_uri": "https://localhost:8080/"
        },
        "id": "YH7cGwS0J78E",
        "outputId": "ea567090-5bbc-4b7c-9d0b-967910d2ad9a"
      },
      "execution_count": null,
      "outputs": [
        {
          "output_type": "stream",
          "name": "stdout",
          "text": [
            "[[0 1 2 3 4]\n",
            " [5 6 7 8 9]]\n",
            "[10  1  2  3  4  5  6  7  8  9]\n",
            "[ 0 11  2  3  4  5  6  7  8  9]\n",
            "[[ 0 11  2  3  4]\n",
            " [ 5  6  7  8  9]]\n"
          ]
        }
      ]
    },
    {
      "cell_type": "markdown",
      "source": [
        "#argmax, argmin\n",
        "- Return index of maximum or minimum value in array"
      ],
      "metadata": {
        "id": "5Z6LsvckMjpw"
      }
    },
    {
      "cell_type": "code",
      "source": [
        "a1 = np.arange(10, 30).reshape(4,5)\n",
        "print(a1)\n",
        "\n",
        "print(a1.argmax())  # Return index\n",
        "print(a1.argmin())  # Return index\n",
        "print(a1.argmax(axis=0))\n",
        "print(a1.argmax(axis=1))\n",
        "\n",
        "# Time complexity?"
      ],
      "metadata": {
        "colab": {
          "base_uri": "https://localhost:8080/",
          "height": 413
        },
        "id": "Xq2HMygkLfJB",
        "outputId": "034ab993-8484-4ac4-fcf3-b14577c7c3e9"
      },
      "execution_count": null,
      "outputs": [
        {
          "output_type": "stream",
          "name": "stdout",
          "text": [
            "[[10 11 12 13 14]\n",
            " [15 16 17 18 19]\n",
            " [20 21 22 23 24]\n",
            " [25 26 27 28 29]]\n",
            "19\n",
            "0\n",
            "[3 3 3 3 3]\n",
            "[4 4 4 4]\n"
          ]
        },
        {
          "output_type": "error",
          "ename": "TypeError",
          "evalue": "ignored",
          "traceback": [
            "\u001b[0;31m---------------------------------------------------------------------------\u001b[0m",
            "\u001b[0;31mTypeError\u001b[0m                                 Traceback (most recent call last)",
            "\u001b[0;32m<ipython-input-115-0e7b7f85cf0d>\u001b[0m in \u001b[0;36m<module>\u001b[0;34m()\u001b[0m\n\u001b[1;32m      7\u001b[0m \u001b[0mprint\u001b[0m\u001b[0;34m(\u001b[0m\u001b[0ma1\u001b[0m\u001b[0;34m.\u001b[0m\u001b[0margmax\u001b[0m\u001b[0;34m(\u001b[0m\u001b[0maxis\u001b[0m\u001b[0;34m=\u001b[0m\u001b[0;36m1\u001b[0m\u001b[0;34m)\u001b[0m\u001b[0;34m)\u001b[0m\u001b[0;34m\u001b[0m\u001b[0;34m\u001b[0m\u001b[0m\n\u001b[1;32m      8\u001b[0m \u001b[0;34m\u001b[0m\u001b[0m\n\u001b[0;32m----> 9\u001b[0;31m \u001b[0mprint\u001b[0m\u001b[0;34m(\u001b[0m\u001b[0mnp\u001b[0m\u001b[0;34m.\u001b[0m\u001b[0margmax\u001b[0m\u001b[0;34m(\u001b[0m\u001b[0ma1\u001b[0m\u001b[0;34m,\u001b[0m \u001b[0maxis\u001b[0m\u001b[0;34m=\u001b[0m\u001b[0;36m1\u001b[0m\u001b[0;34m,\u001b[0m \u001b[0mkeepdims\u001b[0m \u001b[0;34m=\u001b[0m \u001b[0;32mTrue\u001b[0m\u001b[0;34m)\u001b[0m\u001b[0;34m)\u001b[0m\u001b[0;34m\u001b[0m\u001b[0;34m\u001b[0m\u001b[0m\n\u001b[0m\u001b[1;32m     10\u001b[0m \u001b[0;31m# Time complexity?\u001b[0m\u001b[0;34m\u001b[0m\u001b[0;34m\u001b[0m\u001b[0;34m\u001b[0m\u001b[0m\n",
            "\u001b[0;32m<__array_function__ internals>\u001b[0m in \u001b[0;36margmax\u001b[0;34m(*args, **kwargs)\u001b[0m\n",
            "\u001b[0;31mTypeError\u001b[0m: _argmax_dispatcher() got an unexpected keyword argument 'keepdims'"
          ]
        }
      ]
    },
    {
      "cell_type": "code",
      "source": [
        "a1 = np.random.rand(10).reshape(2, -1)\n",
        "print(a1)\n",
        "\n",
        "print(a1.argmax())\n",
        "print(a1.argmin())\n",
        "print(a1.argmax(axis=0))\n",
        "print(a1.argmax(axis=1))"
      ],
      "metadata": {
        "colab": {
          "base_uri": "https://localhost:8080/"
        },
        "id": "E_cHAmPGMwkh",
        "outputId": "94c16f44-3ea8-4788-a0ac-ad85d4a555c1"
      },
      "execution_count": null,
      "outputs": [
        {
          "output_type": "stream",
          "name": "stdout",
          "text": [
            "[[0.50736117 0.54187253 0.92624082 0.93052616 0.59055363]\n",
            " [0.4176428  0.32959766 0.34393262 0.47885155 0.9125971 ]]\n",
            "3\n",
            "6\n",
            "[0 0 0 0 1]\n",
            "[3 4]\n"
          ]
        }
      ]
    },
    {
      "cell_type": "markdown",
      "source": [
        "# ndarray.argsort()\n",
        "- Return index array of priority\n",
        "\n",
        "# ndarray.take( )\n",
        "- Get index list for sorting and return sorted array\n",
        "- Copy and paste\n",
        "\n",
        "# ndarray.sort()\n",
        "- In-place sorting\n",
        "- View"
      ],
      "metadata": {
        "id": "HyhsWC5EOjSF"
      }
    },
    {
      "cell_type": "code",
      "source": [
        "a1 = np.array([10,3,1,5,2,7,9])\n",
        "\n",
        "index_list = a1.argsort()\n",
        "print(index_list)\n",
        "\n",
        "print(a1.take(index_list))\n",
        "print(a1)\n",
        "\n",
        "a1.sort()\n",
        "print(a1)"
      ],
      "metadata": {
        "colab": {
          "base_uri": "https://localhost:8080/"
        },
        "id": "YLl1cWLtOhB_",
        "outputId": "e705d331-1f1b-42c3-84e6-6bd30d57f3c6"
      },
      "execution_count": null,
      "outputs": [
        {
          "output_type": "stream",
          "name": "stdout",
          "text": [
            "[2 4 1 3 5 6 0]\n",
            "[ 1  2  3  5  7  9 10]\n",
            "[10  3  1  5  2  7  9]\n",
            "[ 1  2  3  5  7  9 10]\n"
          ]
        }
      ]
    },
    {
      "cell_type": "markdown",
      "source": [
        "# np.choose(index_list, ndarray)\n",
        "- From ndarray choose values  \n",
        "Ex. [2, 3, 1, 0] -> choose [0,2], [1,3], [2,1], [3,1]\n"
      ],
      "metadata": {
        "id": "6QX5oxmuPWUb"
      }
    },
    {
      "cell_type": "code",
      "source": [
        "choices = np.arange(100, 116).reshape(4,4)\n",
        "print(choices)\n",
        "\n",
        "print('choose: ',np.choose([2,3,1,0], choices))"
      ],
      "metadata": {
        "colab": {
          "base_uri": "https://localhost:8080/"
        },
        "id": "9AaTlXoLOu1X",
        "outputId": "105b9eee-9c80-4718-928e-69518659e954"
      },
      "execution_count": null,
      "outputs": [
        {
          "output_type": "stream",
          "name": "stdout",
          "text": [
            "[[100 101 102 103]\n",
            " [104 105 106 107]\n",
            " [108 109 110 111]\n",
            " [112 113 114 115]]\n",
            "choose:  [108 113 106 103]\n"
          ]
        }
      ]
    },
    {
      "cell_type": "markdown",
      "source": [
        "#Sum, prod\n",
        "- Return value of sum or product\n",
        "\n",
        "# cumsum, cumprod\n",
        "- Return array of **cumulative** sum, product"
      ],
      "metadata": {
        "id": "_vJ215fwQUL_"
      }
    },
    {
      "cell_type": "code",
      "source": [
        "a1 = np.arange(1, 10)\n",
        "print(a1)\n",
        "print(a1.sum())\n",
        "print(a1.cumsum())\n",
        "print(a1.prod())\n",
        "print(a1.cumprod())"
      ],
      "metadata": {
        "colab": {
          "base_uri": "https://localhost:8080/"
        },
        "id": "YEUnSntTPhlf",
        "outputId": "f9aaed45-c433-465e-efc0-66f2bd3a0b6a"
      },
      "execution_count": null,
      "outputs": [
        {
          "output_type": "stream",
          "name": "stdout",
          "text": [
            "[1 2 3 4 5 6 7 8 9]\n",
            "45\n",
            "[ 1  3  6 10 15 21 28 36 45]\n",
            "362880\n",
            "[     1      2      6     24    120    720   5040  40320 362880]\n"
          ]
        }
      ]
    },
    {
      "cell_type": "code",
      "source": [
        "print(a1)\n",
        "print(a1.min())\n",
        "print(a1.max())\n",
        "print(a1.ptp())   # peak to peak: max - min\n",
        "print(a1.mean())\n",
        "print(a1.std())\n",
        "print(a1.var())\n"
      ],
      "metadata": {
        "colab": {
          "base_uri": "https://localhost:8080/"
        },
        "id": "9rDdssoCQdxp",
        "outputId": "588a145c-d6f7-4940-8165-0ddf9b5202fa"
      },
      "execution_count": null,
      "outputs": [
        {
          "output_type": "stream",
          "name": "stdout",
          "text": [
            "[1 2 3 4 5 6 7 8 9]\n",
            "1\n",
            "9\n",
            "8\n",
            "5.0\n",
            "2.581988897471611\n",
            "6.666666666666667\n"
          ]
        }
      ]
    },
    {
      "cell_type": "markdown",
      "source": [
        "# Squeeze\n",
        "- Delect unessary dimention \n",
        "\n",
        "#swapaxes\n",
        "- Swap two axes\n",
        "\n",
        "# transpose\n",
        "- Make transpose"
      ],
      "metadata": {
        "id": "VFiH96xKRUtH"
      }
    },
    {
      "cell_type": "code",
      "source": [
        "a1 = np.arange(10)\n",
        "print(a1)\n",
        "\n",
        "a2 = a1[np.newaxis,:]\n",
        "print(a2)\n",
        "print(a2.squeeze())\n",
        "\n",
        "a2 = a1.reshape(2, -1)\n",
        "print(a2)\n",
        "print(a2.swapaxes(0,1))\n",
        "print(a2.transpose())"
      ],
      "metadata": {
        "colab": {
          "base_uri": "https://localhost:8080/"
        },
        "id": "lBrT0EJzRLen",
        "outputId": "368dd9b0-6459-4cc7-fe21-e82ce134fd8c"
      },
      "execution_count": null,
      "outputs": [
        {
          "output_type": "stream",
          "name": "stdout",
          "text": [
            "[0 1 2 3 4 5 6 7 8 9]\n",
            "[[0 1 2 3 4 5 6 7 8 9]]\n",
            "[0 1 2 3 4 5 6 7 8 9]\n",
            "[[0 1 2 3 4]\n",
            " [5 6 7 8 9]]\n",
            "[[0 5]\n",
            " [1 6]\n",
            " [2 7]\n",
            " [3 8]\n",
            " [4 9]]\n",
            "[[0 5]\n",
            " [1 6]\n",
            " [2 7]\n",
            " [3 8]\n",
            " [4 9]]\n"
          ]
        }
      ]
    },
    {
      "cell_type": "code",
      "source": [
        "a1 = np.arange(24).reshape(2,3,4)\n",
        "print('a1: \\n',a1)\n",
        "print('a1.shape: ',a1.shape)\n",
        "print('a1.transpose: \\n',a1.transpose())\n",
        "print('a1.transpose.shape: ',a1.transpose().shape)\n",
        "\n",
        "print('swap: \\n',a1.swapaxes(0, 2))\n",
        "print('swap.shape: ',a1.swapaxes(0,2).shape)"
      ],
      "metadata": {
        "colab": {
          "base_uri": "https://localhost:8080/"
        },
        "id": "CxE0veorRgxr",
        "outputId": "f6700ce0-7d74-4a9a-e0c9-823afe578709"
      },
      "execution_count": null,
      "outputs": [
        {
          "output_type": "stream",
          "name": "stdout",
          "text": [
            "a1: \n",
            " [[[ 0  1  2  3]\n",
            "  [ 4  5  6  7]\n",
            "  [ 8  9 10 11]]\n",
            "\n",
            " [[12 13 14 15]\n",
            "  [16 17 18 19]\n",
            "  [20 21 22 23]]]\n",
            "a1.shape:  (2, 3, 4)\n",
            "a1.transpose: \n",
            " [[[ 0 12]\n",
            "  [ 4 16]\n",
            "  [ 8 20]]\n",
            "\n",
            " [[ 1 13]\n",
            "  [ 5 17]\n",
            "  [ 9 21]]\n",
            "\n",
            " [[ 2 14]\n",
            "  [ 6 18]\n",
            "  [10 22]]\n",
            "\n",
            " [[ 3 15]\n",
            "  [ 7 19]\n",
            "  [11 23]]]\n",
            "a1.transpose.shape:  (4, 3, 2)\n",
            "swap: \n",
            " [[[ 0 12]\n",
            "  [ 4 16]\n",
            "  [ 8 20]]\n",
            "\n",
            " [[ 1 13]\n",
            "  [ 5 17]\n",
            "  [ 9 21]]\n",
            "\n",
            " [[ 2 14]\n",
            "  [ 6 18]\n",
            "  [10 22]]\n",
            "\n",
            " [[ 3 15]\n",
            "  [ 7 19]\n",
            "  [11 23]]]\n",
            "swap.shape:  (4, 3, 2)\n"
          ]
        }
      ]
    },
    {
      "cell_type": "code",
      "source": [
        ""
      ],
      "metadata": {
        "id": "sCwCoRPdUndt"
      },
      "execution_count": null,
      "outputs": []
    }
  ]
}