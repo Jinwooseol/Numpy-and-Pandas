{
  "nbformat": 4,
  "nbformat_minor": 0,
  "metadata": {
    "colab": {
      "name": "20220406_group_by.ipynb",
      "provenance": [],
      "collapsed_sections": [
        "gnjM_Zk1b5GK",
        "H_k-8wC0itzM",
        "_ZPb-ujIww7E"
      ],
      "mount_file_id": "11KOHhGl1_vmFhub_LtCpIYaPfZ_hwS4j",
      "authorship_tag": "ABX9TyPijRkJKqq0keMx7CjK4QBs",
      "include_colab_link": true
    },
    "kernelspec": {
      "name": "python3",
      "display_name": "Python 3"
    },
    "language_info": {
      "name": "python"
    }
  },
  "cells": [
    {
      "cell_type": "markdown",
      "metadata": {
        "id": "view-in-github",
        "colab_type": "text"
      },
      "source": [
        "<a href=\"https://colab.research.google.com/github/Jinwooseol/Numpy-and-Pandas/blob/main/20220406_group_by.ipynb\" target=\"_parent\"><img src=\"https://colab.research.google.com/assets/colab-badge.svg\" alt=\"Open In Colab\"/></a>"
      ]
    },
    {
      "cell_type": "code",
      "execution_count": null,
      "metadata": {
        "id": "gD9Grao5T-n7"
      },
      "outputs": [],
      "source": [
        "import pandas as pd\n",
        "import numpy as np\n",
        "\n",
        "from numpy.random import randint"
      ]
    },
    {
      "cell_type": "code",
      "source": [
        "df1 = pd.DataFrame(randint(10, 100, (3, 4)))\n",
        "print(df1)\n",
        "\n",
        "x = df1 > 50\n",
        "print(x)\n",
        "print(df1.loc[:,x.loc[0]])"
      ],
      "metadata": {
        "colab": {
          "base_uri": "https://localhost:8080/"
        },
        "id": "pitY9de3VbaV",
        "outputId": "59b5619f-a855-4e8d-a0c1-535a04d2b6a7"
      },
      "execution_count": null,
      "outputs": [
        {
          "output_type": "stream",
          "name": "stdout",
          "text": [
            "    0   1   2   3\n",
            "0  44  51  10  99\n",
            "1  90  91  90  60\n",
            "2  99  60  30  59\n",
            "       0     1      2     3\n",
            "0  False  True  False  True\n",
            "1   True  True   True  True\n",
            "2   True  True  False  True\n",
            "    1   3\n",
            "0  51  99\n",
            "1  91  60\n",
            "2  60  59\n"
          ]
        }
      ]
    },
    {
      "cell_type": "code",
      "source": [
        "# Create one column pd DataFrame\n",
        "df1 = pd.DataFrame(np.arange(10, 50, 10))\n",
        "print(df1)\n",
        "print('-'*20)\n",
        "\n",
        "# Insert column by using original datas\n",
        "# df1.insert(1, 1, np.arange(-10, -50, -10))\n",
        "df1[1] = df1[0] * -1   # Similar with dictonary\n",
        "print(df1)\n",
        "print('-'*20)\n",
        "\n",
        "# Insert columns by using dictonary way\n",
        "df1[2] = pd.Series(list('AABB'))\n",
        "# df1.insert(2, 2, pd.Series(list('AABB)))\n",
        "df1[3] = pd.Series(list('XYXY'))\n",
        "print(df1)\n",
        "print('-'*20)\n",
        "\n",
        "# Reindex the columns\n",
        "df1 = df1.reindex([2, 3, 0, 1], axis = 1)  # Not in-place\n",
        "print(df1)\n",
        "print('-'*20)\n",
        "\n",
        "# Rename the columns\n",
        "df1.columns = ['AB', 'XY', 'S1', 'S2']\n",
        "print(df1)\n",
        "print('-'*20)\n",
        "\n",
        "# Set index using columns\n",
        "df1.set_index(['AB', 'XY'], inplace = True)\n",
        "print(df1)\n",
        "print('-'*20)\n",
        "\n",
        "# Reset\n",
        "df1.reset_index(inplace = True)\n",
        "print(df1)"
      ],
      "metadata": {
        "colab": {
          "base_uri": "https://localhost:8080/"
        },
        "id": "g5FenURGVq2w",
        "outputId": "552cb90c-7ec3-44f0-db6d-22587f22026c"
      },
      "execution_count": null,
      "outputs": [
        {
          "output_type": "stream",
          "name": "stdout",
          "text": [
            "    0\n",
            "0  10\n",
            "1  20\n",
            "2  30\n",
            "3  40\n",
            "--------------------\n",
            "    0   1\n",
            "0  10 -10\n",
            "1  20 -20\n",
            "2  30 -30\n",
            "3  40 -40\n",
            "--------------------\n",
            "    0   1  2  3\n",
            "0  10 -10  A  X\n",
            "1  20 -20  A  Y\n",
            "2  30 -30  B  X\n",
            "3  40 -40  B  Y\n",
            "--------------------\n",
            "   2  3   0   1\n",
            "0  A  X  10 -10\n",
            "1  A  Y  20 -20\n",
            "2  B  X  30 -30\n",
            "3  B  Y  40 -40\n",
            "--------------------\n",
            "  AB XY  S1  S2\n",
            "0  A  X  10 -10\n",
            "1  A  Y  20 -20\n",
            "2  B  X  30 -30\n",
            "3  B  Y  40 -40\n",
            "--------------------\n",
            "       S1  S2\n",
            "AB XY        \n",
            "A  X   10 -10\n",
            "   Y   20 -20\n",
            "B  X   30 -30\n",
            "   Y   40 -40\n",
            "--------------------\n",
            "  AB XY  S1  S2\n",
            "0  A  X  10 -10\n",
            "1  A  Y  20 -20\n",
            "2  B  X  30 -30\n",
            "3  B  Y  40 -40\n"
          ]
        }
      ]
    },
    {
      "cell_type": "markdown",
      "source": [
        "# Groupby"
      ],
      "metadata": {
        "id": "gnjM_Zk1b5GK"
      }
    },
    {
      "cell_type": "code",
      "source": [
        "print(df1)\n",
        "g1 = df1.groupby('AB') # Make groups\n",
        "print(g1.groups)\n",
        "print('-'*20)\n",
        "\n",
        "print(g1.first())\n",
        "print('-'*20)\n",
        "\n",
        "print(g1.last())\n",
        "print('-'*20)\n",
        "\n",
        "print(g1.get_group('A'))\n",
        "print('-'*20)\n",
        "\n",
        "print(g1.sum())\n",
        "print('-'*20)\n",
        "\n",
        "print(g1.prod())"
      ],
      "metadata": {
        "colab": {
          "base_uri": "https://localhost:8080/"
        },
        "id": "RBugiTJvXwkE",
        "outputId": "5ee80cdf-a92d-4e2a-99eb-e10a00fbcbf6"
      },
      "execution_count": null,
      "outputs": [
        {
          "output_type": "stream",
          "name": "stdout",
          "text": [
            "  AB XY  S1  S2\n",
            "0  A  X  10 -10\n",
            "1  A  Y  20 -20\n",
            "2  B  X  30 -30\n",
            "3  B  Y  40 -40\n",
            "{'A': [0, 1], 'B': [2, 3]}\n",
            "--------------------\n",
            "   XY  S1  S2\n",
            "AB           \n",
            "A   X  10 -10\n",
            "B   X  30 -30\n",
            "--------------------\n",
            "   XY  S1  S2\n",
            "AB           \n",
            "A   Y  20 -20\n",
            "B   Y  40 -40\n",
            "--------------------\n",
            "  AB XY  S1  S2\n",
            "0  A  X  10 -10\n",
            "1  A  Y  20 -20\n",
            "--------------------\n",
            "    S1  S2\n",
            "AB        \n",
            "A   30 -30\n",
            "B   70 -70\n",
            "--------------------\n",
            "      S1    S2\n",
            "AB            \n",
            "A    200   200\n",
            "B   1200  1200\n"
          ]
        }
      ]
    },
    {
      "cell_type": "code",
      "source": [
        "print(df1)\n",
        "\n",
        "g1 = df1.groupby(['AB', 'XY'])\n",
        "print(g1.sum())"
      ],
      "metadata": {
        "colab": {
          "base_uri": "https://localhost:8080/"
        },
        "id": "L-2FqLVvcCbk",
        "outputId": "d19b9a4c-cf9e-465b-eb7a-d3cfc41af13f"
      },
      "execution_count": null,
      "outputs": [
        {
          "output_type": "stream",
          "name": "stdout",
          "text": [
            "  AB XY  S1  S2\n",
            "0  A  X  10 -10\n",
            "1  A  Y  20 -20\n",
            "2  B  X  30 -30\n",
            "3  B  Y  40 -40\n",
            "       S1  S2\n",
            "AB XY        \n",
            "A  X   10 -10\n",
            "   Y   20 -20\n",
            "B  X   30 -30\n",
            "   Y   40 -40\n"
          ]
        }
      ]
    },
    {
      "cell_type": "code",
      "source": [
        "# df1.set_index(['AB', 'XY'], inplace=True)\n",
        "print(df1)"
      ],
      "metadata": {
        "colab": {
          "base_uri": "https://localhost:8080/"
        },
        "id": "Zyv8Yai2efYT",
        "outputId": "9b42e91a-b7ee-457b-b2cf-79c77dd9d0a2"
      },
      "execution_count": null,
      "outputs": [
        {
          "output_type": "stream",
          "name": "stdout",
          "text": [
            "       S1  S2\n",
            "AB XY        \n",
            "A  X   10 -10\n",
            "   Y   20 -20\n",
            "B  X   30 -30\n",
            "   Y   40 -40\n"
          ]
        }
      ]
    },
    {
      "cell_type": "markdown",
      "source": [
        "# Groupby using level in Multi-index\n"
      ],
      "metadata": {
        "id": "H_k-8wC0itzM"
      }
    },
    {
      "cell_type": "code",
      "source": [
        "print(df1)\n",
        "g1 = df1.groupby(level = 0)\n",
        "print(g1.sum())\n",
        "\n",
        "g2 = df1.groupby(level = 1)\n",
        "print(g2.sum())\n",
        "\n",
        "g3 = df1.groupby(level = [0, 1])\n",
        "print(g3.sum())"
      ],
      "metadata": {
        "colab": {
          "base_uri": "https://localhost:8080/"
        },
        "id": "OsRvdDn0ieF-",
        "outputId": "134659a6-04ec-477b-f0e0-52e7c29aab53"
      },
      "execution_count": null,
      "outputs": [
        {
          "output_type": "stream",
          "name": "stdout",
          "text": [
            "       S1  S2\n",
            "AB XY        \n",
            "A  X   10 -10\n",
            "   Y   20 -20\n",
            "B  X   30 -30\n",
            "   Y   40 -40\n",
            "    S1  S2\n",
            "AB        \n",
            "A   30 -30\n",
            "B   70 -70\n",
            "    S1  S2\n",
            "XY        \n",
            "X   40 -40\n",
            "Y   60 -60\n",
            "       S1  S2\n",
            "AB XY        \n",
            "A  X   10 -10\n",
            "   Y   20 -20\n",
            "B  X   30 -30\n",
            "   Y   40 -40\n"
          ]
        }
      ]
    },
    {
      "cell_type": "code",
      "source": [
        "df1.reset_index(inplace = True)\n",
        "print(df1)"
      ],
      "metadata": {
        "colab": {
          "base_uri": "https://localhost:8080/"
        },
        "id": "c_PwqqUDiklZ",
        "outputId": "83ee6f57-c2d5-4741-8b7d-074fe950e953"
      },
      "execution_count": null,
      "outputs": [
        {
          "output_type": "stream",
          "name": "stdout",
          "text": [
            "  AB XY  S1  S2\n",
            "0  A  X  10 -10\n",
            "1  A  Y  20 -20\n",
            "2  B  X  30 -30\n",
            "3  B  Y  40 -40\n"
          ]
        }
      ]
    },
    {
      "cell_type": "code",
      "source": [
        "df1_t = df1.T  # Transpose\n",
        "print(df1_t)"
      ],
      "metadata": {
        "colab": {
          "base_uri": "https://localhost:8080/"
        },
        "id": "FI7euzKli8HZ",
        "outputId": "81cd3b1c-68a3-4126-8ced-9a29bee3913e"
      },
      "execution_count": null,
      "outputs": [
        {
          "output_type": "stream",
          "name": "stdout",
          "text": [
            "      0    1    2    3\n",
            "AB    A    A    B    B\n",
            "XY    X    Y    X    Y\n",
            "S1   10   20   30   40\n",
            "S2  -10  -20  -30  -40\n"
          ]
        }
      ]
    },
    {
      "cell_type": "code",
      "source": [
        "x = df1_t.groupby(df1_t.loc['AB'], axis = 1)\n",
        "print(x.sum())\n",
        "print('-'*20)\n",
        "\n",
        "print(x.agg(np.sum)) # Function apply"
      ],
      "metadata": {
        "colab": {
          "base_uri": "https://localhost:8080/"
        },
        "id": "y_xRvfi0jJMb",
        "outputId": "9cb05d50-0f39-407d-9616-b6f18083f232"
      },
      "execution_count": null,
      "outputs": [
        {
          "output_type": "stream",
          "name": "stdout",
          "text": [
            "AB    A    B\n",
            "AB   AA   BB\n",
            "XY   XY   XY\n",
            "S1   30   70\n",
            "S2  -30  -70\n",
            "--------------------\n",
            "AB    A    B\n",
            "AB   AA   BB\n",
            "XY   XY   XY\n",
            "S1   30   70\n",
            "S2  -30  -70\n"
          ]
        }
      ]
    },
    {
      "cell_type": "code",
      "source": [
        "print(df1)\n",
        "print(df1.groupby('AB').agg(lambda x:x+x))"
      ],
      "metadata": {
        "colab": {
          "base_uri": "https://localhost:8080/"
        },
        "id": "JnBWD4kjjdsV",
        "outputId": "259a17b9-0b53-4b4c-b199-6e2920e45566"
      },
      "execution_count": null,
      "outputs": [
        {
          "output_type": "stream",
          "name": "stdout",
          "text": [
            "  AB XY  S1  S2\n",
            "0  A  X  10 -10\n",
            "1  A  Y  20 -20\n",
            "2  B  X  30 -30\n",
            "3  B  Y  40 -40\n",
            "          XY\n",
            "AB          \n",
            "A   [XX, YY]\n",
            "B   [XX, YY]\n"
          ]
        }
      ]
    },
    {
      "cell_type": "markdown",
      "source": [
        "# Groupby 활용 예제"
      ],
      "metadata": {
        "id": "_ZPb-ujIww7E"
      }
    },
    {
      "cell_type": "markdown",
      "source": [
        "# 축제 시작일자 기준 월별로 축제 수 얻기"
      ],
      "metadata": {
        "id": "LtIQhLi-l7lR"
      }
    },
    {
      "cell_type": "code",
      "source": [
        "pd_data = pd.read_csv('/content/drive/MyDrive/인공지능 학습/Data/전국문화축제표준데이터_utf8.csv', encoding = 'utf8', header = [0])\n",
        "print(pd_data.head(5))\n",
        "print(pd_data.columns)\n",
        "\n",
        "data = pd_data.loc[:,['축제명', '축제시작일자']]\n",
        "data['축제시작일자'] = data['축제시작일자'].astype('datetime64')\n",
        "data['month'] = data['축제시작일자'].dt.month\n",
        "print(data)\n",
        "\n",
        "g1 = data.groupby('month')\n",
        "print(g1.count())    # 각 월별 시작되는 축제의 수"
      ],
      "metadata": {
        "colab": {
          "base_uri": "https://localhost:8080/"
        },
        "id": "MrbmP_A-lTbO",
        "outputId": "2fc3ac1d-9f6a-4ea6-d511-e1090f809864"
      },
      "execution_count": null,
      "outputs": [
        {
          "output_type": "stream",
          "name": "stdout",
          "text": [
            "                                                 축제명                   개최장소  \\\n",
            "0                                       제1회 대청호 벚꽃축제  대전광역시 동구 신상동 282번지 일원   \n",
            "1  코로나19 확산 방지를 위해 공연행사가 취소되었으니 향후 일정이 정해지는대로 업데이...           수영구 광안리해변 일원   \n",
            "2                                              강감찬축제                 온라인 개최   \n",
            "3                                          천만송이 국화축제                 중앙체육공원   \n",
            "4                                            담양대나무축제          죽녹원 및 관방제림 일원   \n",
            "\n",
            "       축제시작일자      축제종료일자                                               축제내용  \\\n",
            "0  2019-04-05  2019-04-07                            벚꽃축제, 벚꽃가요제, 벚꽃길 걷기대회 등   \n",
            "1  2021-12-31  2021-12-31  코로나19 확산 방지를 위해 공연행사가 취소되었으니 향후 일정이 정해지는대로 업데이...   \n",
            "2  2021-10-14  2021-10-17  강감찬 장군 출병식 및 전승행렬 거리 퍼레이드, 고려마을 테마 체험부스, 강감찬 장...   \n",
            "3  2022-10-28  2022-11-06                                               국화축제   \n",
            "4  2022-05-01  2022-05-05                            대나무 관련 전시, 체험, 공연, 판매 등   \n",
            "\n",
            "                     주관기관       주최기관                 후원기관          전화번호  \\\n",
            "0  대전광역시 동구청(대행사: 대전문화방송)  대전광역시 동구청                  NaN  042-251-6685   \n",
            "1                     수영구   수영구축제위원회                  부산시  051-610-4062   \n",
            "2                     관악구        관악구                  NaN   02-879-5603   \n",
            "3              익산시 농업기술센터        익산시                  익산시  063-859-4977   \n",
            "4           (사)담양대나무축제위원회  전라남도 담양군청  문화체육관광부+전라남도+한국관광공사  061-380-3152   \n",
            "\n",
            "                                           홈페이지주소                      관련정보  \\\n",
            "0                         http://www.donggu.go.kr                       NaN   \n",
            "1                        www.suyeong.go.kr/eobang              코로나로 인한 행사취소   \n",
            "2  http://www.gwanak.go.kr/html/gang/sub/sub.html                       NaN   \n",
            "3      https://www.iksan.go.kr/gukhwa/index.iksan  국화전시,국화우수작품전시,농산물판매장,체험장   \n",
            "4                        www.bamboofestival.co.kr                       NaN   \n",
            "\n",
            "                         소재지도로명주소                 소재지지번주소         위도  \\\n",
            "0                             NaN        대전광역시 동구 신상동 282  36.353590   \n",
            "1               부산광역시 수영구 남천동로100     부산광역시 수영구 남천동148-15  35.145370   \n",
            "2  서울특별시 관악구 관악로 145, 교육사업과(관악구청)    서울특별시 관악구 봉천동 1570-1  37.478234   \n",
            "3                전라북도 익산시 하나로 322                     NaN  35.949730   \n",
            "4       전라남도 담양군 담양읍 메타프로방스 1길 17  전라남도 담양군 담양읍 학동리 586-1  35.322605   \n",
            "\n",
            "           경도     데이터기준일자   제공기관코드      제공기관명  \n",
            "0  127.498043  2021-12-17  3640000   대전광역시 동구  \n",
            "1  129.112369  2021-12-21  3380000  부산광역시 수영구  \n",
            "2  126.951501  2021-12-15  3200000  서울특별시 관악구  \n",
            "3  126.986127  2021-12-14  4680000   전라북도 익산시  \n",
            "4  127.001811  2022-01-13  4850000   전라남도 담양군  \n",
            "Index(['축제명', '개최장소', '축제시작일자', '축제종료일자', '축제내용', '주관기관', '주최기관', '후원기관',\n",
            "       '전화번호', '홈페이지주소', '관련정보', '소재지도로명주소', '소재지지번주소', '위도', '경도', '데이터기준일자',\n",
            "       '제공기관코드', '제공기관명'],\n",
            "      dtype='object')\n",
            "                                                    축제명     축제시작일자  month\n",
            "0                                          제1회 대청호 벚꽃축제 2019-04-05      4\n",
            "1     코로나19 확산 방지를 위해 공연행사가 취소되었으니 향후 일정이 정해지는대로 업데이... 2021-12-31     12\n",
            "2                                                 강감찬축제 2021-10-14     10\n",
            "3                                             천만송이 국화축제 2022-10-28     10\n",
            "4                                               담양대나무축제 2022-05-01      5\n",
            "...                                                 ...        ...    ...\n",
            "999                                          제2회 상록수문화제 2014-09-27      9\n",
            "1000                                        안산시도서관책문화축제 2014-10-14     10\n",
            "1001                                             감물감자축제 2021-06-18      6\n",
            "1002                                      2021 전국생활문화축제 2021-10-08     10\n",
            "1003                                    제3회 예천국제스마트폰영화제 2021-11-20     11\n",
            "\n",
            "[1004 rows x 3 columns]\n",
            "       축제명  축제시작일자\n",
            "month             \n",
            "1       49      49\n",
            "2       14      14\n",
            "3       35      35\n",
            "4       94      94\n",
            "5      119     119\n",
            "6       42      42\n",
            "7       47      47\n",
            "8       76      76\n",
            "9      133     133\n",
            "10     290     290\n",
            "11      63      63\n",
            "12      42      42\n"
          ]
        }
      ]
    },
    {
      "cell_type": "markdown",
      "source": [
        "# 고객별 매출합"
      ],
      "metadata": {
        "id": "CIZnKSgcqg0R"
      }
    },
    {
      "cell_type": "code",
      "source": [
        "pd_data = pd.read_csv('/content/drive/MyDrive/인공지능 학습/Data/invoices_customers.csv', header = [0])\n",
        "#print(pd_data.head(5))\n",
        "\n",
        "data = pd_data.loc[:,['CustomerId', 'Total']]\n",
        "print(data.head(5))\n",
        "\n",
        "x = data.groupby('CustomerId').sum()\n",
        "print(x)\n",
        "print(x.sort_values('Total', ascending = False).head(10)) # Top 10"
      ],
      "metadata": {
        "colab": {
          "base_uri": "https://localhost:8080/"
        },
        "id": "wl21EtxuqL-b",
        "outputId": "cffc1241-ef8a-44da-ed34-584262803ad2"
      },
      "execution_count": null,
      "outputs": [
        {
          "output_type": "stream",
          "name": "stdout",
          "text": [
            "   CustomerId  Total\n",
            "0           1   3.98\n",
            "1           1   3.96\n",
            "2           1   5.94\n",
            "3           1   0.99\n",
            "4           1   1.98\n",
            "            Total\n",
            "CustomerId       \n",
            "1           39.62\n",
            "2           37.62\n",
            "3           39.62\n",
            "4           39.62\n",
            "5           40.62\n",
            "6           49.62\n",
            "7           42.62\n",
            "8           37.62\n",
            "9           37.62\n",
            "10          37.62\n",
            "11          37.62\n",
            "12          37.62\n",
            "13          37.62\n",
            "14          37.62\n",
            "15          38.62\n",
            "16          37.62\n",
            "17          39.62\n",
            "18          37.62\n",
            "19          38.62\n",
            "20          39.62\n",
            "21          37.62\n",
            "22          39.62\n",
            "23          37.62\n",
            "24          43.62\n",
            "25          42.62\n",
            "26          47.62\n",
            "27          37.62\n",
            "28          43.62\n",
            "29          37.62\n",
            "30          37.62\n",
            "31          37.62\n",
            "32          37.62\n",
            "33          37.62\n",
            "34          39.62\n",
            "35          37.62\n",
            "36          37.62\n",
            "37          43.62\n",
            "38          37.62\n",
            "39          38.62\n",
            "40          38.62\n",
            "41          37.62\n",
            "42          39.62\n",
            "43          40.62\n",
            "44          41.62\n",
            "45          45.62\n",
            "46          45.62\n",
            "47          37.62\n",
            "48          40.62\n",
            "49          37.62\n",
            "50          37.62\n",
            "51          38.62\n",
            "52          37.62\n",
            "53          37.62\n",
            "54          37.62\n",
            "55          37.62\n",
            "56          37.62\n",
            "57          46.62\n",
            "58          38.62\n",
            "59          36.64\n",
            "            Total\n",
            "CustomerId       \n",
            "6           49.62\n",
            "26          47.62\n",
            "57          46.62\n",
            "46          45.62\n",
            "45          45.62\n",
            "37          43.62\n",
            "28          43.62\n",
            "24          43.62\n",
            "7           42.62\n",
            "25          42.62\n"
          ]
        }
      ]
    },
    {
      "cell_type": "markdown",
      "source": [
        "# 부산 지하철 역별 승하차 인원수"
      ],
      "metadata": {
        "id": "OO7PqptO1K9u"
      }
    },
    {
      "cell_type": "code",
      "source": [
        "pd_data = pd.read_csv('/content/drive/MyDrive/인공지능 학습/Data/부산교통공사_시간대별 승하차인원_utf8.csv', encoding = 'utf8', header=[0])\n",
        "print(pd_data.head(5))\n",
        "print(pd_data.columns)\n",
        "\n",
        "data = pd_data.loc[:,['역명', '합계']]\n",
        "x = data.groupby('역명').sum()\n",
        "print(x)\n",
        "print(x.sort_values('합계', ascending = False).head(10))   # Top 10"
      ],
      "metadata": {
        "colab": {
          "base_uri": "https://localhost:8080/"
        },
        "id": "z7ZRk-jotIt6",
        "outputId": "8de17152-b95b-47d8-8ed9-a1728bc99cde"
      },
      "execution_count": null,
      "outputs": [
        {
          "output_type": "stream",
          "name": "stdout",
          "text": [
            "   역번호       역명         년월일 요일  구분    합계  01시-02시  02시-03시  03시-04시  04시-05시  \\\n",
            "0   95  다대포해수욕장  2022-01-01  토  승차  5142        0        0        0       10   \n",
            "1   95  다대포해수욕장  2022-01-01  토  하차  4430        0        0        0        1   \n",
            "2   95  다대포해수욕장  2022-01-02  일  승차  3429        0        0        0        7   \n",
            "3   95  다대포해수욕장  2022-01-02  일  하차  2992        0        0        0        0   \n",
            "4   95  다대포해수욕장  2022-01-03  월  승차  4323        0        0        0       19   \n",
            "\n",
            "   ...  15시-16시  16시-17시  17시-18시  18시-19시  19시-20시  20시-21시  21시-22시  \\\n",
            "0  ...      371      390      449      249      150      108      105   \n",
            "1  ...      320      329      283      161      124       83      117   \n",
            "2  ...      412      441      344      182       96      109       66   \n",
            "3  ...      304      255      191      158      120       76      104   \n",
            "4  ...      410      335      371      209      110       75       71   \n",
            "\n",
            "   22시-23시  23시-24시  24시-01시  \n",
            "0       39       10        3  \n",
            "1       82       36       18  \n",
            "2       23        6        0  \n",
            "3       80       37       14  \n",
            "4       33        4        0  \n",
            "\n",
            "[5 rows x 30 columns]\n",
            "Index(['역번호', '역명', '년월일', '요일', '구분', '합계', '01시-02시', '02시-03시', '03시-04시',\n",
            "       '04시-05시', '05시-06시', '06시-07시', '07시-08시', '08시-09시', '09시-10시',\n",
            "       '10시-11시', '11시-12시', '12시-13시', '13시-14시', '14시-15시', '15시-16시',\n",
            "       '16시-17시', '17시-18시', '18시-19시', '19시-20시', '20시-21시', '21시-22시',\n",
            "       '22시-23시', '23시-24시', '24시-01시'],\n",
            "      dtype='object')\n",
            "           합계\n",
            "역명           \n",
            "1동래   1649183\n",
            "1서면   3506142\n",
            "1연산   1744766\n",
            "2덕천    588142\n",
            "2서면   2339079\n",
            "...       ...\n",
            "토  성   758648\n",
            "하  단  1655521\n",
            "해운대   1200468\n",
            "호  포   132384\n",
            "화  명   957308\n",
            "\n",
            "[112 rows x 1 columns]\n",
            "           합계\n",
            "역명           \n",
            "1서면   3506142\n",
            "2서면   2339079\n",
            "사  상  1987291\n",
            "부산역   1831702\n",
            "1연산   1744766\n",
            "자갈치   1702027\n",
            "센텀시티  1678185\n",
            "부  전  1655846\n",
            "하  단  1655521\n",
            "남  포  1654284\n"
          ]
        }
      ]
    },
    {
      "cell_type": "markdown",
      "source": [
        "# 부산 요일별 승하차 인원수"
      ],
      "metadata": {
        "id": "Fh3_psH91Onk"
      }
    },
    {
      "cell_type": "code",
      "source": [
        "y = pd_data.loc[:, ['역명', '요일', '합계']]\n",
        "print(y.groupby(['역명', '요일']).sum().sort_values('합계', ascending = False))"
      ],
      "metadata": {
        "colab": {
          "base_uri": "https://localhost:8080/"
        },
        "id": "6sI1FmScysfa",
        "outputId": "3f78c273-f21a-4599-cbe6-61f9b7846df8"
      },
      "execution_count": null,
      "outputs": [
        {
          "output_type": "stream",
          "name": "stdout",
          "text": [
            "             합계\n",
            "역명   요일        \n",
            "1서면  금   555385\n",
            "     토   547709\n",
            "     월   541947\n",
            "     목   518391\n",
            "     수   484420\n",
            "...         ...\n",
            "석  대 금     2496\n",
            "     수     2427\n",
            "     화     2332\n",
            "     토     1792\n",
            "     일     1446\n",
            "\n",
            "[784 rows x 1 columns]\n"
          ]
        }
      ]
    }
  ]
}