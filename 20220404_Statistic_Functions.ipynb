{
  "nbformat": 4,
  "nbformat_minor": 0,
  "metadata": {
    "colab": {
      "name": "20220404_Statistic Functions.ipynb",
      "provenance": [],
      "collapsed_sections": [],
      "mount_file_id": "1hyxo0lQG1V-Atfw0BGL2FcByVykbjTux",
      "authorship_tag": "ABX9TyORNcxec/OKPAsxZ/mKH/RP",
      "include_colab_link": true
    },
    "kernelspec": {
      "name": "python3",
      "display_name": "Python 3"
    },
    "language_info": {
      "name": "python"
    }
  },
  "cells": [
    {
      "cell_type": "markdown",
      "metadata": {
        "id": "view-in-github",
        "colab_type": "text"
      },
      "source": [
        "<a href=\"https://colab.research.google.com/github/Jinwooseol/Numpy-and-Pandas/blob/main/20220404_Statistic_Functions.ipynb\" target=\"_parent\"><img src=\"https://colab.research.google.com/assets/colab-badge.svg\" alt=\"Open In Colab\"/></a>"
      ]
    },
    {
      "cell_type": "code",
      "execution_count": null,
      "metadata": {
        "id": "4hEBXPFgBeO6"
      },
      "outputs": [],
      "source": [
        "import pandas as pd\n",
        "import numpy as np\n",
        "\n",
        "from numpy.random import randint\n"
      ]
    },
    {
      "cell_type": "code",
      "source": [
        "df1 = pd.DataFrame(randint(10, 20, (3, 4)), index = list('abc'), columns = list('ABCD'))\n",
        "print(df1)\n",
        "print(df1.describe()) # NaN or can not calculatable something does not include\n",
        "\n",
        "print('-'*50)\n",
        "df1 = df1.reindex(list('abcd'))\n",
        "print(df1)\n",
        "print(df1.describe())\n",
        "print(df1.count())\n",
        "print(df1.count(axis=1))\n",
        "print(df1.mean())\n",
        "print(df1.std())\n",
        "print(df1.min())\n",
        "print(df1.max())\n",
        "print(df1.quantile([0, 0.25, 0.5, 0.75, 1]))\n",
        "# print(df1.quantile(0.25)) # 25%\n",
        "# print(df1.quantile(0.5))  # 50%\n",
        "# print(df1.quantile(0.75)) # 75%"
      ],
      "metadata": {
        "colab": {
          "base_uri": "https://localhost:8080/"
        },
        "id": "fwJAiULNBnBv",
        "outputId": "b4ce4e86-d741-4735-dc1a-f80b8d9b6e1f"
      },
      "execution_count": null,
      "outputs": [
        {
          "output_type": "stream",
          "name": "stdout",
          "text": [
            "    A   B   C   D\n",
            "a  13  18  19  17\n",
            "b  18  16  17  14\n",
            "c  17  15  13  15\n",
            "               A          B          C          D\n",
            "count   3.000000   3.000000   3.000000   3.000000\n",
            "mean   16.000000  16.333333  16.333333  15.333333\n",
            "std     2.645751   1.527525   3.055050   1.527525\n",
            "min    13.000000  15.000000  13.000000  14.000000\n",
            "25%    15.000000  15.500000  15.000000  14.500000\n",
            "50%    17.000000  16.000000  17.000000  15.000000\n",
            "75%    17.500000  17.000000  18.000000  16.000000\n",
            "max    18.000000  18.000000  19.000000  17.000000\n",
            "--------------------------------------------------\n",
            "      A     B     C     D\n",
            "a  13.0  18.0  19.0  17.0\n",
            "b  18.0  16.0  17.0  14.0\n",
            "c  17.0  15.0  13.0  15.0\n",
            "d   NaN   NaN   NaN   NaN\n",
            "               A          B          C          D\n",
            "count   3.000000   3.000000   3.000000   3.000000\n",
            "mean   16.000000  16.333333  16.333333  15.333333\n",
            "std     2.645751   1.527525   3.055050   1.527525\n",
            "min    13.000000  15.000000  13.000000  14.000000\n",
            "25%    15.000000  15.500000  15.000000  14.500000\n",
            "50%    17.000000  16.000000  17.000000  15.000000\n",
            "75%    17.500000  17.000000  18.000000  16.000000\n",
            "max    18.000000  18.000000  19.000000  17.000000\n",
            "A    3\n",
            "B    3\n",
            "C    3\n",
            "D    3\n",
            "dtype: int64\n",
            "a    4\n",
            "b    4\n",
            "c    4\n",
            "d    0\n",
            "dtype: int64\n",
            "A    16.000000\n",
            "B    16.333333\n",
            "C    16.333333\n",
            "D    15.333333\n",
            "dtype: float64\n",
            "A    2.645751\n",
            "B    1.527525\n",
            "C    3.055050\n",
            "D    1.527525\n",
            "dtype: float64\n",
            "A    13.0\n",
            "B    15.0\n",
            "C    13.0\n",
            "D    14.0\n",
            "dtype: float64\n",
            "A    18.0\n",
            "B    18.0\n",
            "C    19.0\n",
            "D    17.0\n",
            "dtype: float64\n",
            "         A     B     C     D\n",
            "0.00  13.0  15.0  13.0  14.0\n",
            "0.25  15.0  15.5  15.0  14.5\n",
            "0.50  17.0  16.0  17.0  15.0\n",
            "0.75  17.5  17.0  18.0  16.0\n",
            "1.00  18.0  18.0  19.0  17.0\n"
          ]
        }
      ]
    },
    {
      "cell_type": "markdown",
      "source": [
        "**DF.cov**: Covariance  \n",
        "**DF.corr**: Correlation  \n",
        "**DF.pct_change**: From previous element, what percentage chagned  \n",
        "- (new_value - old_value) / old_value"
      ],
      "metadata": {
        "id": "A2-gdVjpJi1p"
      }
    },
    {
      "cell_type": "code",
      "source": [
        "df1 = pd.DataFrame(randint(10, 20, (3, 4)), index = list('abc'), columns = list('ABCD'))\n",
        "print(df1)\n",
        "\n",
        "print(df1.cov())  # Covariance\n",
        "print(df1.corr()) # Correlation\n",
        "print(df1.pct_change())"
      ],
      "metadata": {
        "colab": {
          "base_uri": "https://localhost:8080/"
        },
        "id": "pl_RCmiBFZYO",
        "outputId": "6372341c-75e4-49c3-8187-86204ad95395"
      },
      "execution_count": null,
      "outputs": [
        {
          "output_type": "stream",
          "name": "stdout",
          "text": [
            "    A   B   C   D\n",
            "a  18  19  17  13\n",
            "b  11  17  18  15\n",
            "c  10  15  18  10\n",
            "      A    B         C         D\n",
            "A  19.0  8.0 -2.500000  2.500000\n",
            "B   8.0  4.0 -1.000000  3.000000\n",
            "C  -2.5 -1.0  0.333333 -0.166667\n",
            "D   2.5  3.0 -0.166667  6.333333\n",
            "          A         B         C         D\n",
            "A  1.000000  0.917663 -0.993399  0.227901\n",
            "B  0.917663  1.000000 -0.866025  0.596040\n",
            "C -0.993399 -0.866025  1.000000 -0.114708\n",
            "D  0.227901  0.596040 -0.114708  1.000000\n",
            "          A         B         C         D\n",
            "a       NaN       NaN       NaN       NaN\n",
            "b -0.388889 -0.105263  0.058824  0.153846\n",
            "c -0.090909 -0.117647  0.000000 -0.333333\n"
          ]
        }
      ]
    },
    {
      "cell_type": "markdown",
      "source": [
        "**DF.corrwith**: Correlation with other DataFrame"
      ],
      "metadata": {
        "id": "6kWWxd47Ks8b"
      }
    },
    {
      "cell_type": "code",
      "source": [
        "df1 = pd.DataFrame(randint(10, 20, (3, 4)), index = list('abc'), columns = list('ABCD'))\n",
        "df2 = pd.DataFrame(randint(10, 20, (3, 4)), index = list('abc'), columns = list('ABCD'))\n",
        "print(df1)\n",
        "print(df2)\n",
        "print(df1.corrwith(df2))"
      ],
      "metadata": {
        "colab": {
          "base_uri": "https://localhost:8080/"
        },
        "id": "0LGwlC4_JVrc",
        "outputId": "d5f3b341-579f-4922-963c-da190ee27cc5"
      },
      "execution_count": null,
      "outputs": [
        {
          "output_type": "stream",
          "name": "stdout",
          "text": [
            "    A   B   C   D\n",
            "a  12  11  12  15\n",
            "b  14  11  10  13\n",
            "c  15  12  17  10\n",
            "    A   B   C   D\n",
            "a  10  14  19  11\n",
            "b  17  18  17  14\n",
            "c  14  13  19  18\n",
            "A    0.714575\n",
            "B   -0.654654\n",
            "C    0.720577\n",
            "D   -0.999466\n",
            "dtype: float64\n"
          ]
        }
      ]
    },
    {
      "cell_type": "markdown",
      "source": [
        "**DF.rank**: Just rank  \n",
        "**DF.cumsum**: Cumulative sum  \n",
        "**DF.cumprod**: Cumulative product\n",
        "\n",
        "- All default is **axis = 0**"
      ],
      "metadata": {
        "id": "ewLqxWXgLoJG"
      }
    },
    {
      "cell_type": "code",
      "source": [
        "df1 = pd.DataFrame(randint(10, 20, (3, 4)), index = list('abc'), columns = list('ABCD'))\n",
        "print(df1)\n",
        "print(df1.rank()) # default axis = 0\n",
        "print(df1.rank(axis = 1))\n",
        "print('-'*20)\n",
        "\n",
        "print(df1.cumsum())\n",
        "print(df1.cumsum(axis=1))\n",
        "print('-'*20)\n",
        "\n",
        "print(df1.cumprod())\n",
        "print(df1.cumprod(axis=1))"
      ],
      "metadata": {
        "colab": {
          "base_uri": "https://localhost:8080/"
        },
        "id": "2A6hVvD9Kigg",
        "outputId": "d7697771-c198-42ae-c1db-226f6ec47844"
      },
      "execution_count": null,
      "outputs": [
        {
          "output_type": "stream",
          "name": "stdout",
          "text": [
            "    A   B   C   D\n",
            "a  14  14  10  14\n",
            "b  19  13  18  10\n",
            "c  14  10  18  18\n",
            "     A    B    C    D\n",
            "a  1.5  3.0  1.0  2.0\n",
            "b  3.0  2.0  2.5  1.0\n",
            "c  1.5  1.0  2.5  3.0\n",
            "     A    B    C    D\n",
            "a  3.0  3.0  1.0  3.0\n",
            "b  4.0  2.0  3.0  1.0\n",
            "c  2.0  1.0  3.5  3.5\n",
            "--------------------\n",
            "    A   B   C   D\n",
            "a  14  14  10  14\n",
            "b  33  27  28  24\n",
            "c  47  37  46  42\n",
            "    A   B   C   D\n",
            "a  14  28  38  52\n",
            "b  19  32  50  60\n",
            "c  14  24  42  60\n",
            "--------------------\n",
            "      A     B     C     D\n",
            "a    14    14    10    14\n",
            "b   266   182   180   140\n",
            "c  3724  1820  3240  2520\n",
            "    A    B     C      D\n",
            "a  14  196  1960  27440\n",
            "b  19  247  4446  44460\n",
            "c  14  140  2520  45360\n"
          ]
        }
      ]
    },
    {
      "cell_type": "markdown",
      "source": [
        "# Extend DataFrame"
      ],
      "metadata": {
        "id": "XHi6ncIXQ0RY"
      }
    },
    {
      "cell_type": "code",
      "source": [
        "df1 = pd.DataFrame(randint(10, 20, (3, 4)), index = list('abc'), columns = list('ABCD'))\n",
        "print(df1)\n",
        "\n",
        "# First method\n",
        "# df1.insert(4, 'X', list('YYN'))\n",
        "# print(df1)\n",
        "\n",
        "# Second method\n",
        "df1['X'] = pd.Series(list('YYN'), index=list('abc'))\n",
        "print(df1)\n",
        "print(df1.dtypes)\n",
        "print(df1.describe())"
      ],
      "metadata": {
        "colab": {
          "base_uri": "https://localhost:8080/"
        },
        "id": "JeAX1WMOL3u-",
        "outputId": "0d48af3d-4779-402f-f04d-546b3d3dbc52"
      },
      "execution_count": null,
      "outputs": [
        {
          "output_type": "stream",
          "name": "stdout",
          "text": [
            "    A   B   C   D\n",
            "a  17  12  13  10\n",
            "b  16  17  19  18\n",
            "c  19  16  10  19\n",
            "    A   B   C   D  X\n",
            "a  17  12  13  10  Y\n",
            "b  16  17  19  18  Y\n",
            "c  19  16  10  19  N\n",
            "A     int64\n",
            "B     int64\n",
            "C     int64\n",
            "D     int64\n",
            "X    object\n",
            "dtype: object\n",
            "               A          B          C          D\n",
            "count   3.000000   3.000000   3.000000   3.000000\n",
            "mean   17.333333  15.000000  14.000000  15.666667\n",
            "std     1.527525   2.645751   4.582576   4.932883\n",
            "min    16.000000  12.000000  10.000000  10.000000\n",
            "25%    16.500000  14.000000  11.500000  14.000000\n",
            "50%    17.000000  16.000000  13.000000  18.000000\n",
            "75%    18.000000  16.500000  16.000000  18.500000\n",
            "max    19.000000  17.000000  19.000000  19.000000\n"
          ]
        }
      ]
    },
    {
      "cell_type": "markdown",
      "source": [
        "# Change the dtypes\n",
        "- astype('category'): change type to cagegory\n",
        "- .cat.codes: numbering by category's order\n"
      ],
      "metadata": {
        "id": "0mHA67ECRPfu"
      }
    },
    {
      "cell_type": "code",
      "source": [
        "print(df1)\n",
        "x = df1['X'].astype('category')\n",
        "print(x.dtype)\n",
        "print(x.cat.codes) # Y -> 1, N -> 0\n",
        "df1['X'] = x.cat.codes\n",
        "print(df1)\n",
        "print(df1.describe())"
      ],
      "metadata": {
        "colab": {
          "base_uri": "https://localhost:8080/"
        },
        "id": "Yd9qdpT0PkhL",
        "outputId": "be2c860d-0879-4fff-aa9b-032128a1ae76"
      },
      "execution_count": null,
      "outputs": [
        {
          "output_type": "stream",
          "name": "stdout",
          "text": [
            "    A   B   C   D  X\n",
            "a  17  12  13  10  1\n",
            "b  16  17  19  18  1\n",
            "c  19  16  10  19  0\n",
            "category\n",
            "a    1\n",
            "b    1\n",
            "c    0\n",
            "dtype: int8\n",
            "    A   B   C   D  X\n",
            "a  17  12  13  10  1\n",
            "b  16  17  19  18  1\n",
            "c  19  16  10  19  0\n",
            "               A          B          C          D         X\n",
            "count   3.000000   3.000000   3.000000   3.000000  3.000000\n",
            "mean   17.333333  15.000000  14.000000  15.666667  0.666667\n",
            "std     1.527525   2.645751   4.582576   4.932883  0.577350\n",
            "min    16.000000  12.000000  10.000000  10.000000  0.000000\n",
            "25%    16.500000  14.000000  11.500000  14.000000  0.500000\n",
            "50%    17.000000  16.000000  13.000000  18.000000  1.000000\n",
            "75%    18.000000  16.500000  16.000000  18.500000  1.000000\n",
            "max    19.000000  17.000000  19.000000  19.000000  1.000000\n"
          ]
        }
      ]
    },
    {
      "cell_type": "code",
      "source": [
        "df1 = pd.DataFrame(randint(10, 20, (3, 4)), index = list('abc'), columns = list('ABCD'))\n",
        "df1.insert(4, 'X', list('YNT'))\n",
        "print(df1)\n",
        "\n",
        "df1['X'] = df1['X'].astype('category').cat.codes\n",
        "print(df1)"
      ],
      "metadata": {
        "colab": {
          "base_uri": "https://localhost:8080/"
        },
        "id": "kKfCOMSCRaRY",
        "outputId": "e5c8bf67-be22-4811-f2ba-7d0ef4b2f476"
      },
      "execution_count": null,
      "outputs": [
        {
          "output_type": "stream",
          "name": "stdout",
          "text": [
            "    A   B   C   D  X\n",
            "a  16  19  18  10  Y\n",
            "b  17  11  18  18  N\n",
            "c  16  11  18  13  T\n",
            "    A   B   C   D  X\n",
            "a  16  19  18  10  2\n",
            "b  17  11  18  18  0\n",
            "c  16  11  18  13  1\n"
          ]
        }
      ]
    },
    {
      "cell_type": "markdown",
      "source": [
        "# Create Date type\n",
        "- **pd.date_range**\n",
        "  - **periods**: Number of elements\n",
        "  - **freq**: 'Y'=Year, 'M'=Month, 'D'=Day, 'S'=Second (Default = 'D')\n",
        "  - Using for **log history**"
      ],
      "metadata": {
        "id": "KDmxPFPHT0Rt"
      }
    },
    {
      "cell_type": "code",
      "source": [
        "dates = pd.date_range(\"20220404\",periods=6, freq='Y')\n",
        "print(dates)\n",
        "\n",
        "s1 = pd.Series(dates)\n",
        "print(s1)\n",
        "print(s1.dt.day)\n",
        "print(s1.dt.year)"
      ],
      "metadata": {
        "colab": {
          "base_uri": "https://localhost:8080/"
        },
        "id": "6-BWWCLHSrKL",
        "outputId": "68105a84-1c09-4bf1-c78c-3d3d8ff90a78"
      },
      "execution_count": null,
      "outputs": [
        {
          "output_type": "stream",
          "name": "stdout",
          "text": [
            "DatetimeIndex(['2022-12-31', '2023-12-31', '2024-12-31', '2025-12-31',\n",
            "               '2026-12-31', '2027-12-31'],\n",
            "              dtype='datetime64[ns]', freq='A-DEC')\n",
            "0   2022-12-31\n",
            "1   2023-12-31\n",
            "2   2024-12-31\n",
            "3   2025-12-31\n",
            "4   2026-12-31\n",
            "5   2027-12-31\n",
            "dtype: datetime64[ns]\n",
            "0    31\n",
            "1    31\n",
            "2    31\n",
            "3    31\n",
            "4    31\n",
            "5    31\n",
            "dtype: int64\n",
            "0    2022\n",
            "1    2023\n",
            "2    2024\n",
            "3    2025\n",
            "4    2026\n",
            "5    2027\n",
            "dtype: int64\n"
          ]
        }
      ]
    },
    {
      "cell_type": "markdown",
      "source": [
        "# Change elements to Multi-index"
      ],
      "metadata": {
        "id": "56jYJyu0fqC8"
      }
    },
    {
      "cell_type": "code",
      "source": [
        "df1 = pd.DataFrame({'month':[1,4,7,10], 'year':[2012, 2012, 2013, 2013], 'sale':[55, 40, 84, 31]})\n",
        "print(df1)\n",
        "\n",
        "x = df1.set_index(['year', 'month'])\n",
        "print(x)\n",
        "print(x.index)\n",
        "print(x.reset_index())"
      ],
      "metadata": {
        "colab": {
          "base_uri": "https://localhost:8080/"
        },
        "id": "VYVD9CcKfqcC",
        "outputId": "2c417c82-0906-43a4-dcd1-a219237f4060"
      },
      "execution_count": null,
      "outputs": [
        {
          "output_type": "stream",
          "name": "stdout",
          "text": [
            "   month  year  sale\n",
            "0      1  2012    55\n",
            "1      4  2012    40\n",
            "2      7  2013    84\n",
            "3     10  2013    31\n",
            "            sale\n",
            "year month      \n",
            "2012 1        55\n",
            "     4        40\n",
            "2013 7        84\n",
            "     10       31\n",
            "MultiIndex([(2012,  1),\n",
            "            (2012,  4),\n",
            "            (2013,  7),\n",
            "            (2013, 10)],\n",
            "           names=['year', 'month'])\n",
            "   year  month  sale\n",
            "0  2012      1    55\n",
            "1  2012      4    40\n",
            "2  2013      7    84\n",
            "3  2013     10    31\n"
          ]
        }
      ]
    },
    {
      "cell_type": "markdown",
      "source": [
        "# stack, unstack\n",
        "- **DF.stack**: Convert DataFrame to Series form"
      ],
      "metadata": {
        "id": "g_42EqDHh_Y8"
      }
    },
    {
      "cell_type": "code",
      "source": [
        "s1 = pd.Series([1,2,3], list('abc'))\n",
        "s2 = pd.Series([10,20,30], list('bac'))\n",
        "df1 = pd.DataFrame({'S1':s1, 'S2':s2})\n",
        "print(df1)\n",
        "\n",
        "df1 = df1.stack()\n",
        "print(df1)\n",
        "\n",
        "df1 = df1.unstack()\n",
        "print(df1)"
      ],
      "metadata": {
        "colab": {
          "base_uri": "https://localhost:8080/"
        },
        "id": "rj02iH1rhsEK",
        "outputId": "0c6a121e-d398-4229-8daf-458578a28412"
      },
      "execution_count": null,
      "outputs": [
        {
          "output_type": "stream",
          "name": "stdout",
          "text": [
            "   S1  S2\n",
            "a   1  20\n",
            "b   2  10\n",
            "c   3  30\n",
            "a  S1     1\n",
            "   S2    20\n",
            "b  S1     2\n",
            "   S2    10\n",
            "c  S1     3\n",
            "   S2    30\n",
            "dtype: int64\n",
            "   S1  S2\n",
            "a   1  20\n",
            "b   2  10\n",
            "c   3  30\n"
          ]
        }
      ]
    },
    {
      "cell_type": "code",
      "source": [
        "pd_data = pd.read_csv('/content/drive/MyDrive/인공지능 학습/Project/iris.data', header = None)\n",
        "print(pd_data)\n",
        "print(pd_data.describe())"
      ],
      "metadata": {
        "colab": {
          "base_uri": "https://localhost:8080/"
        },
        "id": "GXBAb0EOTrAJ",
        "outputId": "3b8be12a-7a2f-4563-a86b-3191a5b0ae39"
      },
      "execution_count": null,
      "outputs": [
        {
          "output_type": "stream",
          "name": "stdout",
          "text": [
            "       0    1    2    3               4\n",
            "0    5.1  3.5  1.4  0.2     Iris-setosa\n",
            "1    4.9  3.0  1.4  0.2     Iris-setosa\n",
            "2    4.7  3.2  1.3  0.2     Iris-setosa\n",
            "3    4.6  3.1  1.5  0.2     Iris-setosa\n",
            "4    5.0  3.6  1.4  0.2     Iris-setosa\n",
            "..   ...  ...  ...  ...             ...\n",
            "145  6.7  3.0  5.2  2.3  Iris-virginica\n",
            "146  6.3  2.5  5.0  1.9  Iris-virginica\n",
            "147  6.5  3.0  5.2  2.0  Iris-virginica\n",
            "148  6.2  3.4  5.4  2.3  Iris-virginica\n",
            "149  5.9  3.0  5.1  1.8  Iris-virginica\n",
            "\n",
            "[150 rows x 5 columns]\n",
            "                0           1           2           3\n",
            "count  150.000000  150.000000  150.000000  150.000000\n",
            "mean     5.843333    3.054000    3.758667    1.198667\n",
            "std      0.828066    0.433594    1.764420    0.763161\n",
            "min      4.300000    2.000000    1.000000    0.100000\n",
            "25%      5.100000    2.800000    1.600000    0.300000\n",
            "50%      5.800000    3.000000    4.350000    1.300000\n",
            "75%      6.400000    3.300000    5.100000    1.800000\n",
            "max      7.900000    4.400000    6.900000    2.500000\n"
          ]
        }
      ]
    },
    {
      "cell_type": "code",
      "source": [
        "pd_data[4] = pd_data[4].astype('category').cat.codes\n",
        "# ['Iris-setosa', 'Iris-versicolor', 'Iris-virginica']\n",
        "print(pd_data)\n",
        "print(pd_data.corr()) # Co-relation"
      ],
      "metadata": {
        "colab": {
          "base_uri": "https://localhost:8080/"
        },
        "id": "WH7vbo21WNu2",
        "outputId": "ab39182a-c350-4ac9-f956-010272306400"
      },
      "execution_count": null,
      "outputs": [
        {
          "output_type": "stream",
          "name": "stdout",
          "text": [
            "       0    1    2    3  4\n",
            "0    5.1  3.5  1.4  0.2  0\n",
            "1    4.9  3.0  1.4  0.2  0\n",
            "2    4.7  3.2  1.3  0.2  0\n",
            "3    4.6  3.1  1.5  0.2  0\n",
            "4    5.0  3.6  1.4  0.2  0\n",
            "..   ...  ...  ...  ... ..\n",
            "145  6.7  3.0  5.2  2.3  2\n",
            "146  6.3  2.5  5.0  1.9  2\n",
            "147  6.5  3.0  5.2  2.0  2\n",
            "148  6.2  3.4  5.4  2.3  2\n",
            "149  5.9  3.0  5.1  1.8  2\n",
            "\n",
            "[150 rows x 5 columns]\n",
            "          0         1         2         3         4\n",
            "0  1.000000 -0.109369  0.871754  0.817954  0.782561\n",
            "1 -0.109369  1.000000 -0.420516 -0.356544 -0.419446\n",
            "2  0.871754 -0.420516  1.000000  0.962757  0.949043\n",
            "3  0.817954 -0.356544  0.962757  1.000000  0.956464\n",
            "4  0.782561 -0.419446  0.949043  0.956464  1.000000\n"
          ]
        }
      ]
    },
    {
      "cell_type": "markdown",
      "source": [
        "# 전국횡단보도 중 몇 퍼센트가 점자블록이 있는가?"
      ],
      "metadata": {
        "id": "8lyUFCGeZAJA"
      }
    },
    {
      "cell_type": "code",
      "source": [
        "pd_data = pd.read_csv('/content/drive/MyDrive/인공지능 학습/Project/전국횡단보도표준데이터.csv', encoding = 'utf8', header = [0])\n",
        "print(pd_data.index)\n",
        "print(pd_data.columns) \n",
        "\n",
        "print(pd_data.describe())\n",
        "#print(pd_data[pd_data['점자블록유무'] == 'n'])"
      ],
      "metadata": {
        "colab": {
          "base_uri": "https://localhost:8080/"
        },
        "id": "3NZC5PQ7Wh2a",
        "outputId": "f4b60d2f-75c2-4693-e547-328de5637b94"
      },
      "execution_count": null,
      "outputs": [
        {
          "output_type": "stream",
          "name": "stdout",
          "text": [
            "RangeIndex(start=0, stop=26654, step=1)\n",
            "Index(['시도명', '시군구명', '도로명', '소재지도로명주소', '소재지지번주소', '횡단보도관리번호', '횡단보도종류',\n",
            "       '자전거횡단도겸용여부', '고원식적용여부', '위도', '경도', '차로수', '횡단보도폭', '횡단보도연장',\n",
            "       '보행자신호등유무', '보행자작동신호기유무', '음향신호기설치여부', '녹색신호시간', '적색신호시간', '교통섬유무',\n",
            "       '보도턱낮춤여부', '점자블록유무', '집중조명시설유무', '관리기관명', '관리기관전화번호', '데이터기준일자',\n",
            "       '제공기관코드', '제공기관명'],\n",
            "      dtype='object')\n",
            "             횡단보도종류            위도            경도           차로수         횡단보도폭  \\\n",
            "count  26654.000000  26654.000000  26653.000000  26654.000000  26654.000000   \n",
            "mean       1.860734     36.476869    127.418856      3.228784      5.556767   \n",
            "std        7.432648      0.967390      0.803071      1.972848      5.739736   \n",
            "min        1.000000     34.404489    126.124532      0.000000      0.000000   \n",
            "25%        1.000000     35.681591    126.872920      2.000000      4.000000   \n",
            "50%        1.000000     36.788215    127.100245      2.000000      5.810000   \n",
            "75%        1.000000     37.295291    127.657536      4.000000      6.500000   \n",
            "max       99.000000     37.972252    129.416923     15.000000    839.000000   \n",
            "\n",
            "             횡단보도연장       녹색신호시간       적색신호시간        제공기관코드  \n",
            "count  26654.000000  4551.000000  3167.000000  2.665400e+04  \n",
            "mean      12.300139    16.788178    76.030849  4.468078e+06  \n",
            "std        7.646358    13.180453   399.425037  5.920616e+05  \n",
            "min        0.000000     0.000000     0.000000  3.530000e+06  \n",
            "25%        6.780000     0.000000     0.000000  3.900000e+06  \n",
            "50%       10.000000    20.000000    55.000000  4.490000e+06  \n",
            "75%       16.000000    25.000000   120.000000  4.820000e+06  \n",
            "max      118.000000   115.000000  9999.000000  5.690000e+06  \n",
            "        시도명 시군구명  도로명 소재지도로명주소                 소재지지번주소 횡단보도관리번호  횡단보도종류  \\\n",
            "794    전라남도  무안군  승달로      NaN   전라남도 무안군 무안읍 교촌리 70-3        1       1   \n",
            "795    전라남도  무안군  승달로      NaN   전라남도 무안군 무안읍 교촌리 70-3        1       1   \n",
            "796    전라남도  무안군  승달로      NaN   전라남도 무안군 무안읍 교촌리 82-6        1       1   \n",
            "797    전라남도  무안군  승달로      NaN   전라남도 무안군 무안읍 교촌리 1050        1       1   \n",
            "798    전라남도  무안군  승달로      NaN  전라남도 무안군 무안읍 교촌리 117-9        1       1   \n",
            "...     ...  ...  ...      ...                     ...      ...     ...   \n",
            "9403   전라남도  무안군  승달로      NaN   전라남도 무안군 무안읍 교촌리 70-3        1       1   \n",
            "10896  전라남도  무안군  하마로      NaN  전라남도 무안군 무안읍 성남리 123-3        1       1   \n",
            "10925  전라남도  무안군  하마로      NaN  전라남도 무안군 무안읍 성남리 318-4        1       1   \n",
            "10983  전라남도  무안군  하마로      NaN  전라남도 무안군 무안읍 성남리 309-1        1       1   \n",
            "11218  전라남도  무안군  성안길      NaN    전라남도 무안군 무안읍 성내리 357        1       1   \n",
            "\n",
            "      자전거횡단도겸용여부 고원식적용여부         위도  ...  적색신호시간  교통섬유무  보도턱낮춤여부  점자블록유무  \\\n",
            "794                    n  34.992105  ...     NaN      n        y       n   \n",
            "795                    n  34.990995  ...     NaN      n        y       n   \n",
            "796                    n  34.990755  ...     NaN      n        y       n   \n",
            "797                    n  34.990212  ...     NaN      n        y       n   \n",
            "798                    n  34.989362  ...     NaN      n        y       n   \n",
            "...          ...     ...        ...  ...     ...    ...      ...     ...   \n",
            "9403                   n  34.992105  ...     NaN      n        y       n   \n",
            "10896                  n  34.984871  ...     NaN      n        y       n   \n",
            "10925                  n  34.984311  ...     NaN      n        y       n   \n",
            "10983                  n  34.983745  ...     NaN      n        y       n   \n",
            "11218                  n  34.990668  ...     NaN      n        y       n   \n",
            "\n",
            "      집중조명시설유무 관리기관명      관리기관전화번호     데이터기준일자   제공기관코드     제공기관명  \n",
            "794          n  무안군청  061-450-5665  2021-08-27  4950000  전라남도 무안군  \n",
            "795          n  무안군청  061-450-5665  2021-08-27  4950000  전라남도 무안군  \n",
            "796          n  무안군청  061-450-5665  2021-08-27  4950000  전라남도 무안군  \n",
            "797          n  무안군청  061-450-5665  2021-08-27  4950000  전라남도 무안군  \n",
            "798          n  무안군청  061-450-5665  2021-08-27  4950000  전라남도 무안군  \n",
            "...        ...   ...           ...         ...      ...       ...  \n",
            "9403         n  무안군청  061-450-5665  2021-08-27  4950000  전라남도 무안군  \n",
            "10896        n  무안군청  061-450-5665  2021-08-27  4950000  전라남도 무안군  \n",
            "10925        n  무안군청  061-450-5665  2021-08-27  4950000  전라남도 무안군  \n",
            "10983        n  무안군청  061-450-5665  2021-08-27  4950000  전라남도 무안군  \n",
            "11218        n  무안군청  061-450-5665  2021-08-27  4950000  전라남도 무안군  \n",
            "\n",
            "[113 rows x 28 columns]\n"
          ]
        }
      ]
    },
    {
      "cell_type": "code",
      "source": [
        "pd_data_dot = pd_data.loc[:, ['시도명', '시군구명', '도로명', '점자블록유무']]\n",
        "print(pd_data_dot['점자블록유무'].hasnans) # 결측치 없음\n",
        "pd_data_dot['점자블록유무'] = pd_data_dot['점자블록유무'].replace({'n':'N'})           # 'n'을 'N'으로 통일\n",
        "print(pd_data_dot['점자블록유무'].astype('category'))\n",
        "pd_data_dot['점자블록유무'] = pd_data_dot['점자블록유무'].astype('category').cat.codes # 'Y', 'N'을 수로 표현\n",
        "print(pd_data_dot)\n",
        "print(pd_data_dot.describe()) # mean -> 0.705785 ~= 70.6%\n",
        "d1 = pd.value_counts(pd_data_dot['점자블록유무'])\n",
        "print('-'*30)\n",
        "print('점자블록유무 비율 (%)')\n",
        "print(d1*100/d1.sum())"
      ],
      "metadata": {
        "colab": {
          "base_uri": "https://localhost:8080/"
        },
        "id": "Q1le4YaXZgW8",
        "outputId": "79b08460-9c0e-43b6-9cae-fc8b88d57435"
      },
      "execution_count": null,
      "outputs": [
        {
          "output_type": "stream",
          "name": "stdout",
          "text": [
            "False\n",
            "0        Y\n",
            "1        Y\n",
            "2        Y\n",
            "3        Y\n",
            "4        Y\n",
            "        ..\n",
            "26649    Y\n",
            "26650    Y\n",
            "26651    Y\n",
            "26652    Y\n",
            "26653    N\n",
            "Name: 점자블록유무, Length: 26654, dtype: category\n",
            "Categories (2, object): ['N', 'Y']\n",
            "         시도명 시군구명        도로명  점자블록유무\n",
            "0       전라남도  순천시       왕지4길       1\n",
            "1       전라남도  순천시        지봉로       1\n",
            "2       전라남도  순천시        지봉로       1\n",
            "3       전라남도  순천시       왕지4길       1\n",
            "4       전라남도  순천시       왕지4길       1\n",
            "...      ...  ...        ...     ...\n",
            "26649  인천광역시  남동구  인주대로849번길       1\n",
            "26650  인천광역시  남동구       장승남로       1\n",
            "26651  인천광역시  남동구   석정로497번길       1\n",
            "26652  인천광역시  남동구  소래역남로16번길       1\n",
            "26653  인천광역시  남동구  앵고개로851번길       0\n",
            "\n",
            "[26654 rows x 4 columns]\n",
            "             점자블록유무\n",
            "count  26654.000000\n",
            "mean       0.705785\n",
            "std        0.455698\n",
            "min        0.000000\n",
            "25%        0.000000\n",
            "50%        1.000000\n",
            "75%        1.000000\n",
            "max        1.000000\n",
            "------------------------------\n",
            "점자블록유무 비율 (%)\n",
            "1    70.578525\n",
            "0    29.421475\n",
            "Name: 점자블록유무, dtype: float64\n"
          ]
        }
      ]
    },
    {
      "cell_type": "markdown",
      "source": [
        "# 데이터기준일자에서 년도 출력"
      ],
      "metadata": {
        "id": "GMpcQAtii0NL"
      }
    },
    {
      "cell_type": "code",
      "source": [
        "pd_data['데이터기준일자'] = pd.to_datetime(pd_data['데이터기준일자'])\n",
        "print(pd_data['데이터기준일자'].dtype)\n",
        "print(pd_data['데이터기준일자'].dt.year)"
      ],
      "metadata": {
        "colab": {
          "base_uri": "https://localhost:8080/"
        },
        "id": "DVNI5yKmbDJ-",
        "outputId": "2ea6b9a0-bf91-4a26-d8b4-9219d608d32e"
      },
      "execution_count": null,
      "outputs": [
        {
          "output_type": "stream",
          "name": "stdout",
          "text": [
            "datetime64[ns]\n",
            "0        2021\n",
            "1        2021\n",
            "2        2021\n",
            "3        2021\n",
            "4        2021\n",
            "         ... \n",
            "26649    2022\n",
            "26650    2022\n",
            "26651    2022\n",
            "26652    2022\n",
            "26653    2022\n",
            "Name: 데이터기준일자, Length: 26654, dtype: int64\n"
          ]
        }
      ]
    },
    {
      "cell_type": "code",
      "source": [
        "pd_data1 = pd_data.set_index(['시도명', '시군구명'])\n",
        "print(pd_data1.head(5))\n",
        "print(pd_data1.index)"
      ],
      "metadata": {
        "colab": {
          "base_uri": "https://localhost:8080/"
        },
        "id": "U7_Q48PqjDnh",
        "outputId": "6024399f-5e68-46de-b9f3-04a35e1bea8d"
      },
      "execution_count": null,
      "outputs": [
        {
          "output_type": "stream",
          "name": "stdout",
          "text": [
            "            도로명            소재지도로명주소 소재지지번주소 횡단보도관리번호  횡단보도종류 자전거횡단도겸용여부  \\\n",
            "시도명  시군구명                                                                 \n",
            "전라남도 순천시   왕지4길     전라남도 순천시 왕지4길 6     NaN    S0423       1              \n",
            "     순천시    지봉로    전라남도 순천시 지봉로 629     NaN    S0424       1              \n",
            "     순천시    지봉로  전라남도 순천시 조례동 237-2     NaN    S0425       1              \n",
            "     순천시   왕지4길  전라남도 순천시 왕지4길 9-22     NaN    S0426       1              \n",
            "     순천시   왕지4길  전라남도 순천시 왕지4길 3-24     NaN    S0427       1              \n",
            "\n",
            "          고원식적용여부         위도          경도  차로수  ...  적색신호시간  교통섬유무 보도턱낮춤여부  \\\n",
            "시도명  시군구명                                      ...                          \n",
            "전라남도 순천시        N  34.969218  127.525435    2  ...     NaN      N       Y   \n",
            "     순천시        N  34.968840  127.526797    2  ...     NaN      N       Y   \n",
            "     순천시        N  34.967889  127.527737    5  ...     NaN      N       Y   \n",
            "     순천시        N  34.968536  127.526836    2  ...     NaN      N       Y   \n",
            "     순천시        N  34.968849  127.526442    2  ...     NaN      N       Y   \n",
            "\n",
            "          점자블록유무 집중조명시설유무      관리기관명      관리기관전화번호    데이터기준일자   제공기관코드  \\\n",
            "시도명  시군구명                                                                \n",
            "전라남도 순천시       Y           전라남도 순천시청  061-749-5919 2021-12-15  4820000   \n",
            "     순천시       Y           전라남도 순천시청  061-749-5919 2021-12-15  4820000   \n",
            "     순천시       Y           전라남도 순천시청  061-749-5919 2021-12-15  4820000   \n",
            "     순천시       Y           전라남도 순천시청  061-749-5919 2021-12-15  4820000   \n",
            "     순천시       Y           전라남도 순천시청  061-749-5919 2021-12-15  4820000   \n",
            "\n",
            "              제공기관명  \n",
            "시도명  시군구명            \n",
            "전라남도 순천시   전라남도 순천시  \n",
            "     순천시   전라남도 순천시  \n",
            "     순천시   전라남도 순천시  \n",
            "     순천시   전라남도 순천시  \n",
            "     순천시   전라남도 순천시  \n",
            "\n",
            "[5 rows x 26 columns]\n",
            "MultiIndex([( '전라남도', '순천시'),\n",
            "            ( '전라남도', '순천시'),\n",
            "            ( '전라남도', '순천시'),\n",
            "            ( '전라남도', '순천시'),\n",
            "            ( '전라남도', '순천시'),\n",
            "            ( '전라남도', '순천시'),\n",
            "            ( '전라남도', '순천시'),\n",
            "            ( '전라남도', '순천시'),\n",
            "            ( '전라남도', '순천시'),\n",
            "            ( '전라남도', '순천시'),\n",
            "            ...\n",
            "            ('인천광역시', '남동구'),\n",
            "            ('인천광역시', '남동구'),\n",
            "            ('인천광역시', '남동구'),\n",
            "            ('인천광역시', '남동구'),\n",
            "            ('인천광역시', '남동구'),\n",
            "            ('인천광역시', '남동구'),\n",
            "            ('인천광역시', '남동구'),\n",
            "            ('인천광역시', '남동구'),\n",
            "            ('인천광역시', '남동구'),\n",
            "            ('인천광역시', '남동구')],\n",
            "           names=['시도명', '시군구명'], length=26654)\n"
          ]
        }
      ]
    },
    {
      "cell_type": "markdown",
      "source": [
        "# 횡단보도 종류별 수\n",
        "- 01: 일반형 -> 23595\n",
        "- 02: 대각선 -> 228\n",
        "- 03: 스테거드 -> 314\n",
        "- 04: 도류화 -> 2364\n",
        "- 99: 기타 -> 153"
      ],
      "metadata": {
        "id": "DTzZ2mWblPfF"
      }
    },
    {
      "cell_type": "code",
      "source": [
        "print(pd.value_counts(pd_data['횡단보도종류']))"
      ],
      "metadata": {
        "colab": {
          "base_uri": "https://localhost:8080/"
        },
        "id": "JxStScIOjmtS",
        "outputId": "8faf020a-9db1-4572-8f59-c0d55ddd75a8"
      },
      "execution_count": null,
      "outputs": [
        {
          "output_type": "stream",
          "name": "stdout",
          "text": [
            "1     23595\n",
            "4      2364\n",
            "3       314\n",
            "2       228\n",
            "99      153\n",
            "Name: 횡단보도종류, dtype: int64\n"
          ]
        }
      ]
    },
    {
      "cell_type": "markdown",
      "source": [
        "# 차로수에 따른 평균 횡단보도연장\n",
        "- 차로수에 대한 평균 횡단보도연장 (길이) = 4.25m\n",
        "- Outlayer발견\n",
        "경기도 파주시 문산읍 당동1로 47  경기도 파주시 문산읍 당동리 941-1 차로수가 0이나, 횡단보도연장이 22m, 23m로 표기되어 있음"
      ],
      "metadata": {
        "id": "vlQu12Nglv8e"
      }
    },
    {
      "cell_type": "code",
      "source": [
        "x = pd_data['횡단보도연장'] / pd_data['차로수']\n",
        "print(x[x < 50].mean())\n",
        "print(x)\n",
        "\n",
        "print(pd_data.loc[15640:15641, ['차로수', '횡단보도연장']]) # Outlayer\n",
        "print(pd_data.loc[15640:15641,:])"
      ],
      "metadata": {
        "colab": {
          "base_uri": "https://localhost:8080/"
        },
        "id": "htqK0CRnlf06",
        "outputId": "eb25d96a-be0a-4e2b-f193-b4aed77373c7"
      },
      "execution_count": null,
      "outputs": [
        {
          "output_type": "stream",
          "name": "stdout",
          "text": [
            "4.248013134536162\n",
            "0         3.5\n",
            "1         5.5\n",
            "2         3.0\n",
            "3         4.0\n",
            "4         4.5\n",
            "         ... \n",
            "26649    11.0\n",
            "26650    14.0\n",
            "26651    11.0\n",
            "26652     5.0\n",
            "26653     3.0\n",
            "Length: 26654, dtype: float64\n",
            "       차로수  횡단보도연장\n",
            "15640    0    22.0\n",
            "15641    0    23.0\n",
            "       시도명 시군구명   도로명             소재지도로명주소                소재지지번주소 횡단보도관리번호  \\\n",
            "15640  경기도  파주시  당동1로  경기도 파주시 문산읍 당동1로 47  경기도 파주시 문산읍 당동리 941-1       10   \n",
            "15641  경기도  파주시  당동1로  경기도 파주시 문산읍 당동1로 47  경기도 파주시 문산읍 당동리 941-1       11   \n",
            "\n",
            "       횡단보도종류 자전거횡단도겸용여부 고원식적용여부         위도  ...  적색신호시간  교통섬유무  보도턱낮춤여부  \\\n",
            "15640       1          N       N  37.863835  ...    97.0      N        N   \n",
            "15641       1          N       N  37.863835  ...    97.0      N        N   \n",
            "\n",
            "       점자블록유무 집중조명시설유무 관리기관명      관리기관전화번호    데이터기준일자   제공기관코드    제공기관명  \n",
            "15640       Y        N  파주시청  031-940-5791 2021-10-13  4060000  경기도 파주시  \n",
            "15641       N        N  파주시청  031-940-5791 2021-10-13  4060000  경기도 파주시  \n",
            "\n",
            "[2 rows x 28 columns]\n"
          ]
        }
      ]
    },
    {
      "cell_type": "code",
      "source": [
        ""
      ],
      "metadata": {
        "id": "MrM4VIYNmHHb"
      },
      "execution_count": null,
      "outputs": []
    }
  ]
}