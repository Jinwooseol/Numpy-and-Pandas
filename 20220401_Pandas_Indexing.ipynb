{
  "nbformat": 4,
  "nbformat_minor": 0,
  "metadata": {
    "colab": {
      "name": "20220401_Pandas Indexing.ipynb",
      "provenance": [],
      "collapsed_sections": [],
      "authorship_tag": "ABX9TyMbHAZOmit1D43lmKvm/KI6",
      "include_colab_link": true
    },
    "kernelspec": {
      "name": "python3",
      "display_name": "Python 3"
    },
    "language_info": {
      "name": "python"
    }
  },
  "cells": [
    {
      "cell_type": "markdown",
      "metadata": {
        "id": "view-in-github",
        "colab_type": "text"
      },
      "source": [
        "<a href=\"https://colab.research.google.com/github/Jinwooseol/Numpy-and-Pandas/blob/main/20220401_Pandas_Indexing.ipynb\" target=\"_parent\"><img src=\"https://colab.research.google.com/assets/colab-badge.svg\" alt=\"Open In Colab\"/></a>"
      ]
    },
    {
      "cell_type": "code",
      "execution_count": null,
      "metadata": {
        "id": "fcNFjYk4lLRY"
      },
      "outputs": [],
      "source": [
        "import pandas as pd\n",
        "import numpy as np\n",
        "\n",
        "from numpy.random import randint  # random integers"
      ]
    },
    {
      "cell_type": "markdown",
      "source": [
        "# Select row, column, element, subtable\n",
        "- **DF.loc**: Get subtable using label and str  \n",
        "- **DF.iloc**: Get subtable using integer and number"
      ],
      "metadata": {
        "id": "_PCQyNPyniBK"
      }
    },
    {
      "cell_type": "code",
      "source": [
        "df1 = pd.DataFrame(randint(10, 100, (6,4)))\n",
        "print(df1)\n",
        "print('-'*20)\n",
        "\n",
        "# select row\n",
        "print(df1[2:3])  # Use range\n",
        "print(df1.loc[2:2,])\n",
        "print('-'*20)\n",
        "\n",
        "# select column\n",
        "print(df1[2])    # Use list or integer\n",
        "print(df1[[1,3]])\n",
        "print(df1.loc[:,[1, 3]])\n",
        "print(df1.iloc[:,[1, 3]])\n",
        "print('-'*20)\n",
        "\n",
        "# select element\n",
        "print(df1[1][2])  # [column][row]\n",
        "print(df1.loc[2, 3]) # [row, column]\n",
        "print('-'*20)\n",
        "\n",
        "# select subtable\n",
        "print(df1.loc[1:3, 1:2])  # conclude end number \n",
        "print('-'*20)\n",
        "\n",
        "# select by bool list\n",
        "print(df1>50)\n",
        "x = df1 > 50\n",
        "print(df1[x])\n",
        "\n",
        "print(df1.loc[x[0], x[1]])\n",
        "print(df1.loc[x[0], x[2]])"
      ],
      "metadata": {
        "colab": {
          "base_uri": "https://localhost:8080/"
        },
        "id": "O3IJkbHAm75G",
        "outputId": "dfe6dc98-54a7-42d4-8336-2c8351c3174d"
      },
      "execution_count": null,
      "outputs": [
        {
          "output_type": "stream",
          "name": "stdout",
          "text": [
            "    0   1   2   3\n",
            "0  92  83  94  13\n",
            "1  51  66  44  61\n",
            "2  44  72  25  69\n",
            "3  19  23  48  95\n",
            "4  38  19  19  75\n",
            "5  88  41  20  37\n",
            "--------------------\n",
            "    0   1   2   3\n",
            "2  44  72  25  69\n",
            "    0   1   2   3\n",
            "2  44  72  25  69\n",
            "--------------------\n",
            "0    94\n",
            "1    44\n",
            "2    25\n",
            "3    48\n",
            "4    19\n",
            "5    20\n",
            "Name: 2, dtype: int64\n",
            "    1   3\n",
            "0  83  13\n",
            "1  66  61\n",
            "2  72  69\n",
            "3  23  95\n",
            "4  19  75\n",
            "5  41  37\n",
            "    1   3\n",
            "0  83  13\n",
            "1  66  61\n",
            "2  72  69\n",
            "3  23  95\n",
            "4  19  75\n",
            "5  41  37\n",
            "    1   3\n",
            "0  83  13\n",
            "1  66  61\n",
            "2  72  69\n",
            "3  23  95\n",
            "4  19  75\n",
            "5  41  37\n",
            "--------------------\n",
            "72\n",
            "69\n",
            "--------------------\n",
            "    1   2\n",
            "1  66  44\n",
            "2  72  25\n",
            "3  23  48\n",
            "--------------------\n",
            "       0      1      2      3\n",
            "0   True   True   True  False\n",
            "1   True   True  False   True\n",
            "2  False   True  False   True\n",
            "3  False  False  False   True\n",
            "4  False  False  False   True\n",
            "5   True  False  False  False\n",
            "      0     1     2     3\n",
            "0  92.0  83.0  94.0   NaN\n",
            "1  51.0  66.0   NaN  61.0\n",
            "2   NaN  72.0   NaN  69.0\n",
            "3   NaN   NaN   NaN  95.0\n",
            "4   NaN   NaN   NaN  75.0\n",
            "5  88.0   NaN   NaN   NaN\n",
            "    0   1   2\n",
            "0  92  83  94\n",
            "1  51  66  44\n",
            "5  88  41  20\n",
            "    0\n",
            "0  92\n",
            "1  51\n",
            "5  88\n"
          ]
        }
      ]
    },
    {
      "cell_type": "markdown",
      "source": [
        "# Difference between DF.loc and DF.iloc\n",
        "- **DF.loc** conclude the end line of range (label, str)\n",
        "- **DF.iloc** does not conclude the end line of range (index, number)\n"
      ],
      "metadata": {
        "id": "ORAam7QaqVra"
      }
    },
    {
      "cell_type": "code",
      "source": [
        "df1 = pd.DataFrame(randint(10, 100, (6,4)), index = list('abcdef'), columns = list('ABCD'))\n",
        "print(df1)\n",
        "print('-'*20)\n",
        "print(df1.loc['a':'c', 'A':'C'])\n",
        "print('-'*20)\n",
        "print(df1.iloc[1:3, 1:3])"
      ],
      "metadata": {
        "colab": {
          "base_uri": "https://localhost:8080/"
        },
        "id": "AkPBZ4pEnCAy",
        "outputId": "db6fa1d5-f04c-433b-c2cf-638299f2954d"
      },
      "execution_count": null,
      "outputs": [
        {
          "output_type": "stream",
          "name": "stdout",
          "text": [
            "    A   B   C   D\n",
            "a  15  48  27  68\n",
            "b  73  44  70  19\n",
            "c  38  67  86  19\n",
            "d  86  93  69  81\n",
            "e  12  90  56  74\n",
            "f  98  14  97  18\n",
            "--------------------\n",
            "    A   B   C\n",
            "a  15  48  27\n",
            "b  73  44  70\n",
            "c  38  67  86\n",
            "--------------------\n",
            "    B   C\n",
            "b  44  70\n",
            "c  67  86\n"
          ]
        }
      ]
    },
    {
      "cell_type": "markdown",
      "source": [
        "**DF.at**: Indexing using label and str  \n",
        "**DF.iat**: Indexing using integer and number"
      ],
      "metadata": {
        "id": "HyuVYOMttu8e"
      }
    },
    {
      "cell_type": "code",
      "source": [
        "df2 = pd.DataFrame(np.arange(1, 25).reshape(6,-1), columns=list('ABCD'))\n",
        "print(df2)\n",
        "print(df2.iat[1,2])\n",
        "print(df2.at[1, 'C'])"
      ],
      "metadata": {
        "colab": {
          "base_uri": "https://localhost:8080/"
        },
        "id": "cRXsrFDFqcQr",
        "outputId": "c1980f77-827a-4eb5-a6c6-6b7383164b80"
      },
      "execution_count": null,
      "outputs": [
        {
          "output_type": "stream",
          "name": "stdout",
          "text": [
            "    A   B   C   D\n",
            "0   1   2   3   4\n",
            "1   5   6   7   8\n",
            "2   9  10  11  12\n",
            "3  13  14  15  16\n",
            "4  17  18  19  20\n",
            "5  21  22  23  24\n",
            "7\n",
            "7\n"
          ]
        }
      ]
    },
    {
      "cell_type": "markdown",
      "source": [
        "['S1',$~$'S2',$~$'S3',$~$'S4']  \n",
        "-> ['S' + str(i)$~$for i in range(1, 5)]"
      ],
      "metadata": {
        "id": "nrH5rl7mv3RW"
      }
    },
    {
      "cell_type": "code",
      "source": [
        "# with label\n",
        "df1 = pd.DataFrame(randint(10, 100, (6, 4)), index = list('abcdef'), columns=['S' + str(i) for i in range(1, 5)])\n",
        "print(df1)\n"
      ],
      "metadata": {
        "colab": {
          "base_uri": "https://localhost:8080/"
        },
        "id": "vOe31A0fs2-1",
        "outputId": "b2fb780c-1450-48b5-86a0-f27d3d23dadb"
      },
      "execution_count": null,
      "outputs": [
        {
          "output_type": "stream",
          "name": "stdout",
          "text": [
            "   S1  S2  S3  S4\n",
            "a  20  39  34  23\n",
            "b  70  10  94  78\n",
            "c  26  87  89  14\n",
            "d  53  24  70  66\n",
            "e  42  86  27  91\n",
            "f  40  53  49  46\n"
          ]
        }
      ]
    },
    {
      "cell_type": "markdown",
      "source": [
        "# Select Row"
      ],
      "metadata": {
        "id": "UwlOipIq0ava"
      }
    },
    {
      "cell_type": "code",
      "source": [
        "df1 = pd.DataFrame(randint(10, 100, (6, 4)), index = list('abcdef'), columns=['S' + str(i) for i in range(1, 5)])\n",
        "print(df1)\n",
        "print('-'*20)\n",
        "\n",
        "print(df1[2:])\n",
        "print('-'*20)\n",
        "\n",
        "print(df1.loc['b'])\n",
        "print('-'*20)\n",
        "\n",
        "print(df1.loc['b':'e'])\n",
        "print('-'*20)\n",
        "\n",
        "print(df1.iloc[2])\n",
        "print('-'*20)\n",
        "\n",
        "print(df1.iloc[2:5])"
      ],
      "metadata": {
        "colab": {
          "base_uri": "https://localhost:8080/"
        },
        "id": "b7S9reIUvwue",
        "outputId": "62385a26-d59b-4d5f-d734-95282e80f604"
      },
      "execution_count": null,
      "outputs": [
        {
          "output_type": "stream",
          "name": "stdout",
          "text": [
            "   S1  S2  S3  S4\n",
            "a  69  47  72  83\n",
            "b  31  82  89  65\n",
            "c  13  64  92  68\n",
            "d  54  32  74  46\n",
            "e  67  77  90  51\n",
            "f  97  79  92  91\n",
            "--------------------\n",
            "   S1  S2  S3  S4\n",
            "c  13  64  92  68\n",
            "d  54  32  74  46\n",
            "e  67  77  90  51\n",
            "f  97  79  92  91\n",
            "--------------------\n",
            "S1    31\n",
            "S2    82\n",
            "S3    89\n",
            "S4    65\n",
            "Name: b, dtype: int64\n",
            "--------------------\n",
            "   S1  S2  S3  S4\n",
            "b  31  82  89  65\n",
            "c  13  64  92  68\n",
            "d  54  32  74  46\n",
            "e  67  77  90  51\n",
            "--------------------\n",
            "S1    13\n",
            "S2    64\n",
            "S3    92\n",
            "S4    68\n",
            "Name: c, dtype: int64\n",
            "--------------------\n",
            "   S1  S2  S3  S4\n",
            "c  13  64  92  68\n",
            "d  54  32  74  46\n",
            "e  67  77  90  51\n"
          ]
        }
      ]
    },
    {
      "cell_type": "markdown",
      "source": [
        "# Select column"
      ],
      "metadata": {
        "id": "HbUuGvQF0kUY"
      }
    },
    {
      "cell_type": "code",
      "source": [
        "df1 = pd.DataFrame(randint(10, 100, (6, 4)), index = list('abcdef'), columns=['S' + str(i) for i in range(1, 5)])\n",
        "print(df1)\n",
        "print('-'*20)\n",
        "\n",
        "print(df1['S2'])\n",
        "print('-'*20)\n",
        "\n",
        "print(df1[['S1', 'S3']]) # Using list\n",
        "print('-'*20)\n",
        "\n",
        "print(df1.loc[:,'S2'])\n",
        "print('-'*20)\n",
        "\n",
        "print(df1.loc[:,'S2':'S4'])\n",
        "print('-'*20)\n",
        "\n",
        "print(df1.iloc[:,2])   # Select 'S3' column\n",
        "print('-'*20)\n",
        "\n",
        "print(df1.iloc[:,2:4]) # Select 'S3', 'S4' columns\n",
        "print('-'*20)"
      ],
      "metadata": {
        "colab": {
          "base_uri": "https://localhost:8080/"
        },
        "id": "dU0MS1L1zPff",
        "outputId": "1a08d945-e78c-4cff-a232-e3affd03c106"
      },
      "execution_count": null,
      "outputs": [
        {
          "output_type": "stream",
          "name": "stdout",
          "text": [
            "   S1  S2  S3  S4\n",
            "a  20  39  34  23\n",
            "b  70  10  94  78\n",
            "c  26  87  89  14\n",
            "d  53  24  70  66\n",
            "e  42  86  27  91\n",
            "f  40  53  49  46\n",
            "--------------------\n",
            "a    39\n",
            "b    10\n",
            "c    87\n",
            "d    24\n",
            "e    86\n",
            "f    53\n",
            "Name: S2, dtype: int64\n",
            "--------------------\n",
            "   S1  S3\n",
            "a  20  34\n",
            "b  70  94\n",
            "c  26  89\n",
            "d  53  70\n",
            "e  42  27\n",
            "f  40  49\n",
            "--------------------\n",
            "a    39\n",
            "b    10\n",
            "c    87\n",
            "d    24\n",
            "e    86\n",
            "f    53\n",
            "Name: S2, dtype: int64\n",
            "--------------------\n",
            "   S2  S3  S4\n",
            "a  39  34  23\n",
            "b  10  94  78\n",
            "c  87  89  14\n",
            "d  24  70  66\n",
            "e  86  27  91\n",
            "f  53  49  46\n",
            "--------------------\n",
            "a    34\n",
            "b    94\n",
            "c    89\n",
            "d    70\n",
            "e    27\n",
            "f    49\n",
            "Name: S3, dtype: int64\n",
            "--------------------\n",
            "   S3  S4\n",
            "a  34  23\n",
            "b  94  78\n",
            "c  89  14\n",
            "d  70  66\n",
            "e  27  91\n",
            "f  49  46\n",
            "--------------------\n"
          ]
        }
      ]
    },
    {
      "cell_type": "markdown",
      "source": [
        "# Select element"
      ],
      "metadata": {
        "id": "a-cuaHK31tV3"
      }
    },
    {
      "cell_type": "code",
      "source": [
        "df1 = pd.DataFrame(randint(10, 100, (6, 4)), index = list('abcdef'), columns=['S' + str(i) for i in range(1, 5)])\n",
        "print(df1)\n",
        "print('-'*20)\n",
        "\n",
        "print(df1['b':'b'][['S1']])\n",
        "print(df1.at['b', 'S1'])\n",
        "print(df1.iat[1, 3])  # ['b', 'S4']"
      ],
      "metadata": {
        "colab": {
          "base_uri": "https://localhost:8080/"
        },
        "id": "gvlMI13p01Dp",
        "outputId": "cef1f064-0939-4df7-f81c-027e53199715"
      },
      "execution_count": null,
      "outputs": [
        {
          "output_type": "stream",
          "name": "stdout",
          "text": [
            "   S1  S2  S3  S4\n",
            "a  20  39  34  23\n",
            "b  70  10  94  78\n",
            "c  26  87  89  14\n",
            "d  53  24  70  66\n",
            "e  42  86  27  91\n",
            "f  40  53  49  46\n",
            "--------------------\n",
            "   S1\n",
            "b  70\n",
            "70\n",
            "78\n"
          ]
        }
      ]
    },
    {
      "cell_type": "markdown",
      "source": [
        "# Select subtable"
      ],
      "metadata": {
        "id": "3Wm7xl2y1-yp"
      }
    },
    {
      "cell_type": "code",
      "source": [
        "df1 = pd.DataFrame(randint(10, 100, (6, 4)), index = list('abcdef'), columns=['S' + str(i) for i in range(1, 5)])\n",
        "print(df1)\n",
        "print('-'*20)\n",
        "\n",
        "print(df1['b':'e'][['S1', 'S3']])\n",
        "print('-'*20)\n",
        "\n",
        "print(df1.loc['b':'e', ['S1', 'S3']])\n",
        "print('-'*20)\n",
        "\n",
        "print(df1.loc['a':'c', 'S2':'S3'])\n",
        "print('-'*20)\n",
        "\n",
        "print(df1.iloc[2:5, [0, 3]])\n",
        "print('-'*20)\n",
        "\n",
        "print(df1.iloc[3:4, 1:3])"
      ],
      "metadata": {
        "colab": {
          "base_uri": "https://localhost:8080/"
        },
        "id": "f9AnUuM21vSD",
        "outputId": "559469dc-38c9-4d25-ce31-f00108f74706"
      },
      "execution_count": null,
      "outputs": [
        {
          "output_type": "stream",
          "name": "stdout",
          "text": [
            "   S1  S2  S3  S4\n",
            "a  20  39  34  23\n",
            "b  70  10  94  78\n",
            "c  26  87  89  14\n",
            "d  53  24  70  66\n",
            "e  42  86  27  91\n",
            "f  40  53  49  46\n",
            "--------------------\n",
            "   S1  S3\n",
            "b  70  94\n",
            "c  26  89\n",
            "d  53  70\n",
            "e  42  27\n",
            "--------------------\n",
            "   S1  S3\n",
            "b  70  94\n",
            "c  26  89\n",
            "d  53  70\n",
            "e  42  27\n",
            "--------------------\n",
            "   S2  S3\n",
            "a  39  34\n",
            "b  10  94\n",
            "c  87  89\n",
            "--------------------\n",
            "   S1  S4\n",
            "c  26  14\n",
            "d  53  66\n",
            "e  42  91\n",
            "--------------------\n",
            "   S2  S3\n",
            "d  24  70\n"
          ]
        }
      ]
    },
    {
      "cell_type": "markdown",
      "source": [
        "# Select by bool list"
      ],
      "metadata": {
        "id": "vdKVILfa3U1f"
      }
    },
    {
      "cell_type": "code",
      "source": [
        "df1 = pd.DataFrame(randint(10, 100, (6, 4)), index = list('abcdef'), columns=['S' + str(i) for i in range(1, 5)])\n",
        "print(df1)\n",
        "\n",
        "y = [(i % 2 == 0) for i in range(4)]  # columns\n",
        "print(y)\n",
        "\n",
        "x = [(i % 2 == 0) for i in range(6)]  # rows\n",
        "print(x)\n",
        "\n",
        "print(df1.loc[x, y])\n",
        "\n",
        "t = df1>50\n",
        "print(t)\n",
        "print(df1[t])\n",
        "print(df1.loc[t['S1']]) # select rows\n",
        "print(df1.loc[:,t.loc['b']]) # select columns"
      ],
      "metadata": {
        "colab": {
          "base_uri": "https://localhost:8080/"
        },
        "id": "JILMpzyM2zlX",
        "outputId": "e4e42764-4a2d-4291-fbbc-d2c807c506c7"
      },
      "execution_count": null,
      "outputs": [
        {
          "output_type": "stream",
          "name": "stdout",
          "text": [
            "   S1  S2  S3  S4\n",
            "a  89  40  87  49\n",
            "b  78  84  33  98\n",
            "c  80  97  78  33\n",
            "d  17  75  20  11\n",
            "e  99  33  47  34\n",
            "f  74  81  60  91\n",
            "[True, False, True, False]\n",
            "[True, False, True, False, True, False]\n",
            "   S1  S3\n",
            "a  89  87\n",
            "c  80  78\n",
            "e  99  47\n",
            "      S1     S2     S3     S4\n",
            "a   True  False   True  False\n",
            "b   True   True  False   True\n",
            "c   True   True   True  False\n",
            "d  False   True  False  False\n",
            "e   True  False  False  False\n",
            "f   True   True   True   True\n",
            "     S1    S2    S3    S4\n",
            "a  89.0   NaN  87.0   NaN\n",
            "b  78.0  84.0   NaN  98.0\n",
            "c  80.0  97.0  78.0   NaN\n",
            "d   NaN  75.0   NaN   NaN\n",
            "e  99.0   NaN   NaN   NaN\n",
            "f  74.0  81.0  60.0  91.0\n",
            "   S1  S2  S3  S4\n",
            "a  89  40  87  49\n",
            "b  78  84  33  98\n",
            "c  80  97  78  33\n",
            "e  99  33  47  34\n",
            "f  74  81  60  91\n",
            "   S1  S2  S4\n",
            "a  89  40  49\n",
            "b  78  84  98\n",
            "c  80  97  33\n",
            "d  17  75  11\n",
            "e  99  33  34\n",
            "f  74  81  91\n"
          ]
        }
      ]
    },
    {
      "cell_type": "markdown",
      "source": [
        "# Multi-Index (Row)\n",
        "- Make two or more than two levels for **sub-categorization**  \n",
        "\n",
        "![image.png](data:image/png;base64,iVBORw0KGgoAAAANSUhEUgAAAxcAAAEQCAYAAADCuomtAAAgAElEQVR4nOzdeXxU9b3/8ddsmclk3/c9ZAHCHoIYCYugKKKA2lqXentba7W3drEu3W7vz/ZeW7vd3tZWq4hiFUXZA8gSkT0kBEIIIIEsk31fZslk1t8fIVMj4AIhg/h5Ph4+HmbmzDmfOTMh532+m8LpdLoRQgghhBBCiMuk9HYBQgghhBBCiGuDhAshhBBCCCHEiJBwIYQQQgghhBgREi6EEEIIIYQQI0LChRBCCCGEEGJESLgQQgghhBBCjAgJF0IIIYQQQogRIeFCCCGEEEIIMSLU3i5ACCG+qJRKuT8jhBDi2uJyuS7r9fKXUQghhBBCCDEiJFwIIYQQQgghRoSECyGEEEIIIcSIkHAhhBBCCCGEGBESLoQQQgghhBAjQmaLEkKIUWSxWGhvb8c6MIDb7fZ2OUIIIa5BKpWK4KAgwsLCRn1mQwkXQggxCoqKilixYgUHDhzAbDZLsBBCCHFFaTQa4uLiuOOOO/jmN79JWFjYqBxX4XQ65S+cEEJcgs9yN8jlcvHcc8/x0ksv0djYiNVqlWAhhBBiVKjVaoKCgsjNzeX3v/89Y8eO/dTXXO46FxIuhBDiEn2WcLF8+XKeeeYZDAbDZf+DLYQQQlwKX19fZs2axT//+c9PbcGQRfSEEOIq1dbWxvPPP099fb0ECyGEEF7T399PaWkpK1asuOLHkjEXQghxhRQVFWEwGHA6ncDgALsfPPYYi25eSHBgIAoUXq5QiM+n6INdvLZhC/rEcQSGRXq7HDFC6k8eofrwHuKyJqEPGp1++eLKc9gGaKv9kPaakwD09vby7rvv8oMf/OCKDvKWcCGEEFfIiRMnGBgY8Pw8Z/Zs7r/7q2SNyUCtUiHZQnzRnDl7ltDIWGKnXE9EfKq3yxEjxGG303DyKMkTZhAmn+s1Y8BsxOlweMKFw+GgsbGRzs5OIiIirthxJVwIIcQV0t3d7Wm1AEhJSiI8NHQwWADIiDfxReN2o1Sq0Gh1+PjqvV2NGCFqjQ8KhRKNTo9W7+/tcsQIcbvdqDU+wx6z2+30GY1XNFzImAshhLhCnB8bZ6FWa1AopLlCCCGE9zgdjiu6fwkXQggxSqShQgghxLVOwoUQQgghhBBiREi4EEIIIYQQQowICRdCCCGEEEKIESHhQgghhBBCCDEiLjgV7ZVcWEMIIb6oZJVtIYQQ4pNJihBCCCGEEEKMCAkXQgghhBBCiBEhK3QLIYQQYkQN9Jvpbqr3dhninMjkdJSqy7/ks/WbsfT14LDbRqAqcTlUGg36gOCrckV1CRdCCCGEGFFWUx+GE4e9XYY4Jyw+eUTChdXUR0dDNVZz3whUJS6HVu9PZOIYCRdCCCGEuPY5HQ4sfT3eLkOc4x6hySicTgcD/SasZuOI7E9cDgVOh93bRVyQjLkQQgghhBBCjAhpuRBCCCHEiPILDGFM7ixvlyHOUWl8RmQ/+sAQYtLG4rDJmAtvU2l80AeFeruMC5JwIYQQQogRpfXzJy4jx9tliBGm1ftflX38xdVFukUJIYQQQgghRoSECyGEEEIIIcSIkG5RF9Df38+ZM2fQaDQkJyej0+m8XZLwssbGRjo6Ojw/q1QqwsLCCA8PR6PReLEyIYQQQoirh4SLj+nv7+e9997j4YcfJiYmhp///OcsXbrU22UJL/vLX/7CihUrcLvdnsd0Oh2LFi3iu9/9LllZWV6sTohP197RwfETJ9DptEydNBkfn5EZ4CmEEEJ8lISLj+no6KCwsJDW1lZMJhMbNmyQcCEwGo20trZy8803k5+fT0NDA0VFRWzcuJHJkydLuBBXvZq6Opa//hpRERFkZ2Z97nAxMDDA6bNnqK6pAUChUBIY4E9yUhJxsbFo1CPTgtfT20tHZyfxcbHotCPTatzU0szpqjP09vVe8PmEuHjGZWej1WpH5HhCCPFlJuHiI9xuN62trWzbto3AwEBCQ0MpLS2lurqa1NRUb5cnrgIzZ87kO9/5Dq2trRiNRoqKinA6nd4uS4hPZTKbOFtTg91uw+X6/N9Zk9nMlm3beOvdd0ChQKlQEBgQQHpaGuOys7n5xgVkpKdfdp3FJSVs3LKZH33ve6QkJV/2/gBOnDrFy6+9yumqqgs+f+tNN5OUmCjhQgghRoCEi4/o7e3lwIEDmM1mFi5cSEhICGvWrGHz5s1897vf9XZ54iqwdu1aTp48SWtrKxUVFRQUFHDdddd5uywhrjiHw059QwNna2q4ZcECYmNj6evro7q2hnWbNlJ58iRPfP+HpKWkXNZxysrLWb1uDf92//0jFi56eno4dfpDVEoVM3Kno9f7Dnt+bHa2dBMTQogRIuHiI9rb29m6dSvBwcF89atfBWDFihVs3LiRhx9+GLVaTteXndVqxWg0YjKZsNvtlJaWUlpayvjx41EoFN4uT1yjmlta6Lf2ExEeQV9fH2draxgYGCA6MorkxEQCAgKGbe92u+no7ORsTTUms5moyEjMZjPKEfiOBgcF8tCD3yD/+uvp6enm+IkT/OXFF/jnW6sIDwvjVz//z2G/C263m5q6Wmrq6rBarQT4B5CVmUF4WBhKxeCEhZb+flpaWrAOWKmurcFms3G6qgqVUgXndhUWEkpUZOSwENDf30+twUBTSzM2m42w0FDGpKYRHBx8wd/HmTNm8NPHnyAyIuK85z66fW9fH+0d7YQEBxMSHEJnVxcfVlVhNBkJDAggI30MEeHh/6rDaqWmrpbGxkYcTidhoaFkpI8hOCjIs43dbufDqtNEhEfQ3tFBQ1MjGenppCQlU1Z+lLb2dtJTUklLSxv2OTmcTs6cPUtjUyN2h4PoyCgyMzLwlYlGhBBXKblaPsfhcFBbW8uePXuw2Ww88cQTKBQKBgYGqKqqorS0lBkzZni7TOFlS5Ys4Vvf+hZut5sXXniBF198kbKyMhYuXEh0dLS3yxPXqJ273qfiRCUJcfHUNzZy+OgR+vv7SUpIYN7sOdw070bi4+IAGLDZOF5ZSeF7WykuLaG3r4+khAT8/Pzo7ukhPi52RGpSq1SEh4WTP/N6AvwDKD1yhLfefZfHvvMokRERuN1uTpw6ycFDhyg5UkblyZNY+vsJCQ5i+tRc7rpjCTnjxqFWq6mtq+OlV1fQ3tFB6ZHD9FutvPL6SoKDgz3Hm33DDdx5+x1ERkRis9spLSujtKyMw0ePUFNXQ791gJjoKK7Pm8Edi25jTFo6SuX5s60rFIpPvRFw6sMPWb+5kMkTJxITFcV7O3dwqLSUrp5ukhOT+NaD/8aCufOwWCwcqzxOcUkJh48e4Ux1NQ7nYACYdX0+dyxaRHpqGgBGk5Fn//B7sjIyOXn6Q6rOnmXqpEksvuVWXnr1FQwNDUwaP4FfPPU08XFxKBQKmpqb2bHrfXbt2c3ZmhpsdhuJcfHMuj6fJbctJjoq6oLvUQghvEnCxTkdHR28//77OJ1OJkyYQFpaGna7HX9/f6qrq9mwYYOEC4FKpcLHxweLxcLAwAA2mw2r1YrD4fB2aeIadrTiGG+9+w56vZ6U5GQS4uJxOp0crTjGscrjgJt77rwbvV7PqdMf8pcX/87u/ftIS04hKyMDi8VCWflRGhobyBk3dkRrU6tUjElLY0ZuLlu2vcep06c94eJQaSm//d8/kZ2ZydjMLFQqFa3trfzlhb9T39jAn579LWGhobhcTlwuJ2q1CqfThdvtRqfTodfrhxou8NH4oDjX0uF0OFi7cT37i4uJjooiOzMLt9vNyQ9P8beXX8LucPDQg984r4XC5XJhd9ix2+2ex5RKJSqVath29Y0NbNi8iYrK42i1WhoaG0lLTSEuNpagoCDP9kaTkR3vF/HOunWMSU9nwvjxOJ1O6gwGfvunP9LZ1cWvfv4LlEolFks/b737DhEREUwYn0N4aCgvvbqCw0ePkhQfj06rZcUbrzP7hhu4e+kynE4nL698leWvvUZWZgbjsrNRqVRU19bymz/9AZvNxoP33U/IRwKYEEJcDSRcnNPa2srWrVuJi4vjP//zP5k0aRIOh4OSkhLuvfdetm/fzlNPPUVgYKC3SxVe9Pe//523334bl8tFZ2cnYWFhTJ48mYgLdLMQYiT1W63MyJ3Od775ENOmTMFut/P6W6v46z9e4P3du5mZdx3JiYns3LWLD/buIS93Ot9/5FFyxo2ju6eHN956iz///fkrUptKrSYjLZ1C1xZq62qZdf31KBQKxmZl8+B997Fk0WJSk5NRqVTU1tVxf8u/s3FzIU889gOCg4PJysjk//3sF7hdLr77+A9paW3lR//xGBNzcv4VLnx8PAOutVotUydPZvLESUyfOpWE+ATcbjc7dxXxq9/+lj379jF31uzzwkXlyRO89uYbBPj7ex7LSB/DddPzhj0Gg+M0SrvKmDJxEj/6j+8x6/rr0ev12Gx2z9pHel8906flEhERwU3z5hMfG4vd4eDgoWK+84Pvs6FwEz/6j+8RFho6uFOFAn8/f379i//EarWyrWgnZrOZ3z7za4pLSygpK6P8eAXL7ljCwdISXnxlOWPS0vjFk08zddJk1Go1FScq+Y/Hf8Srb/yT+XPnERwUNKpdMu0OB12tjTiO7KervnrUjiuurOYzx7H1m2g4WUZvW6O3yxEjxD5gpbu5btSPK+GCwbtZGo2GgoICYmJimDNnDnq9HrfbjUaj4fHHHwegu7tbwsWXVH5+Pi6Xy7POhVqtJjIykunTp5ObmyuzzIgrzlfny+JbFzH7hhs8XWHmz5nLnv37qK6tpa7egE6no/LkCXQ6X25dcBPTp05DoVCg99UzdcoUEhISr0htCsXgui9uN5gtlnOPKcjLzWXqlMmcOVvNnv37MZlNWPr7CQwIxDowQENjI5ljxuDj40PguXEjPj4+KBTg7+83bMzCRymVSr667C6MJhO1hjp279uLyWSio7MThUJBS2sr3T09573ubHUNhY6t+Gj+NW5j7qwCcsaNPy9cOJ1OkpKSeORbD7Fw/oILdj8KCAhg/py5mC1mqmtqKaqqwmQx0dLaSlBQIM3NLTQ2N3nChUqlInNMBlMmTqK1rQ2FQsHMvBkkJyXR09uLQqHAYrGA283ba96lq6ubyUsm0tPby96DBzzHjYmKorziGC2trWSOGTOqC3k6HQ6a21o4YSxGqQ/49Bd8kZl6oasJdP7gf+Hv4rXC0dWKzWLk+JkPobHJ2+VceWeOQFA4BIR4u5Iry+XE3dM+6oeVcMHgH8HU1FSeeOIJfHx80Ov1nscjIyP5/ve/j9vtJugif+jEtW/hwoUUFBR4flYoFGg0Gvz9/SVYiFGhUilRq9XDLnIjwsMJCQ6m6swZzBYLnV2ddHR2EhcbS1Ji0qjd0XY5XbS0taFUKkg4N/YDoK29nR3vF7H9/SI6u7rQ6bQ4HE4aGhtxuVyYzCZcH1mY8rNyAydPnWLPgX3sP3iQXqMRtUqFy+miuaUFHx8NdrvtvNddl5fHg/feT2jIv7oShYWGEnqBrkUajYacseOYP2fuRcc12O12ag11bC8qYn9xMUaTcbDbZH8/HR2duFwuzCbz8P36DAYB9bmuVT7nflapVZ73BoNByOl0sO/gQcorKgYT3Dlt7W1otVos/RacTueohgsfrRZtfDr9addDZPyoHdcrzhyFA5sgMhkyJnu7miur6giYjbjzl0DMl2Dq/T8+DEljIWsaKFWfvv0XldUCJ4qhp21UDyvhgsELRZ1OR0xMzHnPqdVq6fIiCAoKknAprjpWqxWbzYbGR4OPRnOudc31mQYtX4jdYWdgwIbe1/czDxR2u930mYwcOVaOj4+WMefWunA6nbz25j/57Z/+SO7UqczOv4GpkycTGR7JP99axf+9+HculCsUSgUoFJ6xFxd6Hy2trfz95Zf4YO8exqSnc+PsOeSMHUtkRAS//J//5mh5+QVrjYqMZOqkSRecLerjVCoVOp3uE6eobW1r4/l//IN1hRuZkTudm268kQnjxqNUKPnHq6+wvaiIzx+dBvloNKBQkJqcQkz0hQdupyWnjPoshkqFYrDFIioRYq/xi9DuNtD6QnDEtX/B3dYAGu3g+0we2XFZVyWFEgLDISYNVNdwuLCYwHB61A8r4UIIIb4AnE4XNpsNp9OJSqXC7XZzquo0tYY6YqJjiIqMJDwsnPCwcA4dLqXOUMfMvDyUSiUOp5M+oxGTyXjR/Xd2dbG/+CCNzU2My8pmZt6M8wY6f5zb7aa7t4dNWzZTdvQI1+XlkZSYBAzOWvXc//6JoMAg/vr7P5KUkIhCocBut+NwOrhgsgD89H4olUo6uzqx2+0XvLgvOVzKrr17mDxhIk/98EdkZWSgUCjo6u5GNUqzJ7ndbmoNBt5a8w7TJk/hf3/zWyIjInG73TQ0NWGznd9y8nnkjB/P+3t3k5c7jW8+8CB+fn7/Ojbgdl16iBRCiCtJwoUQQnwBWK1WDpYcIj4ujvCwMEwmM++sW0udoZ77v5pPcmISfn5+ZKSPYcv2bWze/h5xcXGEBAXR3tnJ9qKd1NXXMzYr64L7P3HqFD/6yVMY6uuZUzCblf94ifDQsPO2G7DZOXn6NDpfHWazhRMfnuIPf/kzyYmJPPbwI+jOdRN0OBwMDNgIiPGnqbkZh91Bn9FIjaGOot0fYPvIjE0flZGWjq9Ox3s7dxAcFERUZCQWSz9qtYrEhAT0vnqsVitOpwONRkNLawtutxuT2cTBkkNUnjrpWRvjSnK73dgddlxOF2q1mvrGRrp7eunq7uLosWMUl5Ze1v5vW3gLazdu4MVXXiE2OoasjAz8/QMwmUy0trfhq9MxKWfCsNAhhBBXAwkXQgjxRaCAbUU7qTxxgqCgYFrbWuns7mLG9OncPH++p6vP7Btu4PiJSvYc2M/JUx8SEx2N0WTEaDQR4Od/0d3b7Tb6TINjIPr7+zGZTB8LFwpQQE9vD3976UX0fnqMfUYGbAMkJyZy95Jl3HzjfM/Wel9fliy6jTUb1/P4T59mbGYWDU1NmMxmtD5alArl4J33j9Uxp6CArTu289a773K6qoqkhETaOtpJSkjgu99+mNTkFMZljyVn3Hi2v7+TszXVREVE0tPbi3XAinVgAJ1ON3y/535QKBQjFjyUSiVx0TFMnzaN/cUHeeLnPyU+No6m5uZzg9YDsA5Yz73Hfx3Us0DeRVochloipk+bxr8/8HXeXvMOT/7iZ0zMySEuNpaGxiYMDfXMzp9FakqKhAshxFVHwoUQQnwB+Pv5cdvNC3G74eTpDwkJCWHe7Nl8Zdmd5Iwd59kud+o0fvjd7xEXG0t5RQU2u40J43KYkZuLoaEBpUp5wQHAyUlJPHjvfRyvrCT/upnExQxfbM/Hx4dx2dnMK5gNnJsIIymZnHHjuGXBzUzMyRm2vUql4te//CUajZoag4HaegOBAYH8+wMPkpSYwO//78/ExsacN5YgOyOTJ7//Q15e+SqNzc1UVZ9FrVYRFBiERj1Y99isLB755rcICgykuraWzu4uUpKSufP222lubeHU6dNERUV59hkTFU3+dTMZl5WNTvvpK1vHREczZ1YB47KyP3G75KQkfvrjJ/jriy/Q1NJCS2sriQmJLF28GLVazT/femtwpigF+Op03HzjfKZNnjI4zk+rZeH8BYzLzkahUBDgH8DNN84nZ+y4wbU3lEoe+84jjB+bzap33qGpZfB9aTQ+LJgzj7uXLSM0JPRT34sQQow2hdPpPK/jq6z4KYQQ53O5XMN+/rR/Kx959FFee/VVzObBGYMefujb/OLHTxAVEfm5jvv4T5/mnfXrePaX/49lt9+ByWxGrVLh5+d30RqcTidmiwWHw4G/n98nDkwGcOPGNmDD0t+Pv7+f50L+crndbrq6u3G5XAQHBX3mmY1cLhd9RiMOhwO93hedVnfee7XZbJjMZhQKBf5+fqM6a9JH2e12eo1GlAoFgQEBIz7I2ul00mvsw+V0EuAfcG66Xu+MtVi3aSNPrNrM2UmLrv0B3cf3w/aVkD4JJs7ydjVXVvluKNsJX//ll2NA9/dnQ/4SmDrv2h/Qfeg9OLjB81BMTAy7du0iIyPjoi/7+N+6z0taLoQQ4ovA7cbN4BSpn2VVZpVK5Vk74rNQoECr1Y741MoKheJfi8h9Dkql8qLrXAzx8fEh9FNC02jQaDSEX8J7/KxUKhWhwdf4fPxCiGuGNFEIIcRVTqvV4u/nj2aUpx0VQgghPi/5SyWEEFe5SRMm4nK5SLpCK2wLIYQQI0XChRBCXOXuumMJd92xxNtlCCGEEJ9KukUJIYQQQgghRoSECyGEEEIIIcSIkHAhhBBCCCGEGBESLoQQQgghhBAjQsKFEEIIIYQQYkRIuBBCCCGEEEKMCAkXQgghhBBCiBEh4UIIIYQQQggxIiRcCCGEEEIIIUaErNB9TltbGxs2bKCzs5M5c+YQFhbGypUrCQ8P58EHH8Tf39/bJY6a+vp6du7cSX9/P/PmzSMhIYHi4mL27dvHjBkzmDdvnrdLHFU1NTVs374dk8nEggUL6Ovr44MPPiAtLY25c+cSHh7u7RJHjcPh4JVXXqGxsZH777+f1NRUPvjgAw4cOEBeXh55eXn4+fl5u0whhBBCeImEi3PUajX9/f28+OKL7Nu3j+TkZLZu3co3vvENNBqNt8sbVW63m+PHj7Nz5058fX0pKChg/fr1HDhwgIyMDG+XN+r8/Pyoqalhw4YNVFRUYDQaqa2t5aGHHkKn03m7vFGlVCqprKxk/fr1pKamEh4ezpo1a9i6dStpaWmoVCpvlyiEEEIIL5JuUecEBQUxd+5cpkyZwvbt21m/fj2ZmZncddddaLVab5c3qiIjI0lPT6ejo4OysjJOnTpFcXExYWFhTJ482dvljbqIiAhuvfVW4uPj2bhxI3v27GHq1KnMmTPnS9WiBYPhYsaMGSiVSvbu3cvhw4epqKggPDycpKSkL93vihBCCCGGk3BxjkqlIiEhgfnz52Oz2bBYLEybNo20tDRvlzbqdDodY8eOJT09nYqKCrZu3UpLSwsTJ04kKSnJ2+WNOoVCwaRJk5gwYQIDAwMolUqmTJlCSkqKt0vzilmzZpGYmMiBAwfYsGEDTU1NzJ49m4SEBBQKhbfLE0IIIYQXSbg4x+1209nZyb59+1Aqlbjdbo4dO0Z9fb23S/OKjIwM8vLyPF1gQkNDuf766790XcSGnD59mrNnz6JQKLDZbFRWVmIwGLxdlldER0eTl5dHV1cX69evx2azMX369C/V2BMhhBBCXJiEi3O6u7vZuHEju3btoqCggMWLF7Nnzx6WL1+OzWbzdnmjLjw8nEmTJuHr60tTUxNjxoxh2rRp3i7LK9rb21m9ejXl5eXccsstTJs2jW3btrFlyxb6+vq8Xd6oUyqVLFiwgNDQUGpraxk7dixpaWn4+Ph4uzQhhBBCeJkM6D7HaDTS1NTE3Llz+drXvkZwcDB2u53u7m5aWlpITEz0domjSq1Wk5CQQHp6Ok6nk6lTpxIZGentsryiqakJh8PBwoUL+cpXvkJXVxfr1q2jt7eXjo4OAgMDvV3iqJs4cSLh4eGoVCrmzp1LXFyct0sSQgghxFVAwsU5ISEhLF26FF9fXzIzM3G5XDz55JPYbLYv3dSaLpeLQ4cO8corr2AwGBgzZgw33HDDl7Y/fVRUFF/72tcICAggNjYWu93OmDFjcDgcBAcHe7u8UVdSUsLOnTsxGAykp6czZcoUgoKCvF2WEEIIIa4CEi7OCQwMZPr06cMeGz9+vJeq8S632019fT0ffvghWVlZLF68mHHjxnm7LK+Jjo4mOjp62GNf5ovppqYmiouLSU9P55ZbbiE7O1umoP2MTn14ijdXryYo4Npu7XK73RhNRlrb2hiTlgZ8OW9MXItKyg7TVVIEB3eB+hrvCjlgAXMPGE7Cnne9Xc2VZbeBYwBe/ilovgSz/tn7Ye8aKC68tv95crvBZh31w0q4EOdRKpVMmzaNn/zkJ4SFhZGamvqlm3JVXNzkyZPx9/dHq9WSmZlJWFiYt0v6wti3fz/9jR3Eh0aiVl7L//y6aentpKz2NHMic7xdjBhB9aZ29D4wbeLYa/4mS1tbG7U1NcTGxhIfH+/tcq6o+vp66urqGJ8zjuDga/tzBdi0sYkpUyYTHROD8hrulWG3OzDUGzhSVjaqx72W/7qJS6RQKEhJSfnSTrUqPlliYuKXbgzSSLHb7dwy/jpum5KPv9bX2+VcMS63mz2njlJx+jQ/GHMrimv61uCXy9bGMk4mDPDUf/2MrKwsb5dzRe3bt48333yTBQsWsHjxYm+Xc0Vt3LiRVatW8dOf/pSxY8d6u5wrLicnh8cee4x58+Zd0y3vJpOJd999V8KFEEJcy3x9tAT6+hGg03u7lCvG5Xah1+pQKBQEaHwlXFxDdCofNBoXAQEB1/yYs4CAAHx8fPDz87vm36ufnx8ajeZL8bnCYA8NPz8/goKCUKuv3UthlUqFXj/6f2tkKlohhBBCCCHEiJBwIYQQQgghhBgREi6EEEIIIYQQI+ITO5oZDAbq6upwu92jVY8QQlx1FAoFN9xwg7fLuGR2pxOX24WPSv2lXa9GCCHE6PjEcFFTU8OuXbtwOp2jVY8QQlx1VCrVFzZc9PWbqetowTxgJToolMSwKJRKabQWQghxZXxiuIiLiyM3N1daLoQQX2pf1Lv9vRYztR3NdPT14HS5sDnsABIwhBBCXDGfGC6SkpKIjY0drVqEEEKMkF6LidqOFjr6etBrdeh8fOgy9WHobMUNJEnAEEIIcQVcu5P7CiHEl9RHg4WfzpfkiBj8tb40aTuo72ylobMVBdKCIYQQYuRJuBBCiGuIJ1gYB4NFSkQMYQFBqJRKEkIjATf1nW3Ud7ZJC4YQQogRJ+FCCCGuER8NFv5aX5LOBQu1UgWAzseHhNAoQHGuBaNNWjCEEEKMKM/x9d8AACAASURBVAkXQghxDeixmKj7SLBI/liwAFCgOBcwzm/BSAyLQiUBQwghxGWScCGEEF9wPRYTho8HC//hwWLIvwLG8BYM3JAYLgFDCCHE5ZFwIYQQX2BDwaLd2IO/zpfk8HPBQnV+sBgyvAWDwYDR1QZIwBBCCHF5JFx8CpvNRl1dHR0dHfj6+pKSkkJQUNB52zmdTs6ePUt7ezs6nY6srCz8/Pw8+zh9+jS9vb0EBgaSkZGBVqsFwGw2c/bsWYxGI0FBQaSlpeHr64vb7aaxsZGmpibcbjfx8fFERkai0WhwuVwYDAZaW1tRqVQkJSURGhqKyWSiubmZ/v7+YbVFR0cTGRmJ6hMuNj4Pi8VCe3s7Pj4+xMTEnPe82+3GZDJx9uxZLBYLYWFhpKSk4OPjg8vloquri5qaGpxOJzExMSQlJZ13LouLi8nNzUWj0Zy3/yNHjhAbG0tERASdnZ00Nzeft9BjamoqgYGBnvUJuru7aWhoIDk5mYCAgBE5D3a7naamJlpaWtBoNMTHxxMREXHemgh2u522tjYaGhpQKpXExsYSExODUqlkYGCApqYmWltb0Wq1JCQkEB4e7nlNW9vgBZ9CoUCv15ORkXHeea6srGTq1KkolUpqamowGo3Djq/RaBg/fjzl5eW4XK5hzwUFBZGUlDQi342+vj4MBgMmk4mQkBASEhLQ6/XnbWcymWhoaKCnp4fAwEDi4+MJDAwEoLOzk/r6eqxWKxEREcTFxaHT6XA4HBc8hx891zabjZaWFqxWq+c8Wa1WDAYDnZ2d+Pn5kZycTGBg4Hnfw9jYWBITEy/7HIy2YV2hdHqSwqPP6wp1MRcNGArpIiWEEOLSSbj4BFarlcOHD7NmzRpUKhUul4u0tDTuv/9+/P39Pds5HA727NlDYWEhGo0Gi8VCdnY23/jGN1CpVKxbt45Dhw6hUqno7+9nzpw53HLLLSiVStasWUN5eTkweBF64403MnfuXJqamli9ejU9PT3Y7XaCg4O5++67GTNmDOXl5WzevJne3l4cDgepqaksXryY/v5+3n//fZqamgAYGBigs7OThQsXcuutt17wQu/zcLlcmM1mysvL+eCDD8jJyWHx4sXnbdfV1UVhYSFHjx5FrVajUCgoKChgwYIFNDU1sWrVKjo6OgDw8fHh3nvvJTs7G5fLhdFo5NixY/z3f/83b775JsHBwcP2ffr0aX7zm9/wwAMPcOONN3L27Fl27NiB1WoFBoNPW1sbjz/+OOPHj0etVuNwONi8eTN79+7lscceIysr67LOAwwGoLKyMrZv305XVxcA6enp3HLLLSQnJw87Z6dOnaKwsJDW1lYUCgUxMTEsWrSI5ORkysrK2Lp1KzabDbfbTVJSEsuWLUOlUrFlyxYqKysJCQlBoVAQFxc3LFz09/dTWFjIO++8w0svvYROp2PPnj2cPXsWGAwfHR0d+Pj48Oc//5n169djs9k8r6+vr2fq1Kl861vfwtfX97LOh9FoZP369VRWVuJ0OlEoFMybN4+ZM2cOC3Nms5kdO3Zw6NAh7HY7CoWC6dOnM2/ePCwWC9u2baOyshKXy4Ver2fu3Lnk5+dz+vRpCgsLaWlpQaVSER0dzW233UZmZqbnvdbW1vLPf/4Tf39/fvzjH2OxWCguLqawsNAzWDkrK4s777yTrq4u3n77bc/3UKfTcc8995CdnX1Z52E0XShYhF+kK9TFXDBgdLYCEjCEEEJcGvnL8Qk6OztZuXIl9fX1zJw5k5iYGFasWEFZWdmw7UwmE88++yxms5mCggLS09P54x//SEVFBQaDgV//+teEhIRQUFBAYGAgv/vd72hoaKClpYU//elPBAcHc8MNN9Df38/y5ctpb2+nsLCQAwcOkJmZydSpU3nvvffYs2cPXV1drFy5ktOnT5OTk8OYMWPYtGkTe/fuRa1Wk5KSQnZ2NpmZmfT399PU1ITT6RyRO9MtLS2sX7+e5cuXs2nTJlpbW8/bxm63U1lZySuvvEJMTAzXXXcd/f39/PnPf6alpYWioiLWrl3LxIkTmTZtGidPnuTvf/87TqeT+vp6Vq5cyR//+EcOHDgw7EIYBu+Mv/zyyxw8eJDW1lbcbjehoaFkZmaSnZ1NRkYG9fX1dHR0oFKpPHe1y8vLWbduHcXFxZjN5ss+DzAYoNavX8+JEyeYPHkycXFxvP/+++zYsWNY64DZbKaoqIjdu3czceJEUlJSOHToEIWFhTQ1NbFhwwaqq6uZPn06ERERbNmyhd27d9PT00NpaSl6vZ6cnBzGjx9PamrqsPN84sQJ3njjDcrKyrDZbJ5WrOzsbLKzs4mOjubQoUOe1p+srCzPc3q9nrKyMrRa7YisPl1eXs6aNWvQaDTk5eXR0dHBunXrqKmpGbbdhx9+yLp16zCZTEyfPh273c6mTZuoqKjgwIED7Nixg4iICHJzc6mrq2Pt2rXU1NSwbds29u3bR05ODqmpqZSUlLB27VpPi1VnZyc7d+5ky5YtVFdXA9DU1MQbb7xBa2sr1113HUFBQaxcuZIDBw5QVFTEhg0bmDhxIlOnTqWyspJ//OMfuN3uyz4Xo+GiweISfs8HA4aWhNBIEsKisDkd1He2YuhsPa+lSwghhPg0l9VyYTQaaWlpYWBgAF9fX2JiYvD19b2ki5WBgQHa29sxmUzo9XoiIiLw9fXFarXS29uLUqnE5XLR09ODVqslMjISvV6P2+3GaDTS3t6Oy+UiPDyc4ODgEblg6unpoaKigqeffppFixbR2tpKaWkpu3btYtasWcDgHdPu7m6OHDnCc889x4QJE7jxxhtZtWoVmzZtYsKECZjNZh555BFCQkK47rrreP311ykvLycjIwOLxcLMmTOZOHEiBoOBzZs343Q66e7uJjY2lunTpxMcHMzbb7+NxWKhqamJkydPcv/997N06VJUKhUVFRVUVVVRUFDAwoULAaiurqayspKbbrqJgoICTzesy2EymWhsbMTtdhMSEnLBbex2O319fWRkZPDoo4+i0WgIDAzkBz/4AQaDgSNHjjBt2jTuvfderFYrNpuNX//61xiNRvr6+qitrSU6Ovq8/bpcLtavX097ezuJiYmesJSRkeG5m3/06FE2bdrEww8/TFpaGiqVitbWVt566y3i4uJob2+/7HMwpLa2lra2NmbNmsXXvvY1Ojo6aGlp4eTJk5jNZs/deofDgcViITw8nDlz5tDc3MzJkycxmUyYzWa0Wi333XcfCxcu5OTJk5w5c4YzZ86QkZFBc3Mz06ZNIywsjODgYNLT0z3noqWlhTVr1pCVlcXx48eBwe5Pc+fO9XwOr732GgkJCfzoRz9CoVBw9913A4Mtcs888wyzZ8/mzjvvHJHvRklJCRERESxdupTJkyfj7+/P8uXLqa+vZ8KECZ7tjh8/jlqt5vbbb2fevHnExcXx0ksvcfr0aUJDQ5k5cyZLly5Fr9dTU1NDdXU1NTU1GAwGpk6dyte//nV6e3sxm80cOXIEo9GIVqultLSUkpISxo8f7zlWR0cH1dXVPPnkkyxYsIAJEyZw4sQJ3nvvPZxOp+d7aLFYsFqt/O53v8NkMo1Yt7kr5V/Boveyg8UQBXgCBm6o72ql/lwLRlJ4NMoR+PdUCCHEl8Mlh4vm5mY2bNhARUUFDocDjUbDzJkzueWWWy44JuGTdHd3s3fvXvbv309bWxshISHMnDmT/Px8TCYTW7dupa+vD7vdTl1dHQEBAdx8883k5+fT0tLCjh07OHbsGC6Xi3HjxjFv3jyysrIuK2C4XC76+/sxmUyeizqNRkNKSgqNjY2e7YbudGq1WlpaWhg/fjzt7e04HA5qa2vJzc1FoVDQ0tJCYGCg5457fX09BQUFjBkzhpUrV1JcXMz27dvJy8sjICCA3Nxc/u///o833ngDp9NJR0cHY8aMob+/H7fbTUxMjKebU0xMDGazGYvFAgxePG7atIn+/n7y8/MvOC7iUmRkZPDkk09y7NgxXn311QtuM9S/PyIiAp1OR0tLC2VlZURHRxMSEoJGo6Gzs5O+vj5g8ALQZDLR1dVFTk4Ozz33HC0tLbzxxhvD9nvs2DHWrFnD008/zf/8z/+c99mazWZefPFF0tPTyc/PR6/XMzAwwJo1a1AqlcyePRuDwTAi5wEGg6dGoyEiIgKVSkV4eDjh4eGcPXuWvr4+zwVqQEAAqamp7Nmzh7/+9a9YLBaam5tZsGABsbGx3H777SQkJGA2m6mqqqK7u5v8/Hx6e3s5c+YMR44c4dixY7jdbgoKCrjjjjs83Ye6u7t55JFHeOedd4bV5nK5qKqq4uWXX+ZnP/sZcXFxw57ft28fO3bs4OWXXx6xIN7e3k5YWJhn7ER8fDwOhwOTyTRsu+7ubvz8/AgNDQUgMjIStVpNT08PS5Yswel00t7ezurVqzl8+DA5OTlotVpcLhfR0dGoVCqCgoKIiYlh3759dHR0YDab2bdvH2PHjkWv11NRUeHpwme1WklJSQHA19eX+Ph4GhoaiI6Opre3l76+Plwul+d72NHRcVWHi6Fg0WnsJUDnS+IIBIshnoARdq6LlAQMIYQQl+CSw0VxcTHLly8nLi6O1NRU1q5dy86dO5k4ceKwgbSfxZ49e3juuedwOp0kJydTWVnJ/v37cTqdhIWFsWnTJiorK8nKysLhcPDhhx/S1dWFn58fu3fvZs2aNURHR+N2uzlw4ADNzc388Ic/JCws7FLfHjB41xkGxwXA4KBaHx8f7Ha7ZxulUklkZCQFBQUsX76czs5OGhsb6enpwe12k5OTQ2JiIi+++CK5ubmeu8wweKEVGhpKR0cHdrvdczyXy4XD4UCpVFJVVYVSqSQoKAir1YrFYkGlUg1b8Eqj0eB2uz1dGM6ePcvhw4fJy8u75D7kNTU1HD16FJfLhb+/PxkZGZ6LtE+i0WhITk4mJiaG48ePs2PHDkpKSrjnnntITExk+vTp/O1vf2PFihUEBASwf//+T91nZ2cnf/3rX5k7dy4TJkxAoVDgcrmGddkoKyvjyJEj/OEPf/CE2+LiYg4ePMi3vvUt1Gq15xy53e7P9f00m81UVFR4QmV8fDxdXV0oFApPC4pSqUStVuN0Oj2fIwwGPZfLhVqt5uzZs54uakNdukJCQmhra2Pz5s3s2LGDhIQEbrjhBtrb2ykoKCA/P5/Q0FC2b9/O3/72NyZOnEhTUxNFRUV873vf81wIf/R92e12Vq1aRVhYGDfeeOOw92Kz2fjLX/7C/PnzSU9PH7FB/g6HAx8fH8/38uPfySFOpxOlUuk5rlqt9tQ/9Pt69OhRT1cvjUbj+V0a6t6lUqlQq9W4XC4aGxspLy/H6XRy2223sXPnTtxuN06n0zP2Y+h1Q/+v1WrJzc3lxRdfZMWKFfj5+XHw4EGAq7pb1NCsUJ3GXvx1voODt0coWAy5WMBQAIkSMIQQQnwGlxwuNBoNU6ZMYdKkSURERFBUVERVVRVms/lzXbw5nU62b99OQ0MDTz31FHfffTerV6/mz3/+MwcPHmT69OkAJCQk8Mgjj+Dr68vvfvc7T//9AwcOoFKpmDVrFna7nXfffZeSkhJOnjxJfn7+pb49z4WIQqHwzL7jcrkwmUznDX7VarV8+9vfZvXq1RQWFhIdHU1WVhaRkZFERUXx6KOPsn37drZu3UpGRgZBQUFERESwd+9eqqqqePbZZ5k6dSp79uzhhz/8IfPnz+ell15i/PjxPPLII/j5+fGrX/2Kbdu2ceONN+JwOBgYGMDlcqFUKjGbzcMudPfu3YtSqWTcuHHDBp5/HjU1NaxduxaHw0FUVJSn1eazMJvNFBcXs2HDBnp6erjrrru44447UKlU5OfnU11dTVlZGT4+PmRlZVFSUnLRblYABw8eZPv27UybNo01a9bQ1NTEoUOHGDt2LJMnT0alUvHOO+8wduxYUlNTPReTy5cvZ2BggOPHj9PT00NzczM7duwgMTGRqKioz3wuLBYLBw8e5NChQwDMmDGDgIAAz+cAgxftVqsVtVrtCaMwOGj60KFDpKam8sQTTzAwMMDf/vY33n77bW644Qa6uro8LYBZWVncc889xMfHo9fr+fGPf0xKSgput5vo6GgOHDhAcXExhw4dorOzk+rqakpKSrBarWzZsoXbbruNsLAwurq62LhxI48//viwWmBwzENZWRk/+9nPLjgT16Xy8fFhYGDAE7wtFgsKhcITHoZoNBocDodnPM1Q+HK73VRVVaFSqZg/fz4zZ87kzTffZPfu3bjdbtxut2cWNLvdTn9/v2d2rMLCQiZMmMDu3bspKyvDYDCwe/duT6AcGmfjdDqxWCyEhoaSn59PTU2NZ9xJZmYm5eXln/g99KYeixFDR+u5rlCDLRYjHSyGDAsYCjzjL0AChhBCiE93yeFCrVbT39/Pnj17cDgc9PT0AJ//zp/dbqenpwdfX18SEhIICQkhJSWFiIgIenp6PN0qYmJiPBddUVFRNDU10dnZSXd3N11dXezatQuNRkN4eDgJCQnD7h5fCoVCgZ+fH4GBgZSVlZGVlUVHRwenT59m1qxZngHIvr6+hISEcObMGR544AEyMzMxm80sWbKEu+66yzNO4sc//jFRUVHU1dXx5ptvegb2BgcHEx0djU6nIzMzE41GQ1dXF52dncTHxxMUFIS/vz/x8fGcPHnS07WoqqqK3NxcHA4HBoOBzMxMAgICsFqtVFRUEBkZed4Ur5/Hddddx/jx43G73ahUKs+0uhcydAHX3t5OSEgIZ8+e5R//+AdJSUk8/fTTnm5ldrud5uZmEhMT+fa3v43b7WbVqlUkJiZ6utNciMvloqCggL179wKDXXAqKio8g9oHBgbYv38/Dz/88LA6ExMTqampYd++ffT09NDe3s6+ffu4/fbbP1e4CAsL49/+7d+45557gMEweebMGfbv309tbS29vb20trbS2NhIaGiopzvY0FSxdruduLg4QkNDsdlsxMfHc+bMGaqrq9m1axeHDx/m/vvvZ86cOeh0OiwWCxUVFRw/fpyvf/3r6PV6urq6UCqV6PV6wsLCiIiIYPPmzVgsFgYGBti9ezf5+fkEBwdz/Phx2tvbmTdv3nnv5b333iM+Pp6srKwRa7UAiI2N5cCBA7S0tJCQkMCpU6dQq9UEBgZiNBrp7u4mODiYyMhISktLMRgMjBs3jpqaGgYGBvD396ewsBCTycRDDz1ESEgIYWFhqNVq1Go1Wq2Wmpoaurq6PNMcD013Gx0dTUtLC3V1dTQ0NNDb20tJSQnz5s3D19eX8vJy0tLSaGtro7a2lpkzZ9LS0kJKSgrf+c53cDgcrFq1ioSEhE/8HnpLj8VIXUcrnecGb49kV6iLGRYw3G7qu9rOBQwFieFREjCEEEJc1CWHixdeeIEPPviAp556ikmTJtHS0kJXV9fnDhcajYbQ0FDsdjvV1dVUV1dz+vRpenp6CA0N9dx5H+oKNPQfDM7RP3SxfdNNNxEWFobBYCAoKIiEhIRLfWseQ2M/NmzYgEajoba2FqPRSEFBARaLhVdffZWUlBTuvPNOdu/ezY4dO1i6dClnzpxBpVIxZ84cFAoFq1evxmAwkJeXxwcffMCkSZM806Fu2bKFdevWMWbMGEpLS4mPjyc7O5vZs2dTWlpKQEAAOp2Ow4cPM2XKFLKzs8nLy2Pfvn0oFAp6enro6elh/PjxhIaG0tbWRnt7O2PGjCEiIuKS37uvr+9nnp7U5XJx+vRp3n33XebPn09lZSUVFRXMnj2b8vJyysvL8ff3Jzc3l/r6ep5//nmMRiN6vZ6dO3fyla98ZdiF7sdbvRYtWsSiRYs8P995553cfvvtLFu2DJ1Ox8mTJ+np6WHcuHHodDrPdv/1X//l+f+jR4/yzDPP8JOf/ISxY8d+rnMx1C3to2OJ0tLSSE1N5ejRo6xcuZKOjg66urooKCjAZrOxefNmXC4X+fn5JCQkUFFRwdtvv43NZuPo0aNMmDCBnp4etm3bRmpqKhaLhcLCQnQ6HXFxcVitVrZt2+bpdjfU+jFr1iyWLFniqcNgMDBnzhyeffZZIiMjGRgYoKKigvj4+AsOjD969CiTJk0a0WABMH36dM90zNXV1RQVFZGQkEBSUhInTpygqKiI2bNnM378eHbt2sWOHTvo6enh8OHD+Pn5MXXqVKqqqigpKeH1118nLi6OAwcOEBAQwKxZszh+/DhbtmxhxYoVOBwOqqqqmD17NvPmzfMMYu/s7GT16tUcO3aMJ598EoPBwMSJE9mwYYPnNQMDA8yYMQODwcDzzz9PX18fWq2WXbt2cffdd4/4eblcg2MsWukw9hAwSsFiiALQabQkhEfhBhq62jB0tqBQQEKYBAwhhBAXdsnhwt/fH7Va7blL2NbWhtPpHNZd57MY6tJUUVHBunXrOHHiBKdOncLX15fc3FzCw8Mv+tq0tDQ0Gg3r169n9+7d+Pv7U1VVRV5e3oh0+QgLC+O+++7jpZdeYv369ej1er7xjW8wbdo0jEYjVqsVu92OVqvle9/7Hi+88AKrVq3C39+fn//858TGxqJQKPjJT37CqlWreOuttwgNDeWJJ54gICCAvLw8HnjgAXbs2OG5yHr00UdJSUnh29/+Nq+//jrvv/8+NpuNjIwMli5dSnR0NPfeey9vvvmmJ2AsXryYGTNmoNVqcTqdTJo0iQkTJlz2uhYXExQURE5OzrCBwg6HA6vVisPhwM/Pj5ycHHbt2uV5Pjo6mqlTpzJr1izOnDnDzp070Wg0TJs2jfvuu2/Y/nU6HYsWLfLMYvTxsJGXlzdsxiin08n8+fNJTk4e1g3no68LDg4mLy9vxLq9hISEsHjxYs8aJz4+PsyfP5+5c+fidDqx2+2eRQJvu+02T9cltVrN2LFjWbZsGb29vcTFxWE0Glm7di0AgYGBLFiwgIKCApqbm9m1a5dnEcXHHnvsvN8HPz8/FixYgE6nQ6FQoFQqCQ8PHxZAPio1NZWcnJzzuitdrsmTJ3P33XezdetWCgsLiYmJYdmyZZ5pY4e+G1lZWSxbtowNGzawZcsWwsPDueOOO5g0aRJJSUlYrVb27dtHSUkJsbGxLFmyhBkzZhATE4PRaKS4uBi1Ws3MmTO5/fbbgX99zlqtltTUVJRKpWc9ka997Wu8+uqrbNy4kcDAQL7+9a8zc+ZMurq6OHPmDDt27MDHx4fp06d7WqauFh+fbnY0g8WQoYCRFD4YVBu62qjraMHN4DoYEjCEEEJ8nMLpdJ7X1DAUDOx2+7DByx+1c+dOXn/9dbq6uggPD8fPz4/Ozk6+//3vM2nSpM91cW8ymSgsLGTHjh10dHQQGBjITTfdxIIFC+jo6GD16tX4+vqydOlStFot77zzDh0dHZ5pNNeuXUtZWRlOp5PMzEyWLl1Kbm7uJZ6S8w3NPKPVas/rw/7x7fr6+ggMDDwvXDkcDsxm8wUHuw895+fnd95F39B4Cp1ON2yfQ12RNBoNPj4+IzLjz2hxu91YrVbcbvcVC0CjxeVyYbVaUSgUn9jSM7Sdy+XCz8/vM31ebrcbu93u6Tb0RfiMbTabJ3B/UoCx2+2eAdsf/50aCiK+vr7DWhJcLpfn5sUnddP7OKfTSX9/Pz4+PsOO9Xm/h3q9/rwB6p92E+WRRx/ltVdfHba+ym/vfpSlubMJ0F38mOevYxFFuH/wqAaLj7PabdR1tNDQ1YZaqSY5IvqiLRgut4uiysN87+Xf8d78X6Lg6v/uis9mY30Jx5Os/PI3v2LcuHHeLueK2r17NytWrODWW29l2bJl3i7nilqzZg2vvfYazzzzDDk5Od4u54pLSkri+eef56abbhrxm21XE6PRyKpVq3jooYc8j8XExLBr165hi/J+3OWucXTJZ3Ro9d3+/n4CAgIuq6XA39+fr3zlKyxZsgSr1YpOp/NcBISHh/Pzn/982PaPPfbYsJ+feuopLBaL5675SH9RlErlZ5qeUqlUnrei9BC1Wn3RKXo/6bmLXUQpFIpLHqztbZ92If5FMjQOYqS2+6ih2ck+KdBebT5rvRqN5qL/Zny0a9tHKZXKS/reqFSqC/6uXK3fw5FcIG8k6TQ+JIVH4wYau9qobW8GICEsEqVC1mMVQggx6LKuwj9Pv/zP4lIvpIYGXwshxBeZ0WrB0NnqCRbJ4dGEBQShVl4dY0F0Gh+Sh7pIdQ4GDKVCQULYZ58gQQjx/9m787io6v2P46/ZhxkGhn0RUERAwQVxQxTN3dwql/b1tt7rbVdv3Taz7Xqrm5WZpZZ6rbylZrmUlmaZqbml4YoiCMKwwwwzzD6/P4iTBJYGpvH7Ph+P/uhw5nDOZ2bw+z7f5QhC29Z2+4IEQRD+ZCz2Ompstbg9How6fwJ1/pdMsGigUaqINoZQXFWGw+2iuLrirOGizuvk3RObxaCoNuRwTSGlbg+LFi06r1X3/oxOnjzJgQMHcLlcHD9+/GKfzgWVnZ1NTk4O77zzTrOLgbQ1ZrOZFStWcODAgXOeI/xn1LCIzB9NhAtBEIRLhL/Gj0A/PS63ixpbLTW2WpSXwJCoMzncLkzVlXi8XjRKFZGBZ39Yqd3r4mjNaTHnog0pqqvEoatfMr2tq6qqwm63U11dTUlJycU+nQuqpqYGu91ORUXFn2J+X0t5PB6qq6spLS1t09frcrmkZ7X9kUS4EARBuEQE+OmIDYnA54OK2hryK0wAF+yBeefDBzhcTk6V1z9UT6VQ0j40kpifnubdHDkyrokdAG34H+//b74pzaY8yY/77ruPLl26XOzTuaC+/fZbli1bxujRo7nyyisv9ulcUJ988gnvvfce9957L127dr3Yp3PBrVixgptvvpkRI0ZcckuQt6ba2lo++ugjvvjiiz/094pwIQiCcAkJ0v+8eMSlEjCkYFFRwqkKkxQszmU5Wq1SI/ot2hCVALA0fwAAIABJREFUXIlcLkej0VySCyK0Jo1Gg0KhQK1Wt/lrVavVKBQKtFptm79W+HnBFK1W26ZXi3K73a3yaIbz1XYrKgiC8CdVHzBkIIMKSw35FfVDMi5GwGgIFgUVJRSUm1ApVcSFRNQHizY8VlkQBEH4ff7QcNGWx7UJgiC0piC9P8jqJ1ZerIBxZrA49VOwiA2OoH1IJHK5+HsuCIIgNPWHhQu5XI5CoRABQxAE4RwF6fwh9OIEjPpg4aCgopRT5SU/B4tQESwEQRCEs/tDw4VSqRThQhAE4TwE6fyR/cEBo2mwUBIbHC6ChSAIgvCbxJwLQRCES5xR5w8/PUviQgeMswaLsKjfnLwtCIIgCCJcCIIg/AkYz1xFylLDqfLWDxg+wO50UFhZSn5FCWqlkhgRLARBEITzIMKFIAjCn4Txp1WkZEC5pYb8VgwYPsBxZrBQ1AeLDiJYCIIgCOdBhAtBEIQ/EaPeH4jEx09DpFohYPwcLMrIL/+5x0IEC0EQBOF8iXAhCILwJ2P8aZna+h6MavLLf3rQniEQpfz8AsbPQ6HKyC83iWAhCIIgtIgIF4IgCH9Cxp+Wqa3vwfh9AaPRHIuGHouQcDqEimAhCIIg/D7i8arnwOfz4Xa78Xq9LT5Wc8dpOL7P52vVc/J4PK1yzs39bq/X26Jje71e3G73eb/ufOvU0tedC6/Xi8fjuWDHb22t9VluzvnW4nw/o792/IbvxNm2N/ea3/s5vFQYdf60D40kxGDEYreRX26iwlKD2+v5zdf6ALurIViYRLAQBEEQWsUl0XNht9uxWCyoVCr8/f1RKi+J08Ln81FXV0dxcTFlZWX4+/sTERFBWFhYo/28Xi8nTpxo0ngxGAxERUVJ/+92u/nhhx9o164dERERyOVyqqqqKC4upqqqitDQUKKiovD398flclFcXIzT6ZReHxERgcFgwOFwUFpaislkQqPREBERQUhICGq1WtrX4XCQk5NDQEAAMTExyOWtlyNtNhvFxcX4+fnRrl27JrWwWCyUlJQ02q5UKgkLC0On01FWVkZZWRm1tbVERUURGRmJWq2muLgYq9Xa6HUKhYKEhAQsFgsmk4nS0lKCgoKIiorCaDRSU1NDRUUFHk/jxlR0dDR6vR6LxUJFRQUlJSUEBgbSrl07/P39W60ePp8Pk8mEzWYjKioKvV7fZB+r1Up5eTkOh0OqRVBQEFqtlrKyMux2u7SvTCbDz88Pg8Fw1hr6+flJvxPqnyFjMBgICwv71Ro6nU6KioooKirCz8+PiIgIIiMjW6UWPp+PqqoqTCYTVquVwMBA6bN8tmfbmM1mCgsLpfelsrKSioqKRt8jtVpNcHAwOp2Ompoa6brDwsKIiIjAz88PqP/clZWVUVJSQmpqKgqFQvosmkwmqqurMRqNREREYDQacbvdlJeXU1ZWhtVqJSoqioiICLRabYtr8UcznvGgvXMdIiUFi4qGYKESwUIQBEFoFZdEK37v3r0sXryYpKQkrr32WmJiYi72KQFQV1fHhg0beOqpp3A6nfh8PgYPHszLL7+MwfDzspC1tbWMGzdOajx6PB5MJhM33ngjCxcuRPHTJMsDBw5w1VVX8eSTT3LTTTehUCh46aWXWL16tXQH9b777uOmm24iNzeX22+/nYqKClQqFQDPPvss48eP5+uvv+aVV17h9OnTOJ1OMjMzmTZtGt27d0cmk+H1etm5cydPPvkko0eP5t5772220Xu+nE4nZrOZnTt38t5775GVlcVf//rXRvvYbDbWr1/Po48+CtQ3Om02Gzqdjv/85z+kp6fz+OOPs2PHDvz8/NDpdMyaNYuBAwfyj3/8g2+//VY6VklJCVFRURw9epTFixczd+5c1Go1tbW13HjjjcyYMYNPPvmEl156CYvFAoDFYqGuro4VK1YwYMAAFi9ezP/+9z8qKirwer1Mnz6dq6++GqPR2OJ6WK1WKioqWLhwIUVFRdx333107969yX6bN29m5syZlJeXo1QqiYiI4JZbbiE9PZ2nn36a7Oxsqb42m41BgwZxzTXX8NhjjzWqoV6vZ86cOaSnp3P99deTn5+PWq1Go9Fw+eWXM3PmzEY19Pl8lJWVER0dTU5ODrt372bq1Km4XC5qa2tJSUlhwYIFREdHt/jhlmazmRdffJF169Zht9vR6XT8/e9/Z/Lkyc3W2uVysW7dOhYuXMiUKVO45557+OCDD3jllVekXgaLxUK7du34xz/+QZ8+fVi4cCGfffYZdXV1JCQk8NBDDzFy5Ejq6uowmUx8+OGHbNmyheXLlxMUFERFRQX//e9/WbRoET6fD6VSyTXXXMNDDz1EUVERjz/+OLt27UKj0WAwGJg1axYjR45sUR0uFuMZD9orN1eTV14MQKghEMUvAkZ9sHA2DhbB4cSHRomHnAqCIAgtdtHDRV1dHbm5uWzfvh2LxcLAgQOlnovAwECUSiVmsxmPx0NAQAAymQyLxYJMJsPf3x+Px4PFYsHhcCCXy/H398dgMEgN+pYwmUwsWLCAwYMH869//Yt9+/Zx1113sW7dOq699lppP4PBwHfffScN1zh8+DB33nknN954o3RXuLq6WgopDXJzc1m8eDHz5s1j2LBhzJ07lw8++IBRo0aRk5NDWloa9913H506dUKpVKJWq5HL5SxZsoSkpCTmz59PeXk5Dz/8MLt376Zz585oNBqKi4v5+OOPOXjwIKNHj25xHRqcPHmSd999l40bN2Kz2cjKymqyj16vZ+LEiQwbNgyAqqoqPv74Y7Zu3UpaWhobNmwgOzubL774gsDAQB577DGeffZZtm7dyrx586S7+OXl5dxzzz2MGTOG0tJSnnjiCebNm8fVV1/N2rVrufXWW7n66quZMmUKY8eOxev14nQ6mT9/PseOHaNz587s3r2bDz74gGnTpjFkyBDmz5/P999/z6BBg1ocLrxeL5s2beKdd95h165d9O/fv9n9fD4flZWVpKSk8MQTTxAVFYVKpUKlUuHz+Vi2bBlOpxOXy8X333/P0qVLmTJlCpMmTWLEiBEAVFZW8vHHH7Nt2zYyMzOprq7GZrOxdu1a4uPjUalUKJVKlEqlVMOGYDF16lTGjBmDTCbj1VdfpWPHjixZsoTy8nKysrLYtGkT11xzDRqNpkX1+OKLL9i1axePPfYYo0aNYs6cOXz++ed07tyZgQMHNqlJdnY2n332GXl5edL22267jauvvlqq2bJlyygrKyM1NZV169Zx9OhRFi5ciF6vZ+HChWzevJnMzEy++eYbFi5cyI4dO+jatav0Ow4fPsx7773HjBkzmDx5MuvWreP5558nPT2d3Nxcjh07xsaNG/H39+fxxx/n+eef/9OGC4BAnT8dzgwYZU0DRv0D8pwUVpQ06rEQwUIQBEFoLRc9XGzfvp1ly5aRm5srDXmora3F4XAwY8YMYmNjefXVVyktLeX+++9Hr9czd+5cAgMDueWWW8jNzWXRokUcP34cvV7PmDFjuOuuu0hOTm7xP5YWi4W8vDweffRR9Ho9ycnJ9O/fn507dzYKFzKZjJCQEABqamp45plnuPvuuxk6dCgymQyXy8XcuXPp0KEDNptNCk8KhQK9Xo/BYMBqtaJUKgkMDEShUJCTk4NerycnJwez2Uz79u2JiopCrVaj1+sJDg7G4XDg9XrR6/Wo1WpkMhl2u5333nuP4OBgevTo0aLr/6WAgAAyMzMJCAhgz549ze4jk8nQaDSEh4fjcDjYt28f69evZ86cOQQFBWGxWBg3bhwdO3akrq6OPn36sGnTJmQyGQEBAQQEBGC323n55ZcJCwtj+vTp7Nmzh4SEBCZOnIhSqSQrKwulUklpaSmdO3cmNDQUgC+//JKvvvqKOXPmEBcXx8KFC+nVqxft27enpKSESZMmoVQqmwzl+j1kMhmxsbFMmTKF4ODgs84xsNls0tCbkpISTCYTHTp0kIaCGY1GqSG8efNmunXrxrXXXotcLpdquGfPHjZs2MArr7xCcHAwR48epbq6mrq6Onbu3EmHDh2IiYlBpVJJNbTZbFINp02bBiCF7oZeHrVa3WrDgLKzs0lKSiI1NRWj0ciwYcPYu3cvJpOpyb4VFRWsXLkSvV5PZmamtF2n06HT6XC5XGzcuJGioiJuvPFG1Go1p06dolu3bkRERGC32/nb3/6GRqNBqVQSGxvLxIkTiYmJ4ciRI0D9sMCSkhLkcjnDhw9Hr9fTo0cPoqOj+fLLL4mIiGDs2LF07NgRq9VK7969G/Wa/Vk1GzBkEOpvRC6X43A5KTgzWARHEB8aKYKFIAiC0GoueriIj4+nb9++HD58mNjYWCZMmMCuXbtYsWIFhw4dory8nL1793Lq1ClGjx6NRqNh586dXHXVVRw5coTXXnsNmUzGtddeS35+PsuWLcPlcvH88883Grp0vrxeL1arFbfbTWRk/T/WSqWS8PBwCgsLm32N2+1m+fLlFBcX87e//Q2ZTIbP52Pbtm2sXbuWlStXcvfdd0v7d+jQgWHDhjFt2jTi4+PZsWMHM2bMIDQ0lNOnT7Np0yapRycoKIjZs2eTmZnJlVdeyezZs9mzZw8lJSUkJCSQmpqKXC5nw4YNnDp1ismTJ5/1PH+vqKgoJkyYQFxcHMXFxb+6r8/no6CggPfff5+srCzS09MBmD59Oj6fD5fLRUFBAWvXrm3UA+L1ejl48CCLFy/myy+/RKFQ0LdvX3bv3g3UD7959913CQsLk3p0oH6I0osvvsgVV1xBYmIiSqWS/Px8qqqquPPOO6mpqUGj0fDwww8zefJkaaz+ufB6vTgcDmnir0qlQq1W07NnT3r27InZbObHH39s9rXV1dVUVFSwc+dO7r33XtxuNzExMcyYMYOhQ4cC9SH2u+++IycnhzfffFPq7fL5fOTn57N8+XIGDhxIz549sVqt5OfnY7FYuPPOO1GpVNhsNp544gluuOEGoH5YXnZ2Nv/973/ZuHGj1It32223MXnyZKqqqsjNzSUqKor+/fs3mqtzLlwuF06nU5qIrdVqqampwWAwSHUNCQnB4/E0mk8C9UO/Vq5cidvtZvjw4XzzzTdNjn/o0CG2bt1KfHw8AwcOZPfu3VIN16xZQ01NDV26dOHBBx+kffv29OjRg5SUFFQqlRQuVCoVgYGBeDweDh8+jF6vx2QyUVhYSEpKCjNmzMDn8+F0Ojl16hSfffYZAwYMOK86XKrODBhl5mrySovBB/5aHUVVZVKwiA2JoIMIFoIgCEIruyTCRe/evVm7di2dO3cmKyuL0NBQdu3axeHDhzl06BBmsxm3282RI0ekRk1iYqLUWHj44Yd55JFH+O6776iqquLYsWPk5ORIDdrf49dWuznb6jZWq5WXX36Zhx9+GJ1OB9QPC3rwwQf55z//iU6nw+PxUFdXh8PhID8/n507dxIbG0vXrl0pLy9n/fr1jBs3jr59+zJ+/HgGDhyIw+Hgzjvv5OOPP6Zdu3Zs3LgRgOTkZMLDwzl8+DAHDx5EpVLx0Ucf0a9fP1JSUnC5XDgcDhwOBzqd7g9tRNjtdvbv38/+/ft54oknpO0+n4/a2lr27NnDv//9bxwOB3PmzJF+7nA4eOWVVxgxYgTdunWTtjfMY3n11VdZtWoVs2fPJirq56Eca9asoaSkhCuuuILAwECg/v3Iycnh9ddfJzMzk9dee42lS5fSo0cP+vbte87XYjab2bx5s9RwTUlJYcCAAU0m9jdHrVaTkZFB//79GT16NEePHuXf//43S5cuZdCgQSiVSo4fP85XX33F4MGDiY+Pb1TDH374gQMHDkg1lMvlxMXFMWvWLG677TbsdjuzZ89m1qxZTJkyBbVajcPh4LXXXmtUQ5/Px4cffij1wIWGhrJu3Tp27txJRETEeQWMo0eP8s0331BdXQ3AuHHjcLlc0tygBl6vt8n3aMeOHXz//fdkZWWRkJDAl19+id1ux+l0olar8Xg8bN26lZqaGm655RbUajVOp5PCwkLCw8N5/vnnUSqVvPzyy7zzzjv069ev2SFuCoWC+Ph4aTha//792b9/Pw6HQxqSZrFY2L17Ny+++CIej6fR5/DPrnHAqOJEyWnUKhXVVosIFoIgCMIFddHDxZkaGiI9evSgY8eO7Nu3j9raWlJTU6mtreXrr7/G5XKRmJhIQkICW7duRavVSpOV/fz88Pf3p7KyssmKOedLLpej0WiQyWRUVVUB9Q3c6urqZntEPB4P27Zto6SkhKuuukra/tFHH2Gz2fj+++/Zu3cvx48fZ+3atcTGxnLs2DEMBgNvvPEGMTExFBQUMGzYMGmuRHBwMGq1moCAAPr378+RI0ekBvsDDzzAlVdeiUKh4N5772Xfvn3s2bOH0tJS9u7dS2FhIfv27SM3N5du3boxfPhwAgICWlST81FeXs7XX39NamoqnTp1An5eUWjJkiW8/fbbXH311Tz00ENSGGgYa//555+zZMkS6Vg+n4/du3fz97//ncjISFauXEm3bt2kO/I+n49Vq1YxcOBAgoODpQZTQEAAQ4YMISUlhYCAAMaPH8/HH3+M2WzG5/Odc8PK6/VSWVnJ6dOngfpVu86cO/NrjEYjQ4cOlebMdOzYkb59+7JhwwYqKysJCgrixIkTFBQUcO+99zZ6bVlZGVu3bqVr165SDTUaDT179iQ9PR2tVotSqWTixIksWrQIk8lEbGwsFRUVbNy4kXfffVc6lsvlYunSpSxatIgrrrgChULBPffcw8cff8yIESPOK1zY7XZKSkooLy8H6hc00Gg02Gw2qS5msxm5XN7kuBs2bOD48eNoNBp27NjB7t27ycvLo3v37gwdOpRTp06RnZ1NZGSkNDleo9HQrl07kpOTSU1Nxev1MmjQIJYtW8bp06fPOn+mQ4cOPPXUU2zevJmKigquvfZatm/fTlhYGJWVlSxevJh33nmHq6++mgcffPAP/X78EQJ1/sSHRYEPyixV1NptaNQaESwEQRCEC+qSCBdyuRyZTEZNTQ1VVVX07NmTpKQkNmzYQG1tLTfddBM+n4958+ZRWVnJyJEj6dGjBzk5Objdbg4fPkx+fj6HDx/m2LFjpKSkEB0d3aJzapgwHhERwbfffktKSgqlpaX88MMPXHvttXi9XsxmM0qlEn9/f9xuNxs2bCAjI4Pw8HDpOD179uSOO+6QejtUKhV6vV4KLgqFApvNhs1mw+FwoFAoMJvNTJw4kfvuu4+RI0eiVqs5efIker0elUqFXC7H7XZTV1cnDb2SyWT07t2bTp06ScFKo9Hg5+eHn5/fBW9IOBwOaUUjtVpNdXU12dnZjeam2O12Nm3axNy5c5k7dy6DBg0C6if1+/n54Xa72bp1K16vV5oQDvVDi6677jquueYapk+fjlarxW63o9VqUSgU1NTUsHPnTmbPno2/v7/0uh49erBz506qqqoICQkhNzdXqsn51CM4OJg77rjjnPf3eDzSMrEHDx5k+fLlJCUlcfPNN1NSUkJhYSEBAQEYDAbKy8v58ccfCQoKatLTVllZyaFDhxrVsLy8nP/85z84HA6eeeYZnE4nBw8eRK/XExQUhMvl4ttvv8Xn8zWqoUwmQyaT4Xa7sdls0ufm9yxD27t3b3r37t1oW3Z2NmvXruXUqVPExsbyww8/oFarCQoKwuFwSO/x0KFDMRqNeL1eKioq0Gq1aLVaaUL58ePHsVgs9OzZU3ovIyIiiIiIoKysjKqqKmmZZo1GIwXT5hw/fpwFCxZw1VVXkZaWxr59+1i8eDETJ07kiy++4K233uK1116ThuU1nGNbEuCnJz48CrlchsVuI8oYKoKFIAiCcEFdEuEiODiYoKAgPv/8c2pra3nyySdJS0sjOTmZ4uJiOnbsSFBQEElJSeTn55OamkpERASDBw9m586dfPTRR3z22We43W4CAwMZOXIkHTt2bPF5hYaGMmLECObPn09eXh65ubk4HA6uuuoqKisrmTRpEunp6bzyyit4vV7y8vJIS0trdIy+ffs2GoKza9cuxo8fz6BBg+jUqRPLli3j0UcfJS0tjS1bthAbG0tmZibZ2dnMmTOHvXv3Yjab2b59O7NmzWLIkCFs2rSJN998kz179lBTU8O+fft46KGHmDRpUqMJuoWFhbRv357BgwdLw7RaQ8Md6Yb5Di6Xiy+++IJZs2Yxa9YsRo0aRV1dHTU1NSQlJUmvq6mp4bPPPiMoKIgtW7awZcsWZDIZYWFhPPzww3i9Xk6ePElqamqj69i4cSNmsxmXy8W///1vaftf//pX4uLiOHnyJAqFguTk5EZ3yidOnMj69et5/vnnSUxMZOPGjWRlZREXF9dqtQAareQFkJeXJy2peu+99xIcHMy7777LiRMnqK6uJi8vj9tvvx0/Pz8KCwuxWCzEx8c3OveGZ6yYzWYSExOl7QaDgX79+vHQQw/hcrkICAhg3bp13HHHHRgMBux2OydPniQlJaVRDVUqFTfffDNPPvkkhw4doqqqijVr1jBv3rxWaVCPGDGCtWvX8vLLL7N69Wq+//57hg0bRnJyMmvWrGHhwoXcdtttXHPNNVLoOXnyJF6vl86dO0vzHaqqqlCpVI0m3cfFxdGvXz/efPNNHnroIbRaLUeOHGHChAmNlq1WKpVSaG+45vLych599FH69evHjz/+SMeOHenatStPP/00RqORr776iq+++gqZTEZkZCQPPPBAi2txqQnw09M1tmP9UlEykCGChSAIgnDhKJ566qmZv9zY8I9zS5/CfCa5XI5CoWj2jlm7du1o3749CQkJ9O7dWxoW1a5dOwYOHMjAgQPp0KGD9P+DBw8mJCSE8PBw+vbtS+fOnQkLCyMrK4sHHniA8ePHt8qDwXQ6HT179qRdu3aUl5eTmprKE088IY2LV6vVpKenk5CQANTfmR8yZMivrkYkl8ulcBQSEsLll1+OzWajtLSUjIwMHnvsMWJiYhg8eDARERGYTCZp1aTMzEz0ej1ZWVmEh4dLD5S77777GDJkSJNGokKhICkpiZiYmFZZmrdBw8pOnTp1kuY9yGQyQkND6dWrF0ajEafTSVhYGIMGDZKCjdfrxW63ExcXJ/Wo6HS6Rnft7XY7vXv3pkuXLtLvM5vNxMXFodfrpdf5+fmRlpaGwWDAZrMRGRnJoEGDGtUgKCiIwYMHA/XBZvz48dx2223SBP3WolAoiI6OJiEhAb1ej0wmQ6fTkZiYSHp6Ounp6XTo0IGSkhJiYmK44447GDVqFDKZDI/Hg1arJT09vVHoaZj0/ssaqlQqOnbsSP/+/SksLEQul/OXv/yF2267TeqNcDgc9O7dm86dOzc6z+HDhxMZGUleXh46nY7HH3+cIUOGNJkr8XsEBQXRr18/VCoVDoeD8ePHc8MNN0iN//DwcLp3796oV6+hTgkJCdLDJp1OJ9HR0aSlpUm9EnK5nISEBHr06IHVasXPz4+bbrqJKVOmSN9zmUwmPUOka9euKJVKjEYjffv2RaFQYLVaGTFiBPfffz9+fn44nU5iY2ObfA579uz5q9f5yzkkv9UDsG79evbv34/L5ZK2jUjtS5d2HdAoW173cyWj/jv6RwULHz5OlhWzes/XXBmTIeJMG3LSWoI1VMmIkSMafZ/bovz8fH744QeSkpJISUm52KdzQR0+fJj9+/czdOhQIiIiLvbpXHBz5sxh7NixdOrUqVUfMnypcTqdZGdns2bNGmmbwWDg1ltvlVY5bc6vzTs+FzKPx9PkCA2Fdrlcjf5RbAmlUolKpRLd8YIg/Gn98mbLb/2j9LepU1m6ZEmjOWD/vnoqE/tchkHber2Jlxqvz8vmg3u45a1ZvJtxvwgXbcjmkgOUdNYw+8V/k5qaerFP54L65ptvWLx4MWPHjmXSpEkX+3QuqFWrVrF06VKeeeaZRouptFXt27dn3rx5jBo1ShqF0RZZLBaWL1/OXXfdJW2Liopiy5YtjUaW/FJLOxbablwTBEEQBEEQBOEPJcKFIAiCIAiCIAitQoQLQRAEQRAEQRBaRdsdaCYIgnAJcns8OFwu1Ipze1bKn5HX58P10xPtXV63mHPRhnh89Qu9OJ1O7Hb7xT6dC8rpdOLxeHC5XG3+Wl0uF16vF4fD0eavFX5eNMXhcOD+6W9VW+RwOFpt7vT5EBO6BUEQzlFrTOiWy+T/L/4O+vDh9XpRyEQHeVviw4ePn59P1Zb5fD7pOVL/H67V6/X+v3hfAdxu91lXMG1rfrny6x8xoVv0XAiCIPyB/jHpr4zufRn6Nr5a1PZDe5ix8Bm2jZ4tnq3Rhqwp2EV2ezszZz8rVotqQ8RqUW1Tc6tF/RHELSVBEARBEARBEFrFHxbXvF4vLpfr/0UXlCAIbU9rPGxQEARBENq6PzRctNbTvgVBEP5oIlwIgiAIwm8Tw6IEQRAEQRAEQWgVIlwIgiAIgiAIgtAq2u4UeUEQBAGP10tJdTlmq5l2oZEY/Pwv9ikJgiAIbZgIF4IgCG2Ux+vFVFXGqdJCPB4vbo+HuLBoAvSGi31qgiAIQhslwoUgCEIb5PF6MVWWcarsNG6PB4DqWjMAsUQTKAKGIAiCcAGIcCEIgtDGeLxeiitLKSgrwufzEh0cQaA+gKJKE9W1ZnxAnAgYgiAIwgUgwoUgCEIb0hAsCsuK8Pl8RAaFExsWjUIuR6GQU0ARNbVmCgBEwBAEQRBa2e9aLcrhcHDo0CHy8vJwu92tfU6XHI/HQ3l5OXV1db+6n9frpaSkhNra2kbbfT5fk//O9vNfqqqqwmKx4PlpWMPZjnkml8tFZWUlVqu12WO2lNvtxmKxNLnOX56fw+GgrKysyWfkXOpx+vTpZs/darVSVVXV5GdOp5PS0lJcLtdZX3MhPqsej4eamhosFstv1trhcFBdXY3T6Wy03e12S8c4k8/no66ujpKSkibX9Ws19Pl81NQhIps0AAAgAElEQVTUUFVV1ex5lJWVXbDPRl1dHVVVVTgcjl/dz2azUVlZid1ub/bnTqeTmpoabDabtM3tdlNdXd3s+99Qq8rKymafp+PxeDCbzZjNZmmb1+ultraWsrKyNvMMnvpgUUJheRFen4/IoDBiw6JRKZXI5XICdQZiQ6MJ0PtTbTVTUFZEjdXy2wcWBEEQhHP0u8LF6dOnufXWW5k5c+ZZGzBtgdPpZPv27YwaNYqsrCwyMzN57rnnmjREvF4vhw4dYvTo0QwbNoz09HQeeOAB3G43+/fvp1u3biQnJzf6b/78+dhsNqZPn06PHj2k7TfeeCOFhYWYTCbuuecehgwZQu/evbnjjjvIyckBYP369YwePVp6Tffu3dmwYQM+n49PP/2Uq666iqysLIYOHcobb7xBWVlZq9bl0KFDPPfcc3zyySfN/ryyspL58+eTkZHBkCFDuPzyy/nss8+orq7mX//6V5Na9O3bl9zcXKmWx44dY+TIkVRWVjY59gsvvMDLL78sBT2fz8frr7/OgAEDGDJkCEOGDOHzzz/HbrdTW1vLE088weDBg+nfvz9XXnklO3bsaDaA/B47duzgtttuIyMjg8GDBzNz5kwKCwub3dfj8fDll1/y5JNPcvDgQaA+BG7dupXJkyfTr18/hg4dylNPPYXZbKaqqooFCxYwYMAAhg4dysiRI1m9ejVVVVW88MILTWqYkZHBiRMnKC4u5pZbbqFfv34MGDCA66+/noqKCgBOnTrFhAkTuOyyy+jZsycPPPBAk0Dze7ndbt544w1GjBhB//79GTt2LGvXrm0SHmw2G2+99RajR4+mf//+jBkzhg8//LBR4PJ6vaxZs4aHH36Yr776CoD9+/fz17/+lczMTIYMGcK9994rfR9OnjzJP//5TzIyMrjsssuYOnUqBQUF0vF8Ph/Hjh3j7rvvZunSpQCUlpby0EMP0bt3by677DKuvvpq6Xh/Vh6v56dgYcLr9REZHEZMWBQq5c8d1HK5nED9TwFDJwKGIAiC0Pp+V7hwu91UVFRQU1OD1+tt1TugLTlWa9+JLSkpYcGCBcTFxbF69Woef/xxPv74YzZv3txoP4fDwWuvvYbRaOTTTz9lwYIFfPrpp2zevJnExESWLVvG8uXLWb58OY8//jgymYyePXuiVqvZs2cP06ZNY/Xq1axbt47Zs2cTERHBokWLMJlMvPzyyyxduhSTycSaNWsoLy8nJyeH9PR03n77bdatW8fq1asZMGAAR44c4X//+x/9+vVj+fLl3HzzzXz11Vds3769Vepx4sQJXnjhBR544AE2btzY6K5yA7fbzYEDB3j//fd5+OGHWb58ORkZGbz44ot4PB5uvvlmqRbvvPMOw4YNIyoqioiICI4cOcL06dO55pprKCoqatRbs2TJEm644QYWLVpERUWF9F7v2LGDxYsXM2PGDD755BP69+/P3LlzMZlMfPjhh+zZs4dZs2axcuVKQkJCWL58+VkDwPkoLS1l5cqVqNVqFi1axPTp0zl06BBr165ttJ/P52PXrl1MnTqVxx57jGPHjknhJjc3lxUrVhAdHc3KlSuZPn06+/btY/Xq1eTm5vLBBx9w++238+GHHzJ06FBee+01fD4ft9xyi1TDhQsXSjUMCgpiwYIFFBUVsWrVKt577z1OnTrFvHnzAPjXv/6Fx+NhxYoVvPPOO2zatIl169b9Zi/Dufjmm2/YsGEDN9xwAytWrKBHjx588sknHDp0qNF+27ZtY8eOHVx33XWsWLGCfv36sXnzZilwAezdu5dVq1Zx/Phx7HY71dXVbNy4kZqaGt5++22effZZLBYLK1asoLy8nDVr1pCTk8PcuXN57rnnqKioYOXKldLxTCYTS5Ys4ccff8RqtWK1Wtm8eTN79uxhyZIlLFq0CKVSyfz581tch4vF4/FQXFH6U7Dw1geLkCjUyqZPFW8uYJwqFQFDEARBaB0tmnNRVlbGgw8+yIkTJ4iKimL69On07t0bjUZzXsdxOBysWbOGjz76iLy8PCIjI7n++usZNWoUp0+f5r333sNqteJwONi/fz/BwcHcfvvtjB8/nqKiIj766CPWr1+Px+Nh+PDh3HDDDXTs2LEllwaAxWLh4MGDzJw5k8TERAwGA6mpqXz77bcMHz5c2s/n82GxWEhISCA+Pp6QkBDsdjs2mw2tVku3bt0AqK6uZtq0afzzn/+ka9euWK1WysrKSEhIwOv1EhISQmBgIAqFgm3btjFs2DB69OiB0WgkMzOTEydOUFlZSV5eHnFxcWi1WjQaDeHh4Wi1Wk6ePIm/vz8ZGRmkpqbi8Xj45ptvWq3nQq1WExcXR58+fTh69Giz+9TV1XHq1CkCAgKYOHEiarVauuteWlpK586diYiIwOl08vXXX5Odnc2CBQvQarWo1Wo6duyIwWBgzpw5jY5rNBrJyMigrKwMhUIhbd+/fz+JiYkMGDCAqKgoRo0axZdffondbufAgQP07duXtLQ0IiMj6du3Lzt37sRqtba4FidPnqS6upo+ffrQt29fOnXqxL59+zh27Bhms5mAgABpXz8/P7p27YrX623UG1NRUUFtbS1jx46lS5cuKBQK2rdvz8mTJ0lOTsbn89G1a1fat29Phw4dsFgsyGQyKYw5HA62bNnCwYMHWbBgAQqFggMHDjBhwgQ6d+6My+UiIyODgwcP4vP52LBhA7NmzSIxMZHExEQyMzPZvn07Y8eOPe/v7C/t27ePdu3akZGRQUpKCqNGjWLhwoUUFRWRnp4u7We32+nZsyeDBw+mc+fOxMfHU1lZKQXVkpISNm/ejN1up3v37kB9T0ZdXR2BgYH06NGDvLw8DAYDNpuNwsJCTpw4wfDhw+nVqxe1tbUkJycjl9ffN7FarWzfvp19+/YxdOhQoD4AO51OrrjiCnr16oXZbCY+Pp7Tp0+3qAYXi8fjoaiylKKKhmARTkxIJGpV02DRoCFgQDQF5UXU2MycKoW4cDEHQxAEQWiZFoWLgwcPEhsbS1JSEl9//TVPPfUUb731FgkJCed1nNWrV/P6668jk8no1q0bR44c4bnnnsPj8dCuXTuys7PZt28fPXr0ICAggP379/PJJ59gNBrZunUrK1asICkpCZlMxvvvv4/ZbOaxxx7DaDT+7mvzer1YrVbsdjvx8fHI5XL8/PyIiYmhuLi40b5qtZobb7yR6dOn43A4OHHiBF26dGHgwIFSIwdg4cKFBAUFMXr0aHQ6HXv37sVut3Pffffh5+eH0+nk/vvvZ9SoUVRVVRETE4NOp0OpVBIbG8vx48epra2loKCAdevWsXLlSurq6hg4cCBTp05l8ODB9OnTB39/f2QyGYcOHcLtdhMcHPy763CmqKgorrjiCjp27Mjy5cub3Uev13PllVcyYsQIdDodlZWV7Ny5k8DAQKKjo5HJZCgUCmpqanjrrbeYOHEiiYmJKBQK4uLiuOmmmygpKWkSLkaMGIHH46GgoKDRnfbrrruOq666itDQUHw+H9u2bSMiIgKNRsNjjz2GUqkkICAAu93Ovn37MBqN6PX6FteipqYGpVJJaGgoSqWSkJAQQkJCOH78eKNwIZPJSEpKIi4ujg0bNrBu3TrpGOnp6XTq1Al/f3+8Xi/FxcWcPHmSXr16ERMTQ2ZmJjNnziQ1NZXDhw8zadIkAgMDpRpWV1ezYMECJk6cSKdOnZDJZLz++uvo9XpkMhkWi4XvvvuOUaNGUVdXR0VFBUlJScjlcuRyOQkJCezdu7fJfJ7fo7y8nKCgIAICApDL5bRr1w63290kyA0dOhSPx0N+fj6vv/46mzdvpn///iQnJ+Nyufjss8+oqqpi7NixHD9+HIDAwED69OnD/v37ueeee3C5XPh8Pq6//npqamo4efIkp0+f5t1338Xr9ZKZmckDDzyAx+Ph0KFDfPzxx9x+++1S74jBYOCqq67Cbreze/duVq9ezddff83MmTNbXIc/2pnBwvNTsGj3G8GigQgYgiAIwoXQonCRkJDAI488QlRUFFOnTmXr1q0UFhbSvn17lMpzO7TX62Xr1q0UFRXx+OOPM378eNasWcO8efPYvXs3MpkMt9tNYmIid911F1qtlldffRWTycTWrVvZvn07/v7+9OjRA7vdTn5+Pvv27WP//v0MHjz4nK/FarVy4MAB6Y58QEAAgYGBQH14aKBSqZqM2Xe73ezevZva2lpkMhlarZbs7Gxyc3MJCQlBJpNhMpl49913eemllwgODkYmkyGTyZgyZQpXXHEFYWFhvPfee7z55pt06dIFr9eLSqVCJpMBoFQq8Xg8WK1W+vXrx+TJk0lLS+PkyZO89tprbN68meuvv56wsDDMZjPLli1jxYoVXHbZZWRkZJxzHX6NUqnE398fvV5/1vdXLpcTEBCAv78/p06dYv78+WzdupUHH3wQg6G+wWKz2fjiiy8wmUzcdNNNUk+EUqnEYDA027Og0+mA+vfizHARGBhIYGAg5eXlvPLKK2zatIkZM2YQEREhvSYnJ4f//Oc/FBQU8MgjjxAdHX1e122xWNi9ezf5+fkAxMfHU1FRITXyARQKBUqlEq/X26SxrlarUavV6HS6RmFTq9Wi1Woxm82sXbuWxYsXk5SUxLhx4zCZTOzduxev14tcLsfpdHLw4EHMZjNGoxGr1cqXX35JaWlpoxpGRUXh8XjYvXs3Tz/9NIGBgdx55514PB58Pl+jHormPsu/l8fjQa1WS9enVCrx+XxN5ic1BDuv14vD4cBsNnPs2DFMJhM//vgjR44coX///gQHB0vhoqE3rLCwkE6dOqFUKikoKODw4cPExcVx6tQpUlNTmTNnDqWlpSxbtoylS5dy8803s3r1anr16kWfPn2kIVpyuRyDwYBKpaKurg6Hw0FtbS3ffvsto0aNapV6/BF+GSyigsOJDolAcw7BokHjgFFMjc1MQRlAFIH6gN94tSAIgiA01aJwERsbS2RkJOHh4cTFxQH1Qz1cLtc5hwu73U5VVRV6vZ6oqCjCwsLo0KEDAQEBVFZWSisShYSE0K5dO3Q6HcHBwRQVFVFeXk5lZSVlZWV89dVXUgMvJCSkyYo8v8XpdJKfn8/OnTuB+kbagAED8Pl80jn4fD6sVitarbbRa202Gx9++CFPP/00Y8aMwel0Mm3aND744AN69eqFQqFg7dq1+Pv7069fP6k2KSkpTJs2jYCAAJRKpTRevbS0VOo5aWio2mw2FAoFAQEB3HnnnajVavz8/IiPj2f9+vWcPn2aqqoqCgsLeeONNygpKeHmm29m+PDhhIWFnVctWsput7N9+3ZeeeUVQkNDeeGFF0hPT5canrW1tWzYsIGsrCxCQkJa/Pu2bdvGs88+S3h4OLNnz6ZXr174+fnh8/n48MMPeeedd+jcuTPPPvssXbt2Pe8hQC6Xi+PHj7N3716gPkyqVCo8Ho/0OXM6nTgcDpRKJarzaNydOHGCt99+mwMHDjBx4kQmTJiARqNh//79OJ1O3nzzTUJDQ/nxxx954YUX2LlzJ6NGjcJisbBx40aysrIa9UzZ7XbefPNNli9fzrhx47jllluIjIzE7XYjk8karZZUW1uLRqORAmxLqFQqnE6ntCJXXV1do/DVID8/H5lMRseOHbnjjjtITk7mk08+YdOmTZSWlvLDDz/g7+9PVVUVBw8exGaz4XA4OHr0KCNGjGDq1KlYrVb+97//sWXLFsaPH0+7du0YNGgQffr0obKykqNHj7Jp0yaSk5NZv34948ePZ9myZezatQu9Xs/69eulYY79+vUjKSmJXr168dJLLzFt2jTppsKlrD5YlFBUUfqLYKH+7Rf/glwuJ0BvIBYoKIdqa8NnRCZ6MARBEITz1qJwkZOTQ3V1NXq9nuPHj+NyuQgLCzuvxpVWq8VoNFJTU4PJZMJut5OXl0dZWRlpaWnS3W6FQiEN52hopAYEBGA0GgkJCeHvf/87ERERfP/999jtdmJjY8/rWgICArj88ssZNGgQUH/ntbS0lMDAQH788Ue6d++O3W7n0KFD0j4NGsbSx8XFERYWhtfrJTg4uNFch/Xr1zN48GBpyArA+++/T1FREVOnTiUoKEhacjYgIIB27dqRk5NDbW0ter2ew4cPYzAYyM3N5b///S/XXnstvXr1kgJPcHAwpaWlLFmyBK1Wy4wZM0hJSWn0+/4IDStnzZkzh6ysLK6//nrCw8Olz4TX66WiooK9e/dy6623tvjcTpw4weOPP86ECROYMGECsbGxUk/T559/zrJly7juuusYOnQoUVFR5/XZbBAYGMjkyZMZO3YsUD+HIicnhy1btnD69GlcLhdFRUWcPn0ao9FIUFDQOR23oKCADz74gJKSEp5++mk6d+5MQECAtCytUqmkQ4cO+Pn5ERUVJS0x6/V6KS8v54cffmhUQ4fDwfLly1m9ejUvvPACaWlpUvBQqVTExcWxe/duMjIykMlk7N27l6SkpCYB4PeIiopi+/bt0upxx48fR6FQSN/fBp9++imVlZXccMMNdOrUifDwcKA+nHXr1g2PxyMtEetwOLDb7dTU1GC324mJiSEqKgqbzUZwcLAU9KOjo7Hb7VLPkcvlQq1WExMTw7Bhw1AoFJjNZin8FRUVsW3bNoKDg3n44YdRKpVERERgsVharSfnQpKCRWUpXq+nRcGigeKsAUMMkRIEQRDOT4vCxenTp7nrrrvQaDQcOHCAzMxMYmJizrnXAurvmo0ePZp9+/bx8ssv8+GHH3L69GlUKhUZGRlS46M53bp1Q6VSsWTJEp599ll0Oh0VFRVcfvnlREREnNe1KBQKaYhNA5/PR0ZGBm+88QbFxcUcP36coqIixowZQ1VVFQ8++CApKSlMnTqVrKwsnn32WSkYNaz8JJPJ8Hq9ZGdnM2HChEa1SUxMZO7cuVitVhISElizZg1paWnExMQwbtw4Fi9eLN1x/uqrr3jggQdIS0tj1apVvPTSSwwYMIBTp06Rl5fHhAkTyMnJIScnh5iYGL799lt27tyJSqUiKyuL1NTU86rH+XC73Wzbto358+dz/fXXk5uby/Hjx0lPT2flypXIZDICAwO54oor0Gq10vNRunbt2uLfvWrVKqqrqykvL2ft2rXI5XI0Gg1TpkxhxYoVWK1WTpw4QU1NjTQXYPDgwefVY6JQKAgKCmoUGrp06UJ8fDzr1q2joqKCyspK8vPzufHGGykrK2PZsmW43W7uvffes4aN3NxcNm3aRGRkpPR++fn50aVLF5KTk7FYLDzyyCN069aNHTt24PP56Nu3Ly6Xq9ka1tXVSeFy37590hyDxMRERo8ezbXXXsvChQtxu91SL8H999/f4sncAIMGDeLzzz/n9ddfJyUlhS1btpCUlETHjh3ZuHEjq1at4sorr6RDhw5s3ryZ0tJSunbtynfffYfb7aZPnz706tWLYcOGAbB79242btxIWloagwcPpry8nHXr1uHxeHC5XGzbto20tDR69+5Nbm4un3zyCU6nk9raWnbs2MGkSZPo1asXycnJABQXFyOTyfDz82PMmDF8/vnnvPrqq/h8Pvz8/Pj000/p379/i+Zp/REagkVxZSlej4fIVggWDUTAEARBEFqD4qmnnmoyi7HhTqjX62324VJerxebzcbll19OdHQ0Xq+XAQMGcN9995GQkHDed0JjYmJITk7Gz88PmUxG9+7dufPOO7nssstQq9XSpNju3buj1+vxeDzExcWRmZlJRkYGcXFx0h3/kSNHMmXKFGnycEtotVoSExOlu53BwcHccccd9OrVC6i/8xwfH0/37t1JT0/H4/Fw8uRJXC4XN910E2PGjEGr1eJwODCZTIwbN47w8HDpvMLDw0lISMBkMlFaWkq3bt34y1/+QlxcHElJSRiNRunBcBMnTmTkyJFERUXRpUsX3G43p0+fRq/Xc/311zNw4EBpNaGGGtntdjweD/Hx8URGRraoFmdyu93I5XLi4+OJi4uTVssym8107txZasT5+flJd58VCgVdu3ZFrVZTXV1NQEAAo0aNajQHAeo/ew136EeMGNGk4Wu1WomOjiYlJQWFQkFeXh4BAQFotVqcTid2ux2fz0f37t0xmUwYjUbUarX0M71eT0JCQosndavVajp06IC/vz8mkwmDwcAVV1zB8OHDkcvlVFVVERQUREpKitST4nQ60Wq1pKSkYDQasVgsVFZWSr1dDc+EiIyMpFevXiQlJVFSUkJJSQlxcXHcddddJCUlSfUJDAxk5MiRUg3dbjcnTpwgJiYGn8+H3W7H4XBgNBrp0qWL1JNVUFCATCbjjjvuICsrC61W2+LvSlBQEO3bt8dut1NRUUFaWhpTpkwhMTERi8WC3W4nOTmZPn36EBUVhcVioaSkhI4dOzJ58mR69eolzedpmNOj0+lISkqSJsQbjUYKCgpwuVzSsykiIyOJjY0lJCQEk8mEXC5nzJgxjBs3DoPBIB1Po9Egl8vp0KED3bt3JyYmhujoaPLy8qiurqZfv37cfffdv7r4gUqlarLc9W/Vbd369ezfv79Rj0hWSl86RXdodpnYX3NmsPA0BIvgCDTqlgeLBnKZDLVKjVatxuFyUmOz4HQ50ag0aNXnHkJ9+CgsK+aLvd9we6cRyPjjek+FC+uYuYhSo5vLRgz91Zt/bUF+fj4//PADSUlJpKSkXOzTuaAOHz7M/v37GTp06HnfnP0zmjNnDmPHjqVTp05N2iFtidPpJDs7mzVr1kjbDAYDt95666/eZG3pox1kHo+nyREaCu1yuZodJuDxeKisrESlUuF2u7Hb7ajVaoKDg8+r1+JMDZM7nU4nKpWqUYPRarVKjWaZTCbNRdDr9ahUKqxWq/SEZL1ej8FgaJWhHg3XajabsdlsKJVKjEYjGo0Gr9dLVVWVdK5er5fq6mppbkRgYKA0odjr9VJWVkZQUFCjyeGANOzD7Xbj5+cnLUUL9WPiG64rICBAmhDc8FTohkZ7YGAgGo0Gm82GzWZrNKG4YfKqn59fq9QD6huxdXV1KBQK6RobHlqn0+lwu91NnoGhVCoJCgpCLpdTV1eHzWYjNDS02eM31CssLKzJl762thav14vBYEAmk1FdXY3D4Wj0RZDL5QQHB0t1PfNnGo0Gg8Hwuz+nZ2qYYF9bWytNZNfpdHg8HmmejsFgkK6hIWjpdDpUKpX03p95fgqFAj8/P/R6PU6nk+rqatxuNxqNBqPRKE2Urquro66urtEfh4a6nXm8hgUGGnrkampqpPM1Go2tEiwanPkd9vPzkyZNNyzLrNPp0Gq12O12LBaLFLYMBkOT74XL5cJut6NSqdBqtY1q3fC3oOEz4PF4sNls0t+JhpDyy/eqYR6IXq+XbpA0zEHR6XTSSlxno9Ppmtxs+a1/lP42dSpLlyxptEjBo5OnMrr3Zei1unOqa8P5S8HC6yEyqPWDRaPf5/VitlkoKCvGbLNg1AcQG3buPRhen5fth/YwY+EzbBs9W4SLNmRNwS6y29uZOfvZC9ojfin45ptvWLx4MWPHjmXSpEkX+3QuqFWrVrF06VKeeeYZafn8tqx9+/bMmzePUaNGtUp74FJlsVhYvnw5d911l7QtKipKGl1wNs11LJyP31VRhULR6pOENRpNs8dsWGnnTL+ccGkwGJqM7W4tzQ2JgfpGxZkNu4YGbXN3PuVy+VnvBDSsGNQcf39//P39mz2n5n5Pw13aC61hVacz/fI6znzOwy/pdDoplDTn1+r1y3r82jCW1pgs/msaJtj/8lobAt8vaTSaRj0xv/beN+zfXB1kMlmzNfy1ujX45dC/1nS27/Avr/O3rhvqewnOnB9ztlo3/Oy3/gYoFIpGnx25XH7W79elpmmPRQRRweEXLFjAT0OkdAZiw6CgTAyREoT/Y+/Ow9sqD3yPfyVZ1mbLsi2vsuUVL4njOM6+OQtJyAYkJIQ107KEaUvpDPS5dOh0pnM77e30odNpy23hzhAgAQoBQiB7yL7HieM4tuN43/fdsiVr1/3D+BCTBAhxlqbv53n4A+kc6dV7TpL3d95NEIRv7s6Na4IgCH/l3B4PLZf2WISEExUSjvoGBothCrmcIG0gGKHx8zkYPsAsAoYgCILwFUS4EARBuA0NBYv2EUOhokIibkqwGPbFPhjg6/TRZ7XQAIgeDEEQBOFqRLgQBEG4zXwRLNq+6LEIvrnBYtiXd/LuHbCADxA7eQuCIAhXIMKFIAjCbeSyYBEcTlTwzRkKdTUjAgYtQ3MwOkD0YAiCIAhfJsKFIAjCbeKyORa3YCjU1Vw6RKoBhnowgK8KGD7A6rKDWC3qjuHwuqQVAfv7+291cW4om82Gy+VicHDwjv+tg4ODuN1uafXNO53X62VwcJCBgYFRW130djQwMCAtc38ziXAhCIJwm+izWmjv7cLhchIdGnHTJm9/U8MBw4ePGreL3gELcpn8quHC4/Py+9JtiHBx56i3dtBr8/Jf//VfN3xFvlutqamJ0tJSOjs7yc3NvdXFuaGqqqooLS3lD3/4w1WXib+T9Pb2smHDBg4ePHjH73NRUVFx07/3poULmUyGXC4ftTX1BUEQ7jQKuQL5539Huj1uPL7rW2v8RvAx1MPi8XpBxleuEe/Fh06hRoSLO4efTIFaqyYxMXFUN2e9HSkUClpaWjCZTKSmpt7q4txQdrudpqYmEhISiI6OvtXFueGUSqW0gfOdHC4cDsct6Ym6aeFCLpfj5+d3R19EQRCE6xGo1REVEkFjZwtdll7kMjkmYyRa1ehtgnk9PF4P3f29NHW24HQ7MepDiA79qr1VZNwTlS2ixR3EX66gLU7FI4888jexiZ7FYmHJkiV/E5vodXR08Mgjj/xNbKL38ssvs3z58r+ZTfTee++9m/q9oudCEAThNqGQKwgzDG2Q2dTZQkdfNz7AFBpxTTt63wjDwaKxo2gdApQAACAASURBVAWbYxCjPoSYsCgCbnG5BEEQhNvLnRvXBEEQ/gqNDBitdPZ1A7c2YHi8Hrr6e2nqaMHmsBOqDyHGKIKFIAiCcDkRLgRBEG4zIwJG160NGJcHi+ChYKERwUIQBEG4nAgXgiAIt6EvAoaPpq62WxIwpGDR2cqgw45RH4xJBAtBEAThK4hwIQiCcJsaChhDy30OBwwZEH0TAsYXk7dbGbQPEqoPxmSMFMFCEARB+EoiXAiCINzGpIAhk9HU2UqHZagHIzo0Aq1ae0NWYnJ7PPQM9NL4ebAI0Rs+Dxa6G/BtgiAIwp1EhAtBEITbnEKuICzoi0neHZYvVpEa7YDh9njo6e+lseuLYDE0x0IEC0EQBOHriU0nvgGPx0NfXx8Oh+Mrj/P5fCP++6bvuVwuent7cbvdl31mf38/NpsNr3fkZlo+nw+LxcLg4OBln/flc0ebx+PBZrMxODh41WN8Ph9Op5Pe3t7Lyg7g9XqxWCw4nc7LzrtaPcHQVvY2m+2qv7mrq+uK9Th8DV0u19f9vGvi8Xi+tkww9HttNhsDAwOXHed2u+nv779ifQ7XocfjGfG6z+fD4XDQ29t7xe/1eDx0d3df8b75qvq9XsMb9nxdPX9VGex2+xU/46vqcLg+LBbLFT/T6/VitVqxWq1XLMONqo/RNBwwokMjUPn502nppqmrDZvdxmiVfDhYNHUNzbEIkSZvi2AhCIIgfDO3Rc9FZWUlJ06cICIigilTphAcHHyriwQMNfrKysp4/fXXaW5uRqPRcPfdd/P444+P2K/D6/Vy8eJFfvWrX0mvyWQy/v3f/52EhAR27tzJpk2bpEavSqXi97//PXq9ni1btrBr1y76+/sJCQnh7/7u75gwYQJWq5U333yTgoICnE4nWVlZrF27lpiYGEpKSti0aROVlZXI5XLmz5/P0qVLiYj4YjOr2tpaNmzYQEZGBsuXL0elUo1avdTU1LBnzx4SExNZsmTJZe/39vaye/dudu7cicvlIjY2lrVr10ob8/h8Ptrb2/nd737H6tWrmTJlCjAUHH74wx9KgUMmk/Hoo4+ydOlSenp6+OMf/0h5eTlut5tFixbx+OOPo1arpe8tKirid7/7Hf/rf/0vUlNTUSgU0nt79uzh0KFDrFu3jrvuumtU6qGkpISPP/6YCxcuoFKpyMnJ4d577yUsLGzEceXl5WzevJmioiKUSiWTJ09m1apVhIaGUlhYyKZNm2hoaCAwMJD58+ezatUq7HY7+/fv59NPP8XhcBAVFcVDDz3E1KlT6evr4/333+fIkSP4fD7i4uJYt24diYmJuFwutm3bxo4dO7BYLERHR/PjH/8Ys9lMZWUlv/jFL0aEr3/+538mLS1tRF19Gx6Ph61bt7Jnzx56enqIjIzkoYceYtKkSfj7+0vH+Xw+3n33Xfbs2SMFpqysLFauXEl0dDT79u1j586d9Pb2EhMTw8qVK5k5cya1tbV8/PHH5OXloVQqmThxIg8++CDR0dG0tLSwbds2jh8/jtvtJjs7m7Vr1xIeHi59Z319PevXr2fcuHEsXryYrVu3snPnzhG/ISgoiH/9138lKirquuriRlLIFYQbQpHx+RwMyxdzMK63B+PSYGFz2AkJNBAjhkIJgiAI1+i26LmoqanhL3/5C/v27aO3t/dWF0fS1dXFxo0bqaio4J577iEuLo7XX3+ds2fPjjjO4/FQUFBAZWUlCxYsYMGCBdx9993o9XpkMhl79+7F7XYzd+5cFixYwLx58/D396ekpIQ///nPREZGsnjxYnp6evh//+//0dHRwccff8z+/fvJzMxkxowZ7Nu3j88++4yWlhbWr19PXV0dM2bMICEhgQ8//JAzZ85IT3ptNhtbt26Vyn6lJ/nfRnNzM++++y6//vWveeedd6itrb3sGKfTSX5+Pm+++SbJycnMnTuX1tZW/vSnP2G32+np6eG///u/+Zd/+Rc++OADWlpagKGA1tTUxM6dO7n77rulOoyLiwPgP//zPykuLmbevHmkpaXxf//v/6WiokJqoPb39/Paa6+xefNmOjs7RzyFrq6u5q233mL79u2jdn/19vayZcsWCgsLmTJlCiaTid27d3PgwIERx3V2drJz507y8vKYPn06d911F4cOHWLbtm3U1tayadMmWltbWbhwIeHh4WzevJljx45RUlLC+vXriYyMZP78+VK46uzs5MSJE7zzzjtkZ2czd+5cLly4wJ///Gfcbjf5+fn88Y9/JCUlhUWLFnHu3DneeustAAoKCrh48SJz5syR7tPg4OBR2diyoKCA999/H61Wy9133017ezubN2+murp6xHEWi4VTp04hk8mk65yVlUVQUBBnz57lk08+wc/Pj7lz59Ld3c0HH3xAYWEhn332GYcPH2bChAmkpKRw9OhRPv30U/r6+ti3bx979uwhKyuL1NRUjhw5wu7du6Xv7O7u5qOPPuLjjz+mvLwcpVJJQkIC06dPZ/r06WRlZdHV1UVRUdGohvAbZXgOhunzHoyOvm6apR6Mb9eHcaVgIeZYCIIgCN/GLe+5KC4u5tNPP6WgoICWlhbUajVarRaZTMbSpUsJDQ3ls88+o7+/nwULFqBWq9m/fz9+fn7MmTOHvr4+9u7dS11dHVqtlhkzZjB37txR6f3o7u7m8OHDrFu3jrVr11JTU8Pp06fZv38/kyZNko7zeDxcvHiR6dOnM2/ePFQqFeHh4dLT4OLiYh577DGmT5+O0WgkKCgIpVLJmTNnAHj00Ue56667UKvV/OpXv8JisbB9+3YyMjJ45JFHMBgMVFZWkp+fT0xMDEVFRTz22GOsXr2anp4eTp8+TXl5ObNnzyYoKIj9+/fT1NSEVju6q7o4HA56enpwOp0olcorHjMwMEBRUREej4fvfe97BAYGEhERwc9+9jNKS0sxmUy0t7fj8XiQy7/Ith6Ph4qKChISEli8eDFOp5Po6Gj8/f3p7Ozk7bff5tVXX2XWrFlYrVaMRiMBAQHIZDJ8Ph8bNmzA39//sifwg4ODrF+/Hp1Oh043eg2l2tpaKisrycrK4umnn6a1tZWXX36ZvLw8li9fLn1Xa2srtbW1ZGRk8OSTT9LY2EhLSwt5eXkkJydTWlrKww8/zJo1aygqKuK//uu/+PTTT5k4cSL9/f388Ic/xGg0Ehoayk9/+lNqamooKCggPDycdevWAdDX18fGjRv5xS9+wY4dO4iIiOCpp55CoVAQFRUlDbcqKipiypQpzJs3D51OR3h4OH5+fqMSLk6ePIlcLuf+++9n2rRp6HQ6PvroI2pqakhLS5OOa21txefzMXnyZBYsWIBOp8NgMKBQKPjggw+w2Wx85zvfYdq0aQQGBrJr1y727dtHQ0MDiYmJPPPMM/T392O1Wjl+/DjZ2dnk5+eTkZHBd77zHfr6+qSwAkPX/+zZsxw4cID09HQA1Go1U6dOJTs7G6fTSV5eHgcOHODFF1/EYDBcd13cDF9eRaqj79JJ3hpk19CH4fZ8virU8FCoz4NFoAgWgiAIwrdwy8OF0+lkcHAQj8eD0+nE6XRy8eJFzp07h9FoxGQy8Ze//IWmpiZCQ0PRarW88cYbZGdnExISwrZt28jPzyc0NFRqcPT09PD444+PGI5xrXw+HwMDA/T29jJp0iSUSiWhoaGkpqZSVVU14liPx0NRURGtra388pe/xGazkZ2dzT/8wz8gl8spKyvjww8/5MiRIzidTpYuXcqqVauYPHky8fHxxMfHo1AoaG1tJTAwEK/XS2NjIytWrMBgMBAQEEB6ejrHjx9HpVLxwgsvkJmZiU6nk3omdDodSqWSkpISjh49SkZGBnV1ddd7eUYIDw9n2bJlxMTEsHXr1ise4/F4cDgcKBQK9Ho9fn5+BAcH09/fT3V1Nenp6axZs4aOjg6Ki4tHnHfhwgU6Ojr4l3/5FxwOB9HR0bzwwgvU1tZit9spKChg8+bNAEycOBGj0YhcLufEiRMcO3aMH/3oR3zyyScjyrNlyxb6+vqYPXs2zc3No1YX7e3tyGQy4uPjCQwMxN/fH5PJRG1tLX19fVK4iIyM5JFHHkGv16PT6bDZbFitVsLCwvB4PHi9XrRaLUqlEq1Wi8fjobGxke9///tERUURExODxWKhvb0djUZDWFgYixYtYu7cuej1enp6emhtbcVoNOJyuThz5gyRkZH8/Oc/x2KxEBkZyRNPPAEMhdyGhgZ+/etfY7fbyczM5NlnnyUwMPC6A0ZjYyORkZFERUWhUqlIT0/H5XLR19c34rjm5mYaGxspKyvjzJkzaLVaFi9ezNy5c+ns7CQwMJDExETUajVmsxmtVktpaSkKhYL09HQMBgM6nY6kpCTOnz9PeXk51dXVhIWF8dJLL+F2uxk7diwPPPAAXq+Xqqoqtm7dSk5OjtRrJZPJ8PPzw8/PD4vFwqZNmxg7diyLFi0aEXhvd6MRMESwEARBEEbbLQ8XSUlJTJs2jRMnTpCens7ixYs5d+4cBQUFlJaWUl9fT01NDS0tLZSXlwPQ1NTE8uXLqa2tZd++fcybN48nn3ySgoICXn/9dT777DPmzZtHQkLCNy6H3W6nurqahoYGADQaDW63G6/XKzUU5XI5Wq2Wzs7OEefKZDLCw8NJT08nKyuLxsZG3njjDTIyMpg2bRqZmZnMmTMHs9lMfn4+f/jDH8jIyCAjI4OxY8disVh477332LZtG6tWrcJgMOByudBqtdKTeK1Wi9PpRK/XM2fOHNxuN0ePHuXNN98kNjaWiRMn4nA42LJlCwaDgVmzZnH8+PHRuEQSnU5HQkLCiMbzlwUEBJCamsp7773H73//e2JjY/nss8/w8/PD5XKhUqlITU1Fr9dfFv7UajXz5s1j/vz52Gw21q9fj8FgIC0tDYfDQU1NDdOmTaOhoYENGzYwfvx4EhMTefXVV1m0aBGZmZkjPrOwsJA9e/awevVqDAYDfn6jd7u7XC7kcrk0jEalUqFSqXC73SMmqRuNRoxGIw6Hg7y8PN5++22cTifLli0jJCSEsLAwNm3axODgIJWVlRQWFpKamkpaWhopKSm0tbWxefNmtm/fziOPPILJZCI+Ph6Px0NDQwMbN24kLy+P73//+9LQsu7ubtasWYNarWbLli14vV5++9vfYjQaSUxMJDs7m9bWVjZs2EBKSsqozMmx2+2oVCqpjjUaDV6v97JJ2XK5nNTUVAwGAyaTiRMnTrBlyxYCAwNxuVz4+flJZRnuibJYLAQGBqLRaABQKpWo1Wo8Hg+9vb3U1tbi8/mYP38+vb29HDlyBI1Gw4oVK9i9ezcBAQEsW7aMTZs2jSjL4OAgJ0+e5Pz587zxxhsj5u/8tbiegDG83KwIFoIgCMJouuXhIigoiIiICDQaDSEhIZhMJrRaLTt37uT8+fM4nU5pXHhubi5utxuj0UhSUhKlpaU4HA4yMzOZPXs2arWavXv30t7eTktLyzWHiwsXLnDs2DEAIiIimDhxovQeDM0LsNvtlw0JUqlUfO973yMqKoro6GhpqNZnn31GTk4OP/vZzxgzZgx6vZ6cnBy2bdvG+fPnSU1NpbS0lDfffJOWlhbuu+8+Vq5cSUhICHK5HIfDIa3243A4kMvlyGQyaQz58ePHCQsL47777iM9PZ39+/eTm5tLeno6eXl51NbWYrVauXDhAuPGjZMaZzeSWq1mypQpPPHEE5SVlUkT1YODgwkMDLzqeUqlkiVLlnDPPfdIYaKhoYHNmzfzs5/9DJvNxsMPP8ycOXPo6enhwIEDnDx5kuPHj1NeXs60adPYs2cPAwMDHDlyhNjYWF599VU6Oztpbm6mtLSU1tZWDh06RHx8/GWTrq+VQqEY0Xh2u91S4Pjy0KzOzk4+++wz9u7di8Fg4Dvf+Q5TpkzB4/Hw8MMP89lnn3Hu3DkAUlJSCAgIwOl0UlxczNtvv01nZyfLly9nxYoVKJVK7HY7p06d4p133sHj8bBu3TqWLl2Kx+PBz8+PpKQk1q1bh0qlkhYW+M1vfsO6deuIjIzEZDJhs9k4evQohw8fZtGiRdcdLobD4/AcmOGA9eW6SE9PJyIigrCwMIKDg4mKimL9+vWUlZWhUCikegSkzxv+8zb8mR6PB5fLhUwmQ6lUotPpmDx5MuvWraOjo4M//elP7Nixg5iYGLZs2cKiRYvIzc2lrKwMrVZLfn4+2dnZWCwWdu3axZgxY6QhU3+NhgKGEZDR1NVKR9/QMrUxxkg0KvUVA4YULDq/CBZi8rYgCIIwGm55uLjUcGMiLS2N5ORktm3bhtVqZc2aNTidTvbv34/VamXRokWMHTuW2tpavF4vfX190vKVPT096HS6a55voFaryczMJCRkaC15nU6HQqFAq9VSXl5ORkYGTqeTqqoqMjIypPN8Ph+9vb189NFHPP/888DQ03uNRoPD4aCiooIDBw6QlZWFTCYjJCQEmUyG0+mkqamJl19+mcDAQB599FFmzpxJUFAQPp8Po9FIbW0tNpsNnU5HdXW1VKa3336bs2fPMnXqVBYuXEh8fDz+/v643W7i4uJwuVwUFhbS0dGBy+WiubmZtLS0mxIu3G43fX19aLVaHn30URQKBY2NjRw+fJikpKSrnud0OtmxYwczZswAhhqrBoMBu91OUlIScrmcmJgYFAoFYWFhqNVqaS5BZmYmDQ0NtLS0YLfbKS8vp6urC39/f8xmM7W1tbS3t2OxWCgtLaW/v/+6w0VQUBBOp5P29nbcbjft7e20t7cTGBgojfeHoTkoe/fuZefOnUycOJFFixaRkpKCUqmkra0Nl8vF7NmzMZlMdHV1MTAwQFhYGFVVVbz22mv4+/tLYUSv1+NyuSguLuaVV14hPT2dZcuWkZ2djUqlwmKxkJSUhMFgQK/X4/F4iIqKwmq1YrPZ2LRpk3SP6nQ61Gr1ZUsBf1tGo5Hi4mJpGFR9fT0KheKyHq7CwkL6+vqYPn261BM43Nuh1+uprKykra2NmJgYOjs7GRgYICkpSQqJw0OtGhsb0el0xMbGEhcXJw2XGhgYwGAwYLPZUCgUxMTEYLfbKSoqoqWlBZ1OR11dHRMmTKCrq4vc3Fxeeumlv6rhUFeikMsv6cFopfPzHowrBYxLg4VYFUoQBEEYbbdFuNBoNCiVSk6dOsWmTZtYu3YtY8eOZdeuXbhcLtLT09FoNBw7dozu7m7S0tJISkpi3LhxJCQksGPHDgYGBqivr6e1tZUHHniA+Pj4ayqDWq0mNTWV1NRU6bWGhgbGjx/Pxo0b8Xg8VFVVUVNTw3PPPcfAwACvvfYasbGx3H333Rw4cACXy8U999xDfX09Fy5c4Lvf/S5KpZJ3330XlUpFZmYmBQUFyGQyxo8fz/79+zl16hQPP/wwNpuNQ4cOoVQqycnJIScnh6NHjxISEoJGo+HIkSPSBO6tW7dKvT0XLlygpKSEjIwMJk2aREJCgvTkt6SkhKioKNLT02/okI/h+RLbt29n2bJlWK1WPv74YxYuXIjJZGL//v2kp6djNpuv+hler5fy8nIOHz7M008/jcPh4OOPP+b++++Xhs698sorLF++nIaGBpqampg6dSpms3nEvgdvv/02M2fOJCYmhqeffloKIKWlpZSWljJ79myMRuN1/+aEhATCw8M5dOgQOp2O9vZ2ampqWLJkCTabjR07duDxeEhMTGTv3r10dHQQGBhIRUUFVVVVmM1m9Ho9Z86coaWlhXvuuYeysjKampq45557OHbsGEeOHOHxxx+nv7+fAwcOSEPOtm/fzsWLF5k3bx5tbW3s2rULvV7PzJkzWbZsGa+88gp/+ctf0Ov1bNy4kcWLF+Pv78+RI0dwuVwsWbKE1tZWCgsL+elPf3pdc5OGTZkyhUOHDvHhhx9SWVnJ9u3bCQ0NJTY2lrNnz3Ls2DFmzJhBV1cXW7ZsobS0lHHjxnHo0CEAUlNTsdlsnDx5kr/85S+Ulpayb98+/Pz8WLhwISdOnODAgQOsX79eGmI2YcIExowZQ2pqKgcPHiQyMpKenh7Onj3LrFmzpHk5MDRHpr+/H41GQ1ZWFi6Xi4aGBnp7e5k8efJ1//7bgRQwZEMb7Q0FDB8xxigpYIhgIQiCINxoip///Of/9uUXhyd3er3eK26A9m0MDxe50sRRlUrF4OAgNpuNwMBAMjIyiIiIwOPxSKsHJSYm4na7iY+PZ9myZaSlpRESEoLRaMRisVBXVyctb7lmzZprDhdX4u/vj9FopL6+XmqIzJ07l/vuuw+v18vWrVulFapCQkIoLS2lqamJtrY2cnJyePDBB6UVeSoqKmhqaqKrq4sHHniAefPmkZ+fj0wmQ6PR0NHRQXNzM11dXWRmZpKcnExXVxeNjY00NjaSlpbGypUrcTqdNDc3ExgYiM1mo6WlhebmZqKiorjrrruIjY3FZDJhMpno6Ohg7NixTJ06dVSX2LTZbPT392M2m0lJScHn81FbW8vRo0cZN26c1OAvLy+nvb2dgIAA1q5dS2JiovQZLpeL2tpaJk+eTExMDHK5nPDwcGpra6UVleLi4nj66aeJjIwkNjaWqqoq6b158+Zx7733EhMTI/1ek8lESUkJDz74IHFxcdIQIJPJJD3VXrZsGdHR0dddBxqNhoCAAHp6eqiursZisZCdnc3SpUtRKpXk5eVJPSRNTU1oNBqpF6mtrQ21Wk1GRgZer5eamhoaGxtxu93MmDGD6dOnU1NTg81mQ6/XS9d4YGCAhIQEiouL0Wg0KBQKmpubaWlpwWq1Mn36dCIiIhgYGKChoYH6+np0Oh0/+MEPMJvNhIWFUVpaKp0zbdo0Vq1aJS2ZfD1CQkLwer00NzdTX1+PWq1m+fLlZGdnU19fT35+PmazmfHjx0tD3pqamlAoFMyfP58ZM2ZI+0s0NDTQ0NCATqdjyZIlzJ49m+DgYAYGBqiqqqKnp4eUlBRWrVpFQkICgYGB9Pb2Ul9fT2dnJ8nJyTz00EPExcVJ1z8kJASXy0ViYiKzZ8/G5XLR2NjI4OAgDz/88Deej/Pljfa+rt52fD6889K5J7PHTCE5Oh5/vyuvuHY95DIZGpUGP4UCm91G/+AAbq8HrUqDTCajZ6CPxpswFMqHj8aOFnbnH2ZlzLRR3UFcuLVqrG1YjX4sXLRQ2kvmTlVXV0dBQQEpKSmMGTPmVhfnhrp48SLnz59n/vz5I/bMulP9/ve/Z9myZSQnJ//V91x/leEh1tu2bZNeCwwM5Lvf/S6hoaFXPe96N5W9LXouTCYTf/d3f8fChQvRaDSYzWYUCgV///d/j8vlIiYmBqVSybp163A6nZhMJmBoKMa9997L+PHj6ezsRKVSYTabR20TLI1Gw8yZM4mMjKStrQ2tVstdd90lDU95+umnCQgIQKlUcv/995OSkkJXV5e0utPwHIMnnniCkpIS+vv7MRgMUk/CokWLmDJlyogA5+fnR2BgIOHh4TzzzDM0NDTg9XqlxnJfXx9///d/L80DGWY2my+bC7Js2TJUKtWoPJm+VGRkJEuWLJF6Q4Yn6X7/+9+Xnsh/97vflVayioqKumxIVGBgIE888YR0rfz8/Jg8eTJGo5HGxkb8/f1JTEwkMjISgPnz5xMbG0traytarZaUlJQrNop/+MMfYjabL/vLIioqikcffXRUggUMzSWYOnUqJpOJpqYmlEol8fHxRERE4HA4WL58OT6fj8DAQEJCQkZcL5lMRlhYGIGBgcyZM4e4uDi6uroICgoiPj4etVrN/PnzpU0Hh6nVaiIjI1m9ejUDAwMj3tNoNMjlcqKionj22Weprq7G4XAQExMjhbp7772XpKQkOjo60Ol0pKamEhQUNCpL0QYFBbFmzRomT55Mf38/oaGhxMXFERAQwNixYwkLCyM8PByj0ciaNWuoq6vDZrNhNBqJjY0lICAAgBUrVpCVlSUNDzObzeh0OjIyMjAajdTV1SGXy4mNjSUmJgaZTEZWVhaRkZE0NTVJ7335Ouv1eubNmyfdF0qlUnqI8dewt8W1UMjlGIOG/tFo7Gihs68bn89HgFpHR1+XmGMhCIIg3FC3RbiQyWSYzebLhs1cuj4+MGLI0rDAwEDGjh17w8rm7+9Penr6ZRM+hxsnlx43fvz4K36GVqsdsS/GsK/bKTo2NpbY2NgRrw2vPvRNXMuE9muh1Wqlze0AaS7J8HwV+PpyKpXKy54EKRQKkpOTSU5Ovuz44QBzpXvgUle7BsON6dE0HIAu7ZGBoRBw6Wtf9XRPp9Nd8f690ucO+6r7fTi4XGlOiUKhuCywjCaDwcCECRMue/3L98JX3Rtfvo+GKZXKK/55AKS5NV817M7f33/EuQqFgsjISCm83mkuDRgNHS2093bRThcKuUIEC0EQBOGGui3ChSAIgjC6vggYMho7WnB6XAQHBBFjjCJAM7obbAqCIAjCMBEuBEEQ7lBDASMEhVyO1W7DqA9BJ4KFIAiCcAOJcCEIgnAHGw4YxqDLh5sJgiAIwmi7c6fIC4IgCIIgCIJwU4lwIQiCIAiCIAjCqBDhQhAEQRAEQRCEUXHT5lz4fD48Hs8dvVmJIAh3LvF3lyAIgiB8vZsWLrxeLz6fb1Q27BIEQbjZRmuzvT5bP209HWhVmlH5vNuR1+elu78XgC6H5RaXRhhNA247druP9vZ2DAbDrS7ODdXR0YHVaqW7u5umpqZbXZwbqquri8HBQdra2q6419CdxuPx0NnZSXNzMwqF4lYX54axWq309PTc9O+VeTyey/b4Hn5C53K5cLlcN71QgiAItxutVovX6x3x2tf1Zvzg2WfZuGEDVqtVek2jVKP2UyLjzn7Q4vC4sDoHCVZq4Q7/rX9LnF4XCp0ak8mEVntnL2tssVhob28nODiY0NDQW12cG6qrq4uOjg7MZvMdf10Bzp07R0xMDEaj8Y5+6O3xeOjq6qKh4krs5wAAIABJREFUoUF6LSoqikOHDpGSknLV8778b921EkvRCoIg3ESZpvEkRyThr/C/1UW5YXz4qO+s51D5YZ5LWi6yxR2koKeaxnA3D6xZjclkutXFuaFKS0s5duwYWVlZTJo06VYX54bKy8vj+PHjrFq1ipiYmFtdnBvuhRdeYOXKlWRmZt7RQ17tdjunTp1iw4YNN/V7RbgQBEG4iVKikpmePA2N/509LKqwXs/xiiPclzDlju+l+VsiV8jxj7WzYsUKxo4de6uLc0MdOXKE9vZ25s2bx6pVq251cW4ovV5PY2Mj999/P+PGjbvVxbnhfv7zn7Nw4ULuuece/Pzu3KZwf38/CoXipoeLOzeuCYIgCIIgCIJwU4lwIQiCIAiCIAjCqBDhQhAEQRAEQRCEUSHChSAIgiAIgiAIo0KEi2/A6/UyODiI2+3+RsdeuuzkpRwOB06nE5/vstV/sdvtuFyuy97zeDzY7fYrLgvmdrtxOBx4PJ7LzhkcHLwhywj7fD5cLheDg4NX/B2jZWBg4IrfbbVaL/u9MFQXNpvtupdPu1Y+n0+6rt/EcN19mdvtvurrV/tdPp8Pu93+je7Lm8XtdmO32694ja6X1+vF6XTicDiu+N7VroPH48Fms/1NL6vt9rhxuB14fTf3z4cgCILwt+fOnSI/CjweD21tbRw9epT29na0Wi0ZGRlMmTLliusie71eysrKOHnyJE8++aT0utVq5eDBg9TX1+Pz+Rg/fjxTp05FqVRK37Njxw4SExMZM2YMKpUKr9dLfn4+Fy9epLe3l6ioKGbPnk14eLj03cXFxbS3tzN+/HgiIiIAqKmp4ezZs7S0tKDRaBg/fjxjxoxBp9Ndd3309/dTVFREUVERLpcLs9nM5MmTiYqKGnGc1Wrl/PnzXLx4EQCZTIbRaOS+++7DarVy6NAhWltbAVAoFCQkJDBnzhxgqMHc09PDhg0b+N73vodGM7SiTmNjI4cPH6azsxOdTseUKVMYM2YMfn5+nDlzhqKiIvr7+zEajeTk5BAdHU1ubi6VlZUjGpX+/v4sWrRIqq/r0dLSQn5+PnV1dSiVSsaMGUNmZiaBgYFXPH5gYICzZ8/S09PDkiVLpE3Z3G43paWllJSUcP/996NSqbDb7ZSVlZGXl4fVasVoNDJlyhSSk5Oleurr62PXrl1MnjxZet1ut7Np0yYpcMhkMqZMmUJGRgYbNmy4LIiYzWbmzJmDv//1LYvq9XopLCyksLAQi8VCaGgoU6dOxWw2j1iJ4+LFixQWFo4Ij35+fmRnZ+PxeMjPzx8RWvV6PZmZmej1evLy8mhoaECpVJKens6ECRPQarW0tbVx8uRJmpubUalUpKWlMXnyZBQKBY2NjZw4cYKuri50Oh3jxo1j0qRJWK1WDh8+POI+TExMJCcn57rq4XY04BigtbeNQccgoYGhRBoikMvEcyVBEAThxhDh4iv09/fzySefsGXLFlJSUujt7WXfvn38+te/Jj4+XjrO6/XS0NBAWVkZmzdvJj8/f0S42LZtGx9++CERERF0dnaya9cuXnnlFcxmMwUFBVRXV/Pyyy/zxBNPkJSUhEql4uLFi6xfvx6n04lcLueTTz7B4/GwdOlSuru7qaqq4r333sPtdhMeHk5ERARWq5WPPvqIM2fOYDAY6O7upqCggCeffJLs7Ozrqguv10tRURGvv/46TqcTf39/Dh06REtLC88888yIsNXZ2cn7779PeXk58fHxyOVy4uLiuO++++ju7ua3v/0tkZGRBAUFoVQq8fl85OTk0NPTQ2FhIWfOnOE//uM/eOyxx9BoNHi9Xv7nf/6HU6dOkZqaSkNDA8eOHeM//uM/8Hg8/PGPf0Qul6PVaqmsrKSzs5PvfOc7VFdXk5ubK/UInDt3TmpgXm+4sNls7N69m127dhEQEMDg4CCnTp1i7dq1zJ0797Lj3W43Fy5c4JVXXkGpVDJ37lzkcjktLS2cP3+eXbt2UVdXx6JFi1CpVDQ3N/M///M/NDU1ERUVRWtrK0VFRfzv//2/cbvd5OXlUVRUxBtvvMEvfvELkpOT8fl8tLa28s///M8sX74cGNrkzWw2k5GRQW5uLna7HRjqRdu/fz/f/e53mTFjxnWHi/r6et544w1p196mpiYaGxt59NFHR6yF39raytmzZ+ns7ASgurqagYEB/vEf/xGDwcDJkyfxeDx4PB4qKytRq9U8+eSTOJ1Odu7cSUhICDabjVOnTuHxeMjKymLv3r1s2rSJqKgo7HY7R48exd/fn/j4eD7++GP27dtHYmIiXV1dHD16lF/+8pe4XK7L7kOZTHbHhYvhYNE/2A9AV38XgAgYgiAIwg1zXeGisrKSsrIyent70el0jB07lvj4eOmJ/Dfl8Xiorq6moqICi8WCVqslLS2NuLg4BgYGKC0txeVySdu1q9Vqxo4dS2JiIlarlfLycmpqavD5fJjNZtLS0ggKCrqenwYMNZK3bdvGokWLeO655ygrK+P5559n//79PPXUU9Jxwz0WO3bsIC8vb8SGLAMDA/zud7/jySef5JFHHqGtrY3f/va30vCeI0eOkJ+fT1tb24ihJJs2bcLr9fIP//APxMTE8NZbb+F2u3E6nZSVlbFv3z4KCwtHhJyenh5Onz7NlClTeOqppzh69CjvvPMOlZWV1x0u7HY71dXVKBQK/v3f/x25XM5rr73G4cOHefrpp1EoFNKxNpuN/v5+nnnmGWbOnIlWq0Wj0UjDmvr7+/nzn/9McHAwer1e6qlpb29n165dFBQUjKiLrq4u3njjDV5++WVWrVpFcXExDz30EMXFxTgcDvr7+6XA95vf/IZjx46xcuVKVq9ezX333YfP56Oqqoo//elPTJgwYVQ2fmpsbCQ3N5fU1FR+9KMf0djYyB//+EeOHDlyxcZ6U1MTx48fp7W1ldjYWACcTieVlZXs3r2bs2fPEhISIh3f0dHBuXPnePHFF5k7dy7vvfce69ev58UXX8TpdLJ7926Ki4tH9AB4PB5qamowmUz86le/wu12ExQUJJXlN7/5jTS8aseOHfT19bFy5UqpB+V6HDt2jJaWFp566ilmz57Nxo0bOXLkCJMnTx5R37NmzWLy5Ml4PB5aW1t5//33cblcTJo0Seo58Pl8VFZW8tFHH6HVagkKCmLnzp2MGzeO559/nqqqKl577TV27txJUFAQJ0+eZNy4cbz00ktUVFTwyiuvsHPnTh566CHy8/OZOXMmP/7xjzl+/Dg//elPKSsrIzw8nMHBQf71X/+VkJAQAgMDR6UebifDwWJgcACtvxZ/P3/67f2fBwwfkYZIETAEQRCEUfetw0V9fT1/+tOfOHnyJDKZDJvNxqxZs3jhhRdISEi4ph0Py8rKeOONNzh9+jRutxuv18ukSZN46qmncDqdvPrqqzQ0NGAwGKitrcXhcLB27Voee+wxLly4wLvvvkttbS0+n4+oqCgee+wxli9ffl2NBZ/Px8DAAK2trcybNw+1Wk1MTAzjxo2juLh4xLFyuZzk5GRWrlxJeHg4n3zyifReTU0Nzc3NhIWFsWXLFmQyGffff780XGTGjBlMnDiRxsZGafiI1+vl9OnTTJ06lXPnzpGXl4fJZGLixIno9XqSkpIICAjAz8+P7u5u6bu0Wi0mk0kKGRcvXsRgMBAWFvat6+FSd911F0ajEZ1OR35+Pg6HA7PZfFm9Wa1WSktLMZvNNDY2EhQUxNSpU0lMTKS5uZnu7m4OHz6M3W4nPDycOXPmEB0djdFoZOnSpUyfPp3c3FzpMysrK3E6ndxzzz0olUomTJiA2Wzm4sWLZGdn88wzzxAUFERpaSldXV3Exsbi7++PWq1GrVYzODjI1q1bCQ4OZunSpaNSH83NzXi9XtLT0wkLC0On0xEfH09rayt9fX0jvqOvr49jx47R3d3NggULKCsrA0CpVJKYmMiqVauIiori+PHj0jkBAQGYzWYqKipQq9U0NDSQnJyMv78//v7+LF68mEmTJvGf//mf0jnDw6vkcjmbNm3CbrcTHx/PggUL0Ov10nCt+vp63nrrLZ544gkmTJgwKhsIVVVVYTabiY+PR6fTMWnSJPbv309XV9eI45RKJUqlEqfTyenTp+ns7OSBBx4gNTUVmUyGv78/fX19nD59msHBQR5++GEsFgsejweTyURgYCDh4eEYjUYqKiqor69nYGCAefPmodfrMZlMpKWlUVRUhFarxWw2097ezsmTJ7l48SKhoaEYDAZaWlro7Ozk8OHDOBwOIiIimD179h2z43C/vZ+2vnYGBgcIUOuICIpA46+he6Cb1r42uga68THUg6GQKb728wRBEAThm/rWrYpt27bxwQcfsGzZMubNm8ehQ4e4ePEiDQ0NxMTEfOOGvc/n49NPP2X79u3k5OQwZ84cjhw5wt69ezGbzYwdO5bu7m5aW1uZNm0a48aNY+vWreTm5hIVFcWRI0c4f/48c+fOxev1cvDgQT744APGjRtHSkrKN/49LpeLrq4uenp6gKFG0MDAAF6vl+DgYGAoRBgMBhobG0ecK5fLSUxMJC4uju7u7hHhoqGhAT8/P7Zu3YpKpaKnpwe3201SUhJ33XUXU6dOBSA0NFQKZIODg/T09HD27FmamppwuVy0t7fjdDoxGo0kJSWRlJREWVkZhYWF0ndptVoiIyPZs2cPVVVVNDY2kp6ejtFo/Mb1MKy3t5fW1lZ8Ph/+/v7SGHq73U5+fj4ff/wxFRUVrF69esR5Xq8Xt9uNUqmkpaUFi8VCdXU1+fn5vPTSS/T19REbG0tJSQlyuZzt27dTW1vLSy+9JM2XGB4Hf2lZhns/hoWEhNDf309WVhY6nY7z58+zdetWDh48yNq1a0fcf+fOnePMmTP88Ic/JDo6+prr4krsdjt+fn5otVoANBoNOp0Oh8MxYmK20+nk7NmzFBcXM2vWLCwWixQuhofuDAfCS8OFTqfDYDDw/vvvU1xcTGlpKQsXLsTPzw+VSkVOTg5NTU3S98MXgViv11NVVcXg4CAffvghbrebNWvWSMdt3LgRjUbD4sWLv9VwqL6+Pjo6OqS5LNHR0QwMDKDRaKR6DwwMxOPxXHWie1VVFbm5uSQkJJCdnT1iWF1hYSHnz59nwoQJjB07lvLycrRaLefOnePUqVO0tLRw4cIFZDIZFosFt9uNXq+X6lSr1TIwMIBOpyM0NJRt27bR29tLQ0MDERERBAcHU1NTQ0xMDCUlJQDSffiTn/zkivOp/ppIwcI+QIA6gIigcALUAchkMkICh3rHWvva6B4YejAhAoYgCIIwmr51uDh+/DiDg4M8+eSTTJo0icmTJ1NVVUVsbOw19Vq4XC7KysrweDwsX76c++67D4PBwIULF6iqqiI8PByAtLQ0VqxYgVarpaKigq6uLi5cuEBlZSX+/v74fD48Hg/BwcFYLBZqa2uvKVzYbDbOnj3L6dOnAQgLCyMtLQ1gxCRYt9t9zb+vr6+Pu+++mzVr1tDc3MzDDz/M4cOHMZvNIxqHl57j8/kIDg7mxRdfJCIigv/zf/4PBw8eZPLkyRgMhit+V21tLeXl5aSmpjJt2jQaGxulsfmpqanX1JCsqqpi586duN1uKViMGTMGt9tNWFgYs2bNQiaTkZuby8qVK0c02qOiovjJT37CzJkzUalU7N27l1/+8pdUVlaSmprKSy+9xPz583G73WzcuJE//OEPPPfcc1edCK1QKPB4PCMm+g5fh76+Pnw+H0FBQUycOJGuri4OHDjAihUrMBgMeL1ePvroIxITE0lPT0etVn/jOvgqMpkMn88nDTPyer14vV5kMtmIxmlDQwN79+6lu7ubkJAQiouL6evro7a2lvT09CuGcJfLRXV1NRcvXuTee+8lOTkZo9Eozc9JT0+/Ypn8/PyYOXMmU6dOJScnB6vVyj/90z/x+uuv8+CDDyKTyejo6OC9997j3/7t3wgICPhWv72+vp4DBw5IvWYrVqzA6/Xi8Xik+hge1na1hQ+OHTvG4OAg2dnZI4Yw2mw2cnNzcbvdzJo1Cz8/P+Li4pg5cybbtm1j06ZNKBQK+vr6MBqN0vUc/jM6fE3kcjltbW2cPn2a6dOnM2fOHGpqajhx4gR5eXmMGTOGn/70p8ydOxen08mGDRt47bXXePbZZ696H/41GBEsVCODBYCf3I+QABEwBEEQhBvnW4eLSxtVMNQosFqt17wU6HCDTKFQ4Ha7pcmcXq8Xn88nNSg1Go00zEWtVkuNiEsbeAaDgdTUVAwGwzU3EBQKBUFBQVIjOTg4GJ1Oh1KppKmpidTUVFwuFy0tLVLg+SaioqKQyWTMnj0blUpFQkICMTExtLe3X7WutFoter2eCRMmYDQaCQoKIjU1lfr6emlC7pVUVlZit9t58MEHWbJkCd3d3bz44otUVlZitVqvKVxotVqioqLweDzo9XpcLhcnT54EYOHChSQlJREWFsYrr7xCbW2tVG8ejweXy0VoaKjUaExMTESlUtHR0UFgYCDR0dH4+/sjl8vJzMzEarUyMDBw1WtmNBqx2Wx0dHQQGxuLw+Ggra2N4OBgTp48iVqtZv78+cTHx5OcnMzq1avp7OwkKSmJjo4O8vPzeeKJJwgNDf3Gv//rBAQE4HK56O3txev10tfXJ/WwXLoyV1tbm9QbtmfPHi5cuEBzczO5ubmYTKYrDtEaHBykuroaPz8/XnjhBQICAsjKyuK5556jpKTkquEChoLJ8DwctVpNZmYmR44ckd4/duwYbrebmTNnfuvhUBqNhvDwcKlhr9FoCAoKorW1FZvNBgzNGZHL5VcMc729vVy4cIHQ0FBSU1NHvFdXVyf1KiQlJUmvp6Sk8MADD+DxeFAoFKjVatrb2wkNDcXPz4+Ojg6p7rq7uwkKCqKzs5Ompiaef/55pk2bRl1dHXV1deTm5pKSkkJUVBT+/v7IZDLGjRuHzWb7yvvwdjccLKx261CwMIQToAq4LOD5KUTAEARBEG6cbx0uZs6cyYkTJ/jggw9obW3lww8/5PTp07z88suYTKZvPKlbrVaTnp7OiRMnOHjwIDKZjP3792OxWLjrrru+cny82Wymp6eH6upqUlNTMRqNFBYWYjQaL5sL8HUCAgKYNWsWs2bNkl6rqakhISFBWqWmrq6OsrIylixZgsPh4Pjx44SEhJCVlXXVz01NTSUhIYHdu3eTk5NDX18fzc3NPPjgg1dt3Pn7+zNlyhTKy8spKCjAaDRy7tw5IiMjv7LhExQUhEwmo7y8nNjYWNrb26XG0rVOsk9PTx/RiG1tbWXDhg0UFRVhMBhQqVSUlpai0WgICAigubmZCxcuEBcXR15eHps2beInP/kJgYGBnDp1CoVCQXh4OHv37qWgoIAf//jHyGQyDhw4QFJS0lV7Y2AonERERPDhhx+ycOFCqqur6erqYsyYMeTn53PgwAEpDJ05cwadTodGo0Emk1FYWIjT6SQ9Pf1bP6m/EpPJJA3VSUtLo6Wlhbq6OiZMmIBcLic/Px+v10t0dDSrVq3CYrEAYLFYaG9vJy4u7qpDBxUKBQEBAXg8HvLy8oiIiKCwsBCZTPaVAclut/PGG28QHR3N448/jtPp5OjRo0yaNEk65tChQ4wfP57g4OBvPfwnOTlZWvp2WGZmJgUFBZw6dQqXy8XBgwcJCAggIiKChoYGampqiI+Px2w2U1tbS0dHBzNmzLhs1a66ujpsNhtJSUlSMLFYLBw9epTOzk7uvfde6urq6OjoIDMzE5PJhNFo5Pjx42RkZFBbW0tFRQWTJk2SHkQUFxej1+upqamht7cXk8kkBb3nn38en8/HoUOHSExMlIZA/rW5NFjo1LqhHosrBIthUsCQQWvv5wHD93nAkIuAIQiCIHx73zpcPPDAA5SUlJCXl8fZs2dxu90sWbKEyZMnjxgb/00sX76c9vZ28vLypDkEOTk5zJ8/X1pKU6fToVarUalUmEwmFAoFEyZMID4+njfffJNNmzYhl8sJCAhg9erVI1be+baMRiMrVqzgww8/5J133qG7u5uMjAzmzp2LzWbjrbfeYuzYsSPChV6vJzExUfr/oKAgfvCDH7Bv3z7a29tpbW1l7NixzJkzZ0TjMjY2luDgYGnI1YMPPsirr77Krl27UCqVdHd38+ijjxIZGSmdExwcTGRkpNQIy8jIICsri6KiItrb2+nu7iY8PJzp06df9z4XRqORadOmUVFRwbvvvivtLzB37lwSExPJy8vj9ddf59lnnyUzM5ODBw+yceNGwsLCaGpq4v777yc7Oxu5XE5ubq70GZWVlXz/+98fcc8olUrS0tKk8GUwGHjmmWc4ePAgnZ2dVFdXs3jxYjIzM4mOjiY/P59PP/2U4OBgSktLWb58OWazGYVCgdVqZfz48YSEhIzqWPqYmBhycnLYvn07b7/9Nk6nk/DwcHJycujv72fnzp14PB5+9KMfsXDhQuk8jUaDXC5n5syZUlCUyWTo9XqpzBqNRppv8O6772IymWhqamLq1KkjVv1SKpXEx8dLoUmlUnH//fezYcMG3n//fTweDwMDA/zTP/2T9Ns9Hg/Tpk0bsbrXaJg+fTpnzpzhxIkTXLhwQVoIISkpiYKCAjZv3syKFSswm83Y7XZiY2OJj4+/rBxer5eoqKgRq6AFBQURHh7OyZMnefvtt3G5XBgMBhYsWIDJZCInJ4f33nuPDRs24HQ6CQkJYfHixQQHB7NgwQIOHjxIQ0ODNDRt1apV9PX1cebMGd555x00Gg3V1dU888wzozZs7mbqt/fTPtxjodYR/jXBYpifwo8Q3ec9GL1t9FiHethEwBAEQRCuh8zj8Vy2zfJwA9flcn3lrradnZ2cPHmStrY2jEYjM2fOHDEx+Vo0Nzdz/vx5WltbCQkJYeLEiZhMJrq6uigpKRnR4CwpKcFmszFmzBgMBgPl5eUUFhbicrlISUlh/Pjxo7JpHHwxF6OqqoqgoCCmTZtGVFQUDoeDY8eOERISwoQJE4Ch8d7Nzc2UlJSMaFB6PB5yc3OpqKggKCiI6dOnExYWNqKeTpw4QUREBGazWeplqKyspKioCIfDQXp6OikpKSMa4bW1tfT29hIfHy89+e/t7eX8+fPU1tYSEBDAhAkTiIuLG5XGpNPppLa2lvz8fFwuF0lJSUyY8P/bu+/AqOs8/+PP6ZNJm0lvJCQkoQRCk464gBI4dBUUF5RdWO7W21MPceVk1VV+itQVuXPVXdd6uBbYA2URASlSRElCL6EFQnqvk5nJ9N8fMaOhKZAQzL4ff07mO9/PfCbJfF6f2h+dTudbZNunTx/Cw8N9U39sNhtJSUkMHjwYrVaL0+nk7Nmz7N+/H6/XS8+ePS9a0NvU1MTnn3/OxIkTfQGspTe8sLAQk8nE6NGjMRqNKBQKCgsLycrKoqGhgbi4OIYMGUJgYCAKhYJTp05RW1tLWlpam093sdls5OTkcPLkSXQ6HX379iU5ORmLxcKpU6fweDykp6e3CpEFBQUUFxdzyy23+D5nr9dLcXEx586dY9iwYWg0Gt8BjpmZmdTV1RETE8PQoUNbrU+w2WxkZWWRkpLim5bmcrk4cOAAOTk5+Pn5MWDAAFJSUnzXbNu2jbi4OFJSUq7p7/RKysrKOHjwoG/6Wr9+/TCZTBQWFnL27FmSkpJ8O4iVlJQQGxt70e5M586do7KykqSkpFajlmazmZycHN/fUHp6OgkJCUDzoY0nTpzgxIkT+Pv707dvX7p164bX66Wuro7s7GxKSkowGo0MHDiQLl264HQ6yc3N5cCBAwC+Q/mu1CA3GAwXTWX8oTp8+JFHWPm//4vFYvE99sthDzIseSh+2qvrhLmUBpuZioaWYBFARHD4jwoW3+dyu6ix1FJWV4ZSocDkbyLKGHVdAcPj9XCk4Ch/2fY6e8YvRcFPe5G8+M76wmyOJTTx/5a+SFpaWkcXp13t2rWL9957j4kTJ3Lvvfd2dHHa1dq1a1m5ciULFiygT58+HV2cdpeQkMDrr79ORkZGm+yYeLMym818/PHHPPTQQ77HoqOj2bFjxxXXJV/tEocLXVe4EEKIfxY3W7i4VLDw1wWgvIYRurYOGBIuOi8JF52ThIvOqaPCReetUSGE6KQabA1UNFR+FyyCwvHX+V9TsIDmKVIm/+bRz7K6su9Nkbq+EQwhhBD/fCRcCCHET8glg4Xe/7pP29aoNN8GDO8FazAkYAghhPjxJFwIIcRPgvfbqVBtHyxaNAcME6CgXEYwhBBCXAMJF0II8RPQ3sGihW8Ew+ulvL6cWksdIAFDCCHEjyPhQgghbmrtP2JxIY1Kgymg+cwPCRhCCCGuhoQLIYS4ad34YNGiJWAoUFD2vYARbYxCKQFDCCHEZdzQcNGWh5gJIUTn1jpYBOoDCL9BwaLF90cwvgsYim8Dxo0pgxBCiJ+WGxYulEolKpVKAoYQQvwIF45Y3Ohg0UKtUl8QMGpBAdHBEjCEEEJc7IaGC7VaLeFCCCGuqONHLC50YcCoaawBJGAIIYS4mKy5EEKIm8jNFixaSMAQQgjxY0i4EEKIm0Rjk4XKhiqsTVYC9YGEB4XdFMGiRUvA8PLtLlKNNShREG2KvuTznV4Pfzj0ATJe3XkUWauxmJW8+OKLhIaGdnRx2lVxcTE5OTmUlJTw5ZdfdnRx2lVubi4nTpxg4cKFhIWFdXRx2l11dTWvvvoqGzZs6NSdIw6Hg9OnT9/w+0q4EEKIm4TT5cDusuP2utFpdOg0+psmWLRQKVUE6P2paFDg8riw2C2Xfa4HL5Xf7jIlOod6hxW1KgiDwUBAQEBHF6dd6fV6NBoNer3+n+K9qtXqf4rPFZo3GGp5r509XOj1+ht+XwkXQghxk/DX+xNoD8TtdtNga0Cv0RHsH4xaeXP8q/bixeFyUNFQicfrRqfWEhZ0+V5OBQo35fiUAAAgAElEQVTu6TIUZOyi08iuPYM53p9f/OIXpKSkdHRx2lVmZiYul4sxY8Ywfvz4ji5Ou9q0aRMWi4X777+f7t27d3Rx2t3777/PxIkTGTVqFCpV591a22KxsH79ejZv3nxD73tzfGMJIYRAq9YS/m1jvc5aR0VDJcBNETC8eHE4HZTWl9Fga0Cj0hJljCTIL+iK13UNjJJo0YnkWctx++mIjY0lMTGxo4vTrgoLCwkMDCQiIqLTv9fIyEj8/f3/KT5XALVaTWRkJF27dkWt7rxNYbPZ3CHT3DpvjQohxE+QXqO/6QKGFy92p53y+nIarA1oVBqijJEEG4JvumlbQgghOpZ8K/wIXq8Xl8uFx+P5wef+2Odd6vW9Xu8lf+Z2uy/5s8vdq+Waqy3Hj+XxeC5b3kuV5VLlbHmNy3E6nZd8LafTedl6ulyZ3G73ZeuwLXg8nh98/ZbPxO12X/Y1rlQfV3vNle51Lb+jV1OmH1vXVyrjpX72Q3XYcv8L6+RKf7/XUu83QkvAMBqMuDwuKhsqqbPU43Lf+LJ6vV7sDjvl9RXUWxvQqiVYCCGEuLybYuTCZrPR0NCARqMhKCjophmi8nq9WCwWiouLqaqqIiAggOjoaCIiIi56rt1up6ioiNLSUvz8/IiOjiY6OpqmpibOnz9/UWMrMjISk8lETU0NZWVl1NXVERISQlxcHAEBASgUCiorK6msrKS+vp6wsDC6dOmCXq+nqamJ8vJySktL0Wq1REdHExYWhlarpa6ujrKyMmpra31DnEajsU3mFLpcLmpqaigpKcFqtRIREUFUVNRlF395vV7q6+s5c+YMSUlJhIaG4nK5KCsro7y8nKamJmJiYoiNjUWr1fqua2pq4uuvv2bUqFG+3wWz2UxRURFlZWWEhIQQGxtLSEgISqXSV6ba2lpCQ0N9dQhQVlZGSUkJTqeTsLAw4uLi0Ov1bXbeitfrpaSkBIvFQmxs7CXrwmazUV5eTnl5OQAxMTFERESg0+mA5gZuRUUFJSUl9O3bF5VKhdPppLq6mpqa5u0+FQoFer2exMREXx2WlZVht9uJjo4mNjYWnU6Hw+GguLiY8vJyFAqFr36VSiU2m43i4mJKS0sJCAggJiaG8PDwNlnM5vV6qa6u9tWF0WgkNjaWwMDAS9a12+0mNzcXjUZD165dW5XBZrNRVFSEWq32Dc+31GFlZXMvfsvf4YW/N4WFhTgcDtLS0vB4PFgsFgoLC6muriYoKIjo6GjCw8N9dVhRUYHdbicmJoaYmJhWr9fRLhzBqDJXAWA0BKNW3Zj/kV7vtyMWDRXUW+vRqjVEBkuwEEIIcXk3RSv+4MGDvPfee6SkpDBt2jTi4uI6ukgANDY2snbtWl5++WXfSMDo0aNZunRpq0ak2+3mm2++4bHHHsPlcmG320lPT+edd94hPz+fqVOn4nA4gOYGUGVlJS+99BLTpk1j6dKlvoU2brebxx57jGnTpuFwOFi0aBG7d++msbGRgIAAFi1axM9+9jN27drF8uXLKS4uxm63M3LkSB5//HGSkpJ49913Wb16NfX19ajVaqZMmcKvf/3rNqnT/Px8Xn/9dT777DNUKhWhoaE89NBDPPDAA5cMLxaLhQ0bNrBo0SL++Mc/kpGRQW5uLk8//TTHjh1Dp9MRHBzM0qVLGTFiBHa7nerqag4fPsy9995LXl4ekZGRAHz44Ye8/PLL6PV6GhoamDx5MvPnz0en0/E///M//P3vf0epVOJ0OnnssceYPn06dXV1PPXUUxw9ehSbzYbJZOLFF19k1KhRbbJ7QmNjI1VVVbz99tuUlpYye/Zs0tPTWz3H7Xazd+9eVqxYwalTp1Cr1fTo0YMnnniCoUOHYrVaKS0tZc2aNWzdupW///3vmEwmSkpKWLx4MevWrfM10NPT01m1ahXnz59n3rx5HD16FLVaTXBwMMuWLWPYsGHs37+fJ598kpqaGlwuF4mJibz55pt06dKFzz//nAULFuD1ejGbzYwdO5bFixcTGhp63WGrvr6e5cuXs3HjRpqamvDz8+Phhx9mypQpGI3GVvVhNps5f/48S5cuJSUlhXnz5uHv74/D4cBsNrN//37ef/99evfuzbx583A6nezcuZNXXnmFvLw81Go1vXv35ne/+x2DBg3yve6RI0dYvHgxJpOJd955B7PZzCeffMLy5cvxer14vV5Gjx7Niy++SElJCc888ww5OTlotVpCQkJYvHgxw4cPv656aGsdGTAuFyyMBqMchiqEEOKyOrzryWq1cvbsWb7++mv2799PQUEBxcXFFBcXY7VacTgcVFRUUFpais1m8/XaV1RU0NTUhMVioaSkhHPnzpGfn+9rVLWF4uJi3njjDR544AH27dvHq6++ypYtWy7a79pms7FkyRJ69+7N/v372bRpE1lZWaxevZq0tDR27drF3r172bNnDwsXLqRfv36MHTuWzMxMPvvsM/70pz+RnZ3N9OnTeeuttygtLeXdd98lNzeXV199ld27d9OvXz/27dvnK1NKSgr/+Mc/WLVqFfn5+ezcuZNNmzaxdetWZs2axd69e5k7dy6ZmZl8/fXX1z0lyOVysXfvXrKzs1m+fDnbt2/n9ttv5/3336ekpOSSzz9x4gSvvfaab/ShoaGB1atXU15ezs6dO9m+fTupqaksWrQIp9PJqVOnePbZZ3nkkUdafYZer5fnn3+eWbNmkZWVxZ/+9CfefvttSkpKOHz4MO+++y4LFy4kOzub3/72t7zxxhsUFRWxZs0a7HY7f/vb3/jmm29ISEhg06ZNVFRUXFddQPNow/bt23n88cd57733qKu79Hab9fX17NixA6VSycaNG3n33XfR6/V8+umnWCwWdu7cybx583jllVdaTfexWCw4HA6WL1/Ovn37OHDgAB988IHvmoqKCrZv386mTZvo2rUrf/3rX7Farbz00kvExcWxb98+vvzyS2pqanjttdew2+3MmTOH++67j+zsbP7xj3+wadMmtm/f7gu+12PLli3s27ePp556ir1793LPPfewefNmjh492up51dXVfPzxxzz++ONs2rSp1VSl/Px83n77bebPn8+OHTt8jxcUFLBp0yZiYmLYvn07b775Jm63m1WrVgHNvx/FxcV89tlnHDlyxHddUVERn332GXfeeSeZmZksW7aMXbt2sXnzZlavXk1NTQ07d+5ky5YtJCUlsWTJknabLnY99Bo94YFhGA3BON1OqsyV1Fnr2nWKlNfrpcnZRMX3g0VQ84iFBAshhBBX0uHhIjMzkw8//JC8vDy2b9/OsmXLmDFjBvfffz9btmzh2LFj/Nd//RezZs1i586d7Nu3j9mzZ/Pss8+yf/9+1qxZw4MPPsjPfvYzxo8fzwsvvMDp06fbZH69x+PB39+fKVOmoNPp6Nq1K5GRkb6pGS2cTif79+9nxowZ6PV6kpKSGD9+PF999RUKhYLw8HDCw8OxWq28/PLLvPDCC6SkpFBRUUFGRga9e/dGr9czYMAArFYrTqeTrVu3ctttt6HX66moqGD27Nn86le/orGxkYqKCsaOHUtCQgIDBw4kLS2NgoIC9u/fT1hYGD169CAoKIihQ4eiVqs5e/YsTU1N11UXdXV15OXlER0dzdixY4mKimLkyJEolUpycnJaPdfr9VJQUMDatWtJS0sjOTkZwDdFbMiQIURHRxMUFMSdd95JVlYWtbW1mEwmxo4dy9y5cy+6v8lkwmg0Ul1dDeCbPpeVlUW3bt0YNmwYfn5+TJ06FavVSkFBAXq9nunTp/umsRmNRvz8/NqkcaRQKIiPj+f+++9n3LhxBAVdesccpVKJn58fAQEBeL1erFarb29tjUZDfHw8kyZNYsqUKa2us1gsnD9/HpfLxTfffMOZM2ew2Wy+9/6v//qvhIaG+qZ76XQ6XC4Xp06dYuLEifj5+REREcGECRPYsGEDFRUVlJWVMXnyZDQaDb1796Z///5tFi6OHz9OSkoKvXv3xmg0MmbMGBwOh28qWAudTkevXr2YOXMmQ4YMafWzoKAgBg4cyJQpUxg4cGCruggJCWHMmDFER0cTFRVFly5dfIHOYrGwe/dujhw5wv333++7Tq1WYzQaMRgMNDQ04PV6fSNWBQUFDB48mKioKIxGIxMmTGDfvn3U1tZed120B71WT1hg8xoMp9tFlbmaOmv7rMH4LlhUUmetR6vWEhEUQbC/TIUSQgjxwzp8WlTXrl0ZPHgwOTk5xMfH8/Of/5zs7Gz+7//+j5ycHKqqqjh48CAFBQWMHz8enU5HVlYWkyZN4tSpU7zyyisolUqmTZvG+fPn+fDDD3G73SxcuPCyDb5L8Xg8OBwOX0NLqVTSo0cPvvjiC7xeL1VVVezevZuamhr69+/vu66lwWiz2VpNPYqLiyMzM9MXclwuF8uWLaN///6MGDECrVbLrFmz8Hq9eDweKisr+fTTT+nZsydqtZry8nK2b9/Oxx9/THV1NTExMTz33HO+g26+vzYlNDSUuro6goODMZvNFBcXU1NTw7lz56iurqaxsRGr1Yqfn9+Prg+Hw+ELJEqlkoaGBmw2G0FBQb7X8fPzIzAw8KJe+5be+vz8fObOncvChQuB5sZeaGgop0+fpqqqCrvdTk5ODh6Ph9raWrp37860adMoKytjzpw5vtdTKBT8x3/8By+88AK7d+9mz549TJw4kfDwcGpqaoiMjPRNy4qMjESj0VBTU8OMGTMwGAxs2bKFNWvWkJmZyfz589vkVFmFQkG/fv3o168fdXV1F/XQtwgKCqJfv35s27aNX//61ygUCnQ6HbNmzUKv19OnTx969OiBTqfz9bq3rBU4fvw4y5Ytw2AwYDabefDBB5k3bx5TpkyhqamJr776ig8++IBdu3bx5z//GaVSSVRUFEePHqWmpgaHw8HJkyeprKzEZDIREBDAoUOHiIqKwm63U1BQgEajaZPe+vr6egIDA32N99DQUNxu90WhNjg4mFGjRjFo0CD279/f6meRkZFERkbSpUsXioqKfI+np6eTnp7uq5eDBw+Sl5fHqFGjcLlc7Nu3j6+++op7772X+vp6X6CJiopi0KBB/PGPf+TAgQMUFhaSlpbGLbfcQnZ2NufOnaOqqoqmpiZOnDiB2+2mqqrqpj112E/rR1hgc9naa4pUS7CobKj8dsRCS0RQOEZ/owQLIYQQP0qHh4vExEQGDhzI+vXr6d69OyNHjiQ0NJTs7GxOnjxJTk4OZrMZt9vNyZMncTgceL1eUlNTKS0tpaioiLlz5/L73/+ePXv2UFNTw+nTpzlz5kyr3s8f0tjYyJ49ezh48CAA4eHhTJ06Fb1eT0FBAX/7299Yu3YtjzzySKtwAVx2lOT7jbbc3FzWrFnDunXrWjXy7XY7Z86c4aWXXuL06dMsXbqU4OBgX8Ps7bffJjY2lieeeIKPPvqIMWPGXHSflp744cOHk5+fz5tvvslXX31FYWEhp06dYsyYMVe9SP748eNs3rwZj8eDyWT60Ws2nE4nhw4dYtWqVTz55JO+HZ5sNht+fn5MmDCB9evXM2fOHCIiIti6dSsKheKKC2mbmpr44IMPSE5OpmfPnthsNr766ivOnz9/0c5BCoUChULRPF/cbken0/lGnbKysti9ezeDBg0iPj7+qurjWtXV1XHkyBFqa2sZMmQIXq+XI0eOsGPHDgYPHnzJtSput5uQkBCee+457rvvPgwGA6tXr2b58uXcdddd9OrVC7fbjV6vJz4+HpPJxIcffsitt97KAw88wPPPP09TUxNWq5Xs7Gy0Wi3+/v7MnDmTBQsWcPToUU6ePEltbS0ajabN3uuFfwcej6fNduhyuVxUVFSwYcMGVq1aRXp6Og888AB5eXls3LgRf39/hg8fztq1a3E6nVgsFt/0u4iICPr06YPBYOD06dOcP3+ejIwMZs+ezZw5cwgLC2Pbtm2+4Hczaw4Y7bMG4/vBok6ChRBCiGvU4eHi+1oaIn379iUxMZEDBw5gsVhIS0ujsbGRXbt24XQ6SUlJISkpiZKSEvR6PQaDwTflISAggNraWqxW61Xdu2WhaWlpqe8xm83G8ePHmT9/Pkqlktdff50RI0a0uq5lFx+1Wt1qulRFRQXBwd/NT169ejXJycn07t3b19B3Op2sW7eOZcuWMWjQIN5//30SExNxOp1otVruvPNO4uPjfVNC1q1bh8fjwel0YrVacbvdKBQK6uvrUalUREVFMW/ePPbu3UtZWRkjRoxAoVAQHBx8VaMWLe+9vLwcl8uF0+kkMjIStVrtWwug0Wh8DViDweC7rrKykm3btlFXV8fWrVupqanh1KlTbNiwgZiYGAYOHMhf//pXMjMz0Wg0PP300/zud78jPDz8smU5dOgQR48e5dSpU8TExOB2uxk6dChffvklGo2G2tpa3xqNljU3/v7+fPPNN3Tv3p1hw4YxatQoEhMTeeuttygrK7th4eL8+fPk5uZy991384c//AGLxcJbb73Fli1bmDlzJtHR0Rddo1KpSEpKokuXLphMJgCGDh2K0Wjk+PHjWK1WQkJCGDlyJIMHD2b48OHMnDkTi8XCpEmTCAsL4/Dhw0RGRtK9e3fWrFkDwDPPPMPAgQPJzc1l2rRpGI1GwsLC2mQnMT8/P+rr67Hb7UDz+hqlUtkmuy95PB5OnTrFX/7yF44fP87MmTN9oSsrK4svvviCAQMG8Morr5CTk0NFRQUfffQR3bp148yZM6xYsYKRI0eSl5fHc889x+bNm3nmmWf4y1/+QlZWFlqtlt///vc89dRTHXLY0NXy+3aKFLRdwPguWFRJsBBCCHFdbopwoVQqUSgU1NXVUV1dzYABA0hNTWXz5s1YLBZ++ctf4vV6+fOf/0xNTQ0ZGRn07duX3NxcXC4Xx48fJy8vj5ycHE6fPk2vXr2IiYm5qjKYTCbuv//+VnO2c3NzWbBgAXFxcSxcuBB/f38aGxvR6XSoVCpfz69OpyM1NZVt27YxYMAA7HY7e/bs4b777vOFi82bN3PHHXe06ik+dOgQzzzzDHPnzmXSpEkYDAZsNhsGg4GePXtSXl5OTU0NGo2G/Px8/P39SU5OJiAggMOHD9O3b1+8Xi9nz55l0KBBlJSU8PXXXzN8+HDuuecedu3ahZ+fH3FxcVfdyBs+fHirnXNsNhuVlZXs2bOHQ4cOkZiYyJkzZ7BarSQkJGC32zGbzWi1WkaNGkVgYCDQHNpaes5dLhdffPEFmZmZPPvss9hsNt5880369Olz2e1soblxqVarsVqtvnCjVCp9U9fee+898vPzMRgM7Ny5E4D4+HhefPFF0tLSmDVrlm/NS8vIRntyu91YLBbflDelUonL5cJsNmOz2XC5XKhUqstOR6qrq+Pjjz9m586dvPbaa2g0GoqKirBareh0OlauXIlKpWLRokW4XC4aGxt99bNq1SrUajVz5szBbrfz7//+79x6660AzJ07l3vuuYfHH38cu93OCy+8wNNPP90moxeJiYmsX7+egoIC4uLiOHDgADqdjpCQkFYh9Fp26SovL+eDDz4gPz+fRYsWkZaW5hvZS01NZfr06bjdbqxWK/7+/uh0Ot92ztA8OtjY2IjFYgGaR8I2b97M/v37efrpp7FYLD/q9/Bm0pYBo3WwqEOn1hIuwUIIIcQ1uinCRWhoKKGhoXzxxRdYrVaeffZZ+vfvT8+ePSktLSUpKQmTyUT37t3Jz8+nV69eREZGMmrUKMaPH88nn3zCF198gcvlwmg0kpGRQVJS0nWVyel0kp+fz6FDh/iXf/kXVqxYAYDBYOCuu+4iPj6e++67jwEDBrBkyRJmzJjBkiVLMJvNFBQUUF1dzYMPPohCocDtdlNUVESvXr1a9RKvW7eO4OBgXzhqef3f/va3zJgxg/nz51NfX4+/vz9bt27lkUceoU+fPowbN441a9Zw/vx5qqqqqK6uZsiQIfTu3ZsPP/yQXbt20adPH44dO0ZaWtpF07iuhZ+fH+np6WzYsIFnnnmGxMREjh07xvDhw0lNTWXLli0sWLCAF154gYyMDO644w6gOaAVFRVx5513MmTIEL7++ms+/fRT39z2jRs3snjx4lb3UigU+Pv7+xqHAwYMoG/fvvzbv/0bGRkZHDp0CLPZzLhx44iLi+ONN95g3rx5DBw4kC+//JLbbruNmJgY7rvvPlasWEFNTQ3BwcFs3LiRCRMmXHXw/CEtAbPlrIb8/HxWrFiBy+XiiSeeIDU1lY8++oiamho8Hg9Hjx5l4sSJrcqhVqt9i80DAwNJS0vj3Xff5dFHH6Vbt27s2bOHW265hXHjxgHw5JNPolKpCAgIYOPGjdxzzz1ERkYSERHBs88+S2FhIY2NjRw8eJCFCxeiUCgICQnhD3/4A3fffTdHjx7FaDRy++23t8nowu23386GDRtYsWIF69atIzs7m7Fjx5KamsqGDRt46623mDlzJr/4xS9812i12kveu2WaXEvoOXPmDCdOnMDpdPLJJ5/wySefoFarGThwIJMnT+aJJ54AmketVq9ezeHDh5k6dSq5ubn07NmT+fPnM3bsWM6ePeubguhwOFi7di3l5eWYTCa2bt3qWxv0U9EcMK5vDYYvWJibp0JJsBBCCHG9VPPnz/9/Fz7Y0qjzeDxttjWjUqlEpVJdstc4NjaWhIQEkpOTueWWW3zTomJjYxkxYgQjR44kISGB2NhYRo4cyW233UZoaCgREREMGjSInj17EhERwa233spjjz3GnXfeed0Hg7X0jIaFhREaGorBYMBgMBAYGEhKSorvELT+/fuTmprKgAEDSE5OprS0lISEBJYsWUJKSgoKhYKmpia0Wi0ZGRkYjd/tEd/Y2EhcXBxBQUGtXr9v376+3XzMZjMajYbf/OY3TJgwgaCgIAYNGkRcXBxms5n4+Hgee+wxBg8ejNFo5JZbbiEwMBCLxcKYMWOYPn267yCy69Uyrcnr9aJUKpk0aRK/+c1vfIfShYeHM2DAAEJCQnzXKBQKAgIC6NWrF2FhYcTExDB8+HAqKyvx8/Pj0UcfJSMjo9XzlUolBoOB4cOHo9VqUavVTJ48GWjeHrhbt24sXryYbt26odPpmDBhgq8+x40bx+zZswkLCyM9PZ20tDTfVKmpU6e22j2qrahUKmJiYkhOTsbf3x9oDompqan06dOHfv360bNnTyorKwkICGD69OlMnTrVNz1OoVCgVquJiIigd+/eaLVa3+96fX09TqeTu+++mzlz5uDv70+3bt0YOnQoJSUleDwepk2bxn/+53+i1WpJS0ujR48eFBcXExMTw/PPP0/Pnj0BGD16NMHBwZSWltK/f3/mz59PREREmxyiZzKZGDx4sO8gv5///OetzqyJjIykb9++vulvCoUCjUZDcnIyCQkJrUK3UqkkICCAbt26ERcXh8Ph8B0W2fJ34u/vT1xcHN26dWtVDp1OR5cuXUhOTsZkMjFixAgCAgKoqKggJSWFuXPnMnDgQGJjYxk2bJjvM3n00Ud9gfhKLlxD8kOjYBs+/5zDhw+3OnG+b5d0uoTEoVFd/4iRRqVBq9Y0H/jpsGJ32lEqVWjV2h/8XFsFC0s9OrWuzYKFFy/l9RVknstiUtxQZPPaziPPUo4lTM0d4+5o8/+lN5uWDsbU1FR69erV0cVpVydOnODw4cOMGTPGd75UZ/bf//3fTJw4keTk5Db5DrxZORwOjh07xvr1632PBQYGMnPmzCtuXnK96yUVbrf7oldoqWin09nqS/F6qNVqNBqN7JEuhPjJurCz5Ye+lB5+5BFW/u//+qZkAfxy2IMMSx6Kn/bq1kFdic1h+3Z72jo0Ks2329ZefgTj4mChJSwoHFMbjVh4vB6OFBzlla2vsnLoHAkXncj28iOU99Cx9I/LSEtL6+jitKtdu3bx3nvvMXHiRO69996OLk67Wrt2LStXrmTBggX06dOno4vT7hISEnj99dfJyMi46g1vfkrMZjMff/wxDz30kO+x6OhoduzYQWpq6mWvu96Bhc5bo0II8U/i4m1qKwEvRoPxooDxXbCoov7bEYuwoLA2CxZCCCH+uUm4EEKITuDy52B8FzBaB4s6tGpt8+nfEiyEEEK0EQkXQgjRSVwUMBqqwKvA6B+MSqmiydlElS9Y6JqDRYAECyGEEG1HwoUQQnQiflo/woO+26a20lyJFy96rY46Sx113x+xkGAhhBCijUm4EEKITkav0V8UMDQqNU2OJrRqbfOCbwkWQggh2oGECyGE6IQuDBgOlwM/TfPhe6YAkwQLIYQQ7ULChRBCdFItAUOpVGJ32jEagmXxthBCiHZ1yXDRsr+tSqVqdbjV9fJ6vdd9MIcQQogfT6/RExUcicfrQa1Uy1lDQggh2pWMXAghRCenUqpQ0XYdRUIIIcTlyNi4EEIIIYQQok1IuBBCCCGEEEK0CQkXQgjRTtQqlaxxEEIIcVNRqdt3VYSsuRBCiHZiMplQKlv34dRZ6ymtK0Wn0XdQqdqf1+uhurEGgLzGMhRIwOosquwNmBv9OHv2bKcPznl5edTV1VFUVEROTk5HF6ddFRYWYjabOXv2bJtu5HOzcjqdFBQUcOLEiU79fi0WCyUlJa0e02g0BAcFtet9FW63W7ZvEkKIa3BhcLjQ6tWrefTRR6msrPQ9ZjKYCND5d/rtYC0OK1WNVQQodR1dFNGGnF43ukADcXFxGAyGji5Ou2poaKC6uprg4GBCQkI6ujjtqqamhurqamJjYzv95wpw+PBh4uPjMRqNnToku91uqqurKSgoAECtVjN06FB27tx5xe+vll1jr5WMXAghRDsZPXo0iYmJ1NbW4nK5AKi11lJrre3gkt04jR57RxdBtDF7Q0On78n/vurqas6dO9fRxbgh6uvrO7oIN8zZs2c7ugg3lEKhwGg0Mnny5B/sGLtenbvrTPefWawAAAE2SURBVAghOlB4eDgPP/wwCQkJnXroXQghxM1LoVBgMBgYOnQoM2bMaPf7yciFEEK0o1/96ldUVlbyzjvvUFBQgNVqlcNEhRBC3BAajQaTycSQIUNYsmTJDZniJ2suhBDiGl3N0PKOHTtYuXIlWVlZWCwWvF6vhAwhhBDtQqFQoNFoiImJ4a677mLWrFk/Olhc75oLCRdCCHGNrmXeqtVqpaqqiqamJuSfrxBCiPagUioJDg4mNDT0qr+rJFwIIUQHae9FcUIIIcSNdr3hQr4ZhRBCCCGEEG1CwoUQQgghhBCiTUi4EEIIIYQQQrQJCRdCCCGEEEKINiHhQgghhBBCCNEmJFwIIYQQQggh2oSECyGEEEIIIUSbUHd0AYQQ4qfqevcCF0IIITobGbkQQgghhBBCtIn/D8clbwX59Q3ZAAAAAElFTkSuQmCC)\n",
        "\n",
        "Reference: https://jessicastringham.net/2019/12/10/multiindex/ "
      ],
      "metadata": {
        "id": "yfjQq01f4bw7"
      }
    },
    {
      "cell_type": "code",
      "source": [
        "df1 = pd.DataFrame(randint(10, 100, (6, 4)), index = list('abcdef'), columns=['S' + str(i) for i in range(1, 5)])\n",
        "print(df1)\n",
        "print(df1.index)  \n",
        "print(type(df1.index))  # index class\n",
        "\n",
        "print(df1.columns)\n",
        "print(type(df1.columns)) # columns class\n",
        "print('-'*20)\n",
        "\n",
        "x = [['X']*3 + ['Y']*3, [1,'b',3,1,'b','c'], ['A', 'B', 'C', 'D', 'E', 'F']]\n",
        "print(x)\n",
        "\n",
        "df1.index = x   # two level of index\n",
        "print(df1)\n",
        "print('-'*20)\n",
        "\n",
        "print(df1.loc['X'])\n",
        "print('-'*20)\n",
        "\n",
        "print(df1.loc['Y', 'S2'])\n",
        "print('-'*20)\n",
        "\n",
        "mi = df1.index\n",
        "print(mi)\n",
        "print(mi.levels)\n",
        "mi.names = ['L1', 'L2', 'L3']\n",
        "print(df1)\n",
        "print('-'*20)\n",
        "\n",
        "print(df1.loc[(['X', 'Y'], 'b'), :])\n",
        "print('-'*20)\n",
        "\n",
        "print(df1.loc[(['X', 'Y'], [1, 3]), :])"
      ],
      "metadata": {
        "colab": {
          "base_uri": "https://localhost:8080/"
        },
        "id": "EfHw7C953Zu6",
        "outputId": "c9a3c6b9-f32a-49a0-eeb5-0c79575ee44e"
      },
      "execution_count": null,
      "outputs": [
        {
          "output_type": "stream",
          "name": "stdout",
          "text": [
            "   S1  S2  S3  S4\n",
            "a  91  30  18  28\n",
            "b  25  63  52  34\n",
            "c  99  41  23  31\n",
            "d  69  76  67  51\n",
            "e  36  75  13  57\n",
            "f  16  77  80  99\n",
            "Index(['a', 'b', 'c', 'd', 'e', 'f'], dtype='object')\n",
            "<class 'pandas.core.indexes.base.Index'>\n",
            "Index(['S1', 'S2', 'S3', 'S4'], dtype='object')\n",
            "<class 'pandas.core.indexes.base.Index'>\n",
            "--------------------\n",
            "[['X', 'X', 'X', 'Y', 'Y', 'Y'], [1, 'b', 3, 1, 'b', 'c'], ['A', 'B', 'C', 'D', 'E', 'F']]\n",
            "       S1  S2  S3  S4\n",
            "X 1 A  91  30  18  28\n",
            "  b B  25  63  52  34\n",
            "  3 C  99  41  23  31\n",
            "Y 1 D  69  76  67  51\n",
            "  b E  36  75  13  57\n",
            "  c F  16  77  80  99\n",
            "--------------------\n",
            "     S1  S2  S3  S4\n",
            "1 A  91  30  18  28\n",
            "b B  25  63  52  34\n",
            "3 C  99  41  23  31\n",
            "--------------------\n",
            "1  D    76\n",
            "b  E    75\n",
            "c  F    77\n",
            "Name: S2, dtype: int64\n",
            "--------------------\n",
            "MultiIndex([('X',   1, 'A'),\n",
            "            ('X', 'b', 'B'),\n",
            "            ('X',   3, 'C'),\n",
            "            ('Y',   1, 'D'),\n",
            "            ('Y', 'b', 'E'),\n",
            "            ('Y', 'c', 'F')],\n",
            "           )\n",
            "[['X', 'Y'], [1, 3, 'b', 'c'], ['A', 'B', 'C', 'D', 'E', 'F']]\n",
            "          S1  S2  S3  S4\n",
            "L1 L2 L3                \n",
            "X  1  A   91  30  18  28\n",
            "   b  B   25  63  52  34\n",
            "   3  C   99  41  23  31\n",
            "Y  1  D   69  76  67  51\n",
            "   b  E   36  75  13  57\n",
            "   c  F   16  77  80  99\n",
            "--------------------\n",
            "          S1  S2  S3  S4\n",
            "L1 L2 L3                \n",
            "X  b  B   25  63  52  34\n",
            "Y  b  E   36  75  13  57\n",
            "--------------------\n",
            "          S1  S2  S3  S4\n",
            "L1 L2 L3                \n",
            "X  1  A   91  30  18  28\n",
            "   3  C   99  41  23  31\n",
            "Y  1  D   69  76  67  51\n"
          ]
        },
        {
          "output_type": "stream",
          "name": "stderr",
          "text": [
            "/usr/local/lib/python3.7/dist-packages/ipykernel_launcher.py:20: PerformanceWarning: indexing past lexsort depth may impact performance.\n"
          ]
        }
      ]
    },
    {
      "cell_type": "markdown",
      "source": [
        "# Multi-Index (Index and Columns)\n",
        "- Make two or more than two levels for **sub-categorization** of features"
      ],
      "metadata": {
        "id": "nc6aPb9I9Wi6"
      }
    },
    {
      "cell_type": "code",
      "source": [
        "df1 = pd.DataFrame(randint(10, 100, (6, 4)), index = list('abcdef'), columns=['S' + str(i) for i in range(1, 5)])\n",
        "print(df1)\n",
        "print('-'*20)\n",
        "\n",
        "df1.columns = [['Z', 'Z', 'W', 'W'], ['one', 'two', 'one', 'two']]\n",
        "df1.index = [['X', 'X', 'X', 'Y', 'Y', 'Y'], [1,2,3,1,2,3]]\n",
        "print(df1)\n",
        "print('-'*20)\n",
        "\n",
        "print(df1.columns)\n",
        "print(type(df1.columns))\n",
        "df1.columns.names = ['L1', 'L2']\n",
        "df1.index.names = ['L1', 'L2']\n",
        "print(df1)\n",
        "print('-'*20)\n",
        "\n",
        "print(df1.loc[:, 'Z'])\n",
        "print('-'*20)\n",
        "\n",
        "print(df1.loc[:,(['Z', 'W'], 'one')])\n",
        "print('-'*20)\n",
        "\n",
        "print(df1.loc[:, [('Z', 'one'), ('W', 'two')]])\n",
        "print('-'*20)\n",
        "\n",
        "print(df1.loc['X',[('Z', 'one'), ('W', 'two')]])"
      ],
      "metadata": {
        "colab": {
          "base_uri": "https://localhost:8080/"
        },
        "id": "VB48fy_p4lLY",
        "outputId": "db46ae09-971e-456a-870e-abbec1d7a659"
      },
      "execution_count": null,
      "outputs": [
        {
          "output_type": "stream",
          "name": "stdout",
          "text": [
            "   S1  S2  S3  S4\n",
            "a  33  86  36  51\n",
            "b  87  73  18  87\n",
            "c  91  66  27  44\n",
            "d  49  95  73  50\n",
            "e  19  99  87  56\n",
            "f  42  72  45  66\n",
            "--------------------\n",
            "      Z       W    \n",
            "    one two one two\n",
            "X 1  33  86  36  51\n",
            "  2  87  73  18  87\n",
            "  3  91  66  27  44\n",
            "Y 1  49  95  73  50\n",
            "  2  19  99  87  56\n",
            "  3  42  72  45  66\n",
            "--------------------\n",
            "MultiIndex([('Z', 'one'),\n",
            "            ('Z', 'two'),\n",
            "            ('W', 'one'),\n",
            "            ('W', 'two')],\n",
            "           )\n",
            "<class 'pandas.core.indexes.multi.MultiIndex'>\n",
            "L1      Z       W    \n",
            "L2    one two one two\n",
            "L1 L2                \n",
            "X  1   33  86  36  51\n",
            "   2   87  73  18  87\n",
            "   3   91  66  27  44\n",
            "Y  1   49  95  73  50\n",
            "   2   19  99  87  56\n",
            "   3   42  72  45  66\n",
            "--------------------\n",
            "L2     one  two\n",
            "L1 L2          \n",
            "X  1    33   86\n",
            "   2    87   73\n",
            "   3    91   66\n",
            "Y  1    49   95\n",
            "   2    19   99\n",
            "   3    42   72\n",
            "--------------------\n",
            "L1      Z   W\n",
            "L2    one one\n",
            "L1 L2        \n",
            "X  1   33  36\n",
            "   2   87  18\n",
            "   3   91  27\n",
            "Y  1   49  73\n",
            "   2   19  87\n",
            "   3   42  45\n",
            "--------------------\n",
            "L1      Z   W\n",
            "L2    one two\n",
            "L1 L2        \n",
            "X  1   33  51\n",
            "   2   87  87\n",
            "   3   91  44\n",
            "Y  1   49  50\n",
            "   2   19  56\n",
            "   3   42  66\n",
            "--------------------\n",
            "L1   Z   W\n",
            "L2 one two\n",
            "L2        \n",
            "1   33  51\n",
            "2   87  87\n",
            "3   91  44\n"
          ]
        }
      ]
    }
  ]
}