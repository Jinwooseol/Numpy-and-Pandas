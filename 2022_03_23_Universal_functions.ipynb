{
  "nbformat": 4,
  "nbformat_minor": 0,
  "metadata": {
    "colab": {
      "name": "2022.03.23_Universal_functions.ipynb",
      "provenance": [],
      "collapsed_sections": [],
      "authorship_tag": "ABX9TyNC42gMh7H3KwqrBo56jjow",
      "include_colab_link": true
    },
    "kernelspec": {
      "name": "python3",
      "display_name": "Python 3"
    },
    "language_info": {
      "name": "python"
    }
  },
  "cells": [
    {
      "cell_type": "markdown",
      "metadata": {
        "id": "view-in-github",
        "colab_type": "text"
      },
      "source": [
        "<a href=\"https://colab.research.google.com/github/Jinwooseol/Numpy-and-Pandas/blob/main/2022_03_23_Universal_functions.ipynb\" target=\"_parent\"><img src=\"https://colab.research.google.com/assets/colab-badge.svg\" alt=\"Open In Colab\"/></a>"
      ]
    },
    {
      "cell_type": "markdown",
      "source": [
        "# Universal Functions\n",
        "https://numpy.org/doc/stable/reference/ufuncs.html"
      ],
      "metadata": {
        "id": "iPIoy6dVWYXU"
      }
    },
    {
      "cell_type": "code",
      "execution_count": null,
      "metadata": {
        "id": "AasEm94_PUVc"
      },
      "outputs": [],
      "source": [
        "import numpy as np\n",
        "from numpy import random\n",
        "from numpy.random import default_rng"
      ]
    },
    {
      "cell_type": "code",
      "source": [
        "def print_info(obj):\n",
        "  print('type: ', type(obj))\n",
        "  print('print: ')\n",
        "  print(obj)\n",
        "\n",
        "  print('ndim: ', obj.ndim)\n",
        "  print('shape: ', obj.shape)\n",
        "  print('size: ', obj.size)\n",
        "  print('dtype: ', obj.dtype) # dtype: Data type\n",
        "  print('itemsize: ', obj.itemsize) # itemsize: Number of bytes that one of element occupied\n",
        "  print('data: {}'.format(obj.data))  # data: Address of array\n",
        "  print('-'*20)\n"
      ],
      "metadata": {
        "id": "Jw2XE8JpWjsz"
      },
      "execution_count": null,
      "outputs": []
    },
    {
      "cell_type": "markdown",
      "source": [
        "# Random number generator\n",
        "- rng.integers(**low**, **high**, **shape**): Generate random integers between low and high\n",
        "- rng.random(**shape**): Generate random real numbers\n"
      ],
      "metadata": {
        "id": "Qn7X_vYAWzzZ"
      }
    },
    {
      "cell_type": "code",
      "source": [
        "rng = default_rng() # rng: random number generator\n",
        "# rng = np.random.default_rng()\n",
        "print(rng.integers(0, 10, (5, 5)))\n",
        "print(rng.random((2, 5)))  # Random real number\n",
        "print(np.random.rand(2, 5))"
      ],
      "metadata": {
        "colab": {
          "base_uri": "https://localhost:8080/"
        },
        "id": "qnxfem9wPbY6",
        "outputId": "9cb9407b-a9fd-4452-939c-0518992eeff7"
      },
      "execution_count": null,
      "outputs": [
        {
          "output_type": "stream",
          "name": "stdout",
          "text": [
            "[[1 4 2 4 1]\n",
            " [0 2 5 3 0]\n",
            " [2 9 2 8 7]\n",
            " [8 8 1 7 6]\n",
            " [6 3 7 2 7]]\n",
            "[[0.94683203 0.70969973 0.19330111 0.24636855 0.24748236]\n",
            " [0.15011569 0.47630242 0.82717609 0.37509522 0.54284113]]\n",
            "[[0.21045938 0.41080038 0.50095843 0.52206189 0.35130032]\n",
            " [0.42926261 0.56309755 0.89318202 0.13060934 0.63213525]]\n"
          ]
        }
      ]
    },
    {
      "cell_type": "markdown",
      "source": [
        "**np.random.shuffle**: In-place mix  \n",
        "**np.random.permutation**: Create mixed new ndarray"
      ],
      "metadata": {
        "id": "PWq6suSdYY7I"
      }
    },
    {
      "cell_type": "code",
      "source": [
        "a1 = np.arange(10)\n",
        "print(a1)\n",
        "\n",
        "random.shuffle(a1) # In-place mix\n",
        "print(a1)\n",
        "\n",
        "a2 = np.arange(10)\n",
        "print(a2)\n",
        "\n",
        "a3 = random.permutation(a2)  # Create mixed new ndarray\n",
        "print(a3)\n",
        "print(a2)"
      ],
      "metadata": {
        "colab": {
          "base_uri": "https://localhost:8080/"
        },
        "id": "Uj9roLG6WfKY",
        "outputId": "43fa9999-bf05-4a4d-bf2b-44b65726f7e0"
      },
      "execution_count": null,
      "outputs": [
        {
          "output_type": "stream",
          "name": "stdout",
          "text": [
            "[0 1 2 3 4 5 6 7 8 9]\n",
            "[8 9 4 1 3 5 6 2 7 0]\n",
            "[0 1 2 3 4 5 6 7 8 9]\n",
            "[4 9 6 5 2 3 7 0 1 8]\n",
            "[0 1 2 3 4 5 6 7 8 9]\n"
          ]
        }
      ]
    },
    {
      "cell_type": "code",
      "source": [
        "a1 = np.arange(-10, 10, 2)\n",
        "np.random.shuffle(a1)\n",
        "print(a1)\n",
        "\n",
        "print(np.choose([1,3,5], a1)) # select element using index list a1[1], a1[3], a1[5]\n",
        "print(np.take(a1, [1,3,5])) \n"
      ],
      "metadata": {
        "colab": {
          "base_uri": "https://localhost:8080/"
        },
        "id": "AFKjQbeDYL5u",
        "outputId": "b03aa7a8-2030-4d36-be7e-fa6613b05229"
      },
      "execution_count": null,
      "outputs": [
        {
          "output_type": "stream",
          "name": "stdout",
          "text": [
            "[  0   4  -6   2 -10  -8  -4   8   6  -2]\n",
            "[ 4  2 -8]\n",
            "[ 4  2 -8]\n"
          ]
        }
      ]
    },
    {
      "cell_type": "markdown",
      "source": [
        "np.random.shuffle mix just one axis"
      ],
      "metadata": {
        "id": "YQ10947Vc1Ik"
      }
    },
    {
      "cell_type": "code",
      "source": [
        "# Just shuffle axis 0\n",
        "\n",
        "a2 = np.arange(-10, 10).reshape(4, -1)\n",
        "print(a2)\n",
        "np.random.shuffle(a2)\n",
        "print(a2)\n",
        "\n",
        "a3 = random.permutation(a2)\n",
        "print(a3)"
      ],
      "metadata": {
        "colab": {
          "base_uri": "https://localhost:8080/"
        },
        "id": "yWTKOKBgb2rf",
        "outputId": "19129de2-311f-4255-d166-f4c65b39757e"
      },
      "execution_count": null,
      "outputs": [
        {
          "output_type": "stream",
          "name": "stdout",
          "text": [
            "[[-10  -9  -8  -7  -6]\n",
            " [ -5  -4  -3  -2  -1]\n",
            " [  0   1   2   3   4]\n",
            " [  5   6   7   8   9]]\n",
            "[[ -5  -4  -3  -2  -1]\n",
            " [  0   1   2   3   4]\n",
            " [  5   6   7   8   9]\n",
            " [-10  -9  -8  -7  -6]]\n",
            "[[  0   1   2   3   4]\n",
            " [-10  -9  -8  -7  -6]\n",
            " [  5   6   7   8   9]\n",
            " [ -5  -4  -3  -2  -1]]\n"
          ]
        }
      ]
    },
    {
      "cell_type": "markdown",
      "source": [
        "**np.choose(index_list, ndarray)**: Get elements in index_list (= axis 0)  \n",
        "**np.take(ndarray, index_list)**: Get elements in index_list after flatten"
      ],
      "metadata": {
        "id": "g_FndLVJeXos"
      }
    },
    {
      "cell_type": "code",
      "source": [
        "# Shuffle all\n",
        "\n",
        "a2 = np.arange(-10, 10)\n",
        "np.random.shuffle(a2)\n",
        "a2 = a2.reshape(4, -1)\n",
        "print(a2)\n",
        "\n",
        "print(np.choose([3,2,1,0,2], a2)) # a2[3,0], [2,1] [1,2] [0,3] [2,4] Axis 0\n",
        "print(np.take(a2, [3,2,1,0,2]))\n",
        "print(np.take(a2, [11, 10, 5, 19, 6]))"
      ],
      "metadata": {
        "colab": {
          "base_uri": "https://localhost:8080/"
        },
        "id": "YPgPHaFTcjVI",
        "outputId": "359f04fd-cb22-4e2e-e677-03c0f98c692c"
      },
      "execution_count": null,
      "outputs": [
        {
          "output_type": "stream",
          "name": "stdout",
          "text": [
            "[[ -1   4   3   8  -2]\n",
            " [ -3  -8 -10   5   1]\n",
            " [ -6   0   7  -5  -7]\n",
            " [ -4   9   2  -9   6]]\n",
            "[ -4   0 -10   8  -7]\n",
            "[ 8  3  4 -1  3]\n",
            "[ 0 -6 -3  6 -8]\n"
          ]
        }
      ]
    },
    {
      "cell_type": "code",
      "source": [
        "a3 = a2.swapaxes(0, 1) # Swap axis 0 and axis 1\n",
        "\n",
        "print(a2)\n",
        "print(a2.shape)\n",
        "\n",
        "print(a3)\n",
        "print(a3.shape)\n",
        "\n",
        "print(a2.transpose())\n",
        "print(a2.transpose().shape)"
      ],
      "metadata": {
        "colab": {
          "base_uri": "https://localhost:8080/"
        },
        "id": "3L1GA3M6dG1k",
        "outputId": "66ac4655-d57b-493e-a97d-abdffdd83159"
      },
      "execution_count": null,
      "outputs": [
        {
          "output_type": "stream",
          "name": "stdout",
          "text": [
            "[[ -1   4   3   8  -2]\n",
            " [ -3  -8 -10   5   1]\n",
            " [ -6   0   7  -5  -7]\n",
            " [ -4   9   2  -9   6]]\n",
            "(4, 5)\n",
            "[[ -1  -3  -6  -4]\n",
            " [  4  -8   0   9]\n",
            " [  3 -10   7   2]\n",
            " [  8   5  -5  -9]\n",
            " [ -2   1  -7   6]]\n",
            "(5, 4)\n",
            "[[ -1  -3  -6  -4]\n",
            " [  4  -8   0   9]\n",
            " [  3 -10   7   2]\n",
            " [  8   5  -5  -9]\n",
            " [ -2   1  -7   6]]\n",
            "(5, 4)\n"
          ]
        }
      ]
    },
    {
      "cell_type": "code",
      "source": [
        "a3 = np.arange(-20, 20)\n",
        "np.random.shuffle(a3)\n",
        "a3 = a3.reshape(2,4,5)\n",
        "print(a3)\n",
        "print(a3.shape)\n",
        "print('-'*20)\n",
        "\n",
        "a4 = a3.swapaxes(0, 1)\n",
        "print(a4)\n",
        "print(a4.shape)\n",
        "print('-'*20)\n",
        "\n",
        "a5 = a3.swapaxes(0, 2)\n",
        "print(a5)\n",
        "print(a5.shape)\n",
        "print('-'*20)\n",
        "\n",
        "a6 = a3.swapaxes(1, 2)\n",
        "print(a6)\n",
        "print(a6.shape)\n",
        "print('-'*20)\n",
        "\n",
        "a7 = a3.transpose() # = a3.swapaxes(0, 2)\n",
        "print(a7)\n",
        "print(a7.shape)"
      ],
      "metadata": {
        "colab": {
          "base_uri": "https://localhost:8080/"
        },
        "id": "cj0J1OCpe3ut",
        "outputId": "0b35e719-f6a5-40e8-f639-54ad681250f9"
      },
      "execution_count": null,
      "outputs": [
        {
          "output_type": "stream",
          "name": "stdout",
          "text": [
            "[[[  1  -1 -18   2 -11]\n",
            "  [ 10  -8 -13 -14   6]\n",
            "  [  5 -15  17   9   8]\n",
            "  [-12   7 -20  -2  15]]\n",
            "\n",
            " [[ -3   3  -9  13  11]\n",
            "  [ -4   4 -10  -6  -5]\n",
            "  [ 18  16 -19  -7  14]\n",
            "  [  0  19 -16  12 -17]]]\n",
            "(2, 4, 5)\n",
            "--------------------\n",
            "[[[  1  -1 -18   2 -11]\n",
            "  [ -3   3  -9  13  11]]\n",
            "\n",
            " [[ 10  -8 -13 -14   6]\n",
            "  [ -4   4 -10  -6  -5]]\n",
            "\n",
            " [[  5 -15  17   9   8]\n",
            "  [ 18  16 -19  -7  14]]\n",
            "\n",
            " [[-12   7 -20  -2  15]\n",
            "  [  0  19 -16  12 -17]]]\n",
            "(4, 2, 5)\n",
            "--------------------\n",
            "[[[  1  -3]\n",
            "  [ 10  -4]\n",
            "  [  5  18]\n",
            "  [-12   0]]\n",
            "\n",
            " [[ -1   3]\n",
            "  [ -8   4]\n",
            "  [-15  16]\n",
            "  [  7  19]]\n",
            "\n",
            " [[-18  -9]\n",
            "  [-13 -10]\n",
            "  [ 17 -19]\n",
            "  [-20 -16]]\n",
            "\n",
            " [[  2  13]\n",
            "  [-14  -6]\n",
            "  [  9  -7]\n",
            "  [ -2  12]]\n",
            "\n",
            " [[-11  11]\n",
            "  [  6  -5]\n",
            "  [  8  14]\n",
            "  [ 15 -17]]]\n",
            "(5, 4, 2)\n",
            "--------------------\n",
            "[[[  1  10   5 -12]\n",
            "  [ -1  -8 -15   7]\n",
            "  [-18 -13  17 -20]\n",
            "  [  2 -14   9  -2]\n",
            "  [-11   6   8  15]]\n",
            "\n",
            " [[ -3  -4  18   0]\n",
            "  [  3   4  16  19]\n",
            "  [ -9 -10 -19 -16]\n",
            "  [ 13  -6  -7  12]\n",
            "  [ 11  -5  14 -17]]]\n",
            "(2, 5, 4)\n",
            "--------------------\n",
            "[[[  1  -3]\n",
            "  [ 10  -4]\n",
            "  [  5  18]\n",
            "  [-12   0]]\n",
            "\n",
            " [[ -1   3]\n",
            "  [ -8   4]\n",
            "  [-15  16]\n",
            "  [  7  19]]\n",
            "\n",
            " [[-18  -9]\n",
            "  [-13 -10]\n",
            "  [ 17 -19]\n",
            "  [-20 -16]]\n",
            "\n",
            " [[  2  13]\n",
            "  [-14  -6]\n",
            "  [  9  -7]\n",
            "  [ -2  12]]\n",
            "\n",
            " [[-11  11]\n",
            "  [  6  -5]\n",
            "  [  8  14]\n",
            "  [ 15 -17]]]\n",
            "(5, 4, 2)\n"
          ]
        }
      ]
    },
    {
      "cell_type": "markdown",
      "source": [
        "# Set operation\n",
        "- unique\n",
        "- union1d\n",
        "- intersect1d\n",
        "- setdiff1d\n",
        "- setxor1d"
      ],
      "metadata": {
        "id": "W5h3jp9ciQ-g"
      }
    },
    {
      "cell_type": "code",
      "source": [
        "a1 = np.random.default_rng().integers(0, 10, 10)\n",
        "print(a1)\n",
        "\n",
        "a2 = np.random.default_rng().integers(0, 20, 10)\n",
        "print(a2)\n",
        "\n",
        "x = np.unique(a1) # set element\n",
        "print(x)\n",
        "\n",
        "x = np.unique(a1, return_counts = True) # set element with count\n",
        "print(x)\n",
        "\n",
        "x = np.union1d(a1, a2) # set element   a1 or a2\n",
        "print(x)\n",
        "\n",
        "x = np.intersect1d(a1, a2) # set element a1 and a2\n",
        "print(x)\n",
        "\n",
        "x = np.setdiff1d(a1, a2) # set element a1 - a2\n",
        "print(x)\n",
        "\n",
        "x = np.setxor1d(a1, a2) # set element a1 xor a2\n",
        "print(x)"
      ],
      "metadata": {
        "colab": {
          "base_uri": "https://localhost:8080/"
        },
        "id": "vkBlyQc7fipG",
        "outputId": "e624fe59-fc71-4dfb-9304-bf183c907df9"
      },
      "execution_count": null,
      "outputs": [
        {
          "output_type": "stream",
          "name": "stdout",
          "text": [
            "[8 0 1 9 6 2 0 9 2 2]\n",
            "[15 11 18  5 12  8 12 12 19 11]\n",
            "[0 1 2 6 8 9]\n",
            "(array([0, 1, 2, 6, 8, 9]), array([2, 1, 3, 1, 1, 2]))\n",
            "[ 0  1  2  5  6  8  9 11 12 15 18 19]\n",
            "[8]\n",
            "[0 1 2 6 9]\n",
            "[ 0  1  2  5  6  9 11 12 15 18 19]\n"
          ]
        }
      ]
    },
    {
      "cell_type": "markdown",
      "source": [
        "# Universal functions\n",
        "- **Parameter**: out, where"
      ],
      "metadata": {
        "id": "k5EXZwYrj7IZ"
      }
    },
    {
      "cell_type": "code",
      "source": [
        "a1 = np.arange(10)\n",
        "a2 = np.arange(100, 110)\n",
        "a3 = np.empty(10, dtype = int)\n",
        "print(a1)\n",
        "print(a2)\n",
        "print(a1 + a2)\n",
        "print(np.add(a1, a2, out = a3)) # a3 = a1 + a2\n",
        "print(a3)\n",
        "\n",
        "a3 = np.zeros(10)\n",
        "print(np.add(a1, a2, out = a3, where = (a1 % 2 == 0))) # where: same with SQL"
      ],
      "metadata": {
        "colab": {
          "base_uri": "https://localhost:8080/"
        },
        "id": "8SZbWbWkib3O",
        "outputId": "fb52bfee-4ddf-4f83-9204-82d715646ce9"
      },
      "execution_count": null,
      "outputs": [
        {
          "output_type": "stream",
          "name": "stdout",
          "text": [
            "[0 1 2 3 4 5 6 7 8 9]\n",
            "[100 101 102 103 104 105 106 107 108 109]\n",
            "[100 102 104 106 108 110 112 114 116 118]\n",
            "[100 102 104 106 108 110 112 114 116 118]\n",
            "[100 102 104 106 108 110 112 114 116 118]\n",
            "[100.   0. 104.   0. 108.   0. 112.   0. 116.   0.]\n"
          ]
        }
      ]
    },
    {
      "cell_type": "markdown",
      "source": [
        "- **Method**: reduce, accumulate, reduceat"
      ],
      "metadata": {
        "id": "WhCXKUE_mE_K"
      }
    },
    {
      "cell_type": "code",
      "source": [
        "a1 = np.arange(10).reshape(2, -1)\n",
        "a2 = np.arange(100, 110).reshape(2,-1)\n",
        "\n",
        "print(a1)\n",
        "print(a2)\n",
        "print('-'*25)\n",
        "\n",
        "print(np.add.reduce(a1, axis = 0)) # == sum.(axis = 0)\n",
        "print(np.add.accumulate(a1, axis = 0))\n",
        "print('-'*25)\n",
        "\n",
        "print(np.add.reduce(a1, axis = 1)) # == sum.(axis = 1)\n",
        "print(np.add.accumulate(a1, axis = 1))\n",
        "print('-'*25)\n",
        "\n",
        "print(np.add.reduceat(a1, [1, 3], axis = 1)) # sum (1, 2), sum(3, 4)"
      ],
      "metadata": {
        "colab": {
          "base_uri": "https://localhost:8080/"
        },
        "id": "fvjjzohlmEtP",
        "outputId": "7110be7b-4771-4cf6-8a7e-fc70040f2942"
      },
      "execution_count": null,
      "outputs": [
        {
          "output_type": "stream",
          "name": "stdout",
          "text": [
            "[[0 1 2 3 4]\n",
            " [5 6 7 8 9]]\n",
            "[[100 101 102 103 104]\n",
            " [105 106 107 108 109]]\n",
            "-------------------------\n",
            "[ 5  7  9 11 13]\n",
            "[[ 0  1  2  3  4]\n",
            " [ 5  7  9 11 13]]\n",
            "-------------------------\n",
            "[10 35]\n",
            "[[ 0  1  3  6 10]\n",
            " [ 5 11 18 26 35]]\n",
            "-------------------------\n",
            "[[ 3  7]\n",
            " [13 17]]\n"
          ]
        }
      ]
    },
    {
      "cell_type": "code",
      "source": [
        "a1 = np.arange(1, 25).reshape(2,3,4)\n",
        "print(a1)\n",
        "print('-'*25)\n",
        "print(np.add.reduce(a1, axis=2))\n",
        "print('-'*25)\n",
        "print(np.add.reduceat(a1, [0, 2], axis = 2))"
      ],
      "metadata": {
        "colab": {
          "base_uri": "https://localhost:8080/"
        },
        "id": "i1qQsqvckN4E",
        "outputId": "fb24eb1b-ac3e-4507-b14e-7f8d3b3d7542"
      },
      "execution_count": null,
      "outputs": [
        {
          "output_type": "stream",
          "name": "stdout",
          "text": [
            "[[[ 1  2  3  4]\n",
            "  [ 5  6  7  8]\n",
            "  [ 9 10 11 12]]\n",
            "\n",
            " [[13 14 15 16]\n",
            "  [17 18 19 20]\n",
            "  [21 22 23 24]]]\n",
            "-------------------------\n",
            "[[10 26 42]\n",
            " [58 74 90]]\n",
            "-------------------------\n",
            "[[[ 3  7]\n",
            "  [11 15]\n",
            "  [19 23]]\n",
            "\n",
            " [[27 31]\n",
            "  [35 39]\n",
            "  [43 47]]]\n"
          ]
        }
      ]
    },
    {
      "cell_type": "markdown",
      "source": [
        "- **Method**: outer"
      ],
      "metadata": {
        "id": "Fv5E-YBorevd"
      }
    },
    {
      "cell_type": "code",
      "source": [
        "# a1 = np.arange(10)\n",
        "# a2 = np.arange(100, 110)\n",
        "# # print(a1)\n",
        "# print(a2)\n",
        "# print(np.add.outer(a1, a2)) # a1 -> row, a2 -> column / sum of row and column\n",
        "\n",
        "a1 = np.arange(10).reshape(2, 5)\n",
        "a2 = np.arange(20, 40, 4).reshape(-1, 5)\n",
        "a3 = np.add.outer(a1, a2)\n",
        "print(a1)\n",
        "print('-'*20)\n",
        "print(a2)\n",
        "print('-'*20)\n",
        "print(a3)\n",
        "print(a3.shape)"
      ],
      "metadata": {
        "colab": {
          "base_uri": "https://localhost:8080/"
        },
        "id": "_BkWb6wFrGf6",
        "outputId": "df84f88f-8026-421a-9757-40b3ad209106"
      },
      "execution_count": null,
      "outputs": [
        {
          "output_type": "stream",
          "name": "stdout",
          "text": [
            "[[0 1 2 3 4]\n",
            " [5 6 7 8 9]]\n",
            "--------------------\n",
            "[[20 24 28 32 36]]\n",
            "--------------------\n",
            "[[[[20 24 28 32 36]]\n",
            "\n",
            "  [[21 25 29 33 37]]\n",
            "\n",
            "  [[22 26 30 34 38]]\n",
            "\n",
            "  [[23 27 31 35 39]]\n",
            "\n",
            "  [[24 28 32 36 40]]]\n",
            "\n",
            "\n",
            " [[[25 29 33 37 41]]\n",
            "\n",
            "  [[26 30 34 38 42]]\n",
            "\n",
            "  [[27 31 35 39 43]]\n",
            "\n",
            "  [[28 32 36 40 44]]\n",
            "\n",
            "  [[29 33 37 41 45]]]]\n",
            "(2, 5, 1, 5)\n"
          ]
        }
      ]
    },
    {
      "cell_type": "markdown",
      "source": [
        "**Method**: at"
      ],
      "metadata": {
        "id": "1g-C8_wvtLwV"
      }
    },
    {
      "cell_type": "code",
      "source": [
        "a1 = np.arange(10)\n",
        "print(a1)\n",
        "np.add.at(a1, [0, 1], 100) # adapt function selectively index [0], [1]\n",
        "print(a1)"
      ],
      "metadata": {
        "colab": {
          "base_uri": "https://localhost:8080/"
        },
        "id": "3g9AZXUJrltd",
        "outputId": "7d813498-127e-4f64-9909-10fe1b8f9eed"
      },
      "execution_count": null,
      "outputs": [
        {
          "output_type": "stream",
          "name": "stdout",
          "text": [
            "[0 1 2 3 4 5 6 7 8 9]\n",
            "[100 101   2   3   4   5   6   7   8   9]\n"
          ]
        }
      ]
    },
    {
      "cell_type": "markdown",
      "source": [
        "# Universal functions\n",
        "- add, substract, multiply, divide, mod, negative, positive, power\n",
        "- absolute, rint, floor, ceil, trunc, fix\n",
        "- matmul, dot\n",
        "- greater, less, greater_equal, less_equal\n",
        "- maximum, minimum"
      ],
      "metadata": {
        "id": "4NWdW0nctmx-"
      }
    },
    {
      "cell_type": "code",
      "source": [
        "a1 = np.arange(1, 10).reshape(3, -3)\n",
        "a2 = np.full((3, 1), 2)\n",
        "\n",
        "print(a1)\n",
        "print(a2)\n",
        "\n",
        "a3 = np.power(a1, a2)\n",
        "print(a3)"
      ],
      "metadata": {
        "colab": {
          "base_uri": "https://localhost:8080/"
        },
        "id": "VPS-AAd9tTZf",
        "outputId": "d3e87dd2-fc13-4a12-cab4-80aec6c56a1c"
      },
      "execution_count": null,
      "outputs": [
        {
          "output_type": "stream",
          "name": "stdout",
          "text": [
            "[[1 2 3]\n",
            " [4 5 6]\n",
            " [7 8 9]]\n",
            "[[2]\n",
            " [2]\n",
            " [2]]\n",
            "[[ 1  4  9]\n",
            " [16 25 36]\n",
            " [49 64 81]]\n"
          ]
        }
      ]
    },
    {
      "cell_type": "code",
      "source": [
        "a1 = np.linspace(-5, 5, 10)\n",
        "print(a1)\n",
        "\n",
        "a2 = np.fix(a1) # round toward zero\n",
        "print(a2)"
      ],
      "metadata": {
        "colab": {
          "base_uri": "https://localhost:8080/"
        },
        "id": "q1TzZHEdt7N6",
        "outputId": "457f419a-7e3e-442a-f69b-c9329c8d57f2"
      },
      "execution_count": null,
      "outputs": [
        {
          "output_type": "stream",
          "name": "stdout",
          "text": [
            "[-5.         -3.88888889 -2.77777778 -1.66666667 -0.55555556  0.55555556\n",
            "  1.66666667  2.77777778  3.88888889  5.        ]\n",
            "[-5. -3. -2. -1. -0.  0.  1.  2.  3.  5.]\n"
          ]
        }
      ]
    },
    {
      "cell_type": "code",
      "source": [
        "a1 = rng.integers(0, 10, 10)\n",
        "a2 = rng.integers(0, 10, 10)\n",
        "print(a1)\n",
        "print(a2)\n",
        "\n",
        "print(np.matmul(a1, a2)) # Get product\n",
        "print(np.greater(a1, a2))\n",
        "print(np.maximum(a1, a2))"
      ],
      "metadata": {
        "colab": {
          "base_uri": "https://localhost:8080/"
        },
        "id": "uu4hQjp3unLN",
        "outputId": "b76b026b-c2f9-42b0-9ed0-d2b2f2bd9e88"
      },
      "execution_count": null,
      "outputs": [
        {
          "output_type": "stream",
          "name": "stdout",
          "text": [
            "[0 5 7 0 0 4 9 8 5 5]\n",
            "[0 5 3 3 5 3 6 0 2 7]\n",
            "157\n",
            "[False False  True False False  True  True  True  True False]\n",
            "[0 5 7 3 5 4 9 8 5 7]\n"
          ]
        }
      ]
    },
    {
      "cell_type": "code",
      "source": [
        ""
      ],
      "metadata": {
        "id": "E2DRug6VvMRe"
      },
      "execution_count": null,
      "outputs": []
    }
  ]
}