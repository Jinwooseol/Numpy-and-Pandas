{
  "nbformat": 4,
  "nbformat_minor": 0,
  "metadata": {
    "colab": {
      "name": "20220328_Pandas_series.ipynb",
      "provenance": [],
      "collapsed_sections": [],
      "authorship_tag": "ABX9TyOGU+EY3GHNR7HdcfMF9Ioy",
      "include_colab_link": true
    },
    "kernelspec": {
      "name": "python3",
      "display_name": "Python 3"
    },
    "language_info": {
      "name": "python"
    }
  },
  "cells": [
    {
      "cell_type": "markdown",
      "metadata": {
        "id": "view-in-github",
        "colab_type": "text"
      },
      "source": [
        "<a href=\"https://colab.research.google.com/github/Jinwooseol/Numpy-and-Pandas/blob/main/20220328_Pandas_series.ipynb\" target=\"_parent\"><img src=\"https://colab.research.google.com/assets/colab-badge.svg\" alt=\"Open In Colab\"/></a>"
      ]
    },
    {
      "cell_type": "markdown",
      "source": [
        "# Pandas\n",
        "\n",
        "Advantage\n",
        "- Good for utilizing table\n",
        "- Based on Numpy\n",
        "\n",
        "# Terminology\n",
        "- Table: **Data Frame (DF)**\n",
        "- column: **Series**\n",
        "\n",
        "Reference:\n",
        "https://pandas.pydata.org/docs/reference/index.html#api"
      ],
      "metadata": {
        "id": "yKQZl3peMv0t"
      }
    },
    {
      "cell_type": "code",
      "execution_count": null,
      "metadata": {
        "id": "keAbSbQj-Q1R"
      },
      "outputs": [],
      "source": [
        "import pandas as pd\n",
        "import numpy as np\n",
        "from numpy import random"
      ]
    },
    {
      "cell_type": "code",
      "source": [
        "pd.__version__ # check the version"
      ],
      "metadata": {
        "colab": {
          "base_uri": "https://localhost:8080/",
          "height": 35
        },
        "id": "0F62mWuPOKmA",
        "outputId": "b9f595e9-b6b2-4d38-c6e7-4898181d159e"
      },
      "execution_count": null,
      "outputs": [
        {
          "output_type": "execute_result",
          "data": {
            "text/plain": [
              "'1.3.5'"
            ],
            "application/vnd.google.colaboratory.intrinsic+json": {
              "type": "string"
            }
          },
          "metadata": {},
          "execution_count": 80
        }
      ]
    },
    {
      "cell_type": "code",
      "source": [
        "def print_info(obj):\n",
        "  print('type: ', type(obj))\n",
        "  print('print: ')\n",
        "  print(obj)\n",
        "\n",
        "  print('ndim: ', obj.ndim)\n",
        "  print('shape: ', obj.shape)\n",
        "  print('size: ', obj.size)\n",
        "  print('dtype: ', obj.dtype) # dtype: Data type\n",
        "  print('array: ', obj.array)\n",
        "  print('-'*20)\n"
      ],
      "metadata": {
        "id": "UPPf1wkkPIgJ"
      },
      "execution_count": null,
      "outputs": []
    },
    {
      "cell_type": "code",
      "source": [
        "s1 = pd.Series(5)\n",
        "print_info(s1)\n",
        "\n",
        "s2 = pd.Series('a') # print out index and element\n",
        "print(s2) # dtype: object means string\n",
        "\n",
        "s3 = pd.Series('abc')\n",
        "print(s3)\n"
      ],
      "metadata": {
        "colab": {
          "base_uri": "https://localhost:8080/"
        },
        "id": "JD_81HhiOZhc",
        "outputId": "0f00305a-95e9-4af8-e00e-c45245e3837d"
      },
      "execution_count": null,
      "outputs": [
        {
          "output_type": "stream",
          "name": "stdout",
          "text": [
            "type:  <class 'pandas.core.series.Series'>\n",
            "print: \n",
            "0    5\n",
            "dtype: int64\n",
            "ndim:  1\n",
            "shape:  (1,)\n",
            "size:  1\n",
            "dtype:  int64\n",
            "array:  <PandasArray>\n",
            "[5]\n",
            "Length: 1, dtype: int64\n",
            "--------------------\n",
            "0    a\n",
            "dtype: object\n",
            "0    abc\n",
            "dtype: object\n"
          ]
        }
      ]
    },
    {
      "cell_type": "code",
      "source": [
        "list1= [1,2,3]\n",
        "list2 = ['a','b','c']\n",
        "\n",
        "s1 = pd.Series(list1) # ndarray\n",
        "print(s1)\n",
        "s2 = pd.Series(list2)\n",
        "print(s2)\n",
        "\n",
        "s3 = pd.Series(np.array(list1))\n",
        "print(s3)\n",
        "\n",
        "s1 = pd.Series(range(10))\n",
        "s2 = pd.Series(np.arange(0,20,2))\n",
        "print(s1)\n",
        "print(s2)"
      ],
      "metadata": {
        "colab": {
          "base_uri": "https://localhost:8080/"
        },
        "id": "CR7k6KaXOzhY",
        "outputId": "775c5085-69d7-47d5-b9d1-b8ef2f7b9467"
      },
      "execution_count": null,
      "outputs": [
        {
          "output_type": "stream",
          "name": "stdout",
          "text": [
            "0    1\n",
            "1    2\n",
            "2    3\n",
            "dtype: int64\n",
            "0    a\n",
            "1    b\n",
            "2    c\n",
            "dtype: object\n",
            "0    1\n",
            "1    2\n",
            "2    3\n",
            "dtype: int64\n",
            "0    0\n",
            "1    1\n",
            "2    2\n",
            "3    3\n",
            "4    4\n",
            "5    5\n",
            "6    6\n",
            "7    7\n",
            "8    8\n",
            "9    9\n",
            "dtype: int64\n",
            "0     0\n",
            "1     2\n",
            "2     4\n",
            "3     6\n",
            "4     8\n",
            "5    10\n",
            "6    12\n",
            "7    14\n",
            "8    16\n",
            "9    18\n",
            "dtype: int64\n"
          ]
        }
      ]
    },
    {
      "cell_type": "code",
      "source": [
        "list3 = list1 + list2\n",
        "s1 = pd.Series(list3)\n",
        "print(s1) # Mixed list's type is object\n",
        "# Uniform dtype like Numpy"
      ],
      "metadata": {
        "colab": {
          "base_uri": "https://localhost:8080/"
        },
        "id": "6JD0vX1vPwkb",
        "outputId": "68f261ca-25f9-4af5-8915-20d646b030f1"
      },
      "execution_count": null,
      "outputs": [
        {
          "output_type": "stream",
          "name": "stdout",
          "text": [
            "0    1\n",
            "1    2\n",
            "2    3\n",
            "3    a\n",
            "4    b\n",
            "5    c\n",
            "6    a\n",
            "7    b\n",
            "8    c\n",
            "dtype: object\n"
          ]
        }
      ]
    },
    {
      "cell_type": "code",
      "source": [
        "#Using Python's dict\n",
        "\n",
        "d1 = dict(zip(list1, list2))\n",
        "print(d1)\n",
        "s1 = pd.Series(d1)\n",
        "print(s1)"
      ],
      "metadata": {
        "colab": {
          "base_uri": "https://localhost:8080/"
        },
        "id": "MT-H7FDEQyfJ",
        "outputId": "2d65585f-a11a-4128-8f43-a50d66c46c05"
      },
      "execution_count": null,
      "outputs": [
        {
          "output_type": "stream",
          "name": "stdout",
          "text": [
            "{1: 'a', 2: 'b', 3: 'c'}\n",
            "1    a\n",
            "2    b\n",
            "3    c\n",
            "dtype: object\n"
          ]
        }
      ]
    },
    {
      "cell_type": "code",
      "source": [
        "d2 = dict(zip(list2, list1))\n",
        "s2 = pd.Series(d2)\n",
        "print(d2)\n",
        "\n",
        "print(zip(list1, list2))"
      ],
      "metadata": {
        "colab": {
          "base_uri": "https://localhost:8080/"
        },
        "id": "FHcSlDfjRz1l",
        "outputId": "64a5ec55-56ba-42b5-e0f6-e63ba0f6c019"
      },
      "execution_count": null,
      "outputs": [
        {
          "output_type": "stream",
          "name": "stdout",
          "text": [
            "{'a': 1, 'b': 2, 'c': 3}\n",
            "<zip object at 0x7fdbd6504780>\n",
            "[1, 2, 3, 'a', 'b', 'c']\n"
          ]
        }
      ]
    },
    {
      "cell_type": "markdown",
      "source": [
        "# pd.Series(values list, index list)\n",
        "- 결측치를 다루기에 편리함 (NaN)\n",
        "- When occur **NaN**, dtype change to **float64**"
      ],
      "metadata": {
        "id": "tk_Uqk2cVHYv"
      }
    },
    {
      "cell_type": "code",
      "source": [
        "list1 = [1,2,3]\n",
        "s1 = pd.Series(list1, index=['January', 'February', 'March'])\n",
        "print(s1)\n",
        "\n",
        "s1 = pd.Series(list1, ['a', 'b', 'c'])\n",
        "print(s1)\n",
        "\n",
        "# Low index number is not acceptable\n",
        "# s1 = pd.Series(list1, ['a', 'b']) \n",
        "# print(s1)\n",
        "\n",
        "d1 = pd.Series(s1, ['b','c','a','x'])\n",
        "print(d1)\n",
        "\n",
        "print(d1.index)\n",
        "print(d1.reindex(['b','c','x','a'])) # Change index line (Not change the index)"
      ],
      "metadata": {
        "colab": {
          "base_uri": "https://localhost:8080/"
        },
        "id": "khApOXgvSQSR",
        "outputId": "c0ad4949-1e5e-4434-df08-9b1b8698107b"
      },
      "execution_count": null,
      "outputs": [
        {
          "output_type": "stream",
          "name": "stdout",
          "text": [
            "January     1\n",
            "February    2\n",
            "March       3\n",
            "dtype: int64\n",
            "a    1\n",
            "b    2\n",
            "c    3\n",
            "dtype: int64\n",
            "b    2.0\n",
            "c    3.0\n",
            "a    1.0\n",
            "x    NaN\n",
            "dtype: float64\n",
            "Index(['b', 'c', 'a', 'x'], dtype='object')\n",
            "b    2.0\n",
            "c    3.0\n",
            "x    NaN\n",
            "a    1.0\n",
            "dtype: float64\n"
          ]
        }
      ]
    },
    {
      "cell_type": "code",
      "source": [
        "s1 = pd.Series([1,2,3],['a','b','c']) # Pandas type\n",
        "print(s1)\n",
        "print(type(s1))\n",
        "\n",
        "a1 = s1.to_numpy() # Change Pandas to Numpy style  (Referencing) Not copy and paste\n",
        "print(a1)\n",
        "print(type(a1))"
      ],
      "metadata": {
        "colab": {
          "base_uri": "https://localhost:8080/"
        },
        "id": "kcwDmwnmTHzY",
        "outputId": "15c7fba0-52bc-4a7d-bba8-e17cf3dcb1d3"
      },
      "execution_count": null,
      "outputs": [
        {
          "output_type": "stream",
          "name": "stdout",
          "text": [
            "a    1\n",
            "b    2\n",
            "c    3\n",
            "dtype: int64\n",
            "<class 'pandas.core.series.Series'>\n",
            "[1 2 3]\n",
            "<class 'numpy.ndarray'>\n"
          ]
        }
      ]
    },
    {
      "cell_type": "markdown",
      "source": [
        "# Indexing and slicing in Pandas\n",
        "- get: Safe way for get element instead of just using integer indexing  \n",
        "  If I called wrong index then, **get** return **None**\n",
        "    \n"
      ],
      "metadata": {
        "id": "zv_5oljub4gN"
      }
    },
    {
      "cell_type": "code",
      "source": [
        "a1 = np.arange(5,11)\n",
        "np.random.shuffle(a1)\n",
        "\n",
        "s1 = pd.Series(a1, list('abcdef'))\n",
        "print(s1)\n",
        "\n",
        "# Indexing and slicing are same with Numpy\n",
        "print(s1[0])\n",
        "print(s1[0:3])\n",
        "print(s1[s1%2 == 0])\n",
        "print(s1[s1<7])\n",
        "\n",
        "print(s1['c']) # key value\n",
        "# print(s1['x']) -> Error    (Dangerous)\n",
        "\n",
        "print(s1.get('c'))\n",
        "print(s1.get('x')) # -> None (Safe)"
      ],
      "metadata": {
        "colab": {
          "base_uri": "https://localhost:8080/"
        },
        "id": "lfFdjZAfU4E8",
        "outputId": "8d630eca-2154-41a2-b56c-218c2e5bbdaf"
      },
      "execution_count": null,
      "outputs": [
        {
          "output_type": "stream",
          "name": "stdout",
          "text": [
            "a     8\n",
            "b     5\n",
            "c     7\n",
            "d     9\n",
            "e    10\n",
            "f     6\n",
            "dtype: int64\n",
            "8\n",
            "a    8\n",
            "b    5\n",
            "c    7\n",
            "dtype: int64\n",
            "a     8\n",
            "e    10\n",
            "f     6\n",
            "dtype: int64\n",
            "b    5\n",
            "f    6\n",
            "dtype: int64\n",
            "7\n",
            "7\n",
            "None\n"
          ]
        }
      ]
    },
    {
      "cell_type": "code",
      "source": [
        "print(s1)\n",
        "print(s1['c':'e']) # Include end key value\n",
        "print(s1['a':'e':2]) # Step is also possible"
      ],
      "metadata": {
        "colab": {
          "base_uri": "https://localhost:8080/"
        },
        "id": "drLaNBq1Wvkn",
        "outputId": "c2c0d25e-0590-4d83-b44b-52de47defa01"
      },
      "execution_count": null,
      "outputs": [
        {
          "output_type": "stream",
          "name": "stdout",
          "text": [
            "a     8\n",
            "b     5\n",
            "c     7\n",
            "d     9\n",
            "e    10\n",
            "f     6\n",
            "dtype: int64\n",
            "c     7\n",
            "d     9\n",
            "e    10\n",
            "dtype: int64\n",
            "a     8\n",
            "c     7\n",
            "e    10\n",
            "dtype: int64\n"
          ]
        }
      ]
    },
    {
      "cell_type": "markdown",
      "source": [
        "- **iloc**: integer location for indexing\n",
        "- **loc**: location for non-integer indexing like using boolen list"
      ],
      "metadata": {
        "id": "SbNPsqfOcC02"
      }
    },
    {
      "cell_type": "code",
      "source": [
        "a1 = np.arange(5,11)\n",
        "np.random.shuffle(a1)\n",
        "\n",
        "s1 = pd.Series(a1, list('abcdef'))\n",
        "print(s1)\n",
        "print(s1.iloc[4])    # = s1[4]\n",
        "print(s1.iloc[0:5:2])\n",
        "# print(s1.iloc[s1>6]) # -> Error \n",
        "print(s1.loc[s1<8])\n",
        "print(s1.loc['b':'f':2])\n",
        "\n",
        "# Q. Why use iloc and loc?\n",
        "# A. Just option"
      ],
      "metadata": {
        "colab": {
          "base_uri": "https://localhost:8080/"
        },
        "id": "ng1m7y0vajDW",
        "outputId": "367005f1-f2cc-45b9-da85-66678d023507"
      },
      "execution_count": null,
      "outputs": [
        {
          "output_type": "stream",
          "name": "stdout",
          "text": [
            "a    10\n",
            "b     5\n",
            "c     6\n",
            "d     7\n",
            "e     8\n",
            "f     9\n",
            "dtype: int64\n",
            "8\n",
            "a    10\n",
            "c     6\n",
            "e     8\n",
            "dtype: int64\n",
            "b    5\n",
            "c    6\n",
            "d    7\n",
            "dtype: int64\n",
            "b    5\n",
            "d    7\n",
            "f    9\n",
            "dtype: int64\n"
          ]
        }
      ]
    },
    {
      "cell_type": "markdown",
      "source": [
        "# isin\n",
        "- Boolen result of existance"
      ],
      "metadata": {
        "id": "1URQqYRUdktj"
      }
    },
    {
      "cell_type": "code",
      "source": [
        "a1 = np.arange(5,11)\n",
        "np.random.shuffle(a1)\n",
        "\n",
        "s1 = pd.Series(a1, list('abcdef'))\n",
        "print(s1)\n",
        "print(s1.isin([5,11,7]))\n",
        "print(s1.index.isin(['d','e']))"
      ],
      "metadata": {
        "colab": {
          "base_uri": "https://localhost:8080/"
        },
        "id": "_Jv5z8lcb_Pc",
        "outputId": "381f2283-a868-475b-f1f2-d53a39dff313"
      },
      "execution_count": null,
      "outputs": [
        {
          "output_type": "stream",
          "name": "stdout",
          "text": [
            "a     5\n",
            "b     9\n",
            "c    10\n",
            "d     6\n",
            "e     7\n",
            "f     8\n",
            "dtype: int64\n",
            "a     True\n",
            "b    False\n",
            "c    False\n",
            "d    False\n",
            "e     True\n",
            "f    False\n",
            "dtype: bool\n",
            "[False False False  True  True False]\n"
          ]
        }
      ]
    },
    {
      "cell_type": "markdown",
      "source": [
        "# where\n",
        "- Conditional slicing method\n",
        "- Keep shape"
      ],
      "metadata": {
        "id": "3pIJC3MoeZjE"
      }
    },
    {
      "cell_type": "code",
      "source": [
        "a1 = np.arange(5,11)\n",
        "np.random.shuffle(a1)\n",
        "\n",
        "s1 = pd.Series(a1, list('abcdef'))\n",
        "print(s1)\n",
        "print(s1[s1%2 == 0])        # remove NaN\n",
        "print(s1.where(s1%2 == 0))  # keep shape"
      ],
      "metadata": {
        "colab": {
          "base_uri": "https://localhost:8080/"
        },
        "id": "BPCRA_uudu2l",
        "outputId": "3567f00d-27ab-49c4-a222-d48c785fad08"
      },
      "execution_count": null,
      "outputs": [
        {
          "output_type": "stream",
          "name": "stdout",
          "text": [
            "a     6\n",
            "b     9\n",
            "c     7\n",
            "d     5\n",
            "e    10\n",
            "f     8\n",
            "dtype: int64\n",
            "a     6\n",
            "e    10\n",
            "f     8\n",
            "dtype: int64\n",
            "a     6.0\n",
            "b     NaN\n",
            "c     NaN\n",
            "d     NaN\n",
            "e    10.0\n",
            "f     8.0\n",
            "dtype: float64\n"
          ]
        }
      ]
    },
    {
      "cell_type": "code",
      "source": [
        "a1 = np.arange(5,11)\n",
        "np.random.shuffle(a1)\n",
        "\n",
        "s1 = pd.Series(a1, list('abcdef'))\n",
        "print(s1)\n",
        "\n",
        "print(s1[lambda x: (x*3)%2 == 0])\n",
        "print(s1[(s1*3)%2 == 0])\n",
        "\n",
        "def myfunc(x):\n",
        "  return (x**3) % 2 == 0\n",
        "\n",
        "print(s1[myfunc])           # Function possible\n",
        "print(s1[lambda x: [1,2,3]])\n",
        "print(s1[[1,2,3]])"
      ],
      "metadata": {
        "colab": {
          "base_uri": "https://localhost:8080/"
        },
        "id": "4HeAqqN8ej65",
        "outputId": "a0ab82ac-7484-4d53-c8fe-c95f306074a7"
      },
      "execution_count": null,
      "outputs": [
        {
          "output_type": "stream",
          "name": "stdout",
          "text": [
            "a     7\n",
            "b    10\n",
            "c     6\n",
            "d     8\n",
            "e     9\n",
            "f     5\n",
            "dtype: int64\n",
            "b    10\n",
            "c     6\n",
            "d     8\n",
            "dtype: int64\n",
            "b    10\n",
            "c     6\n",
            "d     8\n",
            "dtype: int64\n",
            "b    10\n",
            "c     6\n",
            "d     8\n",
            "dtype: int64\n",
            "b    10\n",
            "c     6\n",
            "d     8\n",
            "dtype: int64\n",
            "b    10\n",
            "c     6\n",
            "d     8\n",
            "dtype: int64\n"
          ]
        }
      ]
    },
    {
      "cell_type": "markdown",
      "source": [
        "# random selection\n",
        "- sample( N ): select N numbers randomly\n",
        "- replace: repeatition acceptable"
      ],
      "metadata": {
        "id": "FQI4cZSegH9B"
      }
    },
    {
      "cell_type": "code",
      "source": [
        "s1 = pd.Series(np.arange(10))\n",
        "print(s1)\n",
        "\n",
        "print(s1.sample(5)) # random selection\n",
        "print(s1.sample(frac=0.3)) # fraction\n",
        "print(s1.sample(frac=0.3, replace=True))"
      ],
      "metadata": {
        "colab": {
          "base_uri": "https://localhost:8080/"
        },
        "id": "3ncIHwH7fKKy",
        "outputId": "000ff6fb-f0eb-4b3f-976f-9b1754db7d20"
      },
      "execution_count": null,
      "outputs": [
        {
          "output_type": "stream",
          "name": "stdout",
          "text": [
            "0    0\n",
            "1    1\n",
            "2    2\n",
            "3    3\n",
            "4    4\n",
            "5    5\n",
            "6    6\n",
            "7    7\n",
            "8    8\n",
            "9    9\n",
            "dtype: int64\n",
            "5    5\n",
            "3    3\n",
            "8    8\n",
            "2    2\n",
            "0    0\n",
            "dtype: int64\n",
            "5    5\n",
            "4    4\n",
            "6    6\n",
            "dtype: int64\n",
            "0    0\n",
            "3    3\n",
            "4    4\n",
            "dtype: int64\n"
          ]
        }
      ]
    },
    {
      "cell_type": "markdown",
      "source": [
        "- isna\n",
        "- hasnans: property (Not method)\n",
        "- dropna\n",
        "- fillna: replace element NaN to input number\n",
        "- replace: "
      ],
      "metadata": {
        "id": "Q_xwcgT4idDD"
      }
    },
    {
      "cell_type": "code",
      "source": [
        "s1 = pd.Series(np.arange(5), list('abcde'))\n",
        "print(s1)\n",
        "\n",
        "s2 = s1.reindex(list('defjealz'))\n",
        "print(s2)\n",
        "print(s2.count())\n",
        "print('-'*20)\n",
        "print(s2.isna())  # If NaN then True, else False for each\n",
        "print(s2.hasnans) # If NaN exist then True, else False   Property\n",
        "\n",
        "print(s2.dropna()) # remove NaN\n",
        "print(s2.fillna(100.0)) # replace NaN to 100.0\n",
        "print(s2.replace(np.NaN, 0.0)) # Not In-place\n",
        "print(s2)"
      ],
      "metadata": {
        "colab": {
          "base_uri": "https://localhost:8080/"
        },
        "id": "ljUgU-QogM2F",
        "outputId": "7ec1fe4d-a39d-4f75-eff2-92782872798b"
      },
      "execution_count": null,
      "outputs": [
        {
          "output_type": "stream",
          "name": "stdout",
          "text": [
            "a    0\n",
            "b    1\n",
            "c    2\n",
            "d    3\n",
            "e    4\n",
            "dtype: int64\n",
            "d    3.0\n",
            "e    4.0\n",
            "f    NaN\n",
            "j    NaN\n",
            "e    4.0\n",
            "a    0.0\n",
            "l    NaN\n",
            "z    NaN\n",
            "dtype: float64\n",
            "4\n",
            "--------------------\n",
            "d    False\n",
            "e    False\n",
            "f     True\n",
            "j     True\n",
            "e    False\n",
            "a    False\n",
            "l     True\n",
            "z     True\n",
            "dtype: bool\n",
            "True\n",
            "d    3.0\n",
            "e    4.0\n",
            "e    4.0\n",
            "a    0.0\n",
            "dtype: float64\n",
            "d      3.0\n",
            "e      4.0\n",
            "f    100.0\n",
            "j    100.0\n",
            "e      4.0\n",
            "a      0.0\n",
            "l    100.0\n",
            "z    100.0\n",
            "dtype: float64\n",
            "d    3.0\n",
            "e    4.0\n",
            "f    0.0\n",
            "j    0.0\n",
            "e    4.0\n",
            "a    0.0\n",
            "l    0.0\n",
            "z    0.0\n",
            "dtype: float64\n",
            "d    3.0\n",
            "e    4.0\n",
            "f    NaN\n",
            "j    NaN\n",
            "e    4.0\n",
            "a    0.0\n",
            "l    NaN\n",
            "z    NaN\n",
            "dtype: float64\n"
          ]
        }
      ]
    },
    {
      "cell_type": "code",
      "source": [
        "s3 = s2.fillna(100.0)\n",
        "print(s3)\n",
        "s3.replace(100.0, 0.0) # replace 100.0 to 0.0"
      ],
      "metadata": {
        "colab": {
          "base_uri": "https://localhost:8080/"
        },
        "id": "vQeyuHoKhN7j",
        "outputId": "466215d1-6b60-4f23-82ec-b94399cb5e69"
      },
      "execution_count": null,
      "outputs": [
        {
          "output_type": "stream",
          "name": "stdout",
          "text": [
            "d      3.0\n",
            "e      4.0\n",
            "f    100.0\n",
            "j    100.0\n",
            "e      4.0\n",
            "a      0.0\n",
            "l    100.0\n",
            "z    100.0\n",
            "dtype: float64\n"
          ]
        },
        {
          "output_type": "execute_result",
          "data": {
            "text/plain": [
              "d    3.0\n",
              "e    4.0\n",
              "f    0.0\n",
              "j    0.0\n",
              "e    4.0\n",
              "a    0.0\n",
              "l    0.0\n",
              "z    0.0\n",
              "dtype: float64"
            ]
          },
          "metadata": {},
          "execution_count": 143
        }
      ]
    },
    {
      "cell_type": "code",
      "source": [
        "a1 = np.arange(5,11)\n",
        "np.random.shuffle(a1)\n",
        "s1 = pd.Series(a1, list('abcdef'))\n",
        "print(s1)\n",
        "print(s1.describe()) # collection of properties"
      ],
      "metadata": {
        "colab": {
          "base_uri": "https://localhost:8080/"
        },
        "id": "63nenhDjjL0O",
        "outputId": "bae3bc2b-99f0-4715-a934-4780d1ecc09d"
      },
      "execution_count": null,
      "outputs": [
        {
          "output_type": "stream",
          "name": "stdout",
          "text": [
            "a     7\n",
            "b    10\n",
            "c     8\n",
            "d     6\n",
            "e     9\n",
            "f     5\n",
            "dtype: int64\n",
            "count     6.000000\n",
            "mean      7.500000\n",
            "std       1.870829\n",
            "min       5.000000\n",
            "25%       6.250000\n",
            "50%       7.500000\n",
            "75%       8.750000\n",
            "max      10.000000\n",
            "dtype: float64\n"
          ]
        }
      ]
    },
    {
      "cell_type": "code",
      "source": [
        "print(s1.unique()) # set\n",
        "print(s1.nunique()) # len(s1.unique())\n",
        "print(s1.value_counts()) # 빈도수 분석 가능\n",
        "\n"
      ],
      "metadata": {
        "colab": {
          "base_uri": "https://localhost:8080/"
        },
        "id": "jA-9ZS0gjo4C",
        "outputId": "50a10adc-2c51-4ca2-aecf-c2f2e6f12e3f"
      },
      "execution_count": null,
      "outputs": [
        {
          "output_type": "stream",
          "name": "stdout",
          "text": [
            "[ 7 10  8  6  9  5]\n",
            "6\n",
            "7     1\n",
            "10    1\n",
            "8     1\n",
            "6     1\n",
            "9     1\n",
            "5     1\n",
            "dtype: int64\n"
          ]
        }
      ]
    },
    {
      "cell_type": "markdown",
      "source": [
        "**cut**: reform the range  \n",
        "- Similar with **linespace** in Numpy\n"
      ],
      "metadata": {
        "id": "YqXA6JRDY1te"
      }
    },
    {
      "cell_type": "code",
      "source": [
        "a1 = np.arange(5,11)\n",
        "np.random.shuffle(a1)\n",
        "s1 = pd.Series(a1, list('abcdef'))\n",
        "print(s1)\n",
        "print(pd.cut(s1, 3)) # split in 3 part"
      ],
      "metadata": {
        "colab": {
          "base_uri": "https://localhost:8080/"
        },
        "id": "f0tU53kyiyHZ",
        "outputId": "9b52c09e-845c-4eff-88df-38a80c912673"
      },
      "execution_count": null,
      "outputs": [
        {
          "output_type": "stream",
          "name": "stdout",
          "text": [
            "a     9\n",
            "b     6\n",
            "c     7\n",
            "d     8\n",
            "e     5\n",
            "f    10\n",
            "dtype: int64\n",
            "a     (8.333, 10.0]\n",
            "b    (4.995, 6.667]\n",
            "c    (6.667, 8.333]\n",
            "d    (6.667, 8.333]\n",
            "e    (4.995, 6.667]\n",
            "f     (8.333, 10.0]\n",
            "dtype: category\n",
            "Categories (3, interval[float64, right]): [(4.995, 6.667] < (6.667, 8.333] < (8.333, 10.0]]\n"
          ]
        }
      ]
    }
  ]
}