{
  "nbformat": 4,
  "nbformat_minor": 0,
  "metadata": {
    "colab": {
      "name": "20220330_Pandas_DataFrame.ipynb",
      "provenance": [],
      "collapsed_sections": [],
      "authorship_tag": "ABX9TyPGJzoxFLBg7/lId5wrheKO",
      "include_colab_link": true
    },
    "kernelspec": {
      "name": "python3",
      "display_name": "Python 3"
    },
    "language_info": {
      "name": "python"
    }
  },
  "cells": [
    {
      "cell_type": "markdown",
      "metadata": {
        "id": "view-in-github",
        "colab_type": "text"
      },
      "source": [
        "<a href=\"https://colab.research.google.com/github/Jinwooseol/Numpy-and-Pandas/blob/main/20220330_Pandas_DataFrame.ipynb\" target=\"_parent\"><img src=\"https://colab.research.google.com/assets/colab-badge.svg\" alt=\"Open In Colab\"/></a>"
      ]
    },
    {
      "cell_type": "markdown",
      "source": [
        "#Pandas Data Frame (DF)\n",
        "- Pandas is upgrade(?) model of Numpy\n",
        "\n",
        "$~$  \n",
        "\n",
        "- Numpy and Pandas are **open source** that managed by someones in Github\n",
        "- If you want some functions for Numpy or Pandas, then you can send to that magage team of Numpy and Pandas.  \n",
        "They check your code and accept or reject your suggestions. "
      ],
      "metadata": {
        "id": "ZyvAfL9mQ6sZ"
      }
    },
    {
      "cell_type": "code",
      "execution_count": null,
      "metadata": {
        "id": "lnxUnMwOQ1nq"
      },
      "outputs": [],
      "source": [
        "import pandas as pd\n",
        "import numpy as np\n",
        "\n",
        "np_rng = np.random.default_rng()"
      ]
    },
    {
      "cell_type": "code",
      "source": [
        "# a1 = np.arange(5,11)\n",
        "# np.random.shuffle(a1)\n",
        "\n",
        "# s1 = pd.Series(a1, list('abcdef')) # Old version\n",
        "# print(s1)\n",
        "\n",
        "s2 = pd.Series(np_rng.integers(5,11,6), list('abcdef'))\n",
        "print(s2)\n",
        "\n",
        "s3 = pd.Series(np_rng.integers(5,11,6), list('adcbef'))\n",
        "print(s3)\n",
        "\n",
        "print(s2 + s3) # Match the index\n",
        "\n",
        "s4 = pd.Series(np_rng.integers(5,11,6), list('abcxtq'))\n",
        "print(s4)\n",
        "# If there are no matched index, then leave NaN\n",
        "print(s2 + s4)\n",
        "# Why dtype change from int64 to float64\n",
        "print(s2.add(s4))\n",
        "print(s2.add(s4, fill_value = 0)) # empty value = 0"
      ],
      "metadata": {
        "colab": {
          "base_uri": "https://localhost:8080/"
        },
        "id": "MbSsBTHFaTcy",
        "outputId": "7538bd36-24ed-4087-a678-1eef381bfffc"
      },
      "execution_count": null,
      "outputs": [
        {
          "output_type": "stream",
          "name": "stdout",
          "text": [
            "a     8\n",
            "b     6\n",
            "c     8\n",
            "d     6\n",
            "e     8\n",
            "f    10\n",
            "dtype: int64\n",
            "a     8\n",
            "d     6\n",
            "c     9\n",
            "b     7\n",
            "e     7\n",
            "f    10\n",
            "dtype: int64\n",
            "a    16\n",
            "b    13\n",
            "c    17\n",
            "d    12\n",
            "e    15\n",
            "f    20\n",
            "dtype: int64\n",
            "a    7\n",
            "b    8\n",
            "c    9\n",
            "x    7\n",
            "t    7\n",
            "q    6\n",
            "dtype: int64\n",
            "a    15.0\n",
            "b    14.0\n",
            "c    17.0\n",
            "d     NaN\n",
            "e     NaN\n",
            "f     NaN\n",
            "q     NaN\n",
            "t     NaN\n",
            "x     NaN\n",
            "dtype: float64\n",
            "a    15.0\n",
            "b    14.0\n",
            "c    17.0\n",
            "d     NaN\n",
            "e     NaN\n",
            "f     NaN\n",
            "q     NaN\n",
            "t     NaN\n",
            "x     NaN\n",
            "dtype: float64\n",
            "a    15.0\n",
            "b    14.0\n",
            "c    17.0\n",
            "d     6.0\n",
            "e     8.0\n",
            "f    10.0\n",
            "q     6.0\n",
            "t     7.0\n",
            "x     7.0\n",
            "dtype: float64\n"
          ]
        }
      ]
    },
    {
      "cell_type": "markdown",
      "source": [
        "# Create DataFrame\n",
        "- **pd.DataFrame**(data, index, columns)"
      ],
      "metadata": {
        "id": "gN1UKHzNgUX2"
      }
    },
    {
      "cell_type": "code",
      "source": [
        "df1 = pd.DataFrame(np_rng.integers(100,110,(6, 4)), index=list('abcdef'), columns=list('ABCD'))\n",
        "print(df1)"
      ],
      "metadata": {
        "colab": {
          "base_uri": "https://localhost:8080/"
        },
        "id": "QyQF1OZOa7yk",
        "outputId": "e49c50fb-34a4-4dd1-ce05-0e0eba35c569"
      },
      "execution_count": null,
      "outputs": [
        {
          "output_type": "stream",
          "name": "stdout",
          "text": [
            "     A    B    C    D\n",
            "a  108  103  103  100\n",
            "b  105  107  102  106\n",
            "c  107  109  100  106\n",
            "d  105  101  108  104\n",
            "e  109  105  103  101\n",
            "f  105  104  103  104\n"
          ]
        }
      ]
    },
    {
      "cell_type": "markdown",
      "source": [
        "**Using dictionary**"
      ],
      "metadata": {
        "id": "rHPwNW1diLKu"
      }
    },
    {
      "cell_type": "code",
      "source": [
        "s1 = pd.Series([1,2,3], list('abc'))\n",
        "s2 = pd.Series([10,20,30], list('abc'))\n",
        "print(s1)\n",
        "print(s2)\n",
        "\n",
        "df1 = pd.DataFrame({'S1':s1, 'S2':s2}) # Using dictionary\n",
        "print(df1)\n",
        "\n",
        "df2 = pd.DataFrame([s1,s1], ['S1', 'S2']) # index and columns changed\n",
        "print(df2)\n",
        "\n",
        "s3 = pd.Series([100,200,300,400], list('abcd'))\n",
        "df2 = pd.DataFrame({'S1':s1, 'S2':s2, 'S3':s3})\n",
        "print(df2)\n",
        "\n",
        "s4 = pd.Series([10, 200, 30, 4], list('abce'))\n",
        "df3 = pd.DataFrame({'S1':s1, 'S2':s2, 'S3':s3, 'S4':s4})\n",
        "print(df3)"
      ],
      "metadata": {
        "colab": {
          "base_uri": "https://localhost:8080/"
        },
        "id": "_wcbz3d0gnAk",
        "outputId": "083261ce-5737-48ed-8b8d-40201774baeb"
      },
      "execution_count": null,
      "outputs": [
        {
          "output_type": "stream",
          "name": "stdout",
          "text": [
            "a    1\n",
            "b    2\n",
            "c    3\n",
            "dtype: int64\n",
            "a    10\n",
            "b    20\n",
            "c    30\n",
            "dtype: int64\n",
            "   S1  S2\n",
            "a   1  10\n",
            "b   2  20\n",
            "c   3  30\n",
            "    a  b  c\n",
            "S1  1  2  3\n",
            "S2  1  2  3\n",
            "    S1    S2   S3\n",
            "a  1.0  10.0  100\n",
            "b  2.0  20.0  200\n",
            "c  3.0  30.0  300\n",
            "d  NaN   NaN  400\n",
            "    S1    S2     S3     S4\n",
            "a  1.0  10.0  100.0   10.0\n",
            "b  2.0  20.0  200.0  200.0\n",
            "c  3.0  30.0  300.0   30.0\n",
            "d  NaN   NaN  400.0    NaN\n",
            "e  NaN   NaN    NaN    4.0\n"
          ]
        }
      ]
    },
    {
      "cell_type": "markdown",
      "source": [
        "# Attributes"
      ],
      "metadata": {
        "id": "590jwCJcjXv6"
      }
    },
    {
      "cell_type": "code",
      "source": [
        "df1 = pd.DataFrame(np_rng.integers(100,110,(6, 4)), index=list('abcdef'), columns=list('ABCD'))\n",
        "print(df1)\n",
        "print(df1.dtypes) # dtypes of each columns\n",
        "print(df1.index)\n",
        "print(df1.columns)\n",
        "print(df1.ndim) # Number of dimension\n",
        "print(df1.shape)\n",
        "print(df1.describe()) # Not an attribute"
      ],
      "metadata": {
        "colab": {
          "base_uri": "https://localhost:8080/"
        },
        "id": "Z_fpvEIJh7ok",
        "outputId": "eaccd613-3be3-48a2-e25a-6b68fc6eec2f"
      },
      "execution_count": null,
      "outputs": [
        {
          "output_type": "stream",
          "name": "stdout",
          "text": [
            "     A    B    C    D\n",
            "a  102  101  106  104\n",
            "b  104  106  100  108\n",
            "c  106  104  104  105\n",
            "d  103  103  108  107\n",
            "e  104  101  109  100\n",
            "f  101  104  103  108\n",
            "A    int64\n",
            "B    int64\n",
            "C    int64\n",
            "D    int64\n",
            "dtype: object\n",
            "Index(['a', 'b', 'c', 'd', 'e', 'f'], dtype='object')\n",
            "Index(['A', 'B', 'C', 'D'], dtype='object')\n",
            "2\n",
            "(6, 4)\n",
            "                A           B          C           D\n",
            "count    6.000000    6.000000    6.00000    6.000000\n",
            "mean   103.333333  103.166667  105.00000  105.333333\n",
            "std      1.751190    1.940790    3.34664    3.076795\n",
            "min    101.000000  101.000000  100.00000  100.000000\n",
            "25%    102.250000  101.500000  103.25000  104.250000\n",
            "50%    103.500000  103.500000  105.00000  106.000000\n",
            "75%    104.000000  104.000000  107.50000  107.750000\n",
            "max    106.000000  106.000000  109.00000  108.000000\n"
          ]
        }
      ]
    },
    {
      "cell_type": "markdown",
      "source": [
        "# Merge DataFrames\n",
        "- **pd.concat**([DF1, DF2], axis(=Optional), join(=Optional))  \n",
        "- **axis = 0**: Same with **np.vstack** (default)\n",
        "- **axis = 1**: Same with **np.hstack**\n",
        "- **join = 'outer'**: Conclude NaN lines, if not matched  (default)\n",
        "- **join = 'inner'**: Remove NaN lines (same with **dropna()**)\n"
      ],
      "metadata": {
        "id": "D9N6hNYskG-4"
      }
    },
    {
      "cell_type": "code",
      "source": [
        "df1 = pd.DataFrame(np_rng.integers(10,50,(5, 3)), index=list('abcde'), columns=['S1', 'S2', 'S3'])\n",
        "df2 = pd.DataFrame(np_rng.integers(-50,-10,(5, 3)), index=list('abcde'), columns=['S1', 'S2', 'S3'])\n",
        "print(df1)\n",
        "print('-'*15)\n",
        "print(df2)\n",
        "print('-'*15)\n",
        "print(pd.concat([df1, df2])) # np.vstack   (default axis = 0)\n",
        "print('-'*15)\n",
        "print(pd.concat([df1, df2], axis=1)) # np.hstack\n",
        "print('-'*15)"
      ],
      "metadata": {
        "colab": {
          "base_uri": "https://localhost:8080/"
        },
        "id": "Me8KstlyjW2N",
        "outputId": "6411654d-1e83-453f-fd17-789c059a83b2"
      },
      "execution_count": null,
      "outputs": [
        {
          "output_type": "stream",
          "name": "stdout",
          "text": [
            "   S1  S2  S3\n",
            "a  35  44  28\n",
            "b  26  11  46\n",
            "c  14  33  25\n",
            "d  12  49  48\n",
            "e  48  17  49\n",
            "---------------\n",
            "   S1  S2  S3\n",
            "a -11 -50 -50\n",
            "b -17 -33 -22\n",
            "c -23 -48 -14\n",
            "d -43 -27 -46\n",
            "e -31 -21 -15\n",
            "---------------\n",
            "   S1  S2  S3\n",
            "a  35  44  28\n",
            "b  26  11  46\n",
            "c  14  33  25\n",
            "d  12  49  48\n",
            "e  48  17  49\n",
            "a -11 -50 -50\n",
            "b -17 -33 -22\n",
            "c -23 -48 -14\n",
            "d -43 -27 -46\n",
            "e -31 -21 -15\n",
            "---------------\n",
            "   S1  S2  S3  S1  S2  S3\n",
            "a  35  44  28 -11 -50 -50\n",
            "b  26  11  46 -17 -33 -22\n",
            "c  14  33  25 -23 -48 -14\n",
            "d  12  49  48 -43 -27 -46\n",
            "e  48  17  49 -31 -21 -15\n",
            "---------------\n",
            "   S1  S2  S3\n",
            "a  35  44  28\n",
            "b  26  11  46\n",
            "c  14  33  25\n",
            "d  12  49  48\n",
            "e  48  17  49\n",
            "a -11 -50 -50\n",
            "b -17 -33 -22\n",
            "c -23 -48 -14\n",
            "d -43 -27 -46\n",
            "e -31 -21 -15\n"
          ]
        }
      ]
    },
    {
      "cell_type": "code",
      "source": [
        "df1 = pd.DataFrame(np_rng.integers(10,50,(5, 3)), index=list('abcde'), columns=['S1', 'S2', 'S3'])\n",
        "df2 = pd.DataFrame(np_rng.integers(-50,-10,(5, 3)), index=list('abceg'), columns=['S1', 'S2', 'S4'])\n",
        "print(df1)\n",
        "print('-'*15)\n",
        "print(df2)\n",
        "print('-'*15)\n",
        "print(pd.concat([df1, df2])) # np.vstack   (default axis = 0)\n",
        "print('-'*15)\n",
        "print(pd.concat([df1, df2], join='inner')) # remove NaN\n",
        "print('-'*15)\n",
        "print(pd.concat([df1, df2], axis = 1)) # np.hstack\n",
        "print('-'*15)\n",
        "print(pd.concat([df1, df2], axis = 1, join='inner'))\n"
      ],
      "metadata": {
        "colab": {
          "base_uri": "https://localhost:8080/"
        },
        "id": "b2gm9hzgkiPt",
        "outputId": "a534c730-e8a3-431b-ff08-bd394537d8af"
      },
      "execution_count": null,
      "outputs": [
        {
          "output_type": "stream",
          "name": "stdout",
          "text": [
            "   S1  S2  S3\n",
            "a  42  14  34\n",
            "b  23  21  49\n",
            "c  29  12  47\n",
            "d  44  39  23\n",
            "e  30  32  44\n",
            "---------------\n",
            "   S1  S2  S4\n",
            "a -18 -25 -22\n",
            "b -44 -17 -41\n",
            "c -30 -28 -29\n",
            "e -27 -26 -43\n",
            "g -26 -22 -29\n",
            "---------------\n",
            "   S1  S2    S3    S4\n",
            "a  42  14  34.0   NaN\n",
            "b  23  21  49.0   NaN\n",
            "c  29  12  47.0   NaN\n",
            "d  44  39  23.0   NaN\n",
            "e  30  32  44.0   NaN\n",
            "a -18 -25   NaN -22.0\n",
            "b -44 -17   NaN -41.0\n",
            "c -30 -28   NaN -29.0\n",
            "e -27 -26   NaN -43.0\n",
            "g -26 -22   NaN -29.0\n",
            "---------------\n",
            "   S1  S2\n",
            "a  42  14\n",
            "b  23  21\n",
            "c  29  12\n",
            "d  44  39\n",
            "e  30  32\n",
            "a -18 -25\n",
            "b -44 -17\n",
            "c -30 -28\n",
            "e -27 -26\n",
            "g -26 -22\n",
            "---------------\n",
            "     S1    S2    S3    S1    S2    S4\n",
            "a  42.0  14.0  34.0 -18.0 -25.0 -22.0\n",
            "b  23.0  21.0  49.0 -44.0 -17.0 -41.0\n",
            "c  29.0  12.0  47.0 -30.0 -28.0 -29.0\n",
            "d  44.0  39.0  23.0   NaN   NaN   NaN\n",
            "e  30.0  32.0  44.0 -27.0 -26.0 -43.0\n",
            "g   NaN   NaN   NaN -26.0 -22.0 -29.0\n",
            "---------------\n",
            "   S1  S2  S3  S1  S2  S4\n",
            "a  42  14  34 -18 -25 -22\n",
            "b  23  21  49 -44 -17 -41\n",
            "c  29  12  47 -30 -28 -29\n",
            "e  30  32  44 -27 -26 -43\n"
          ]
        }
      ]
    },
    {
      "cell_type": "markdown",
      "source": [
        "**DF1.merge**(DF2)"
      ],
      "metadata": {
        "id": "GXKQ7EibpNhx"
      }
    },
    {
      "cell_type": "code",
      "source": [
        "df1 = pd.DataFrame(np_rng.integers(10,50,(5, 3)), columns=['S1', 'S2', 'S3'])\n",
        "df2 = pd.DataFrame(np_rng.integers(-50,-10,(5, 3)), columns=['S1', 'S2', 'S3'])\n",
        "df1.insert(0,'lkey', list('abcde'))\n",
        "df2.insert(0, 'rkey', list('abcde'))\n",
        "print(df1)\n",
        "print('-'*15)\n",
        "print(df2)\n",
        "print('-'*15)\n",
        "\n",
        "print(df1.merge(df2, left_on='lkey', right_on='rkey'))"
      ],
      "metadata": {
        "colab": {
          "base_uri": "https://localhost:8080/"
        },
        "id": "N49QIb3omTsb",
        "outputId": "5ae72847-20a7-4e53-aa13-9cc69c4b6442"
      },
      "execution_count": null,
      "outputs": [
        {
          "output_type": "stream",
          "name": "stdout",
          "text": [
            "  lkey  S1  S2  S3\n",
            "0    a  46  45  34\n",
            "1    b  40  29  36\n",
            "2    c  48  42  16\n",
            "3    d  48  40  42\n",
            "4    e  18  47  12\n",
            "---------------\n",
            "  rkey  S1  S2  S3\n",
            "0    a -46 -18 -28\n",
            "1    b -27 -31 -12\n",
            "2    c -49 -31 -13\n",
            "3    d -17 -38 -33\n",
            "4    e -46 -17 -44\n",
            "---------------\n",
            "  lkey  S1_x  S2_x  S3_x rkey  S1_y  S2_y  S3_y\n",
            "0    a    46    45    34    a   -46   -18   -28\n",
            "1    b    40    29    36    b   -27   -31   -12\n",
            "2    c    48    42    16    c   -49   -31   -13\n",
            "3    d    48    40    42    d   -17   -38   -33\n",
            "4    e    18    47    12    e   -46   -17   -44\n"
          ]
        }
      ]
    },
    {
      "cell_type": "markdown",
      "source": [
        "# Add column"
      ],
      "metadata": {
        "id": "55XSLqzcqHFZ"
      }
    },
    {
      "cell_type": "code",
      "source": [
        "df1 = pd.DataFrame(np_rng.integers(10,50,(5, 3)), index=list('abcde'), columns=['S1', 'S2', 'S3'])\n",
        "print(df1)\n",
        "df1['S4'] = pd.Series(np_rng.integers(-50, -10, 5), index=list('abcde'))\n",
        "print('-'*15)\n",
        "print(df1)\n"
      ],
      "metadata": {
        "colab": {
          "base_uri": "https://localhost:8080/"
        },
        "id": "PbHUzvELpYDB",
        "outputId": "6ae61df6-5ab2-4957-d070-8737b54916be"
      },
      "execution_count": null,
      "outputs": [
        {
          "output_type": "stream",
          "name": "stdout",
          "text": [
            "   S1  S2  S3\n",
            "a  25  27  44\n",
            "b  29  10  35\n",
            "c  21  16  43\n",
            "d  31  44  44\n",
            "e  49  16  18\n",
            "---------------\n",
            "   S1  S2  S3  S4\n",
            "a  25  27  44 -41\n",
            "b  29  10  35 -39\n",
            "c  21  16  43 -26\n",
            "d  31  44  44 -31\n",
            "e  49  16  18 -43\n"
          ]
        }
      ]
    },
    {
      "cell_type": "markdown",
      "source": [
        "**DF.insert**(column_position, name, data): In-place"
      ],
      "metadata": {
        "id": "vNTZl-OsuInk"
      }
    },
    {
      "cell_type": "code",
      "source": [
        "df1.insert(0, 'X0', pd.Series(np_rng.integers(100, 200, 5), index=list('abcde')))\n",
        "print(df1)"
      ],
      "metadata": {
        "colab": {
          "base_uri": "https://localhost:8080/",
          "height": 321
        },
        "id": "SZ3-gahRqZg_",
        "outputId": "4bc3763a-6c48-4af1-af10-b21d27d15506"
      },
      "execution_count": null,
      "outputs": [
        {
          "output_type": "error",
          "ename": "ValueError",
          "evalue": "ignored",
          "traceback": [
            "\u001b[0;31m---------------------------------------------------------------------------\u001b[0m",
            "\u001b[0;31mValueError\u001b[0m                                Traceback (most recent call last)",
            "\u001b[0;32m<ipython-input-9-ab493e81b67e>\u001b[0m in \u001b[0;36m<module>\u001b[0;34m()\u001b[0m\n\u001b[0;32m----> 1\u001b[0;31m \u001b[0mdf1\u001b[0m\u001b[0;34m.\u001b[0m\u001b[0minsert\u001b[0m\u001b[0;34m(\u001b[0m\u001b[0;36m0\u001b[0m\u001b[0;34m,\u001b[0m \u001b[0;34m'X0'\u001b[0m\u001b[0;34m,\u001b[0m \u001b[0mpd\u001b[0m\u001b[0;34m.\u001b[0m\u001b[0mSeries\u001b[0m\u001b[0;34m(\u001b[0m\u001b[0mnp_rng\u001b[0m\u001b[0;34m.\u001b[0m\u001b[0mintegers\u001b[0m\u001b[0;34m(\u001b[0m\u001b[0;36m100\u001b[0m\u001b[0;34m,\u001b[0m \u001b[0;36m200\u001b[0m\u001b[0;34m,\u001b[0m \u001b[0;36m5\u001b[0m\u001b[0;34m)\u001b[0m\u001b[0;34m,\u001b[0m \u001b[0mindex\u001b[0m\u001b[0;34m=\u001b[0m\u001b[0mlist\u001b[0m\u001b[0;34m(\u001b[0m\u001b[0;34m'abcde'\u001b[0m\u001b[0;34m)\u001b[0m\u001b[0;34m)\u001b[0m\u001b[0;34m)\u001b[0m\u001b[0;34m\u001b[0m\u001b[0;34m\u001b[0m\u001b[0m\n\u001b[0m\u001b[1;32m      2\u001b[0m \u001b[0mprint\u001b[0m\u001b[0;34m(\u001b[0m\u001b[0mdf1\u001b[0m\u001b[0;34m)\u001b[0m\u001b[0;34m\u001b[0m\u001b[0;34m\u001b[0m\u001b[0m\n",
            "\u001b[0;32m/usr/local/lib/python3.7/dist-packages/pandas/core/frame.py\u001b[0m in \u001b[0;36minsert\u001b[0;34m(self, loc, column, value, allow_duplicates)\u001b[0m\n\u001b[1;32m   4412\u001b[0m         \u001b[0;32mif\u001b[0m \u001b[0;32mnot\u001b[0m \u001b[0mallow_duplicates\u001b[0m \u001b[0;32mand\u001b[0m \u001b[0mcolumn\u001b[0m \u001b[0;32min\u001b[0m \u001b[0mself\u001b[0m\u001b[0;34m.\u001b[0m\u001b[0mcolumns\u001b[0m\u001b[0;34m:\u001b[0m\u001b[0;34m\u001b[0m\u001b[0;34m\u001b[0m\u001b[0m\n\u001b[1;32m   4413\u001b[0m             \u001b[0;31m# Should this be a different kind of error??\u001b[0m\u001b[0;34m\u001b[0m\u001b[0;34m\u001b[0m\u001b[0;34m\u001b[0m\u001b[0m\n\u001b[0;32m-> 4414\u001b[0;31m             \u001b[0;32mraise\u001b[0m \u001b[0mValueError\u001b[0m\u001b[0;34m(\u001b[0m\u001b[0;34mf\"cannot insert {column}, already exists\"\u001b[0m\u001b[0;34m)\u001b[0m\u001b[0;34m\u001b[0m\u001b[0;34m\u001b[0m\u001b[0m\n\u001b[0m\u001b[1;32m   4415\u001b[0m         \u001b[0;32mif\u001b[0m \u001b[0;32mnot\u001b[0m \u001b[0misinstance\u001b[0m\u001b[0;34m(\u001b[0m\u001b[0mloc\u001b[0m\u001b[0;34m,\u001b[0m \u001b[0mint\u001b[0m\u001b[0;34m)\u001b[0m\u001b[0;34m:\u001b[0m\u001b[0;34m\u001b[0m\u001b[0;34m\u001b[0m\u001b[0m\n\u001b[1;32m   4416\u001b[0m             \u001b[0;32mraise\u001b[0m \u001b[0mTypeError\u001b[0m\u001b[0;34m(\u001b[0m\u001b[0;34m\"loc must be int\"\u001b[0m\u001b[0;34m)\u001b[0m\u001b[0;34m\u001b[0m\u001b[0;34m\u001b[0m\u001b[0m\n",
            "\u001b[0;31mValueError\u001b[0m: cannot insert X0, already exists"
          ]
        }
      ]
    },
    {
      "cell_type": "markdown",
      "source": [
        "# Remove column\n",
        "- DF.**drop**: Not In-place\n",
        "- **axis = 0**: remove index line (default)\n",
        "- **axis = 1**: remove column line"
      ],
      "metadata": {
        "id": "e97R8HvaqwqZ"
      }
    },
    {
      "cell_type": "code",
      "source": [
        "df1 = pd.DataFrame(np_rng.integers(10,50,(5, 3)), index=list('abcde'), columns=['S1', 'S2', 'S3'])\n",
        "print(df1)\n",
        "print(df1.drop('S3', axis=1))"
      ],
      "metadata": {
        "colab": {
          "base_uri": "https://localhost:8080/"
        },
        "id": "V8WNIf5QqlnA",
        "outputId": "3276bd18-05be-4aea-c002-87995f439098"
      },
      "execution_count": null,
      "outputs": [
        {
          "output_type": "stream",
          "name": "stdout",
          "text": [
            "   S1  S2  S3\n",
            "a  27  42  10\n",
            "b  25  38  27\n",
            "c  27  37  28\n",
            "d  43  17  11\n",
            "e  39  49  38\n",
            "   S1  S2\n",
            "a  27  42\n",
            "b  25  38\n",
            "c  27  37\n",
            "d  43  17\n",
            "e  39  49\n"
          ]
        }
      ]
    },
    {
      "cell_type": "code",
      "source": [
        "df1 = pd.DataFrame(np_rng.integers(10,50,(5, 3)), index=list('abcde'), columns=['S1', 'S2', 'S3'])\n",
        "print(df1)\n",
        "del df1['S3']\n",
        "print(df1)"
      ],
      "metadata": {
        "colab": {
          "base_uri": "https://localhost:8080/"
        },
        "id": "7brDmaoiXo6A",
        "outputId": "82b10295-b1c5-4df2-a53d-2b75bfd1be9e"
      },
      "execution_count": null,
      "outputs": [
        {
          "output_type": "stream",
          "name": "stdout",
          "text": [
            "   S1  S2  S3\n",
            "a  38  16  36\n",
            "b  44  20  40\n",
            "c  30  13  13\n",
            "d  31  20  38\n",
            "e  37  46  33\n",
            "   S1  S2\n",
            "a  38  16\n",
            "b  44  20\n",
            "c  30  13\n",
            "d  31  20\n",
            "e  37  46\n"
          ]
        }
      ]
    },
    {
      "cell_type": "markdown",
      "source": [
        "# Add and remove Index(row)\n"
      ],
      "metadata": {
        "id": "U4zy4-V5ucl8"
      }
    },
    {
      "cell_type": "code",
      "source": [
        "df1 = pd.DataFrame(np_rng.integers(10,50,(5, 3)), index=list('abcde'), columns=['S1', 'S2', 'S3'])\n",
        "print(df1)\n",
        "s1 = pd.Series([0,1,2], index=df1.columns)\n",
        "print(s1)\n",
        "print(pd.concat([df1, s1.to_frame().T])) # Add row\n",
        "print(df1.drop(['c', 'd', 'e'], axis=0))"
      ],
      "metadata": {
        "colab": {
          "base_uri": "https://localhost:8080/"
        },
        "id": "Wx9yMeEqugaG",
        "outputId": "f01e02e0-15c7-41e1-b1dc-4b181e493217"
      },
      "execution_count": null,
      "outputs": [
        {
          "output_type": "stream",
          "name": "stdout",
          "text": [
            "   S1  S2  S3\n",
            "a  18  34  11\n",
            "b  29  38  29\n",
            "c  25  21  14\n",
            "d  41  40  27\n",
            "e  25  19  11\n",
            "S1    0\n",
            "S2    1\n",
            "S3    2\n",
            "dtype: int64\n",
            "   S1  S2  S3\n",
            "a  18  34  11\n",
            "b  29  38  29\n",
            "c  25  21  14\n",
            "d  41  40  27\n",
            "e  25  19  11\n",
            "0   0   1   2\n",
            "   S1  S2  S3\n",
            "a  18  34  11\n",
            "b  29  38  29\n"
          ]
        }
      ]
    },
    {
      "cell_type": "markdown",
      "source": [
        "DF.**to_numpy**(): View"
      ],
      "metadata": {
        "id": "PHfd3m3ZwcYv"
      }
    },
    {
      "cell_type": "code",
      "source": [
        "df1 = pd.DataFrame(np_rng.integers(10, 50, (3,2)), index=list('abc'), columns=['S1', 'S2'])\n",
        "print(df1)\n",
        "a1 = df1.to_numpy()\n",
        "print(a1)\n",
        "print('-'*10)\n",
        "a1[0] = 0  # affected to original data\n",
        "print(df1)\n",
        "print(a1) "
      ],
      "metadata": {
        "colab": {
          "base_uri": "https://localhost:8080/"
        },
        "id": "zrxNbogpq5OM",
        "outputId": "9302a2c9-115f-46d6-b200-c5b48e4564a8"
      },
      "execution_count": null,
      "outputs": [
        {
          "output_type": "stream",
          "name": "stdout",
          "text": [
            "   S1  S2\n",
            "a  45  20\n",
            "b  44  30\n",
            "c  24  47\n",
            "[[45 20]\n",
            " [44 30]\n",
            " [24 47]]\n",
            "----------\n",
            "   S1  S2\n",
            "a   0   0\n",
            "b  44  30\n",
            "c  24  47\n",
            "[[ 0  0]\n",
            " [44 30]\n",
            " [24 47]]\n"
          ]
        }
      ]
    },
    {
      "cell_type": "markdown",
      "source": [
        "# Selection\n",
        "- List: Select columns\n",
        "- Range: Select index"
      ],
      "metadata": {
        "id": "2sPmx-nlyC_e"
      }
    },
    {
      "cell_type": "code",
      "source": [
        "df1 = pd.DataFrame(np_rng.integers(10, 50, (10,5)), index=list('abcdefghij'), columns=['S1', 'S2', 'S3', 'S4', 'S5'])\n",
        "print(df1)\n",
        "print('-'*22)\n",
        "\n",
        "# Column selection\n",
        "print(df1['S1'])\n",
        "print(df1[['S1', 'S2']]) # Acceptable list selection\n",
        "print(df1['S1':'S3'])  # Not acceptable range selection\n",
        "\n",
        "# Row selection\n",
        "# print(df1['a'])   # Not acceptable\n",
        "print(df1['a':'a']) # Acceptable range selection\n",
        "print(df1['a','g'])"
      ],
      "metadata": {
        "colab": {
          "base_uri": "https://localhost:8080/",
          "height": 1000
        },
        "id": "5DyR-EDswa9E",
        "outputId": "f6b613e2-d7a7-409d-fa5e-e70e73a0581c"
      },
      "execution_count": null,
      "outputs": [
        {
          "output_type": "stream",
          "name": "stdout",
          "text": [
            "   S1  S2  S3  S4  S5\n",
            "a  25  39  39  14  15\n",
            "b  15  26  24  39  45\n",
            "c  47  28  27  15  46\n",
            "d  34  18  19  34  15\n",
            "e  48  43  26  35  33\n",
            "f  23  30  32  28  32\n",
            "g  36  44  12  39  32\n",
            "h  10  27  28  29  16\n",
            "i  30  10  46  26  16\n",
            "j  48  43  21  19  34\n",
            "----------------------\n",
            "a    25\n",
            "b    15\n",
            "c    47\n",
            "d    34\n",
            "e    48\n",
            "f    23\n",
            "g    36\n",
            "h    10\n",
            "i    30\n",
            "j    48\n",
            "Name: S1, dtype: int64\n",
            "   S1  S2\n",
            "a  25  39\n",
            "b  15  26\n",
            "c  47  28\n",
            "d  34  18\n",
            "e  48  43\n",
            "f  23  30\n",
            "g  36  44\n",
            "h  10  27\n",
            "i  30  10\n",
            "j  48  43\n",
            "Empty DataFrame\n",
            "Columns: [S1, S2, S3, S4, S5]\n",
            "Index: []\n",
            "   S1  S2  S3  S4  S5\n",
            "a  25  39  39  14  15\n"
          ]
        },
        {
          "output_type": "error",
          "ename": "KeyError",
          "evalue": "ignored",
          "traceback": [
            "\u001b[0;31m---------------------------------------------------------------------------\u001b[0m",
            "\u001b[0;31mKeyError\u001b[0m                                  Traceback (most recent call last)",
            "\u001b[0;32m/usr/local/lib/python3.7/dist-packages/pandas/core/indexes/base.py\u001b[0m in \u001b[0;36mget_loc\u001b[0;34m(self, key, method, tolerance)\u001b[0m\n\u001b[1;32m   3360\u001b[0m             \u001b[0;32mtry\u001b[0m\u001b[0;34m:\u001b[0m\u001b[0;34m\u001b[0m\u001b[0;34m\u001b[0m\u001b[0m\n\u001b[0;32m-> 3361\u001b[0;31m                 \u001b[0;32mreturn\u001b[0m \u001b[0mself\u001b[0m\u001b[0;34m.\u001b[0m\u001b[0m_engine\u001b[0m\u001b[0;34m.\u001b[0m\u001b[0mget_loc\u001b[0m\u001b[0;34m(\u001b[0m\u001b[0mcasted_key\u001b[0m\u001b[0;34m)\u001b[0m\u001b[0;34m\u001b[0m\u001b[0;34m\u001b[0m\u001b[0m\n\u001b[0m\u001b[1;32m   3362\u001b[0m             \u001b[0;32mexcept\u001b[0m \u001b[0mKeyError\u001b[0m \u001b[0;32mas\u001b[0m \u001b[0merr\u001b[0m\u001b[0;34m:\u001b[0m\u001b[0;34m\u001b[0m\u001b[0;34m\u001b[0m\u001b[0m\n",
            "\u001b[0;32m/usr/local/lib/python3.7/dist-packages/pandas/_libs/index.pyx\u001b[0m in \u001b[0;36mpandas._libs.index.IndexEngine.get_loc\u001b[0;34m()\u001b[0m\n",
            "\u001b[0;32m/usr/local/lib/python3.7/dist-packages/pandas/_libs/index.pyx\u001b[0m in \u001b[0;36mpandas._libs.index.IndexEngine.get_loc\u001b[0;34m()\u001b[0m\n",
            "\u001b[0;32mpandas/_libs/hashtable_class_helper.pxi\u001b[0m in \u001b[0;36mpandas._libs.hashtable.PyObjectHashTable.get_item\u001b[0;34m()\u001b[0m\n",
            "\u001b[0;32mpandas/_libs/hashtable_class_helper.pxi\u001b[0m in \u001b[0;36mpandas._libs.hashtable.PyObjectHashTable.get_item\u001b[0;34m()\u001b[0m\n",
            "\u001b[0;31mKeyError\u001b[0m: ('a', 'g')",
            "\nThe above exception was the direct cause of the following exception:\n",
            "\u001b[0;31mKeyError\u001b[0m                                  Traceback (most recent call last)",
            "\u001b[0;32m<ipython-input-15-a621d1a863eb>\u001b[0m in \u001b[0;36m<module>\u001b[0;34m()\u001b[0m\n\u001b[1;32m     11\u001b[0m \u001b[0;31m# print(df1['a'])   # Not acceptable\u001b[0m\u001b[0;34m\u001b[0m\u001b[0;34m\u001b[0m\u001b[0;34m\u001b[0m\u001b[0m\n\u001b[1;32m     12\u001b[0m \u001b[0mprint\u001b[0m\u001b[0;34m(\u001b[0m\u001b[0mdf1\u001b[0m\u001b[0;34m[\u001b[0m\u001b[0;34m'a'\u001b[0m\u001b[0;34m:\u001b[0m\u001b[0;34m'a'\u001b[0m\u001b[0;34m]\u001b[0m\u001b[0;34m)\u001b[0m \u001b[0;31m# Acceptable range selection\u001b[0m\u001b[0;34m\u001b[0m\u001b[0;34m\u001b[0m\u001b[0m\n\u001b[0;32m---> 13\u001b[0;31m \u001b[0mprint\u001b[0m\u001b[0;34m(\u001b[0m\u001b[0mdf1\u001b[0m\u001b[0;34m[\u001b[0m\u001b[0;34m'a'\u001b[0m\u001b[0;34m,\u001b[0m\u001b[0;34m'g'\u001b[0m\u001b[0;34m]\u001b[0m\u001b[0;34m)\u001b[0m\u001b[0;34m\u001b[0m\u001b[0;34m\u001b[0m\u001b[0m\n\u001b[0m",
            "\u001b[0;32m/usr/local/lib/python3.7/dist-packages/pandas/core/frame.py\u001b[0m in \u001b[0;36m__getitem__\u001b[0;34m(self, key)\u001b[0m\n\u001b[1;32m   3456\u001b[0m             \u001b[0;32mif\u001b[0m \u001b[0mself\u001b[0m\u001b[0;34m.\u001b[0m\u001b[0mcolumns\u001b[0m\u001b[0;34m.\u001b[0m\u001b[0mnlevels\u001b[0m \u001b[0;34m>\u001b[0m \u001b[0;36m1\u001b[0m\u001b[0;34m:\u001b[0m\u001b[0;34m\u001b[0m\u001b[0;34m\u001b[0m\u001b[0m\n\u001b[1;32m   3457\u001b[0m                 \u001b[0;32mreturn\u001b[0m \u001b[0mself\u001b[0m\u001b[0;34m.\u001b[0m\u001b[0m_getitem_multilevel\u001b[0m\u001b[0;34m(\u001b[0m\u001b[0mkey\u001b[0m\u001b[0;34m)\u001b[0m\u001b[0;34m\u001b[0m\u001b[0;34m\u001b[0m\u001b[0m\n\u001b[0;32m-> 3458\u001b[0;31m             \u001b[0mindexer\u001b[0m \u001b[0;34m=\u001b[0m \u001b[0mself\u001b[0m\u001b[0;34m.\u001b[0m\u001b[0mcolumns\u001b[0m\u001b[0;34m.\u001b[0m\u001b[0mget_loc\u001b[0m\u001b[0;34m(\u001b[0m\u001b[0mkey\u001b[0m\u001b[0;34m)\u001b[0m\u001b[0;34m\u001b[0m\u001b[0;34m\u001b[0m\u001b[0m\n\u001b[0m\u001b[1;32m   3459\u001b[0m             \u001b[0;32mif\u001b[0m \u001b[0mis_integer\u001b[0m\u001b[0;34m(\u001b[0m\u001b[0mindexer\u001b[0m\u001b[0;34m)\u001b[0m\u001b[0;34m:\u001b[0m\u001b[0;34m\u001b[0m\u001b[0;34m\u001b[0m\u001b[0m\n\u001b[1;32m   3460\u001b[0m                 \u001b[0mindexer\u001b[0m \u001b[0;34m=\u001b[0m \u001b[0;34m[\u001b[0m\u001b[0mindexer\u001b[0m\u001b[0;34m]\u001b[0m\u001b[0;34m\u001b[0m\u001b[0;34m\u001b[0m\u001b[0m\n",
            "\u001b[0;32m/usr/local/lib/python3.7/dist-packages/pandas/core/indexes/base.py\u001b[0m in \u001b[0;36mget_loc\u001b[0;34m(self, key, method, tolerance)\u001b[0m\n\u001b[1;32m   3361\u001b[0m                 \u001b[0;32mreturn\u001b[0m \u001b[0mself\u001b[0m\u001b[0;34m.\u001b[0m\u001b[0m_engine\u001b[0m\u001b[0;34m.\u001b[0m\u001b[0mget_loc\u001b[0m\u001b[0;34m(\u001b[0m\u001b[0mcasted_key\u001b[0m\u001b[0;34m)\u001b[0m\u001b[0;34m\u001b[0m\u001b[0;34m\u001b[0m\u001b[0m\n\u001b[1;32m   3362\u001b[0m             \u001b[0;32mexcept\u001b[0m \u001b[0mKeyError\u001b[0m \u001b[0;32mas\u001b[0m \u001b[0merr\u001b[0m\u001b[0;34m:\u001b[0m\u001b[0;34m\u001b[0m\u001b[0;34m\u001b[0m\u001b[0m\n\u001b[0;32m-> 3363\u001b[0;31m                 \u001b[0;32mraise\u001b[0m \u001b[0mKeyError\u001b[0m\u001b[0;34m(\u001b[0m\u001b[0mkey\u001b[0m\u001b[0;34m)\u001b[0m \u001b[0;32mfrom\u001b[0m \u001b[0merr\u001b[0m\u001b[0;34m\u001b[0m\u001b[0;34m\u001b[0m\u001b[0m\n\u001b[0m\u001b[1;32m   3364\u001b[0m \u001b[0;34m\u001b[0m\u001b[0m\n\u001b[1;32m   3365\u001b[0m         \u001b[0;32mif\u001b[0m \u001b[0mis_scalar\u001b[0m\u001b[0;34m(\u001b[0m\u001b[0mkey\u001b[0m\u001b[0;34m)\u001b[0m \u001b[0;32mand\u001b[0m \u001b[0misna\u001b[0m\u001b[0;34m(\u001b[0m\u001b[0mkey\u001b[0m\u001b[0;34m)\u001b[0m \u001b[0;32mand\u001b[0m \u001b[0;32mnot\u001b[0m \u001b[0mself\u001b[0m\u001b[0;34m.\u001b[0m\u001b[0mhasnans\u001b[0m\u001b[0;34m:\u001b[0m\u001b[0;34m\u001b[0m\u001b[0;34m\u001b[0m\u001b[0m\n",
            "\u001b[0;31mKeyError\u001b[0m: ('a', 'g')"
          ]
        }
      ]
    },
    {
      "cell_type": "markdown",
      "source": [
        "**DF.loc[index, columns]**\n",
        "- Best way for selection"
      ],
      "metadata": {
        "id": "ElnkOP4Cyxi4"
      }
    },
    {
      "cell_type": "code",
      "source": [
        "print(df1)\n",
        "print(df1.loc['a']) # get pd.Series\n",
        "print(df1.loc['d':'g', ['S1', 'S3']]) # get pd.DataFrame"
      ],
      "metadata": {
        "colab": {
          "base_uri": "https://localhost:8080/"
        },
        "id": "M7z1ZANPxRMn",
        "outputId": "29dbc2f0-8c50-487c-cb5d-e9ffbc736d0d"
      },
      "execution_count": null,
      "outputs": [
        {
          "output_type": "stream",
          "name": "stdout",
          "text": [
            "   S1  S2  S3  S4  S5\n",
            "a  17  22  25  24  14\n",
            "b  46  30  45  43  31\n",
            "c  49  29  16  15  14\n",
            "d  44  13  12  43  29\n",
            "e  37  30  44  29  30\n",
            "f  48  19  49  39  42\n",
            "g  12  27  22  41  40\n",
            "h  10  44  45  22  24\n",
            "i  41  22  11  36  16\n",
            "j  35  37  20  22  31\n",
            "S1    17\n",
            "S2    22\n",
            "S3    25\n",
            "S4    24\n",
            "S5    14\n",
            "Name: a, dtype: int64\n",
            "   S1  S3\n",
            "d  44  12\n",
            "e  37  44\n",
            "f  48  49\n",
            "g  12  22\n"
          ]
        }
      ]
    },
    {
      "cell_type": "code",
      "source": [
        ""
      ],
      "metadata": {
        "id": "Eua0SAF2yXaS"
      },
      "execution_count": null,
      "outputs": []
    }
  ]
}