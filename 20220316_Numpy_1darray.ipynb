{
  "nbformat": 4,
  "nbformat_minor": 0,
  "metadata": {
    "colab": {
      "name": "20220316_Numpy_1darray.ipynb",
      "provenance": [],
      "collapsed_sections": [],
      "authorship_tag": "ABX9TyNoOppPrPKAbGMyuAfD1EYH",
      "include_colab_link": true
    },
    "kernelspec": {
      "name": "python3",
      "display_name": "Python 3"
    },
    "language_info": {
      "name": "python"
    }
  },
  "cells": [
    {
      "cell_type": "markdown",
      "metadata": {
        "id": "view-in-github",
        "colab_type": "text"
      },
      "source": [
        "<a href=\"https://colab.research.google.com/github/Jinwooseol/Numpy-and-Pandas/blob/main/20220316_Numpy_1darray.ipynb\" target=\"_parent\"><img src=\"https://colab.research.google.com/assets/colab-badge.svg\" alt=\"Open In Colab\"/></a>"
      ]
    },
    {
      "cell_type": "code",
      "execution_count": null,
      "metadata": {
        "id": "txS_sQvjK-CP"
      },
      "outputs": [],
      "source": [
        "import numpy as np\n",
        "\n",
        "np.set_printoptions(precision=3)"
      ]
    },
    {
      "cell_type": "code",
      "source": [
        "np.version.version"
      ],
      "metadata": {
        "colab": {
          "base_uri": "https://localhost:8080/",
          "height": 35
        },
        "id": "Ewmnzr1jNUzP",
        "outputId": "b0138c0f-cd32-4c67-a246-682bb481d51d"
      },
      "execution_count": null,
      "outputs": [
        {
          "output_type": "execute_result",
          "data": {
            "text/plain": [
              "'1.21.5'"
            ],
            "application/vnd.google.colaboratory.intrinsic+json": {
              "type": "string"
            }
          },
          "metadata": {},
          "execution_count": 2
        }
      ]
    },
    {
      "cell_type": "markdown",
      "source": [
        "#Difference between Numpy and Python\n",
        "\n",
        "#Numpy\n",
        "- Array\n",
        "- '$~$,$~$' doesn't exist in Numpy's array\n",
        "- All of elements must be the same type (a.i. int, floor, char ...)  \n",
        "  $→$If, there exist various types in array, then change the types to one uniformed type\n",
        "- Reallocate the new array\n",
        "- View (Referencing)\n",
        "\n",
        "\n",
        "#Python\n",
        "- List\n",
        "- Comma (,) exist in Python's list\n",
        "- Allow various types of elements in one list\n",
        "- Expand the size of list\n",
        "- Copy and Paste"
      ],
      "metadata": {
        "id": "S02q9XnvNrLm"
      }
    },
    {
      "cell_type": "code",
      "source": [
        "list1 = [1,2,3,4,5]\n",
        "print(list1)\n",
        "\n",
        "a1 = np.array([1,2,3,4,5])\n",
        "list1 = [1,2,3,4,5]\n",
        "\n"
      ],
      "metadata": {
        "id": "PN7Le8ZeNZkU"
      },
      "execution_count": null,
      "outputs": []
    },
    {
      "cell_type": "code",
      "source": [
        "def print_info(obj):\n",
        "  print('type: ', type(obj))\n",
        "  print('print: {}'.format(obj))\n",
        "\n",
        "  # 1D array\n",
        "  print('ndim: ', obj.ndim)\n",
        "  print('shape: ', obj.shape)\n",
        "  print('size: ', obj.size)\n",
        "  print('dtype: ', obj.dtype) # dtype: Data type\n",
        "  print('itemsize: ', obj.itemsize) # itemsize: Number of bytes that one of element occupied\n",
        "  print('data: ', obj.data)  # data: Address of array\n",
        "\n",
        "  #print('-'*20)\n",
        "\n",
        "  #for i in a1:\n",
        "    #print(i)\n",
        "\n",
        "  #print('-'*20)\n",
        "\n",
        "  #for i, j in enumerate(a1):\n",
        "    #print(i, j)"
      ],
      "metadata": {
        "id": "9TLTkrmON1x4"
      },
      "execution_count": null,
      "outputs": []
    },
    {
      "cell_type": "code",
      "source": [
        "print_info(a1)"
      ],
      "metadata": {
        "colab": {
          "base_uri": "https://localhost:8080/"
        },
        "id": "b2sjAwlxOCJU",
        "outputId": "1c9504ab-a386-44b5-e85b-46c004f5f943"
      },
      "execution_count": null,
      "outputs": [
        {
          "output_type": "stream",
          "name": "stdout",
          "text": [
            "type: <class 'numpy.ndarray'>\n",
            "print: [1 2 3 4 5]\n",
            "ndim:  1\n",
            "shape:  (5,)\n",
            "size:  5\n",
            "dtype:  int64\n",
            "itemsize:  8\n",
            "data:  <memory at 0x7f97305b37a0>\n"
          ]
        }
      ]
    },
    {
      "cell_type": "code",
      "source": [
        "py_list = [1,2,3,'a','b','c']\n",
        "print(py_list)\n",
        "\n",
        "a2 = np.array(py_list)\n",
        "print_info(a2)\n",
        "\n",
        "# dtype: U21: Unicode, 21 buffers used\n",
        "# change the element's type from int to char"
      ],
      "metadata": {
        "colab": {
          "base_uri": "https://localhost:8080/"
        },
        "id": "4Oftnb4fR5eP",
        "outputId": "2c6879ea-4aee-42a1-ef64-55dc2ba289fb"
      },
      "execution_count": null,
      "outputs": [
        {
          "output_type": "stream",
          "name": "stdout",
          "text": [
            "[1, 2, 3, 'a', 'b', 'c']\n",
            "type: <class 'numpy.ndarray'>\n",
            "print: ['1' '2' '3' 'a' 'b' 'c']\n",
            "ndim:  1\n",
            "shape:  (6,)\n",
            "size:  6\n",
            "dtype:  <U21\n",
            "itemsize:  84\n",
            "data:  <memory at 0x7f97307d07a0>\n"
          ]
        }
      ]
    },
    {
      "cell_type": "code",
      "source": [
        "# Odd numbers btw 10 and 50\n",
        "a3 = np.array([i for i in range(11, 50, 2)])\n",
        "print_info(a3)\n",
        "\n",
        "a4 = np.array([i for i in range(11, 50, 2)], dtype=np.float64)\n",
        "print_info(a4)\n",
        "# 11. -> '.' means that float64 (real Number)\n"
      ],
      "metadata": {
        "colab": {
          "base_uri": "https://localhost:8080/"
        },
        "id": "0xH5PNYHSBRE",
        "outputId": "0e6cc33b-f698-4eeb-a228-77a7b92ffb67"
      },
      "execution_count": null,
      "outputs": [
        {
          "output_type": "stream",
          "name": "stdout",
          "text": [
            "type: <class 'numpy.ndarray'>\n",
            "print: [11 13 15 17 19 21 23 25 27 29 31 33 35 37 39 41 43 45 47 49]\n",
            "ndim:  1\n",
            "shape:  (20,)\n",
            "size:  20\n",
            "dtype:  int64\n",
            "itemsize:  8\n",
            "data:  <memory at 0x7f97305b3bb0>\n",
            "type: <class 'numpy.ndarray'>\n",
            "print: [11. 13. 15. 17. 19. 21. 23. 25. 27. 29. 31. 33. 35. 37. 39. 41. 43. 45.\n",
            " 47. 49.]\n",
            "ndim:  1\n",
            "shape:  (20,)\n",
            "size:  20\n",
            "dtype:  float64\n",
            "itemsize:  8\n",
            "data:  <memory at 0x7f97305b3c80>\n"
          ]
        }
      ]
    },
    {
      "cell_type": "markdown",
      "source": [
        "np.arange(**start**, **stop**, **step**): Possible of using *Real number*"
      ],
      "metadata": {
        "id": "HRSP7h_yU2Tf"
      }
    },
    {
      "cell_type": "code",
      "source": [
        "list2 = [x for x in range(5, 20, 2)]\n",
        "print(list2)\n",
        "\n",
        "a5 = np.arange(5.0, 10.0, 0.2)\n",
        "print_info(a5)"
      ],
      "metadata": {
        "colab": {
          "base_uri": "https://localhost:8080/"
        },
        "id": "ks9FxSOdTXQx",
        "outputId": "c7485785-a6c1-4808-9395-18dae966c7da"
      },
      "execution_count": null,
      "outputs": [
        {
          "output_type": "stream",
          "name": "stdout",
          "text": [
            "[5, 7, 9, 11, 13, 15, 17, 19]\n",
            "type: <class 'numpy.ndarray'>\n",
            "print: [5.  5.2 5.4 5.6 5.8 6.  6.2 6.4 6.6 6.8 7.  7.2 7.4 7.6 7.8 8.  8.2 8.4\n",
            " 8.6 8.8 9.  9.2 9.4 9.6 9.8]\n",
            "ndim:  1\n",
            "shape:  (25,)\n",
            "size:  25\n",
            "dtype:  float64\n",
            "itemsize:  8\n",
            "data:  <memory at 0x7f97305b3d50>\n"
          ]
        }
      ]
    },
    {
      "cell_type": "code",
      "source": [
        "# From -3.14 to 3.14, step is 0.25\n",
        "a6 = np.arange(-3.14, 3.14, 0.25)\n",
        "print_info(a6)"
      ],
      "metadata": {
        "colab": {
          "base_uri": "https://localhost:8080/"
        },
        "id": "XJDa622vUSiR",
        "outputId": "2f7131aa-020a-4c63-d152-43692f86ba23"
      },
      "execution_count": null,
      "outputs": [
        {
          "output_type": "stream",
          "name": "stdout",
          "text": [
            "type: <class 'numpy.ndarray'>\n",
            "print: [-3.14 -2.89 -2.64 -2.39 -2.14 -1.89 -1.64 -1.39 -1.14 -0.89 -0.64 -0.39\n",
            " -0.14  0.11  0.36  0.61  0.86  1.11  1.36  1.61  1.86  2.11  2.36  2.61\n",
            "  2.86  3.11]\n",
            "ndim:  1\n",
            "shape:  (26,)\n",
            "size:  26\n",
            "dtype:  float64\n",
            "itemsize:  8\n",
            "data:  <memory at 0x7f97305b3ae0>\n"
          ]
        }
      ]
    },
    {
      "cell_type": "markdown",
      "source": [
        "np.linspace(**start**, **end**, **number of elements**)  \n",
        "- Elements that have **same interval**"
      ],
      "metadata": {
        "id": "-_15RnAmV7LV"
      }
    },
    {
      "cell_type": "code",
      "source": [
        "a7 = np.linspace(10, 100, 5)\n",
        "print_info(a7)"
      ],
      "metadata": {
        "colab": {
          "base_uri": "https://localhost:8080/"
        },
        "id": "t3zH0qV0VXRV",
        "outputId": "07d08adb-4f7d-42ee-cbbe-5510d5103a8c"
      },
      "execution_count": null,
      "outputs": [
        {
          "output_type": "stream",
          "name": "stdout",
          "text": [
            "type: <class 'numpy.ndarray'>\n",
            "print: [ 10.   32.5  55.   77.5 100. ]\n",
            "ndim:  1\n",
            "shape:  (5,)\n",
            "size:  5\n",
            "dtype:  float64\n",
            "itemsize:  8\n",
            "data:  <memory at 0x7f97305b3a10>\n"
          ]
        }
      ]
    },
    {
      "cell_type": "code",
      "source": [
        "# From -1.25 to 1.25, # of elements is 50\n",
        "a8 = np.linspace(-1.25, 1.25, 50)\n",
        "print_info(a8)"
      ],
      "metadata": {
        "colab": {
          "base_uri": "https://localhost:8080/"
        },
        "id": "1D2WmELoV4WO",
        "outputId": "506c0296-236f-4c3b-dd00-ff2093788050"
      },
      "execution_count": null,
      "outputs": [
        {
          "output_type": "stream",
          "name": "stdout",
          "text": [
            "type:  <class 'numpy.ndarray'>\n",
            "print: [-1.25       -1.19897959 -1.14795918 -1.09693878 -1.04591837 -0.99489796\n",
            " -0.94387755 -0.89285714 -0.84183673 -0.79081633 -0.73979592 -0.68877551\n",
            " -0.6377551  -0.58673469 -0.53571429 -0.48469388 -0.43367347 -0.38265306\n",
            " -0.33163265 -0.28061224 -0.22959184 -0.17857143 -0.12755102 -0.07653061\n",
            " -0.0255102   0.0255102   0.07653061  0.12755102  0.17857143  0.22959184\n",
            "  0.28061224  0.33163265  0.38265306  0.43367347  0.48469388  0.53571429\n",
            "  0.58673469  0.6377551   0.68877551  0.73979592  0.79081633  0.84183673\n",
            "  0.89285714  0.94387755  0.99489796  1.04591837  1.09693878  1.14795918\n",
            "  1.19897959  1.25      ]\n",
            "ndim:  1\n",
            "shape:  (50,)\n",
            "size:  50\n",
            "dtype:  float64\n",
            "itemsize:  8\n",
            "data:  <memory at 0x7f97303676d0>\n"
          ]
        }
      ]
    },
    {
      "cell_type": "code",
      "source": [
        "a9 = np.zeros(10)\n",
        "print_info(a9)\n",
        "\n",
        "print('\\n')\n",
        "list4 = [0]*10\n",
        "print('Python list:', list4)\n",
        "print('Type: ', type(list4[0]))"
      ],
      "metadata": {
        "colab": {
          "base_uri": "https://localhost:8080/"
        },
        "id": "-iOoWOngWb7u",
        "outputId": "bf09426d-dacf-47e5-d99b-0e608149e706"
      },
      "execution_count": null,
      "outputs": [
        {
          "output_type": "stream",
          "name": "stdout",
          "text": [
            "type:  <class 'numpy.ndarray'>\n",
            "print: [0. 0. 0. 0. 0. 0. 0. 0. 0. 0.]\n",
            "ndim:  1\n",
            "shape:  (10,)\n",
            "size:  10\n",
            "dtype:  float64\n",
            "itemsize:  8\n",
            "data:  <memory at 0x7f97303677a0>\n",
            "\n",
            "\n",
            "Python list: [0, 0, 0, 0, 0, 0, 0, 0, 0, 0]\n",
            "Type:  <class 'int'>\n"
          ]
        }
      ]
    },
    {
      "cell_type": "code",
      "source": [
        "a10 = np.ones(10)\n",
        "print(a10)"
      ],
      "metadata": {
        "colab": {
          "base_uri": "https://localhost:8080/"
        },
        "id": "ZzZetx3NZ1qu",
        "outputId": "74a0667d-8bee-4054-e5d8-26bf7ed9761d"
      },
      "execution_count": null,
      "outputs": [
        {
          "output_type": "stream",
          "name": "stdout",
          "text": [
            "[1. 1. 1. 1. 1. 1. 1. 1. 1. 1.]\n"
          ]
        }
      ]
    },
    {
      "cell_type": "code",
      "source": [
        "a11 = np.empty(20)\n",
        "print(a11)\n",
        "\n",
        "# Not defined elements (occupied elements in memory)"
      ],
      "metadata": {
        "colab": {
          "base_uri": "https://localhost:8080/"
        },
        "id": "DWKvT82DaZSj",
        "outputId": "f1f04ac8-a0fc-476f-eb5b-47f0e1821913"
      },
      "execution_count": null,
      "outputs": [
        {
          "output_type": "stream",
          "name": "stdout",
          "text": [
            "[11. 13. 15. 17. 19. 21. 23. 25. 27. 29. 31. 33. 35. 37. 39. 41. 43. 45.\n",
            " 47. 49.]\n"
          ]
        }
      ]
    },
    {
      "cell_type": "code",
      "source": [
        "list5 = [x for x in range(5, 15, 3)]\n",
        "print(list5)\n",
        "print('\\n')\n",
        "\n",
        "a12 = np.zeros(len(list5))\n",
        "print_info(a12)\n",
        "print('\\n')\n",
        "\n",
        "a13 = np.zeros_like(list5)\n",
        "print_info(a13)\n",
        "print('\\n')\n",
        "\n",
        "list6 = [1.1, 1.2, 1.3, 1.4]\n",
        "a14 = np.ones_like(list6)\n",
        "print(a14)"
      ],
      "metadata": {
        "colab": {
          "base_uri": "https://localhost:8080/"
        },
        "id": "sjzYk-5rahCq",
        "outputId": "ed106154-41ca-4fde-9052-78c240ed5aa5"
      },
      "execution_count": null,
      "outputs": [
        {
          "output_type": "stream",
          "name": "stdout",
          "text": [
            "[5, 8, 11, 14]\n",
            "\n",
            "\n",
            "type:  <class 'numpy.ndarray'>\n",
            "print: [0. 0. 0. 0.]\n",
            "ndim:  1\n",
            "shape:  (4,)\n",
            "size:  4\n",
            "dtype:  float64\n",
            "itemsize:  8\n",
            "data:  <memory at 0x7f9730367ae0>\n",
            "\n",
            "\n",
            "type:  <class 'numpy.ndarray'>\n",
            "print: [0 0 0 0]\n",
            "ndim:  1\n",
            "shape:  (4,)\n",
            "size:  4\n",
            "dtype:  int64\n",
            "itemsize:  8\n",
            "data:  <memory at 0x7f9730367ef0>\n",
            "\n",
            "\n",
            "[1. 1. 1. 1.]\n"
          ]
        }
      ]
    },
    {
      "cell_type": "code",
      "source": [
        "a15 = np.empty_like(list6)\n",
        "print(a15)"
      ],
      "metadata": {
        "colab": {
          "base_uri": "https://localhost:8080/"
        },
        "id": "C2qv1gqPbC-t",
        "outputId": "3664129f-8b6d-45eb-de50-e8bc358bbc0b"
      },
      "execution_count": null,
      "outputs": [
        {
          "output_type": "stream",
          "name": "stdout",
          "text": [
            "[0. 0. 0. 0.]\n"
          ]
        }
      ]
    },
    {
      "cell_type": "markdown",
      "source": [
        "np.fromfunction(**function**, **shape**)  \n",
        "- **function** adapted array\n"
      ],
      "metadata": {
        "id": "QzT9j1c4cZ6o"
      }
    },
    {
      "cell_type": "code",
      "source": [
        "def f1(x):\n",
        "  return 5*x\n",
        "\n",
        "list7 = [f1(x) for x in range(1, 10, 2)]\n",
        "print(list7)\n",
        "\n",
        "a16 = np.fromfunction(f1, (10,), dtype=int)\n",
        "print(a16)"
      ],
      "metadata": {
        "colab": {
          "base_uri": "https://localhost:8080/"
        },
        "id": "9bF5UZa-b-F-",
        "outputId": "e6a940b9-9c9c-4091-d37d-2d43d19271c5"
      },
      "execution_count": null,
      "outputs": [
        {
          "output_type": "stream",
          "name": "stdout",
          "text": [
            "[5, 15, 25, 35, 45]\n",
            "[ 0  5 10 15 20 25 30 35 40 45]\n"
          ]
        }
      ]
    },
    {
      "cell_type": "markdown",
      "source": [
        "# dtype\n",
        "- **np.int64**: signed int (32 bits)\n",
        "- **np.uint64**: unsigned int (64 bits)\n",
        "- **np.bool8 / np.bool_** \n",
        "- **np.float64**\n",
        "- **np.unicode_** \n",
        "\n",
        "Reference: https://numpy.org/doc/stable/reference/arrays.dtypes.html"
      ],
      "metadata": {
        "id": "cUtx2Shwc7vT"
      }
    },
    {
      "cell_type": "code",
      "source": [
        "import math\n",
        "\n",
        "list1 = [x for x in range(-5, 5)]\n",
        "#print(math.sin(10))\n",
        "print(np.sin(list1))\n",
        "print('\\n')\n",
        "\n",
        "a1 = np.arange(-5, 5)\n",
        "print(np.sin(a1))\n",
        "\n"
      ],
      "metadata": {
        "colab": {
          "base_uri": "https://localhost:8080/"
        },
        "id": "zveQlamZcKiN",
        "outputId": "70cb51b4-e9c6-4ab7-cdc6-1c9d3cfd0b1f"
      },
      "execution_count": null,
      "outputs": [
        {
          "output_type": "stream",
          "name": "stdout",
          "text": [
            "[ 0.95892427  0.7568025  -0.14112001 -0.90929743 -0.84147098  0.\n",
            "  0.84147098  0.90929743  0.14112001 -0.7568025 ]\n",
            "\n",
            "\n",
            "[ 0.95892427  0.7568025  -0.14112001 -0.90929743 -0.84147098  0.\n",
            "  0.84147098  0.90929743  0.14112001 -0.7568025 ]\n"
          ]
        }
      ]
    },
    {
      "cell_type": "markdown",
      "source": [
        "#Indexing\n"
      ],
      "metadata": {
        "id": "AMVJEp_nfjUb"
      }
    },
    {
      "cell_type": "code",
      "source": [
        "import numpy as np\n",
        "\n",
        "a1 = np.arange(1, 10 , 2)\n",
        "print(a1)\n",
        "print(a1[3])\n",
        "print(a1[1:3])\n",
        "print(a1[:4:2])"
      ],
      "metadata": {
        "colab": {
          "base_uri": "https://localhost:8080/"
        },
        "id": "o_1PC1ClUmIo",
        "outputId": "093fab6d-b096-448b-a89d-99bc6c10b4ea"
      },
      "execution_count": null,
      "outputs": [
        {
          "output_type": "stream",
          "name": "stdout",
          "text": [
            "[1 3 5 7 9]\n",
            "7\n",
            "[3 5]\n",
            "[1 5]\n"
          ]
        }
      ]
    },
    {
      "cell_type": "code",
      "source": [
        "a1 = np.arange(100, 200, 2)\n",
        "print(a1)\n",
        "print(a1[15]) # Normal indexing\n",
        "print(a1[:3])\n",
        "print(a1[5:10:2])\n",
        "\n",
        "a1[5:10:2] = 0  \n",
        "print(a1)"
      ],
      "metadata": {
        "colab": {
          "base_uri": "https://localhost:8080/"
        },
        "id": "CJGwa8Q8eiYe",
        "outputId": "1682406d-3028-4830-afe6-4be882b2221f"
      },
      "execution_count": null,
      "outputs": [
        {
          "output_type": "stream",
          "name": "stdout",
          "text": [
            "[100 102 104 106 108 110 112 114 116 118 120 122 124 126 128 130 132 134\n",
            " 136 138 140 142 144 146 148 150 152 154 156 158 160 162 164 166 168 170\n",
            " 172 174 176 178 180 182 184 186 188 190 192 194 196 198]\n",
            "130\n",
            "[100 102 104]\n",
            "[110 114 118]\n",
            "[100 102 104 106 108   0 112   0 116   0 120 122 124 126 128 130 132 134\n",
            " 136 138 140 142 144 146 148 150 152 154 156 158 160 162 164 166 168 170\n",
            " 172 174 176 178 180 182 184 186 188 190 192 194 196 198]\n"
          ]
        }
      ]
    },
    {
      "cell_type": "code",
      "source": [
        "# From 75 to 83, step = 0.3, type = ndarray, even indexed values = 0\n",
        "a2 = np.arange(75, 83, 0.3)\n",
        "a2[::2] = 0   # Same with a2[0:83:2]\n",
        "print(a2)"
      ],
      "metadata": {
        "colab": {
          "base_uri": "https://localhost:8080/"
        },
        "id": "upRq4oc1f1f-",
        "outputId": "0de81e83-8ad0-4b66-b500-30d82c3768ec"
      },
      "execution_count": null,
      "outputs": [
        {
          "output_type": "stream",
          "name": "stdout",
          "text": [
            "[ 0.  75.3  0.  75.9  0.  76.5  0.  77.1  0.  77.7  0.  78.3  0.  78.9\n",
            "  0.  79.5  0.  80.1  0.  80.7  0.  81.3  0.  81.9  0.  82.5  0. ]\n"
          ]
        }
      ]
    },
    {
      "cell_type": "markdown",
      "source": [
        "#Indexing using list elements"
      ],
      "metadata": {
        "id": "wTcSS6_KjE-q"
      }
    },
    {
      "cell_type": "code",
      "source": [
        "a3 = np.arange(30., 40.)\n",
        "index_list = np.arange(0, 10, 3)\n",
        "print(a3)\n",
        "print(index_list)\n",
        "print(a3[index_list])\n",
        "\n",
        "a3[index_list] = 100\n",
        "print(a3)"
      ],
      "metadata": {
        "colab": {
          "base_uri": "https://localhost:8080/"
        },
        "id": "iiX1mBNag6sk",
        "outputId": "b6584f6e-c5ac-47c6-9ff3-1a81d43f91cb"
      },
      "execution_count": null,
      "outputs": [
        {
          "output_type": "stream",
          "name": "stdout",
          "text": [
            "[30. 31. 32. 33. 34. 35. 36. 37. 38. 39.]\n",
            "[0 3 6 9]\n",
            "[30. 33. 36. 39.]\n",
            "[100.  31.  32. 100.  34.  35. 100.  37.  38. 100.]\n"
          ]
        }
      ]
    },
    {
      "cell_type": "code",
      "source": [
        "# From -3.14 to 3.14, # of elements = 100, type = ndarray, 7 multiplies with 0 indexed values = 0\n",
        "a4 = np.linspace(-3.14, 3.14, 100)\n",
        "a4[::7] = 0\n",
        "print_info(a4)"
      ],
      "metadata": {
        "colab": {
          "base_uri": "https://localhost:8080/"
        },
        "id": "HZKiTpDZigLC",
        "outputId": "5077a6e5-b245-41fa-e03c-ef021528afe7"
      },
      "execution_count": null,
      "outputs": [
        {
          "output_type": "stream",
          "name": "stdout",
          "text": [
            "type:  <class 'numpy.ndarray'>\n",
            "print: [ 0.    -3.077 -3.013 -2.95  -2.886 -2.823 -2.759  0.    -2.633 -2.569\n",
            " -2.506 -2.442 -2.379 -2.315  0.    -2.188 -2.125 -2.062 -1.998 -1.935\n",
            " -1.871  0.    -1.744 -1.681 -1.618 -1.554 -1.491 -1.427  0.    -1.3\n",
            " -1.237 -1.174 -1.11  -1.047 -0.983  0.    -0.856 -0.793 -0.729 -0.666\n",
            " -0.603 -0.539  0.    -0.412 -0.349 -0.285 -0.222 -0.159 -0.095  0.\n",
            "  0.032  0.095  0.159  0.222  0.285  0.349  0.     0.476  0.539  0.603\n",
            "  0.666  0.729  0.793  0.     0.92   0.983  1.047  1.11   1.174  1.237\n",
            "  0.     1.364  1.427  1.491  1.554  1.618  1.681  0.     1.808  1.871\n",
            "  1.935  1.998  2.062  2.125  0.     2.252  2.315  2.379  2.442  2.506\n",
            "  2.569  0.     2.696  2.759  2.823  2.886  2.95   3.013  0.     3.14 ]\n",
            "ndim:  1\n",
            "shape:  (100,)\n",
            "size:  100\n",
            "dtype:  float64\n",
            "itemsize:  8\n",
            "data:  <memory at 0x7f97302f0ef0>\n"
          ]
        }
      ]
    },
    {
      "cell_type": "markdown",
      "source": [
        "#Indexing using bool type list\n",
        "- array[**True or False**]"
      ],
      "metadata": {
        "id": "4DRegwIonlK1"
      }
    },
    {
      "cell_type": "code",
      "source": [
        "a5 = np.arange(0., 10.)\n",
        "index_list_a = [True]*5\n",
        "index_list_b = [False]*5\n",
        "index_list = index_list_a + index_list_b\n",
        "\n",
        "print(a5)\n",
        "print(index_list)\n",
        "print(a5[index_list])"
      ],
      "metadata": {
        "colab": {
          "base_uri": "https://localhost:8080/"
        },
        "id": "hwEjssbljzmH",
        "outputId": "9bbbe26a-ea64-4a10-ac2c-bcf49205c35d"
      },
      "execution_count": null,
      "outputs": [
        {
          "output_type": "stream",
          "name": "stdout",
          "text": [
            "[0. 1. 2. 3. 4. 5. 6. 7. 8. 9.]\n",
            "[True, True, True, True, True, False, False, False, False, False]\n",
            "[0. 1. 2. 3. 4.]\n"
          ]
        }
      ]
    },
    {
      "cell_type": "code",
      "source": [
        "index_list = (a5 % 2 == 0)\n",
        "print(index_list)\n",
        "print(a5[index_list])\n",
        "print(a5[a5 % 2 == 0])\n",
        "print(a5[a5 < 3])"
      ],
      "metadata": {
        "colab": {
          "base_uri": "https://localhost:8080/"
        },
        "id": "eSMh1DOvnO2w",
        "outputId": "5d76c6f6-18cf-483e-e772-1a97bc5480bf"
      },
      "execution_count": null,
      "outputs": [
        {
          "output_type": "stream",
          "name": "stdout",
          "text": [
            "[ True False  True False  True False  True False  True False]\n",
            "[0. 2. 4. 6. 8.]\n",
            "[0. 2. 4. 6. 8.]\n",
            "[0. 1. 2.]\n"
          ]
        }
      ]
    },
    {
      "cell_type": "code",
      "source": [
        "list1 = [1,2,3,4,5]\n",
        "list2 = list1[1:3]\n",
        "\n",
        "print(list1)\n",
        "print(list2)\n",
        "list2[0] += 1\n",
        "\n",
        "print(list1)\n",
        "print(list2)\n"
      ],
      "metadata": {
        "colab": {
          "base_uri": "https://localhost:8080/"
        },
        "id": "jhnwxVEcn11v",
        "outputId": "0e7fc68f-2654-4a97-a1cc-727d4b6bec73"
      },
      "execution_count": null,
      "outputs": [
        {
          "output_type": "stream",
          "name": "stdout",
          "text": [
            "[1, 2, 3, 4, 5]\n",
            "[2, 3]\n",
            "[1, 2, 3, 4, 5]\n",
            "[3, 3]\n"
          ]
        }
      ]
    },
    {
      "cell_type": "code",
      "source": [
        "a1 = np.array([1,2,3,4,5])\n",
        "a2 = a1[1:3]  # Create view (Referencing)\n",
        "print(a1)\n",
        "print(a2)\n",
        "\n",
        "a2[0] += 1\n",
        "print(a1)\n",
        "print(a2)"
      ],
      "metadata": {
        "colab": {
          "base_uri": "https://localhost:8080/"
        },
        "id": "AhV4Xhu0pMhv",
        "outputId": "0d476d1d-785b-4572-a0b3-e2883a71ae62"
      },
      "execution_count": null,
      "outputs": [
        {
          "output_type": "stream",
          "name": "stdout",
          "text": [
            "[1 2 3 4 5]\n",
            "[2 3]\n",
            "[1 3 3 4 5]\n",
            "[3 3]\n"
          ]
        }
      ]
    },
    {
      "cell_type": "code",
      "source": [
        "a1 = np.array([1,2,3,4,5])\n",
        "a2 = a1[1:3].copy() # Create new ndarray (copy and paste)\n",
        "print(a1)\n",
        "print(a2)\n",
        "\n",
        "a2[0] += 1\n",
        "print(a1)\n",
        "print(a2)"
      ],
      "metadata": {
        "colab": {
          "base_uri": "https://localhost:8080/"
        },
        "id": "zwhJf2Aqpobq",
        "outputId": "66869fc5-d9e4-4273-b54c-1e902ccb3f7c"
      },
      "execution_count": null,
      "outputs": [
        {
          "output_type": "stream",
          "name": "stdout",
          "text": [
            "[1 2 3 4 5]\n",
            "[2 3]\n",
            "[1 2 3 4 5]\n",
            "[3 3]\n"
          ]
        }
      ]
    },
    {
      "cell_type": "markdown",
      "source": [
        "# Basic Operations"
      ],
      "metadata": {
        "id": "AZsSADAUq5F3"
      }
    },
    {
      "cell_type": "code",
      "source": [
        "a1 = np.arange(0., 10.)\n",
        "a2 = np.arange(20., 30.)\n",
        "print(a1)\n",
        "print(a2)\n",
        "print(a1 + a2)\n",
        "print(a1 - a2)\n",
        "print(a1 * a2)\n",
        "print(a1 / a2)\n",
        "print(a1 % a2)\n",
        "print(a1 // a2)"
      ],
      "metadata": {
        "colab": {
          "base_uri": "https://localhost:8080/"
        },
        "id": "1mULIre2qMu5",
        "outputId": "afe6574f-24dc-4897-ddbe-e8b6500e4ed9"
      },
      "execution_count": null,
      "outputs": [
        {
          "output_type": "stream",
          "name": "stdout",
          "text": [
            "[0. 1. 2. 3. 4. 5. 6. 7. 8. 9.]\n",
            "[20. 21. 22. 23. 24. 25. 26. 27. 28. 29.]\n",
            "[20. 22. 24. 26. 28. 30. 32. 34. 36. 38.]\n",
            "[-20. -20. -20. -20. -20. -20. -20. -20. -20. -20.]\n",
            "[  0.  21.  44.  69.  96. 125. 156. 189. 224. 261.]\n",
            "[0.    0.048 0.091 0.13  0.167 0.2   0.231 0.259 0.286 0.31 ]\n",
            "[0. 1. 2. 3. 4. 5. 6. 7. 8. 9.]\n",
            "[0. 0. 0. 0. 0. 0. 0. 0. 0. 0.]\n"
          ]
        }
      ]
    },
    {
      "cell_type": "code",
      "source": [
        "# function = 5*x**2 + x, x btw -10, 10, step = 0.5, type = ndarray\n",
        "# 5 multiplies indexed values print\n",
        "\n",
        "def f1(x):\n",
        "  return 5*(x**2) + x\n",
        "\n",
        "a1 = f1(np.arange(-10, 10, 0.5))\n",
        "print(a1[a1 % 5 == 0])"
      ],
      "metadata": {
        "colab": {
          "base_uri": "https://localhost:8080/"
        },
        "id": "QCMFaejorEIa",
        "outputId": "d1d70dbf-0c9f-41ea-b6bc-bd1b3b1a70c8"
      },
      "execution_count": null,
      "outputs": [
        {
          "output_type": "stream",
          "name": "stdout",
          "text": [
            "[490. 120.   0. 130.]\n"
          ]
        }
      ]
    }
  ]
}